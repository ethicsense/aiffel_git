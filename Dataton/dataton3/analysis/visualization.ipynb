{
 "cells": [
  {
   "cell_type": "code",
   "execution_count": 1,
   "id": "e6542862",
   "metadata": {},
   "outputs": [
    {
     "name": "stdout",
     "output_type": "stream",
     "text": [
      "/c/Users/ETHICSENSE/Desktop/aiffel/dataton/poc_lab/VoC_RM\n"
     ]
    }
   ],
   "source": [
    "!pwd"
   ]
  },
  {
   "cell_type": "code",
   "execution_count": 2,
   "id": "81a5b96d",
   "metadata": {
    "scrolled": true
   },
   "outputs": [
    {
     "name": "stdout",
     "output_type": "stream",
     "text": [
      "2.6.0\n"
     ]
    }
   ],
   "source": [
    "import pandas as pd\n",
    "import os\n",
    "import json\n",
    "import matplotlib.pyplot as plt\n",
    "import tensorflow as tf\n",
    "import numpy as np\n",
    "\n",
    "%matplotlib inline\n",
    "\n",
    "print(tf.__version__)"
   ]
  },
  {
   "cell_type": "code",
   "execution_count": 3,
   "id": "dde8b283",
   "metadata": {},
   "outputs": [],
   "source": [
    "data_dktc_path = os.path.join(\"./datasets/dktc/data\", \"train.csv\")\n",
    "\n",
    "df = pd.read_csv(data_dktc_path)"
   ]
  },
  {
   "cell_type": "code",
   "execution_count": 4,
   "id": "cc291bfd",
   "metadata": {},
   "outputs": [
    {
     "data": {
      "text/plain": [
       "0       지금 너 스스로를 죽여달라고 애원하는 것인가?\\n 아닙니다. 죄송합니다.\\n 죽을 ...\n",
       "1       길동경찰서입니다.\\n9시 40분 마트에 폭발물을 설치할거다.\\n네?\\n똑바로 들어 ...\n",
       "2       너 되게 귀여운거 알지? 나보다 작은 남자는 첨봤어.\\n그만해. 니들 놀리는거 재미...\n",
       "3       어이 거기\\n예??\\n너 말이야 너. 이리 오라고\\n무슨 일.\\n너 옷 좋아보인다?...\n",
       "4       저기요 혹시 날이 너무 뜨겁잖아요? 저희 회사에서 이 선크림 파는데 한 번 손등에 ...\n",
       "                              ...                        \n",
       "3945    준하야 넌 대가리가 왜이렇게 크냐?\\n내 머리가 뭐.\\n밥먹으면 대가리만 크냐 너는...\n",
       "3946    내가 지금 너 아들 김길준 데리고 있어. 살리고 싶으면 계좌에 1억만 보내\\n예.?...\n",
       "3947    나는 씨 같은 사람 보면 참 신기하더라. 어떻게 저렇게 살지.\\n왜 그래. 들리겠어...\n",
       "3948    누구맘대로 여기서 장사하래?\\n이게 무슨일입니까?\\n남의 구역에서 장사하려면 자릿세...\n",
       "3949    희정씨\\n네?\\n주말에 시간이 넘쳐나나봐\\n갑자기 왜그러세요?\\n손이 빤짝빤짝 네일...\n",
       "Name: conversation, Length: 3950, dtype: object"
      ]
     },
     "execution_count": 4,
     "metadata": {},
     "output_type": "execute_result"
    }
   ],
   "source": [
    "df['conversation']"
   ]
  },
  {
   "cell_type": "code",
   "execution_count": 5,
   "id": "7c2418c4",
   "metadata": {},
   "outputs": [
    {
     "data": {
      "text/plain": [
       "242"
      ]
     },
     "execution_count": 5,
     "metadata": {},
     "output_type": "execute_result"
    }
   ],
   "source": [
    "len(df['conversation'][0])"
   ]
  },
  {
   "cell_type": "code",
   "execution_count": 6,
   "id": "6dd20304",
   "metadata": {},
   "outputs": [
    {
     "data": {
      "text/plain": [
       "'지금 너 스스로를 죽여달라고 애원하는 것인가?\\n 아닙니다. 죄송합니다.\\n 죽을 거면 혼자 죽지 우리까지 사건에 휘말리게 해? 진짜 죽여버리고 싶게.\\n 정말 잘못했습니다.\\n 너가 선택해. 너가 죽을래 네 가족을 죽여줄까.\\n 죄송합니다. 정말 잘못했습니다.\\n 너에게는 선택권이 없어. 선택 못한다면 너와 네 가족까지 모조리 죽여버릴거야.\\n 선택 못하겠습니다. 한번만 도와주세요.\\n 그냥 다 죽여버려야겠군. 이의 없지?\\n 제발 도와주세요.'"
      ]
     },
     "execution_count": 6,
     "metadata": {},
     "output_type": "execute_result"
    }
   ],
   "source": [
    "df['conversation'][0]"
   ]
  },
  {
   "cell_type": "code",
   "execution_count": 7,
   "id": "a67c1619",
   "metadata": {},
   "outputs": [
    {
     "name": "stdout",
     "output_type": "stream",
     "text": [
      "문장의 최단 길이: 41\n",
      "문장의 최장 길이: 874\n",
      "문장의 평균 길이: 226\n"
     ]
    },
    {
     "name": "stderr",
     "output_type": "stream",
     "text": [
      "C:\\Users\\ETHICSENSE\\anaconda3\\envs\\vocproject\\lib\\site-packages\\ipykernel_launcher.py:15: DeprecationWarning: `np.int` is a deprecated alias for the builtin `int`. To silence this warning, use `int` by itself. Doing this will not modify any behavior and is safe. When replacing `np.int`, you may wish to use e.g. `np.int64` or `np.int32` to specify the precision. If you wish to review your current use, check the release note link for additional information.\n",
      "Deprecated in NumPy 1.20; for more details and guidance: https://numpy.org/devdocs/release/1.20.0-notes.html#deprecations\n",
      "  from ipykernel import kernelapp as app\n"
     ]
    },
    {
     "data": {
      "image/png": "[encoded data removed]",
      "text/plain": [
       "<Figure size 432x288 with 1 Axes>"
      ]
     },
     "metadata": {
      "needs_background": "light"
     },
     "output_type": "display_data"
    }
   ],
   "source": [
    "min_len = 99999\n",
    "max_len = 0\n",
    "sum_len = 0\n",
    "\n",
    "for sen in df['conversation']:\n",
    "    length = len(sen)\n",
    "    if min_len > length: min_len = length\n",
    "    if max_len < length: max_len = length\n",
    "    sum_len += length\n",
    "\n",
    "print(\"문장의 최단 길이:\", min_len)\n",
    "print(\"문장의 최장 길이:\", max_len)\n",
    "print(\"문장의 평균 길이:\", sum_len // len(df))\n",
    "\n",
    "sentence_length = np.zeros((max_len), dtype=np.int)\n",
    "\n",
    "for sen in df['conversation']:\n",
    "    sentence_length[len(sen)-1] += 1\n",
    "\n",
    "plt.bar(range(max_len), sentence_length, width=1.0)\n",
    "plt.title(\"Sentence Length Distribution\")\n",
    "plt.show()"
   ]
  },
  {
   "cell_type": "code",
   "execution_count": 8,
   "id": "0260b17a",
   "metadata": {},
   "outputs": [],
   "source": [
    "def check_sentence_with_length(df, length):\n",
    "    count = 0\n",
    "    \n",
    "    for sen in df:\n",
    "        if len(sen) == length:\n",
    "            print(sen)\n",
    "            count += 1\n",
    "            if count > 100: return"
   ]
  },
  {
   "cell_type": "code",
   "execution_count": 9,
   "id": "824c647c",
   "metadata": {},
   "outputs": [
    {
     "name": "stdout",
     "output_type": "stream",
     "text": [
      "일다했나\n",
      "아니오\n",
      "빨리해\n",
      "네\n",
      "언제할꺼야\n",
      "내일까지\n",
      "오늘끝내\n",
      "안돼요\n",
      "밤새서해\n",
      "네\n",
      "안녕\n",
      "네?\n",
      "무시해?\n",
      "아뇨\n",
      "이쁘네\n",
      "네?\n",
      "이쁘다구\n",
      "아 네\n",
      "오늘 시간되니?\n",
      "아뇨\n"
     ]
    }
   ],
   "source": [
    "check_sentence_with_length(df['conversation'], 41)"
   ]
  },
  {
   "cell_type": "code",
   "execution_count": 11,
   "id": "7dfe39ce",
   "metadata": {},
   "outputs": [
    {
     "data": {
      "text/plain": [
       "{41,\n",
       " 45,\n",
       " 50,\n",
       " 57,\n",
       " 58,\n",
       " 60,\n",
       " 62,\n",
       " 64,\n",
       " 66,\n",
       " 68,\n",
       " 70,\n",
       " 71,\n",
       " 72,\n",
       " 74,\n",
       " 75,\n",
       " 76,\n",
       " 78,\n",
       " 79,\n",
       " 80,\n",
       " 81,\n",
       " 82,\n",
       " 83,\n",
       " 84,\n",
       " 85,\n",
       " 86,\n",
       " 87,\n",
       " 88,\n",
       " 89,\n",
       " 90,\n",
       " 91,\n",
       " 92,\n",
       " 93,\n",
       " 94,\n",
       " 95,\n",
       " 96,\n",
       " 97,\n",
       " 98,\n",
       " 99,\n",
       " 100,\n",
       " 101,\n",
       " 102,\n",
       " 103,\n",
       " 104,\n",
       " 105,\n",
       " 106,\n",
       " 107,\n",
       " 108,\n",
       " 109,\n",
       " 110,\n",
       " 111,\n",
       " 112,\n",
       " 113,\n",
       " 114,\n",
       " 115,\n",
       " 116,\n",
       " 117,\n",
       " 118,\n",
       " 119,\n",
       " 120,\n",
       " 121,\n",
       " 122,\n",
       " 123,\n",
       " 124,\n",
       " 125,\n",
       " 126,\n",
       " 127,\n",
       " 128,\n",
       " 129,\n",
       " 130,\n",
       " 131,\n",
       " 132,\n",
       " 133,\n",
       " 134,\n",
       " 135,\n",
       " 136,\n",
       " 137,\n",
       " 138,\n",
       " 139,\n",
       " 140,\n",
       " 141,\n",
       " 142,\n",
       " 143,\n",
       " 144,\n",
       " 145,\n",
       " 146,\n",
       " 147,\n",
       " 148,\n",
       " 149,\n",
       " 150,\n",
       " 151,\n",
       " 152,\n",
       " 153,\n",
       " 154,\n",
       " 155,\n",
       " 156,\n",
       " 157,\n",
       " 158,\n",
       " 159,\n",
       " 160,\n",
       " 161,\n",
       " 162,\n",
       " 163,\n",
       " 164,\n",
       " 165,\n",
       " 166,\n",
       " 167,\n",
       " 168,\n",
       " 169,\n",
       " 170,\n",
       " 171,\n",
       " 172,\n",
       " 173,\n",
       " 174,\n",
       " 175,\n",
       " 176,\n",
       " 177,\n",
       " 178,\n",
       " 179,\n",
       " 180,\n",
       " 181,\n",
       " 182,\n",
       " 183,\n",
       " 184,\n",
       " 185,\n",
       " 186,\n",
       " 187,\n",
       " 188,\n",
       " 189,\n",
       " 190,\n",
       " 191,\n",
       " 192,\n",
       " 193,\n",
       " 194,\n",
       " 195,\n",
       " 196,\n",
       " 197,\n",
       " 198,\n",
       " 199,\n",
       " 200,\n",
       " 201,\n",
       " 202,\n",
       " 203,\n",
       " 204,\n",
       " 205,\n",
       " 206,\n",
       " 207,\n",
       " 208,\n",
       " 209,\n",
       " 210,\n",
       " 211,\n",
       " 212,\n",
       " 213,\n",
       " 214,\n",
       " 215,\n",
       " 216,\n",
       " 217,\n",
       " 218,\n",
       " 219,\n",
       " 220,\n",
       " 221,\n",
       " 222,\n",
       " 223,\n",
       " 224,\n",
       " 225,\n",
       " 226,\n",
       " 227,\n",
       " 228,\n",
       " 229,\n",
       " 230,\n",
       " 231,\n",
       " 232,\n",
       " 233,\n",
       " 234,\n",
       " 235,\n",
       " 236,\n",
       " 237,\n",
       " 238,\n",
       " 239,\n",
       " 240,\n",
       " 241,\n",
       " 242,\n",
       " 243,\n",
       " 244,\n",
       " 245,\n",
       " 246,\n",
       " 247,\n",
       " 248,\n",
       " 249,\n",
       " 250,\n",
       " 251,\n",
       " 252,\n",
       " 253,\n",
       " 254,\n",
       " 255,\n",
       " 256,\n",
       " 257,\n",
       " 258,\n",
       " 259,\n",
       " 260,\n",
       " 261,\n",
       " 262,\n",
       " 263,\n",
       " 264,\n",
       " 265,\n",
       " 266,\n",
       " 267,\n",
       " 268,\n",
       " 269,\n",
       " 270,\n",
       " 271,\n",
       " 272,\n",
       " 273,\n",
       " 274,\n",
       " 275,\n",
       " 276,\n",
       " 277,\n",
       " 278,\n",
       " 279,\n",
       " 280,\n",
       " 281,\n",
       " 282,\n",
       " 283,\n",
       " 284,\n",
       " 285,\n",
       " 286,\n",
       " 287,\n",
       " 288,\n",
       " 289,\n",
       " 290,\n",
       " 291,\n",
       " 292,\n",
       " 293,\n",
       " 294,\n",
       " 295,\n",
       " 296,\n",
       " 297,\n",
       " 298,\n",
       " 299,\n",
       " 300,\n",
       " 301,\n",
       " 302,\n",
       " 303,\n",
       " 304,\n",
       " 305,\n",
       " 306,\n",
       " 307,\n",
       " 308,\n",
       " 309,\n",
       " 310,\n",
       " 311,\n",
       " 312,\n",
       " 313,\n",
       " 314,\n",
       " 315,\n",
       " 316,\n",
       " 317,\n",
       " 318,\n",
       " 319,\n",
       " 320,\n",
       " 321,\n",
       " 322,\n",
       " 323,\n",
       " 324,\n",
       " 325,\n",
       " 326,\n",
       " 327,\n",
       " 328,\n",
       " 329,\n",
       " 330,\n",
       " 331,\n",
       " 332,\n",
       " 333,\n",
       " 334,\n",
       " 335,\n",
       " 336,\n",
       " 337,\n",
       " 338,\n",
       " 339,\n",
       " 340,\n",
       " 341,\n",
       " 342,\n",
       " 343,\n",
       " 344,\n",
       " 345,\n",
       " 346,\n",
       " 347,\n",
       " 348,\n",
       " 349,\n",
       " 350,\n",
       " 351,\n",
       " 352,\n",
       " 353,\n",
       " 354,\n",
       " 355,\n",
       " 356,\n",
       " 357,\n",
       " 358,\n",
       " 359,\n",
       " 360,\n",
       " 361,\n",
       " 362,\n",
       " 363,\n",
       " 364,\n",
       " 365,\n",
       " 366,\n",
       " 367,\n",
       " 368,\n",
       " 369,\n",
       " 370,\n",
       " 371,\n",
       " 372,\n",
       " 373,\n",
       " 374,\n",
       " 375,\n",
       " 376,\n",
       " 377,\n",
       " 378,\n",
       " 380,\n",
       " 381,\n",
       " 382,\n",
       " 383,\n",
       " 384,\n",
       " 385,\n",
       " 386,\n",
       " 387,\n",
       " 389,\n",
       " 390,\n",
       " 391,\n",
       " 392,\n",
       " 393,\n",
       " 395,\n",
       " 396,\n",
       " 397,\n",
       " 398,\n",
       " 399,\n",
       " 400,\n",
       " 401,\n",
       " 402,\n",
       " 403,\n",
       " 404,\n",
       " 405,\n",
       " 406,\n",
       " 407,\n",
       " 408,\n",
       " 410,\n",
       " 411,\n",
       " 412,\n",
       " 413,\n",
       " 414,\n",
       " 415,\n",
       " 416,\n",
       " 417,\n",
       " 418,\n",
       " 419,\n",
       " 420,\n",
       " 421,\n",
       " 422,\n",
       " 423,\n",
       " 424,\n",
       " 425,\n",
       " 426,\n",
       " 427,\n",
       " 428,\n",
       " 429,\n",
       " 430,\n",
       " 431,\n",
       " 433,\n",
       " 434,\n",
       " 435,\n",
       " 436,\n",
       " 439,\n",
       " 440,\n",
       " 442,\n",
       " 443,\n",
       " 444,\n",
       " 445,\n",
       " 447,\n",
       " 448,\n",
       " 452,\n",
       " 453,\n",
       " 456,\n",
       " 458,\n",
       " 459,\n",
       " 460,\n",
       " 464,\n",
       " 465,\n",
       " 466,\n",
       " 467,\n",
       " 468,\n",
       " 469,\n",
       " 470,\n",
       " 471,\n",
       " 474,\n",
       " 477,\n",
       " 479,\n",
       " 480,\n",
       " 485,\n",
       " 486,\n",
       " 488,\n",
       " 489,\n",
       " 490,\n",
       " 491,\n",
       " 492,\n",
       " 493,\n",
       " 494,\n",
       " 495,\n",
       " 496,\n",
       " 497,\n",
       " 498,\n",
       " 500,\n",
       " 503,\n",
       " 507,\n",
       " 508,\n",
       " 510,\n",
       " 513,\n",
       " 515,\n",
       " 518,\n",
       " 519,\n",
       " 520,\n",
       " 521,\n",
       " 522,\n",
       " 524,\n",
       " 526,\n",
       " 527,\n",
       " 528,\n",
       " 531,\n",
       " 534,\n",
       " 536,\n",
       " 542,\n",
       " 543,\n",
       " 548,\n",
       " 549,\n",
       " 552,\n",
       " 554,\n",
       " 556,\n",
       " 559,\n",
       " 562,\n",
       " 565,\n",
       " 567,\n",
       " 572,\n",
       " 573,\n",
       " 575,\n",
       " 577,\n",
       " 578,\n",
       " 579,\n",
       " 580,\n",
       " 583,\n",
       " 590,\n",
       " 591,\n",
       " 592,\n",
       " 594,\n",
       " 596,\n",
       " 597,\n",
       " 604,\n",
       " 605,\n",
       " 606,\n",
       " 607,\n",
       " 612,\n",
       " 614,\n",
       " 616,\n",
       " 619,\n",
       " 622,\n",
       " 624,\n",
       " 625,\n",
       " 629,\n",
       " 639,\n",
       " 642,\n",
       " 646,\n",
       " 651,\n",
       " 652,\n",
       " 653,\n",
       " 657,\n",
       " 662,\n",
       " 663,\n",
       " 667,\n",
       " 670,\n",
       " 677,\n",
       " 678,\n",
       " 679,\n",
       " 681,\n",
       " 683,\n",
       " 702,\n",
       " 706,\n",
       " 707,\n",
       " 745,\n",
       " 747,\n",
       " 755,\n",
       " 781,\n",
       " 809,\n",
       " 818,\n",
       " 819,\n",
       " 821,\n",
       " 843,\n",
       " 874}"
      ]
     },
     "execution_count": 11,
     "metadata": {},
     "output_type": "execute_result"
    }
   ],
   "source": [
    "tmp = []\n",
    "\n",
    "for sen in df['conversation']:\n",
    "    tmp.append(len(sen))\n",
    "\n",
    "set(tmp)"
   ]
  },
  {
   "cell_type": "code",
   "execution_count": 12,
   "id": "3dca0f8f",
   "metadata": {},
   "outputs": [
    {
     "name": "stdout",
     "output_type": "stream",
     "text": [
      "아저씨! 여기 국에 칼날 들어간거 보이지? 내가 이거 먹고 큰일나면 어쩔 뻔했어?\n",
      "혹시 꾸미신 일 아닙니까? 저희 가게는 세라믹 칼 써서 이 은색칼날이 들어갈리 없는데요.\n",
      "내가 나 다치게 하려고 이런 일 꾸미겠나? 사과도 못 할망정 꾸민 일 이라고?\n",
      "그게 아니고 합리적인 의심을 하는거죠. 저희 가게는 쇠로 된 칼 안 쓰니까. 돌려볼까요?\n",
      "아니. 그. 그래 보던가! 그대신 칼 들어가 있던거면 각오하는 게 좋을거야.\n",
      "여기 보이시죠. 은색 반짝 거리는거 손님이 국에 넣으신거잖아요. 사기치셨네요 맞죠?\n",
      "한 번만 용서해주시게. 내가 국밥 낼 돈도 없어서 이런 짓을 했어. 그냥 조용히 나갈테니 한 번만 넘어가 주시게.\n",
      "에이 그렇게는 안되죠. 제가 경찰에 신고 안 할테니까 아저씨 손가락에 있는 금반지 주세요.\n",
      "이거.? 이거 결혼반지라 잃어버리면 안되는데.\n",
      "그럼 지금 경찰에 신고할게요. 아내분께서 아시면 얼마나 어이 없어하실지 동네 창피하시겠네요.\n",
      "아 내가. 내가. 이 결혼반지 두고 나갈게. 신고 하지 말아줘 부탁이네.\n"
     ]
    }
   ],
   "source": [
    "check_sentence_with_length(df['conversation'], 513)"
   ]
  },
  {
   "cell_type": "code",
   "execution_count": 14,
   "id": "5ba2103d",
   "metadata": {},
   "outputs": [],
   "source": [
    "data_koen_path = os.path.join(\"./datasets/ko-en_translation\", \"train.csv\")\n",
    "\n",
    "df1 = pd.read_csv(data_koen_path)"
   ]
  },
  {
   "cell_type": "code",
   "execution_count": 22,
   "id": "9ed4c29d",
   "metadata": {},
   "outputs": [
    {
     "data": {
      "text/html": [
       "<div>\n",
       "<style scoped>\n",
       "    .dataframe tbody tr th:only-of-type {\n",
       "        vertical-align: middle;\n",
       "    }\n",
       "\n",
       "    .dataframe tbody tr th {\n",
       "        vertical-align: top;\n",
       "    }\n",
       "\n",
       "    .dataframe thead th {\n",
       "        text-align: right;\n",
       "    }\n",
       "</style>\n",
       "<table border=\"1\" class=\"dataframe\">\n",
       "  <thead>\n",
       "    <tr style=\"text-align: right;\">\n",
       "      <th></th>\n",
       "      <th>idx</th>\n",
       "      <th>label</th>\n",
       "      <th>class</th>\n",
       "      <th>conversation</th>\n",
       "    </tr>\n",
       "  </thead>\n",
       "  <tbody>\n",
       "    <tr>\n",
       "      <th>3950</th>\n",
       "      <td>3950</td>\n",
       "      <td>0</td>\n",
       "      <td>일반</td>\n",
       "      <td>이번 신제품 출시에 대한 시장의 반응은 어떤가요?\\n판매량이 지난번 제품보다 빠르게...</td>\n",
       "    </tr>\n",
       "    <tr>\n",
       "      <th>3951</th>\n",
       "      <td>3951</td>\n",
       "      <td>0</td>\n",
       "      <td>일반</td>\n",
       "      <td>지난 회의 마지막에 논의했던 안건을 다시 볼까요?\\n그보다는 이번 주 새로운 주제가...</td>\n",
       "    </tr>\n",
       "    <tr>\n",
       "      <th>3952</th>\n",
       "      <td>3952</td>\n",
       "      <td>0</td>\n",
       "      <td>일반</td>\n",
       "      <td>이번 주 금요일까지 2천개를 더 주문하라는 건가요?\\n네, 시간이 조금 촉박하기는 ...</td>\n",
       "    </tr>\n",
       "    <tr>\n",
       "      <th>3953</th>\n",
       "      <td>3953</td>\n",
       "      <td>0</td>\n",
       "      <td>일반</td>\n",
       "      <td>사무용품이나 가구 중 가장 먼저 바꿔야 할 것은 뭐라고 생각하나요?\\n아무래도 컴퓨...</td>\n",
       "    </tr>\n",
       "    <tr>\n",
       "      <th>3954</th>\n",
       "      <td>3954</td>\n",
       "      <td>0</td>\n",
       "      <td>일반</td>\n",
       "      <td>오늘이나 내일 중에 본사에 가시는 분이 있나요?\\n제가 오늘 오후 5시쯤 본사에 가...</td>\n",
       "    </tr>\n",
       "  </tbody>\n",
       "</table>\n",
       "</div>"
      ],
      "text/plain": [
       "       idx  label class                                       conversation\n",
       "3950  3950      0    일반  이번 신제품 출시에 대한 시장의 반응은 어떤가요?\\n판매량이 지난번 제품보다 빠르게...\n",
       "3951  3951      0    일반  지난 회의 마지막에 논의했던 안건을 다시 볼까요?\\n그보다는 이번 주 새로운 주제가...\n",
       "3952  3952      0    일반  이번 주 금요일까지 2천개를 더 주문하라는 건가요?\\n네, 시간이 조금 촉박하기는 ...\n",
       "3953  3953      0    일반  사무용품이나 가구 중 가장 먼저 바꿔야 할 것은 뭐라고 생각하나요?\\n아무래도 컴퓨...\n",
       "3954  3954      0    일반  오늘이나 내일 중에 본사에 가시는 분이 있나요?\\n제가 오늘 오후 5시쯤 본사에 가..."
      ]
     },
     "execution_count": 22,
     "metadata": {},
     "output_type": "execute_result"
    }
   ],
   "source": [
    "tmp = df1[df1['class']=='일반']\n",
    "\n",
    "tmp.head()"
   ]
  },
  {
   "cell_type": "code",
   "execution_count": 23,
   "id": "08b9d65e",
   "metadata": {},
   "outputs": [
    {
     "data": {
      "text/plain": [
       "3949"
      ]
     },
     "execution_count": 23,
     "metadata": {},
     "output_type": "execute_result"
    }
   ],
   "source": [
    "len(tmp)"
   ]
  },
  {
   "cell_type": "code",
   "execution_count": 24,
   "id": "4b88565e",
   "metadata": {},
   "outputs": [
    {
     "data": {
      "text/plain": [
       "7899"
      ]
     },
     "execution_count": 24,
     "metadata": {},
     "output_type": "execute_result"
    }
   ],
   "source": [
    "len(df1)"
   ]
  },
  {
   "cell_type": "code",
   "execution_count": 25,
   "id": "abc8713c",
   "metadata": {},
   "outputs": [
    {
     "name": "stdout",
     "output_type": "stream",
     "text": [
      "문장의 최단 길이: 41\n",
      "문장의 최장 길이: 874\n",
      "문장의 평균 길이: 355\n"
     ]
    },
    {
     "name": "stderr",
     "output_type": "stream",
     "text": [
      "C:\\Users\\ETHICSENSE\\anaconda3\\envs\\vocproject\\lib\\site-packages\\ipykernel_launcher.py:15: DeprecationWarning: `np.int` is a deprecated alias for the builtin `int`. To silence this warning, use `int` by itself. Doing this will not modify any behavior and is safe. When replacing `np.int`, you may wish to use e.g. `np.int64` or `np.int32` to specify the precision. If you wish to review your current use, check the release note link for additional information.\n",
      "Deprecated in NumPy 1.20; for more details and guidance: https://numpy.org/devdocs/release/1.20.0-notes.html#deprecations\n",
      "  from ipykernel import kernelapp as app\n"
     ]
    },
    {
     "data": {
      "image/png": "[encoded data removed]",
      "text/plain": [
       "<Figure size 432x288 with 1 Axes>"
      ]
     },
     "metadata": {
      "needs_background": "light"
     },
     "output_type": "display_data"
    }
   ],
   "source": [
    "min_len = 99999\n",
    "max_len = 0\n",
    "sum_len = 0\n",
    "\n",
    "for sen in df1['conversation']:\n",
    "    length = len(sen)\n",
    "    if min_len > length: min_len = length\n",
    "    if max_len < length: max_len = length\n",
    "    sum_len += length\n",
    "\n",
    "print(\"문장의 최단 길이:\", min_len)\n",
    "print(\"문장의 최장 길이:\", max_len)\n",
    "print(\"문장의 평균 길이:\", sum_len // len(df))\n",
    "\n",
    "sentence_length = np.zeros((max_len), dtype=np.int)\n",
    "\n",
    "for sen in df1['conversation']:\n",
    "    sentence_length[len(sen)-1] += 1\n",
    "\n",
    "plt.bar(range(max_len), sentence_length, width=1.0)\n",
    "plt.title(\"Sentence Length Distribution\")\n",
    "plt.show()"
   ]
  },
  {
   "cell_type": "code",
   "execution_count": 26,
   "id": "6565a98b",
   "metadata": {},
   "outputs": [
    {
     "name": "stdout",
     "output_type": "stream",
     "text": [
      "문장의 최단 길이: 66\n",
      "문장의 최장 길이: 236\n",
      "문장의 평균 길이: 128\n"
     ]
    },
    {
     "name": "stderr",
     "output_type": "stream",
     "text": [
      "C:\\Users\\ETHICSENSE\\anaconda3\\envs\\vocproject\\lib\\site-packages\\ipykernel_launcher.py:15: DeprecationWarning: `np.int` is a deprecated alias for the builtin `int`. To silence this warning, use `int` by itself. Doing this will not modify any behavior and is safe. When replacing `np.int`, you may wish to use e.g. `np.int64` or `np.int32` to specify the precision. If you wish to review your current use, check the release note link for additional information.\n",
      "Deprecated in NumPy 1.20; for more details and guidance: https://numpy.org/devdocs/release/1.20.0-notes.html#deprecations\n",
      "  from ipykernel import kernelapp as app\n"
     ]
    },
    {
     "data": {
      "image/png": "[encoded data removed]",
      "text/plain": [
       "<Figure size 432x288 with 1 Axes>"
      ]
     },
     "metadata": {
      "needs_background": "light"
     },
     "output_type": "display_data"
    }
   ],
   "source": [
    "min_len = 99999\n",
    "max_len = 0\n",
    "sum_len = 0\n",
    "\n",
    "for sen in tmp['conversation']:\n",
    "    length = len(sen)\n",
    "    if min_len > length: min_len = length\n",
    "    if max_len < length: max_len = length\n",
    "    sum_len += length\n",
    "\n",
    "print(\"문장의 최단 길이:\", min_len)\n",
    "print(\"문장의 최장 길이:\", max_len)\n",
    "print(\"문장의 평균 길이:\", sum_len // len(df))\n",
    "\n",
    "sentence_length = np.zeros((max_len), dtype=np.int)\n",
    "\n",
    "for sen in tmp['conversation']:\n",
    "    sentence_length[len(sen)-1] += 1\n",
    "\n",
    "plt.bar(range(max_len), sentence_length, width=1.0)\n",
    "plt.title(\"Sentence Length Distribution\")\n",
    "plt.show()"
   ]
  },
  {
   "cell_type": "code",
   "execution_count": 54,
   "id": "44d8bc25",
   "metadata": {},
   "outputs": [],
   "source": [
    "def show_length(df1, df2, df3):\n",
    "    for data in df1, df2, df3:\n",
    "        min_len = 99999\n",
    "        max_len = 0\n",
    "        sum_len = 0\n",
    "        for sen in data:\n",
    "            length = len(sen)\n",
    "            if min_len > length: min_len = length\n",
    "            if max_len < length: max_len = length\n",
    "            sum_len += length\n",
    "\n",
    "        print(\"문장의 최단 길이:\", min_len)\n",
    "        print(\"문장의 최장 길이:\", max_len)\n",
    "        print(\"문장의 평균 길이:\", sum_len // len(df))\n",
    "\n",
    "        sentence_length = np.zeros((874), dtype=np.int)\n",
    "\n",
    "        for sen in data:\n",
    "            sentence_length[len(sen)-1] += 1\n",
    "\n",
    "        plt.bar(range(874), sentence_length, width=1.0)\n",
    "        plt.title(\"Sentence Length Distribution\")\n",
    "        plt.show()"
   ]
  },
  {
   "cell_type": "code",
   "execution_count": 55,
   "id": "d94f16cf",
   "metadata": {
    "scrolled": true
   },
   "outputs": [
    {
     "name": "stdout",
     "output_type": "stream",
     "text": [
      "문장의 최단 길이: 41\n",
      "문장의 최장 길이: 874\n",
      "문장의 평균 길이: 226\n"
     ]
    },
    {
     "name": "stderr",
     "output_type": "stream",
     "text": [
      "C:\\Users\\ETHICSENSE\\anaconda3\\envs\\vocproject\\lib\\site-packages\\ipykernel_launcher.py:16: DeprecationWarning: `np.int` is a deprecated alias for the builtin `int`. To silence this warning, use `int` by itself. Doing this will not modify any behavior and is safe. When replacing `np.int`, you may wish to use e.g. `np.int64` or `np.int32` to specify the precision. If you wish to review your current use, check the release note link for additional information.\n",
      "Deprecated in NumPy 1.20; for more details and guidance: https://numpy.org/devdocs/release/1.20.0-notes.html#deprecations\n",
      "  app.launch_new_instance()\n"
     ]
    },
    {
     "data": {
      "image/png": "[encoded data removed]",
      "text/plain": [
       "<Figure size 432x288 with 1 Axes>"
      ]
     },
     "metadata": {
      "needs_background": "light"
     },
     "output_type": "display_data"
    },
    {
     "name": "stdout",
     "output_type": "stream",
     "text": [
      "문장의 최단 길이: 41\n",
      "문장의 최장 길이: 874\n",
      "문장의 평균 길이: 355\n"
     ]
    },
    {
     "data": {
      "image/png": "[encoded data removed]",
      "text/plain": [
       "<Figure size 432x288 with 1 Axes>"
      ]
     },
     "metadata": {
      "needs_background": "light"
     },
     "output_type": "display_data"
    },
    {
     "name": "stdout",
     "output_type": "stream",
     "text": [
      "문장의 최단 길이: 66\n",
      "문장의 최장 길이: 236\n",
      "문장의 평균 길이: 128\n"
     ]
    },
    {
     "data": {
      "image/png": "[encoded data removed]",
      "text/plain": [
       "<Figure size 432x288 with 1 Axes>"
      ]
     },
     "metadata": {
      "needs_background": "light"
     },
     "output_type": "display_data"
    }
   ],
   "source": [
    "show_length(df['conversation'], df1['conversation'], tmp['conversation'])"
   ]
  },
  {
   "cell_type": "code",
   "execution_count": null,
   "id": "118d8ab3",
   "metadata": {},
   "outputs": [],
   "source": []
  }
 ],
 "metadata": {
  "kernelspec": {
   "display_name": "Python 3 (ipykernel)",
   "language": "python",
   "name": "python3"
  },
  "language_info": {
   "codemirror_mode": {
    "name": "ipython",
    "version": 3
   },
   "file_extension": ".py",
   "mimetype": "text/x-python",
   "name": "python",
   "nbconvert_exporter": "python",
   "pygments_lexer": "ipython3",
   "version": "3.7.13"
  }
 },
 "nbformat": 4,
 "nbformat_minor": 5
}
