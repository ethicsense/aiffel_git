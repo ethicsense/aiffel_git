{
  "cells": [
    {
      "cell_type": "markdown",
      "metadata": {
        "id": "9nKtnZPLouaV"
      },
      "source": [
        "# GoingDeeper 14 : MiniBERT"
      ]
    },
    {
      "cell_type": "code",
      "execution_count": 1,
      "metadata": {
        "colab": {
          "base_uri": "https://localhost:8080/"
        },
        "id": "DXdDywulo8iJ",
        "outputId": "bc2cc51a-63cb-43ce-fe0c-29a6f7928049"
      },
      "outputs": [
        {
          "output_type": "stream",
          "name": "stdout",
          "text": [
            "Mounted at /content/drive\n"
          ]
        }
      ],
      "source": [
        "from google.colab import drive\n",
        "drive.mount(\"/content/drive\")"
      ]
    },
    {
      "cell_type": "code",
      "execution_count": 2,
      "metadata": {
        "colab": {
          "base_uri": "https://localhost:8080/"
        },
        "id": "bcEr5e1No9Fh",
        "outputId": "f30344bd-3b43-4afd-84cf-4b44706aaefc"
      },
      "outputs": [
        {
          "output_type": "stream",
          "name": "stdout",
          "text": [
            "Get:1 http://ppa.launchpad.net/c2d4u.team/c2d4u4.0+/ubuntu bionic InRelease [15.9 kB]\n",
            "Hit:2 http://archive.ubuntu.com/ubuntu bionic InRelease\n",
            "Get:3 http://archive.ubuntu.com/ubuntu bionic-updates InRelease [88.7 kB]\n",
            "Get:4 https://cloud.r-project.org/bin/linux/ubuntu bionic-cran40/ InRelease [3,626 B]\n",
            "Hit:5 http://ppa.launchpad.net/cran/libgit2/ubuntu bionic InRelease\n",
            "Get:6 http://ppa.launchpad.net/deadsnakes/ppa/ubuntu bionic InRelease [15.9 kB]\n",
            "Get:7 http://archive.ubuntu.com/ubuntu bionic-backports InRelease [74.6 kB]\n",
            "Hit:8 http://ppa.launchpad.net/graphics-drivers/ppa/ubuntu bionic InRelease\n",
            "Get:9 http://security.ubuntu.com/ubuntu bionic-security InRelease [88.7 kB]\n",
            "Ign:10 https://developer.download.nvidia.com/compute/cuda/repos/ubuntu1804/x86_64  InRelease\n",
            "Ign:11 https://developer.download.nvidia.com/compute/machine-learning/repos/ubuntu1804/x86_64  InRelease\n",
            "Get:12 https://developer.download.nvidia.com/compute/cuda/repos/ubuntu1804/x86_64  Release [696 B]\n",
            "Hit:13 https://developer.download.nvidia.com/compute/machine-learning/repos/ubuntu1804/x86_64  Release\n",
            "Get:14 https://developer.download.nvidia.com/compute/cuda/repos/ubuntu1804/x86_64  Release.gpg [836 B]\n",
            "Get:15 http://ppa.launchpad.net/c2d4u.team/c2d4u4.0+/ubuntu bionic/main Sources [1,950 kB]\n",
            "Get:16 http://ppa.launchpad.net/c2d4u.team/c2d4u4.0+/ubuntu bionic/main amd64 Packages [999 kB]\n",
            "Get:17 http://archive.ubuntu.com/ubuntu bionic-updates/restricted amd64 Packages [941 kB]\n",
            "Get:18 http://archive.ubuntu.com/ubuntu bionic-updates/universe amd64 Packages [2,272 kB]\n",
            "Get:19 http://archive.ubuntu.com/ubuntu bionic-updates/main amd64 Packages [3,165 kB]\n",
            "Get:20 http://ppa.launchpad.net/deadsnakes/ppa/ubuntu bionic/main amd64 Packages [45.3 kB]\n",
            "Get:22 https://developer.download.nvidia.com/compute/cuda/repos/ubuntu1804/x86_64  Packages [953 kB]\n",
            "Get:23 http://security.ubuntu.com/ubuntu bionic-security/universe amd64 Packages [1,496 kB]\n",
            "Get:24 http://security.ubuntu.com/ubuntu bionic-security/main amd64 Packages [2,728 kB]\n",
            "Get:25 http://security.ubuntu.com/ubuntu bionic-security/restricted amd64 Packages [907 kB]\n",
            "Fetched 15.7 MB in 4s (3,884 kB/s)\n",
            "Reading package lists...\n",
            "Reading package lists...\n",
            "Building dependency tree...\n",
            "Reading state information...\n",
            "python-dev is already the newest version (2.7.15~rc1-1).\n",
            "g++ is already the newest version (4:7.4.0-1ubuntu2.3).\n",
            "g++ set to manually installed.\n",
            "python3-dev is already the newest version (3.6.7-1~18.04).\n",
            "python3-dev set to manually installed.\n",
            "The following additional packages will be installed:\n",
            "  fonts-dejavu-core fonts-dejavu-extra libatk-wrapper-java\n",
            "  libatk-wrapper-java-jni libgail-common libgail18 libgtk2.0-0 libgtk2.0-bin\n",
            "  libgtk2.0-common libxxf86dga1 openjdk-8-jdk-headless openjdk-8-jre\n",
            "  openjdk-8-jre-headless x11-utils\n",
            "Suggested packages:\n",
            "  gvfs openjdk-8-demo openjdk-8-source visualvm icedtea-8-plugin libnss-mdns\n",
            "  fonts-ipafont-gothic fonts-ipafont-mincho fonts-wqy-microhei\n",
            "  fonts-wqy-zenhei fonts-indic mesa-utils\n",
            "The following NEW packages will be installed:\n",
            "  fonts-dejavu-core fonts-dejavu-extra libatk-wrapper-java\n",
            "  libatk-wrapper-java-jni libgail-common libgail18 libgtk2.0-0 libgtk2.0-bin\n",
            "  libgtk2.0-common libxxf86dga1 openjdk-8-jdk openjdk-8-jdk-headless\n",
            "  openjdk-8-jre openjdk-8-jre-headless x11-utils\n",
            "0 upgraded, 15 newly installed, 0 to remove and 55 not upgraded.\n",
            "Need to get 43.5 MB of archives.\n",
            "After this operation, 163 MB of additional disk space will be used.\n",
            "Get:1 http://archive.ubuntu.com/ubuntu bionic/main amd64 libxxf86dga1 amd64 2:1.1.4-1 [13.7 kB]\n",
            "Get:2 http://archive.ubuntu.com/ubuntu bionic/main amd64 fonts-dejavu-core all 2.37-1 [1,041 kB]\n",
            "Get:3 http://archive.ubuntu.com/ubuntu bionic/main amd64 fonts-dejavu-extra all 2.37-1 [1,953 kB]\n",
            "Get:4 http://archive.ubuntu.com/ubuntu bionic/main amd64 x11-utils amd64 7.7+3build1 [196 kB]\n",
            "Get:5 http://archive.ubuntu.com/ubuntu bionic/main amd64 libatk-wrapper-java all 0.33.3-20ubuntu0.1 [34.7 kB]\n",
            "Get:6 http://archive.ubuntu.com/ubuntu bionic/main amd64 libatk-wrapper-java-jni amd64 0.33.3-20ubuntu0.1 [28.3 kB]\n",
            "Get:7 http://archive.ubuntu.com/ubuntu bionic/main amd64 libgtk2.0-common all 2.24.32-1ubuntu1 [125 kB]\n",
            "Get:8 http://archive.ubuntu.com/ubuntu bionic/main amd64 libgtk2.0-0 amd64 2.24.32-1ubuntu1 [1,769 kB]\n",
            "Get:9 http://archive.ubuntu.com/ubuntu bionic/main amd64 libgail18 amd64 2.24.32-1ubuntu1 [14.2 kB]\n",
            "Get:10 http://archive.ubuntu.com/ubuntu bionic/main amd64 libgail-common amd64 2.24.32-1ubuntu1 [112 kB]\n",
            "Get:11 http://archive.ubuntu.com/ubuntu bionic/main amd64 libgtk2.0-bin amd64 2.24.32-1ubuntu1 [7,536 B]\n",
            "Get:12 http://archive.ubuntu.com/ubuntu bionic-updates/universe amd64 openjdk-8-jre-headless amd64 8u312-b07-0ubuntu1~18.04 [28.2 MB]\n",
            "Get:13 http://archive.ubuntu.com/ubuntu bionic-updates/universe amd64 openjdk-8-jre amd64 8u312-b07-0ubuntu1~18.04 [69.6 kB]\n",
            "Get:14 http://archive.ubuntu.com/ubuntu bionic-updates/universe amd64 openjdk-8-jdk-headless amd64 8u312-b07-0ubuntu1~18.04 [8,298 kB]\n",
            "Get:15 http://archive.ubuntu.com/ubuntu bionic-updates/universe amd64 openjdk-8-jdk amd64 8u312-b07-0ubuntu1~18.04 [1,625 kB]\n",
            "Fetched 43.5 MB in 1s (57.3 MB/s)\n",
            "Selecting previously unselected package libxxf86dga1:amd64.\r\n",
            "(Reading database ... \r(Reading database ... 5%\r(Reading database ... 10%\r(Reading database ... 15%\r(Reading database ... 20%\r(Reading database ... 25%\r(Reading database ... 30%\r(Reading database ... 35%\r(Reading database ... 40%\r(Reading database ... 45%\r(Reading database ... 50%\r(Reading database ... 55%\r(Reading database ... 60%\r(Reading database ... 65%\r(Reading database ... 70%\r(Reading database ... 75%\r(Reading database ... 80%\r(Reading database ... 85%\r(Reading database ... 90%\r(Reading database ... 95%\r(Reading database ... 100%\r(Reading database ... 155455 files and directories currently installed.)\r\n",
            "Preparing to unpack .../00-libxxf86dga1_2%3a1.1.4-1_amd64.deb ...\r\n",
            "Unpacking libxxf86dga1:amd64 (2:1.1.4-1) ...\r\n",
            "Selecting previously unselected package fonts-dejavu-core.\r\n",
            "Preparing to unpack .../01-fonts-dejavu-core_2.37-1_all.deb ...\r\n",
            "Unpacking fonts-dejavu-core (2.37-1) ...\r\n",
            "Selecting previously unselected package fonts-dejavu-extra.\r\n",
            "Preparing to unpack .../02-fonts-dejavu-extra_2.37-1_all.deb ...\r\n",
            "Unpacking fonts-dejavu-extra (2.37-1) ...\r\n",
            "Selecting previously unselected package x11-utils.\r\n",
            "Preparing to unpack .../03-x11-utils_7.7+3build1_amd64.deb ...\r\n",
            "Unpacking x11-utils (7.7+3build1) ...\r\n",
            "Selecting previously unselected package libatk-wrapper-java.\r\n",
            "Preparing to unpack .../04-libatk-wrapper-java_0.33.3-20ubuntu0.1_all.deb ...\r\n",
            "Unpacking libatk-wrapper-java (0.33.3-20ubuntu0.1) ...\r\n",
            "Selecting previously unselected package libatk-wrapper-java-jni:amd64.\r\n",
            "Preparing to unpack .../05-libatk-wrapper-java-jni_0.33.3-20ubuntu0.1_amd64.deb ...\r\n",
            "Unpacking libatk-wrapper-java-jni:amd64 (0.33.3-20ubuntu0.1) ...\r\n",
            "Selecting previously unselected package libgtk2.0-common.\r\n",
            "Preparing to unpack .../06-libgtk2.0-common_2.24.32-1ubuntu1_all.deb ...\r\n",
            "Unpacking libgtk2.0-common (2.24.32-1ubuntu1) ...\r\n",
            "Selecting previously unselected package libgtk2.0-0:amd64.\r\n",
            "Preparing to unpack .../07-libgtk2.0-0_2.24.32-1ubuntu1_amd64.deb ...\r\n",
            "Unpacking libgtk2.0-0:amd64 (2.24.32-1ubuntu1) ...\r\n",
            "Selecting previously unselected package libgail18:amd64.\r\n",
            "Preparing to unpack .../08-libgail18_2.24.32-1ubuntu1_amd64.deb ...\r\n",
            "Unpacking libgail18:amd64 (2.24.32-1ubuntu1) ...\r\n",
            "Selecting previously unselected package libgail-common:amd64.\r\n",
            "Preparing to unpack .../09-libgail-common_2.24.32-1ubuntu1_amd64.deb ...\r\n",
            "Unpacking libgail-common:amd64 (2.24.32-1ubuntu1) ...\r\n",
            "Selecting previously unselected package libgtk2.0-bin.\r\n",
            "Preparing to unpack .../10-libgtk2.0-bin_2.24.32-1ubuntu1_amd64.deb ...\r\n",
            "Unpacking libgtk2.0-bin (2.24.32-1ubuntu1) ...\r\n",
            "Selecting previously unselected package openjdk-8-jre-headless:amd64.\r\n",
            "Preparing to unpack .../11-openjdk-8-jre-headless_8u312-b07-0ubuntu1~18.04_amd64.deb ...\r\n",
            "Unpacking openjdk-8-jre-headless:amd64 (8u312-b07-0ubuntu1~18.04) ...\r\n",
            "Selecting previously unselected package openjdk-8-jre:amd64.\r\n",
            "Preparing to unpack .../12-openjdk-8-jre_8u312-b07-0ubuntu1~18.04_amd64.deb ...\r\n",
            "Unpacking openjdk-8-jre:amd64 (8u312-b07-0ubuntu1~18.04) ...\r\n",
            "Selecting previously unselected package openjdk-8-jdk-headless:amd64.\r\n",
            "Preparing to unpack .../13-openjdk-8-jdk-headless_8u312-b07-0ubuntu1~18.04_amd64.deb ...\r\n",
            "Unpacking openjdk-8-jdk-headless:amd64 (8u312-b07-0ubuntu1~18.04) ...\r\n",
            "Selecting previously unselected package openjdk-8-jdk:amd64.\r\n",
            "Preparing to unpack .../14-openjdk-8-jdk_8u312-b07-0ubuntu1~18.04_amd64.deb ...\r\n",
            "Unpacking openjdk-8-jdk:amd64 (8u312-b07-0ubuntu1~18.04) ...\r\n",
            "Setting up libgtk2.0-common (2.24.32-1ubuntu1) ...\r\n",
            "Setting up fonts-dejavu-core (2.37-1) ...\r\n",
            "Setting up libxxf86dga1:amd64 (2:1.1.4-1) ...\r\n",
            "Setting up fonts-dejavu-extra (2.37-1) ...\r\n",
            "Setting up openjdk-8-jre-headless:amd64 (8u312-b07-0ubuntu1~18.04) ...\r\n",
            "update-alternatives: using /usr/lib/jvm/java-8-openjdk-amd64/jre/bin/orbd to provide /usr/bin/orbd (orbd) in auto mode\r\n",
            "update-alternatives: using /usr/lib/jvm/java-8-openjdk-amd64/jre/bin/servertool to provide /usr/bin/servertool (servertool) in auto mode\r\n",
            "update-alternatives: using /usr/lib/jvm/java-8-openjdk-amd64/jre/bin/tnameserv to provide /usr/bin/tnameserv (tnameserv) in auto mode\r\n",
            "Setting up libgtk2.0-0:amd64 (2.24.32-1ubuntu1) ...\r\n",
            "Setting up libgail18:amd64 (2.24.32-1ubuntu1) ...\r\n",
            "Setting up openjdk-8-jdk-headless:amd64 (8u312-b07-0ubuntu1~18.04) ...\r\n",
            "update-alternatives: using /usr/lib/jvm/java-8-openjdk-amd64/bin/idlj to provide /usr/bin/idlj (idlj) in auto mode\r\n",
            "update-alternatives: using /usr/lib/jvm/java-8-openjdk-amd64/bin/wsimport to provide /usr/bin/wsimport (wsimport) in auto mode\r\n",
            "update-alternatives: using /usr/lib/jvm/java-8-openjdk-amd64/bin/jsadebugd to provide /usr/bin/jsadebugd (jsadebugd) in auto mode\r\n",
            "update-alternatives: using /usr/lib/jvm/java-8-openjdk-amd64/bin/native2ascii to provide /usr/bin/native2ascii (native2ascii) in auto mode\r\n",
            "update-alternatives: using /usr/lib/jvm/java-8-openjdk-amd64/bin/javah to provide /usr/bin/javah (javah) in auto mode\r\n",
            "update-alternatives: using /usr/lib/jvm/java-8-openjdk-amd64/bin/hsdb to provide /usr/bin/hsdb (hsdb) in auto mode\r\n",
            "update-alternatives: using /usr/lib/jvm/java-8-openjdk-amd64/bin/clhsdb to provide /usr/bin/clhsdb (clhsdb) in auto mode\r\n",
            "update-alternatives: using /usr/lib/jvm/java-8-openjdk-amd64/bin/xjc to provide /usr/bin/xjc (xjc) in auto mode\r\n",
            "update-alternatives: using /usr/lib/jvm/java-8-openjdk-amd64/bin/schemagen to provide /usr/bin/schemagen (schemagen) in auto mode\r\n",
            "update-alternatives: using /usr/lib/jvm/java-8-openjdk-amd64/bin/extcheck to provide /usr/bin/extcheck (extcheck) in auto mode\r\n",
            "update-alternatives: using /usr/lib/jvm/java-8-openjdk-amd64/bin/jhat to provide /usr/bin/jhat (jhat) in auto mode\r\n",
            "update-alternatives: using /usr/lib/jvm/java-8-openjdk-amd64/bin/wsgen to provide /usr/bin/wsgen (wsgen) in auto mode\r\n",
            "Setting up x11-utils (7.7+3build1) ...\r\n",
            "Setting up libgail-common:amd64 (2.24.32-1ubuntu1) ...\r\n",
            "Setting up libatk-wrapper-java (0.33.3-20ubuntu0.1) ...\r\n",
            "Setting up libgtk2.0-bin (2.24.32-1ubuntu1) ...\r\n",
            "Setting up libatk-wrapper-java-jni:amd64 (0.33.3-20ubuntu0.1) ...\r\n",
            "Setting up openjdk-8-jre:amd64 (8u312-b07-0ubuntu1~18.04) ...\r\n",
            "update-alternatives: using /usr/lib/jvm/java-8-openjdk-amd64/jre/bin/policytool to provide /usr/bin/policytool (policytool) in auto mode\r\n",
            "Setting up openjdk-8-jdk:amd64 (8u312-b07-0ubuntu1~18.04) ...\r\n",
            "update-alternatives: using /usr/lib/jvm/java-8-openjdk-amd64/bin/appletviewer to provide /usr/bin/appletviewer (appletviewer) in auto mode\r\n",
            "update-alternatives: using /usr/lib/jvm/java-8-openjdk-amd64/bin/jconsole to provide /usr/bin/jconsole (jconsole) in auto mode\r\n",
            "Processing triggers for man-db (2.8.3-2ubuntu0.1) ...\r\n",
            "Processing triggers for hicolor-icon-theme (0.17-2) ...\r\n",
            "Processing triggers for fontconfig (2.12.6-0ubuntu2) ...\r\n",
            "Processing triggers for mime-support (3.60ubuntu1) ...\r\n",
            "Processing triggers for libc-bin (2.27-3ubuntu1.3) ...\r\n",
            "/sbin/ldconfig.real: /usr/local/lib/python3.7/dist-packages/ideep4py/lib/libmkldnn.so.0 is not a symbolic link\r\n",
            "\r\n",
            "Collecting JPype1\n",
            "  Downloading JPype1-1.3.0-cp37-cp37m-manylinux_2_5_x86_64.manylinux1_x86_64.whl (448 kB)\n",
            "Requirement already satisfied: typing-extensions in /usr/local/lib/python3.7/dist-packages (from JPype1) (4.1.1)\n",
            "Installing collected packages: JPype1\n",
            "Successfully installed JPype1-1.3.0\n",
            "Collecting konlpy\n",
            "  Downloading konlpy-0.6.0-py2.py3-none-any.whl (19.4 MB)\n",
            "Requirement already satisfied: numpy>=1.6 in /usr/local/lib/python3.7/dist-packages (from konlpy) (1.21.6)\n",
            "Requirement already satisfied: JPype1>=0.7.0 in /usr/local/lib/python3.7/dist-packages (from konlpy) (1.3.0)\n",
            "Requirement already satisfied: lxml>=4.1.0 in /usr/local/lib/python3.7/dist-packages (from konlpy) (4.2.6)\n",
            "Requirement already satisfied: typing-extensions in /usr/local/lib/python3.7/dist-packages (from JPype1>=0.7.0->konlpy) (4.1.1)\n",
            "Installing collected packages: konlpy\n",
            "Successfully installed konlpy-0.6.0\n"
          ]
        }
      ],
      "source": [
        "%%bash\n",
        "apt-get update\n",
        "apt-get install g++ openjdk-8-jdk python-dev python3-dev\n",
        "pip3 install JPype1\n",
        "pip3 install konlpy"
      ]
    },
    {
      "cell_type": "code",
      "execution_count": 3,
      "metadata": {
        "colab": {
          "base_uri": "https://localhost:8080/"
        },
        "id": "l_-sOG7_pAZT",
        "outputId": "dce8f6ea-0c4b-492c-eeaa-80d39388cf52"
      },
      "outputs": [
        {
          "output_type": "stream",
          "name": "stdout",
          "text": [
            "env: JAVA_HOME=\"/usr/lib/jvm/java-8-openjdk-amd64\"\n"
          ]
        }
      ],
      "source": [
        "%env JAVA_HOME \"/usr/lib/jvm/java-8-openjdk-amd64\""
      ]
    },
    {
      "cell_type": "code",
      "execution_count": 4,
      "metadata": {
        "colab": {
          "base_uri": "https://localhost:8080/"
        },
        "id": "zxZUUbS59RKj",
        "outputId": "f5464145-7cf4-4bd2-e1b7-c197a164e9c3"
      },
      "outputs": [
        {
          "output_type": "stream",
          "name": "stdout",
          "text": [
            "Collecting sentencepiece\n",
            "  Downloading sentencepiece-0.1.96-cp37-cp37m-manylinux_2_17_x86_64.manylinux2014_x86_64.whl (1.2 MB)\n",
            "\u001b[?25l\r\u001b[K     |▎                               | 10 kB 23.9 MB/s eta 0:00:01\r\u001b[K     |▌                               | 20 kB 29.3 MB/s eta 0:00:01\r\u001b[K     |▉                               | 30 kB 35.1 MB/s eta 0:00:01\r\u001b[K     |█                               | 40 kB 16.4 MB/s eta 0:00:01\r\u001b[K     |█▍                              | 51 kB 13.5 MB/s eta 0:00:01\r\u001b[K     |█▋                              | 61 kB 15.4 MB/s eta 0:00:01\r\u001b[K     |██                              | 71 kB 13.4 MB/s eta 0:00:01\r\u001b[K     |██▏                             | 81 kB 14.6 MB/s eta 0:00:01\r\u001b[K     |██▍                             | 92 kB 16.1 MB/s eta 0:00:01\r\u001b[K     |██▊                             | 102 kB 13.8 MB/s eta 0:00:01\r\u001b[K     |███                             | 112 kB 13.8 MB/s eta 0:00:01\r\u001b[K     |███▎                            | 122 kB 13.8 MB/s eta 0:00:01\r\u001b[K     |███▌                            | 133 kB 13.8 MB/s eta 0:00:01\r\u001b[K     |███▉                            | 143 kB 13.8 MB/s eta 0:00:01\r\u001b[K     |████                            | 153 kB 13.8 MB/s eta 0:00:01\r\u001b[K     |████▎                           | 163 kB 13.8 MB/s eta 0:00:01\r\u001b[K     |████▋                           | 174 kB 13.8 MB/s eta 0:00:01\r\u001b[K     |████▉                           | 184 kB 13.8 MB/s eta 0:00:01\r\u001b[K     |█████▏                          | 194 kB 13.8 MB/s eta 0:00:01\r\u001b[K     |█████▍                          | 204 kB 13.8 MB/s eta 0:00:01\r\u001b[K     |█████▊                          | 215 kB 13.8 MB/s eta 0:00:01\r\u001b[K     |██████                          | 225 kB 13.8 MB/s eta 0:00:01\r\u001b[K     |██████▏                         | 235 kB 13.8 MB/s eta 0:00:01\r\u001b[K     |██████▌                         | 245 kB 13.8 MB/s eta 0:00:01\r\u001b[K     |██████▊                         | 256 kB 13.8 MB/s eta 0:00:01\r\u001b[K     |███████                         | 266 kB 13.8 MB/s eta 0:00:01\r\u001b[K     |███████▎                        | 276 kB 13.8 MB/s eta 0:00:01\r\u001b[K     |███████▋                        | 286 kB 13.8 MB/s eta 0:00:01\r\u001b[K     |███████▉                        | 296 kB 13.8 MB/s eta 0:00:01\r\u001b[K     |████████                        | 307 kB 13.8 MB/s eta 0:00:01\r\u001b[K     |████████▍                       | 317 kB 13.8 MB/s eta 0:00:01\r\u001b[K     |████████▋                       | 327 kB 13.8 MB/s eta 0:00:01\r\u001b[K     |█████████                       | 337 kB 13.8 MB/s eta 0:00:01\r\u001b[K     |█████████▏                      | 348 kB 13.8 MB/s eta 0:00:01\r\u001b[K     |█████████▌                      | 358 kB 13.8 MB/s eta 0:00:01\r\u001b[K     |█████████▊                      | 368 kB 13.8 MB/s eta 0:00:01\r\u001b[K     |██████████                      | 378 kB 13.8 MB/s eta 0:00:01\r\u001b[K     |██████████▎                     | 389 kB 13.8 MB/s eta 0:00:01\r\u001b[K     |██████████▌                     | 399 kB 13.8 MB/s eta 0:00:01\r\u001b[K     |██████████▉                     | 409 kB 13.8 MB/s eta 0:00:01\r\u001b[K     |███████████                     | 419 kB 13.8 MB/s eta 0:00:01\r\u001b[K     |███████████▍                    | 430 kB 13.8 MB/s eta 0:00:01\r\u001b[K     |███████████▋                    | 440 kB 13.8 MB/s eta 0:00:01\r\u001b[K     |███████████▉                    | 450 kB 13.8 MB/s eta 0:00:01\r\u001b[K     |████████████▏                   | 460 kB 13.8 MB/s eta 0:00:01\r\u001b[K     |████████████▍                   | 471 kB 13.8 MB/s eta 0:00:01\r\u001b[K     |████████████▊                   | 481 kB 13.8 MB/s eta 0:00:01\r\u001b[K     |█████████████                   | 491 kB 13.8 MB/s eta 0:00:01\r\u001b[K     |█████████████▎                  | 501 kB 13.8 MB/s eta 0:00:01\r\u001b[K     |█████████████▌                  | 512 kB 13.8 MB/s eta 0:00:01\r\u001b[K     |█████████████▊                  | 522 kB 13.8 MB/s eta 0:00:01\r\u001b[K     |██████████████                  | 532 kB 13.8 MB/s eta 0:00:01\r\u001b[K     |██████████████▎                 | 542 kB 13.8 MB/s eta 0:00:01\r\u001b[K     |██████████████▋                 | 552 kB 13.8 MB/s eta 0:00:01\r\u001b[K     |██████████████▉                 | 563 kB 13.8 MB/s eta 0:00:01\r\u001b[K     |███████████████▏                | 573 kB 13.8 MB/s eta 0:00:01\r\u001b[K     |███████████████▍                | 583 kB 13.8 MB/s eta 0:00:01\r\u001b[K     |███████████████▋                | 593 kB 13.8 MB/s eta 0:00:01\r\u001b[K     |████████████████                | 604 kB 13.8 MB/s eta 0:00:01\r\u001b[K     |████████████████▏               | 614 kB 13.8 MB/s eta 0:00:01\r\u001b[K     |████████████████▌               | 624 kB 13.8 MB/s eta 0:00:01\r\u001b[K     |████████████████▊               | 634 kB 13.8 MB/s eta 0:00:01\r\u001b[K     |█████████████████               | 645 kB 13.8 MB/s eta 0:00:01\r\u001b[K     |█████████████████▎              | 655 kB 13.8 MB/s eta 0:00:01\r\u001b[K     |█████████████████▌              | 665 kB 13.8 MB/s eta 0:00:01\r\u001b[K     |█████████████████▉              | 675 kB 13.8 MB/s eta 0:00:01\r\u001b[K     |██████████████████              | 686 kB 13.8 MB/s eta 0:00:01\r\u001b[K     |██████████████████▍             | 696 kB 13.8 MB/s eta 0:00:01\r\u001b[K     |██████████████████▋             | 706 kB 13.8 MB/s eta 0:00:01\r\u001b[K     |███████████████████             | 716 kB 13.8 MB/s eta 0:00:01\r\u001b[K     |███████████████████▏            | 727 kB 13.8 MB/s eta 0:00:01\r\u001b[K     |███████████████████▍            | 737 kB 13.8 MB/s eta 0:00:01\r\u001b[K     |███████████████████▊            | 747 kB 13.8 MB/s eta 0:00:01\r\u001b[K     |████████████████████            | 757 kB 13.8 MB/s eta 0:00:01\r\u001b[K     |████████████████████▎           | 768 kB 13.8 MB/s eta 0:00:01\r\u001b[K     |████████████████████▌           | 778 kB 13.8 MB/s eta 0:00:01\r\u001b[K     |████████████████████▉           | 788 kB 13.8 MB/s eta 0:00:01\r\u001b[K     |█████████████████████           | 798 kB 13.8 MB/s eta 0:00:01\r\u001b[K     |█████████████████████▎          | 808 kB 13.8 MB/s eta 0:00:01\r\u001b[K     |█████████████████████▋          | 819 kB 13.8 MB/s eta 0:00:01\r\u001b[K     |█████████████████████▉          | 829 kB 13.8 MB/s eta 0:00:01\r\u001b[K     |██████████████████████▏         | 839 kB 13.8 MB/s eta 0:00:01\r\u001b[K     |██████████████████████▍         | 849 kB 13.8 MB/s eta 0:00:01\r\u001b[K     |██████████████████████▊         | 860 kB 13.8 MB/s eta 0:00:01\r\u001b[K     |███████████████████████         | 870 kB 13.8 MB/s eta 0:00:01\r\u001b[K     |███████████████████████▏        | 880 kB 13.8 MB/s eta 0:00:01\r\u001b[K     |███████████████████████▌        | 890 kB 13.8 MB/s eta 0:00:01\r\u001b[K     |███████████████████████▊        | 901 kB 13.8 MB/s eta 0:00:01\r\u001b[K     |████████████████████████        | 911 kB 13.8 MB/s eta 0:00:01\r\u001b[K     |████████████████████████▎       | 921 kB 13.8 MB/s eta 0:00:01\r\u001b[K     |████████████████████████▋       | 931 kB 13.8 MB/s eta 0:00:01\r\u001b[K     |████████████████████████▉       | 942 kB 13.8 MB/s eta 0:00:01\r\u001b[K     |█████████████████████████       | 952 kB 13.8 MB/s eta 0:00:01\r\u001b[K     |█████████████████████████▍      | 962 kB 13.8 MB/s eta 0:00:01\r\u001b[K     |█████████████████████████▋      | 972 kB 13.8 MB/s eta 0:00:01\r\u001b[K     |██████████████████████████      | 983 kB 13.8 MB/s eta 0:00:01\r\u001b[K     |██████████████████████████▏     | 993 kB 13.8 MB/s eta 0:00:01\r\u001b[K     |██████████████████████████▌     | 1.0 MB 13.8 MB/s eta 0:00:01\r\u001b[K     |██████████████████████████▊     | 1.0 MB 13.8 MB/s eta 0:00:01\r\u001b[K     |███████████████████████████     | 1.0 MB 13.8 MB/s eta 0:00:01\r\u001b[K     |███████████████████████████▎    | 1.0 MB 13.8 MB/s eta 0:00:01\r\u001b[K     |███████████████████████████▌    | 1.0 MB 13.8 MB/s eta 0:00:01\r\u001b[K     |███████████████████████████▉    | 1.1 MB 13.8 MB/s eta 0:00:01\r\u001b[K     |████████████████████████████    | 1.1 MB 13.8 MB/s eta 0:00:01\r\u001b[K     |████████████████████████████▍   | 1.1 MB 13.8 MB/s eta 0:00:01\r\u001b[K     |████████████████████████████▋   | 1.1 MB 13.8 MB/s eta 0:00:01\r\u001b[K     |████████████████████████████▉   | 1.1 MB 13.8 MB/s eta 0:00:01\r\u001b[K     |█████████████████████████████▏  | 1.1 MB 13.8 MB/s eta 0:00:01\r\u001b[K     |█████████████████████████████▍  | 1.1 MB 13.8 MB/s eta 0:00:01\r\u001b[K     |█████████████████████████████▊  | 1.1 MB 13.8 MB/s eta 0:00:01\r\u001b[K     |██████████████████████████████  | 1.1 MB 13.8 MB/s eta 0:00:01\r\u001b[K     |██████████████████████████████▎ | 1.1 MB 13.8 MB/s eta 0:00:01\r\u001b[K     |██████████████████████████████▌ | 1.2 MB 13.8 MB/s eta 0:00:01\r\u001b[K     |██████████████████████████████▊ | 1.2 MB 13.8 MB/s eta 0:00:01\r\u001b[K     |███████████████████████████████ | 1.2 MB 13.8 MB/s eta 0:00:01\r\u001b[K     |███████████████████████████████▎| 1.2 MB 13.8 MB/s eta 0:00:01\r\u001b[K     |███████████████████████████████▋| 1.2 MB 13.8 MB/s eta 0:00:01\r\u001b[K     |███████████████████████████████▉| 1.2 MB 13.8 MB/s eta 0:00:01\r\u001b[K     |████████████████████████████████| 1.2 MB 13.8 MB/s \n",
            "\u001b[?25hInstalling collected packages: sentencepiece\n",
            "Successfully installed sentencepiece-0.1.96\n"
          ]
        }
      ],
      "source": [
        "!pip install sentencepiece"
      ]
    },
    {
      "cell_type": "code",
      "execution_count": 5,
      "metadata": {
        "colab": {
          "base_uri": "https://localhost:8080/"
        },
        "id": "nBhiNmWZotNI",
        "outputId": "b90ba5b9-676c-41f3-be37-44e7043cb336"
      },
      "outputs": [
        {
          "output_type": "stream",
          "name": "stdout",
          "text": [
            "2.8.0\n",
            "[PhysicalDevice(name='/physical_device:GPU:0', device_type='GPU')]\n",
            "/device:GPU:0\n"
          ]
        }
      ],
      "source": [
        "from __future__ import absolute_import, division, print_function, unicode_literals\n",
        "\n",
        "import tensorflow as tf\n",
        "import tensorflow.keras.backend as K\n",
        "\n",
        "import os\n",
        "import re\n",
        "import math\n",
        "import numpy as np\n",
        "import pandas as pd\n",
        "import random\n",
        "import collections\n",
        "import json\n",
        "import shutil\n",
        "import zipfile\n",
        "import copy\n",
        "from datetime import datetime\n",
        "\n",
        "import matplotlib.pyplot as plt\n",
        "import sentencepiece as spm\n",
        "from tqdm.notebook import tqdm\n",
        "\n",
        "random_seed = 1234\n",
        "random.seed(random_seed)\n",
        "np.random.seed(random_seed)\n",
        "tf.random.set_seed(random_seed)\n",
        "\n",
        "# tf version 및 gpu 확인\n",
        "print(tf.__version__)\n",
        "print(tf.config.list_physical_devices('GPU'))\n",
        "print(tf.test.gpu_device_name())"
      ]
    },
    {
      "cell_type": "code",
      "execution_count": 6,
      "metadata": {
        "colab": {
          "base_uri": "https://localhost:8080/"
        },
        "id": "51oY5ohL9uqI",
        "outputId": "1cad6dc1-f51e-4169-8bc7-39d8f64e30d9"
      },
      "outputs": [
        {
          "output_type": "stream",
          "name": "stdout",
          "text": [
            "declare -x CLICOLOR=\"1\"\n",
            "declare -x CLOUDSDK_CONFIG=\"/content/.config\"\n",
            "declare -x CLOUDSDK_PYTHON=\"python3\"\n",
            "declare -x COLAB_GPU=\"1\"\n",
            "declare -x CUDA_VERSION=\"11.1.1\"\n",
            "declare -x CUDNN_VERSION=\"8.0.5.39\"\n",
            "declare -x DATALAB_SETTINGS_OVERRIDES=\"{\\\"kernelManagerProxyPort\\\":6000,\\\"kernelManagerProxyHost\\\":\\\"172.28.0.3\\\",\\\"jupyterArgs\\\":[\\\"--ip=\\\\\\\"172.28.0.2\\\\\\\"\\\"],\\\"debugAdapterMultiplexerPath\\\":\\\"/usr/local/bin/dap_multiplexer\\\",\\\"enableLsp\\\":true}\"\n",
            "declare -x DEBIAN_FRONTEND=\"noninteractive\"\n",
            "declare -x ENABLE_DIRECTORYPREFETCHER=\"1\"\n",
            "declare -x ENV=\"/root/.bashrc\"\n",
            "declare -x GCE_METADATA_TIMEOUT=\"3\"\n",
            "declare -x GCS_READ_CACHE_BLOCK_SIZE_MB=\"16\"\n",
            "declare -x GIT_PAGER=\"cat\"\n",
            "declare -x GLIBCPP_FORCE_NEW=\"1\"\n",
            "declare -x GLIBCXX_FORCE_NEW=\"1\"\n",
            "declare -x HOME=\"/root\"\n",
            "declare -x HOSTNAME=\"e15d5efb526a\"\n",
            "declare -x JAVA_HOME=\"\\\"/usr/lib/jvm/java-8-openjdk-amd64\\\"\"\n",
            "declare -x JPY_PARENT_PID=\"55\"\n",
            "declare -x LANG=\"en_US.UTF-8\"\n",
            "declare -x LAST_FORCED_REBUILD=\"20220407\"\n",
            "declare -x LD_LIBRARY_PATH=\"/usr/lib64-nvidia\"\n",
            "declare -x LD_PRELOAD=\"/usr/lib/x86_64-linux-gnu/libtcmalloc.so.4\"\n",
            "declare -x LIBRARY_PATH=\"/usr/local/cuda/lib64/stubs\"\n",
            "declare -x MPLBACKEND=\"module://ipykernel.pylab.backend_inline\"\n",
            "declare -x NCCL_VERSION=\"2.7.8\"\n",
            "declare -x NO_GCE_CHECK=\"False\"\n",
            "declare -x NVIDIA_DRIVER_CAPABILITIES=\"compute,utility\"\n",
            "declare -x NVIDIA_REQUIRE_CUDA=\"cuda>=11.1 brand=tesla,driver>=418,driver<419 brand=tesla,driver>=440,driver<441 brand=tesla,driver>=450,driver<451\"\n",
            "declare -x NVIDIA_VISIBLE_DEVICES=\"all\"\n",
            "declare -x OLDPWD=\"/\"\n",
            "declare -x PAGER=\"cat\"\n",
            "declare -x PATH=\"/opt/bin:/usr/local/nvidia/bin:/usr/local/cuda/bin:/usr/local/sbin:/usr/local/bin:/usr/sbin:/usr/bin:/sbin:/bin:/tools/node/bin:/tools/google-cloud-sdk/bin\"\n",
            "declare -x PWD=\"/content\"\n",
            "declare -x PYDEVD_USE_FRAME_EVAL=\"NO\"\n",
            "declare -x PYTHONPATH=\"/env/python\"\n",
            "declare -x PYTHONWARNINGS=\"ignore:::pip._internal.cli.base_command\"\n",
            "declare -x SHELL=\"/bin/bash\"\n",
            "declare -x SHLVL=\"1\"\n",
            "declare -x TBE_CREDS_ADDR=\"172.28.0.1:8008\"\n",
            "declare -x TBE_EPHEM_CREDS_ADDR=\"172.28.0.1:8009\"\n",
            "declare -x TERM=\"xterm-color\"\n",
            "declare -x TF2_BEHAVIOR=\"1\"\n",
            "declare -x TF_CPP_MIN_LOG_LEVEL=\"1\"\n",
            "declare -x TF_FORCE_GPU_ALLOW_GROWTH=\"true\"\n",
            "declare -x USE_AUTH_EPHEM=\"1\"\n",
            "declare -x __EGL_VENDOR_LIBRARY_DIRS=\"/usr/lib64-nvidia:/usr/share/glvnd/egl_vendor.d/\"\n"
          ]
        }
      ],
      "source": [
        "!export"
      ]
    },
    {
      "cell_type": "code",
      "execution_count": 7,
      "metadata": {
        "colab": {
          "base_uri": "https://localhost:8080/",
          "height": 35
        },
        "id": "F66cN3Xj-HS5",
        "outputId": "029dd143-876e-4757-d952-512c31a43b08"
      },
      "outputs": [
        {
          "output_type": "execute_result",
          "data": {
            "text/plain": [
              "'/'"
            ],
            "application/vnd.google.colaboratory.intrinsic+json": {
              "type": "string"
            }
          },
          "metadata": {},
          "execution_count": 7
        }
      ],
      "source": [
        "os.getenv(\"OLDPWD\")"
      ]
    },
    {
      "cell_type": "code",
      "execution_count": 8,
      "metadata": {
        "colab": {
          "base_uri": "https://localhost:8080/"
        },
        "id": "T6gegHFoo3h9",
        "outputId": "cb6828d7-1716-4450-caf7-72f588abe5ad"
      },
      "outputs": [
        {
          "output_type": "stream",
          "name": "stdout",
          "text": [
            "완료=3\n"
          ]
        }
      ],
      "source": [
        "import sentencepiece as spm\n",
        "import os\n",
        "corpus_file = os.getenv('OLDPWD')+'content/drive/MyDrive/bert/data/kowiki.txt'\n",
        "prefix = 'ko_8000'\n",
        "vocab_size = 8000\n",
        "\n",
        "spm.SentencePieceTrainer.train(\n",
        "    f\"--input={corpus_file} --model_prefix={prefix} --vocab_size={vocab_size + 7}\" + \n",
        "    \" --model_type=bpe\" +\n",
        "    \" --max_sentence_length=999999\" + # 문장 최대 길이\n",
        "    \" --pad_id=0 --pad_piece=[PAD]\" + # pad (0)\n",
        "    \" --unk_id=1 --unk_piece=[UNK]\" + # unknown (1)\n",
        "    \" --bos_id=2 --bos_piece=[BOS]\" + # begin of sequence (2)\n",
        "    \" --eos_id=3 --eos_piece=[EOS]\" + # end of sequence (3)\n",
        "    \" --user_defined_symbols=[SEP],[CLS],[MASK]\") # 사용자 정의 토큰\n",
        "\n",
        "print(\"완료=3\")"
      ]
    },
    {
      "cell_type": "code",
      "source": [
        "!cp ko_8000.model ./drive/MyDrive/bert/models | cp ko_8000.vocab ./drive/MyDrive/bert/data"
      ],
      "metadata": {
        "id": "om_qDp_yLFbu"
      },
      "execution_count": 9,
      "outputs": []
    },
    {
      "cell_type": "code",
      "source": [
        "ls drive/MyDrive/bert/models"
      ],
      "metadata": {
        "colab": {
          "base_uri": "https://localhost:8080/"
        },
        "id": "Jyrami7wLUtd",
        "outputId": "aeb9e385-d553-4578-df0b-4754a6158762"
      },
      "execution_count": 10,
      "outputs": [
        {
          "output_type": "stream",
          "name": "stdout",
          "text": [
            "bert_pre_train.hdf5  ko_32000.model  ko_8000.model\n"
          ]
        }
      ]
    },
    {
      "cell_type": "code",
      "source": [
        "ls drive/MyDrive/bert/data"
      ],
      "metadata": {
        "colab": {
          "base_uri": "https://localhost:8080/"
        },
        "id": "RpYbBcn2LZ7Y",
        "outputId": "6e39b0fb-1ede-49eb-c904-2b535670912b"
      },
      "execution_count": 11,
      "outputs": [
        {
          "output_type": "stream",
          "name": "stdout",
          "text": [
            "bert_pre_train.json  ko_32000.vocab  ko_8000.vocab  kowiki.txt\n"
          ]
        }
      ]
    },
    {
      "cell_type": "code",
      "execution_count": 12,
      "metadata": {
        "colab": {
          "base_uri": "https://localhost:8080/"
        },
        "id": "2DufQesoo3kD",
        "outputId": "40b53ab2-8b38-4cd3-d2b7-5b113be18f15"
      },
      "outputs": [
        {
          "output_type": "execute_result",
          "data": {
            "text/plain": [
              "True"
            ]
          },
          "metadata": {},
          "execution_count": 12
        }
      ],
      "source": [
        "data_dir = os.getenv('OLDPWD')+'content/drive/MyDrive/bert/data'\n",
        "model_dir = os.getenv('OLDPWD')+'content/drive/MyDrive/bert/models'\n",
        "\n",
        "# vocab loading\n",
        "vocab = spm.SentencePieceProcessor()\n",
        "vocab.load(f\"{model_dir}/ko_8000.model\")"
      ]
    },
    {
      "cell_type": "code",
      "execution_count": 13,
      "metadata": {
        "id": "fV1vpd6xo3mP",
        "colab": {
          "base_uri": "https://localhost:8080/"
        },
        "outputId": "d999bd50-91bb-4f28-b2df-e9bd7bb58349"
      },
      "outputs": [
        {
          "output_type": "stream",
          "name": "stdout",
          "text": [
            "['▁1', '▁이', '으로', '에서', '▁있', '▁2', '▁그', '▁대', '▁사', '이다', '었다', '▁지', '▁수', '▁19', '▁가', '▁시', '▁20', '▁기', '▁전', '▁아', '▁하', '▁있다', '▁다', '▁제', '했다', '하였', '▁일', '▁한', '▁중', '▁정', '▁주', '하는', '▁것', '▁자', '▁공', '▁인', '되었다', '▁경', '▁위', '▁유', '▁보', '하고', '▁3', '▁등', '▁부', '하였다', '▁조', '하여', '▁미', '▁동', '▁선', '▁나', '으며', '▁모', '▁연', '▁영', '▁의', '▁오', '▁마', '에는', '▁발', '▁소', '한다', '▁고', '▁개', '▁201', '▁구', '▁세', '▁도', '▁상', '▁비', '▁스', '▁국', '▁서', '▁후', '▁여', '▁200', '▁때', '▁4', '▁성', '▁해', '▁관', '▁있는', '▁신', '▁프', '▁대한', '부터', '▁5', '▁방', '▁또', '지만', '▁(', '▁역', '되어', '▁않', '▁만', '▁\"', '▁장', '▁바', '까지', '▁무', '▁남', '▁통', '▁현', '▁교', '▁같', '에게', '▁내', '학교', '▁문', '▁출', '▁거', '▁포', '▁결', '된다', '▁《', '적인', '이라', '▁6', '▁우', '적으로', '▁불', '▁원', '▁최', '▁10', '▁진', '▁생', '▁작', '▁어', '▁당', '국의', '▁노', '▁강', '▁알', '▁반', '▁7', '▁8', '▁계', '▁따', '▁파', '▁분', '▁없', '▁받', '▁말', '면서', '들이', 'or', '되었', '▁사용', \"▁'\", '▁두', '▁실', '에서는', '▁리', '들은', '▁명', '▁함', '▁단', '▁이후', '00', '하기', '▁예', '년에', '),', '▁한다', '▁안', '하게', '▁재', '▁9', '▁일본', '▁차', '▁설', '▁배', '▁에', 'er', '▁199', '▁다음', '았다', '▁특', '▁요', '였다', '▁18', '▁데', '▁종', '으나', '▁초', '▁군', '▁로', '▁독', '▁12', '()', 'la', '▁추', '▁김', '▁많', '▁그는', '▁~', '▁대한민', '▁되었다', '리아', '▁카', '▁활', '▁감', '▁라', '이며', '는데', '▁입', 'on', '▁건', '스트', '▁타', '▁다른', '▁형', '▁더', '▁지역', '▁S', '▁참', '▁운', '▁매', '▁같은', '▁태', '▁및', '▁그리', '▁양', '▁위해', '▁평', '▁음', '▁11', 'in', '▁행', '▁산', '주의', '▁적', '▁본', '▁)', '들어', '▁미국', '▁열', '▁과', '▁왕', '들의', '▁올', '▁승', '▁때문', '▁북', '▁크', '▁시작', '▁번', '기도', 'an', '▁프로', '▁코', '들을', '▁피', '▁호', '▁총', '레이', '▁C', '라는', '▁목', '되는', '▁화', '▁그러', '▁회', '▁베', '▁따라', '▁임', '▁각', '▁198', '▁또한', '하며', '▁변', '▁사람', '▁함께', '▁A', '▁표', '▁외', '▁속', '▁처', '▁f', '라고', '▁경우', '▁물', '▁달', '▁M', '이나', '▁위치', '▁현재', '▁약', '시아', '▁자신', '▁민', '▁직', '▁이름', 'mu', '하지', '▁새', '▁간', '▁학', '▁선수', '▁그의', '▁게', '▁F', '19', '▁드', '하다', '▁집', '▁기록', '▁영화', '▁당시', '되고', '▁한국', '▁for', '에도', '▁저', '▁항', '▁가장', '▁하나', '▁세계', '▁때문에', 'en', '▁사이', '기에', '▁그러나', 'mula', '▁존', '기를', '▁메', '▁점', '▁체', 'ar', '▁박', '▁뒤', '▁것을', '▁확', '▁15', '▁또는', '▁formula', '▁했다', '▁조선', '▁있으며', '스의', '▁것으로', '▁197', '▁된다', '▁국가', '▁있었다', '이라고', '▁의해', '▁T', '▁것이', '▁레', '▁16', '▁복', '▁청', '▁축', '▁토', '▁못', '▁투', '▁천', '▁광', '리는', '▁필', '지는', '▁그리고', '▁브', '일에', '▁통해', '▁활동', '졌다', '▁법', '▁합', '▁프랑', '▁철', '▁17', '▁야', 'al', '▁판', '등학교', '▁196', '▁근', '▁창', '▁증', '▁편', '▁삼', '했고', '▁디', '▁금', '▁B', '▁치', '▁살', 'ti', '▁많은', '▁것이다', '▁언', '리를', '▁들어', '▁첫', '이라는', '▁돌', '▁버', '▁심', '▁높', '▁대한민국', '▁아니', '▁다음과', '▁‘', '하였고', '▁쓰', '(,', '▁D', '랜드', '▁하는', '▁뜻', '하면서', '▁경기', '스는', '20', '▁충', '▁다시', '▁황', 'es', '▁플', '는다', '▁서울', '▁포함', '▁대해', '▁있었', '▁가지', '▁할', '이었다', '▁194', '▁I', '▁P', '▁여러', '▁애', '▁완', '▁네', '▁트', '▁K', '▁대한민국의', '대로', '▁14', '▁되', '사를', '▁병', '▁페', '로서', 'km', '▁백', '▁독일', '이고', '▁큰', '상을', '▁죽', '개의', '이는', '▁하였다', '되었고', '▁모두', '▁루', '▁패', '▁용', '▁연구', '보다', '▁순', '▁팀', '▁도시', '▁클', '▁권', '▁13', '▁사회', '▁195', '장을', '▁채', '위를', '▁은', '▁모든', '▁L', '▁히', '▁취', '▁처음', '▁알려', '성을', '니아', 'he', '지를', '▁규', '▁이루', '▁친', '▁시즌', '▁일부', '▁중국', '이었', '▁인구', '▁등이', '▁제작', '라이', '▁대표', '▁전쟁', '▁등의', '대의', '▁이용', 'ic', '회의', '▁감독', '▁정부', '▁식', '▁축구', '▁손', '리에', '자가', 'is', '▁아이', '▁위한', '▁존재', '년부터', '▁끝', '▁구성', '▁있어', '도의', '▁R', '부분', '했으며', '▁허', '▁정치', '▁즉', '▁이상', '도로', '▁영국', '▁G', '▁프랑스', '나라', '▁-', '력을', '▁이어', '▁테', '거나', '▁것은', '▁중심', '이자', '년에는', '▁일반', '▁문제', '▁자신의', '▁길', '▁같다', '▁맡', '▁나타', '시에', '▁월', '▁러', '▁가능', '▁온', '▁작품', '▁앞', '▁논', '▁뉴', '▁환', '▁N', '000', '▁게임', '기의', '▁개발', '▁걸', '▁맞', '▁리그', '▁곳', '▁이러', '▁동안', '▁갖', '▁193', '▁발견', '▁이러한', '▁기준', '▁캐', '▁접', '▁준', '리스', '▁H', '▁별', '▁새로', '▁하지만', '▁U', '▁주장', '▁30', '▁등을', '▁이는', 'at', '년대', '▁면', '▁위치한', '▁발표', '▁향', '▁E', '▁밀', '통령', '하면', '▁국제', 'le', '▁되어', '되었으며', '▁〈', '▁방송', '도록', '로부터', '▁농', '들과', '위원', '났다', '▁협', '(1', '▁지방', '시키', '▁볼', '로는', '▁잘', 're', '자의', '▁검', '▁의미', '기는', '▁2010', '▁섬', '▁이를', '▁대부분', '서는', '군의', 'it', '▁사건', '▁전투', 'ou', '리가', '기가', '다는', '▁공격', '에서도', '▁하고', '▁번째', '란드', '▁밝', '▁담', '월에', '▁폭', '사가', '▁육', '▁귀', '▁대회', '리카', '하였으며', '▁문화', '다고', '▁홍', '▁음악', '▁영향', '▁대학', '▁대통령', '▁막', '어진', '정을', '▁얻', '이트', '리그', '세기', '했던', '▁W', '년까지', '스를', '▁최초', '명의', '쪽으로', '▁참여', '▁미국의', '▁프로그', '▁석', '▁키', '▁극', '성이', '들에게', '▁설립', '▁날', '▁우승', '▁진행', '자를', '▁설치', '인의', '▁줄', '▁결과', '▁이에', '자는', '▁효', '▁특히', '▁앨', '와의', '도를', '▁발생', '10', '▁관계', '▁관련', '▁역사', '▁<', '▁일어', 'el', '▁곡', '▁배우', '▁된', '림픽', '▁2008', '▁책', '▁그녀', '디오', '▁절', '▁“', '▁봉', '▁25', '▁유럽', '▁사망', '▁발매', '리의', '▁만들어', '▁다양', '자로', '대를', '렸다', '가지', '▁암', '▁같이', '▁러시아', '▁이전', '▁생각', '이스', '▁독립', '▁형태', '▁부분', '(19', '▁갈', '므로', '요한', '▁태어', '▁시간', 'om', '▁사실', '▁폐', '▁글', '▁인해', '▁교육', '스터', '▁블', '▁헤', 'st', '▁주로', 'ol', '▁새로운', '▁소속', '▁질', '▁자유', '▁이것', '▁받아', '▁경제', '▁측', '▁2007', '▁좋', '▁수도', '▁지원', '▁2011', '▁받았다', '▁이탈', '▁있고', '스가', '▁2009', '르는', '▁기술', '▁올림픽', '라마', '▁2012', '▁중앙', '식을', '▁와', '▁계속', '과의', '▁침', '▁출신', '화국', '▁프로그램', '▁엔', '▁머', '▁t', '▁등장', '▁송', '번째', '▁지정', '▁잡', '▁로마', '▁커', '▁상태', '▁참가', '▁범', '▁구조', '▁있던', '도는', '▁누', '-1', 'ch', '▁192', '▁데뷔', '▁탄', '▁벌', '▁골', '학자', '▁2014', '▁결정', '▁매우', '▁성공', '다가', '사의', '▁선거', '▁탈', '부의', '▁운영', '▁난', '리즈', '인이', '이지', '대학교', 'am', '▁않았다', '프트', '▁아버', '▁혼', '으로서', '▁넘', '▁아들', '이션', '▁가지고', '르크', '▁J', '▁이탈리아', '▁2013', '전을', '▁21', ',000', '▁니', '▁타이', '드는', '▁몇', '비아', '▁일본의', '▁고려', '▁윤', '기로', '▁돌아', '▁없다', '명을', '▁급', '▁아니라', '▁슈', '하기도', '▁O', '▁들', '▁찾', '대에', '처럼', 'tion', '▁터', '에서의', 'ing', '▁차지', '해서', '▁결국', '▁만들', '장이', '▁100', '도가', '했지만', '▁24', '▁생산', '▁없는', '왔다', '▁한편', '되지', '▁운동', '▁악', '▁싱', '▁2015', 'us', 'et', '▁해당', '▁최고', '▁행정', '▁떨', '▁0', '▁조직', 'il', '▁2006', '▁출연', '남도', 'ro', '▁않고', '우스', '하자', '운데', '▁아래', '▁22', '▁23', 'FA', '▁케', '사는', '▁앨범', '▁전체', '▁계획', '권을', '▁업', '▁좌', '▁많이', '간의', '▁이유', '▁내용', '▁2016', '▁2018', '부에', '▁쿠', '원을', '냈다', '▁가리', '명이', '▁라이', '▁폴', '화를', '▁음반', '스타', '▁여성', '▁둘', '▁유명', '▁따르', '군은', '수를', '▁방법', '선의', '일부터', '수의', '▁힘', '\")', '▁가운데', '▁주요', '스크', '스템', '초등학교', '으로써', '원의', '▁떠', '▁하여', '▁후보', '▁빠', 'of', '▁팔', '▁대학교', '▁역할', '▁제공', '▁데이', '▁남아', 'as', '▁국민', '음을', '▁스타', '장으로', '어로', '장은', '▁2017', '▁다양한', '▁묘', '▁월드', '▁28', '진다', '▁몸', '▁26', '사로', '지의', '나는', '▁이루어', '▁않는다', '▁거의', '▁콘', '였던', '▁표현', '대학', '▁각각', '▁컴', '자인', '▁드라마', '하던', '▁인터', '▁잠', '리고', '민주', '▁27', '▁모습', '했으나', '▁헌', '이의', '인민', '인다', '지가', '▁스페', '운동', '▁수상', '(\"', '전에', '스와', '수가', '▁연결', '▁칼', '머니', 'ra', 'BS', '▁졸', '하려', '▁붙', 'de', '▁191', '▁마지', '됐다', '▁이름을', '▁이미', '으로는', '▁V', '▁격', '▁공식', '▁190', '_1', '▁경상', '▁,', '문화', '▁출전', '원이', '▁알려져', '▁얼', '▁임명', '▁필요', '▁2005', '▁시리즈', '스로', '성의', '▁따라서', '▁열린', '가는', '▁높은', '으로부터', '대표', '위원회', '점을', '▁작은', '▁마이', '▁몰', '력이', '▁마지막', '▁지구', '▁영향을', '▁시스템', '▁뛰', '제로', '▁인정', '▁공개', '▁직접', '▁과정', '▁정보', '▁능', '시켰', '지에', '▁2000', '대한', '▁빌', '▁따르면', '▁of', '었고', ').', '어를', '▁대신', '▁기원', '▁이야', '시의', '상의', '200', '▁보고', '이가', '▁2004', '▁개최', '지고', '▁진출', '▁추가', '▁대전', '▁기능', '북도', '▁항공', '▁센', '▁자연', '▁활약', '있다', '제를', '▁않은', '해야', '▁엘', '▁풍', '▁그리스', '▁평가', '》(', '군이', '▁c', '▁민주', '▁시대', '▁되는', '▁쇼', '▁29', '▁그룹', '▁정도', '▁있는데', '▁상황', '▁홈', '▁정의', '▁오스트', '▁녹', '▁생활', '▁유지', '▁브라', '▁눈', '▁바이', '▁그가', '갔다', '▁건물', '▁졸업', '▁말한다', '이드', '선을', '사에', '▁후에', 'ed', '▁변경', '▁비롯', '▁먹', '▁인도', '▁인구는', '▁철도', '▁서로', '▁노래', '▁역시', '수로', '▁발전', '▁크게', '▁퍼', '▁보여', '▁핵', '위에', '▁아르', '▁관한', '▁제국', '▁지금', '▁않았', '▁프리', '▁압', '▁중요한', 'ac', '르트', '▁여자', '▁레이', '▁응', '인을', '▁결혼', '전에서', '들에', '▁건설', '적은', '▁뿐', '▁인물', '▁거쳐', '▁울', '▁그것', '세의', '지로', '▁학교', '▁뜻은', '인은', '▁사업', '▁하였', 'ri', '▁부산', '부를', '일까지', '▁분류', '▁m', '원은', '▁낮', '계를', '▁[', '▁FC', '▁관리', '니다', '치는', '▁나라', '▁2019', '어는', '50', '식으로', '▁경기도', '▁상대', '▁혹', '▁이론', '특별', '▁일으', '▁공동', '킨다', '▁반대', '▁플레이', '▁요구', '▁가진', '▁형성', '▁희', '▁딸', '문을', '전히', '▁티', '광역', '임을', '▁밴', '▁만든', '▁원래', '▁연합', '원으로', '치를', '▁놓', '트로', '부는', '▁모델', '▁기업', '되면서', '▁31', '▁중화', '▁시절', '▁2002', '▁않는', '레스', '수는', '른다', '▁동시에', '▁색', '▁군사', '제가', '▁이르', '▁사이에', '▁느', '리오', '▁실시', '▁시작했다', '▁지하', '▁기본', '▁워', '운드', '군을', '하였으나', '▁겸', '장의', '인민공', 'ent', '▁싱글', '▁2003', '대는', '▁어떤', '상이', '▁지역의', '▁비판', '▁승강', '▁아닌', '이었던', '▁제외', '▁노동', '▁:', '역이다', '대가', '프리카', '회를', '▁계약', '▁긴', '▁잉', '제의', '▁역할을', '▁운행', '정한', '▁현대', '▁학생', '하는데', '상으로', '▁자동', '▁50', '▁싸', '▁민족', '▁명칭', '▁지도', '▁소련', '▁야구', '이기도', '▁189', '▁전통', '▁처음으로', '▁여기', '주는', '▁최초의', 'and', '장에', '▁전라', '체의', '명은', '▁콜', '▁판매', '나다', '▁보통', '▁공간', '▁휴', '▁영화이다', '스탄', '▁이동', '▁이때', '▁망', '되며', '린다', '있는', '▁특징', '▁수행', '▁의한', '▁있을', '▁나오', '12', '▁「', '▁기준으로', '이를', '18', '▁기반', '▁기간', '▁넓', '▁도입', '▁달리', '▁되고', '단의', '▁그래', '▁초기', '▁특별', '자와', '▁견', '▁교황', '호로', '▁비슷', '▁전문', '▁옮', '▁도쿄', '소를', 'un', '키는', '▁서비', '▁푸', '▁개인', '카이', '▁있다고', '▁인간', '과는', '▁하며', '▁마을', '▁위하여', '적을', '▁기존', '▁종교', 'ig', '연구', 'BC', '.5', '격을', '서를', '성은', '▁다이', '▁퇴', '관은', '▁웨', '시마', '▁바로', '장에서', '▁개의', '▁혹은', ')·', '▁엄', 'ur', '▁지나', '▁혁', '호를', '체를', '15', '▁역임', '독교', '▁궁', '▁월드컵', '중에', '▁애니', '▁슬', '▁벨', '▁탑', '가와', '물을', '▁과학', '▁모양', '▁훈', '▁빈', '시간', '▁s', '▁출시', 'os', '▁1990', '▁목록', '▁기타', 'um', '▁정책', '▁어머니', '.\"', '▁사랑', '▁유일', '▁태양', '고등학교', '혔다', '동안', '▁지배', '무를', '트를', '명이다', '퓨터', '▁이끌', '▁아버지', '▁국내', '30', '▁일반적으로', '드로', '했는데', '드의', '▁전국', '▁될', '텔레', '▁경기에서', '하지만', '▁연방', '▁경찰', '▁기관', '광역시', '▁과거', 'od', '리로', '▁언어', '▁소설', '▁지휘', '▁주변', '16', '▁공연', '▁맥', '리와', 'ation', '도에', '화가', '▁동일', '▁기원전', '기관', 'ot', '▁샤', '▁p', '▁중심으로', '트의', '▁부르', '마다', '피언', '학과', '방송', '▁이적', '쪽에', '시켰다', '▁40', '▁산업', 'ad', '▁2001', '드를', '▁이것은', '▁보내', '▁그를', '▁받은', '스코', '▁적용', '▁탐', '▁가수', '▁비교', '▁FI', '의를', '▁흔', '구의', '▁먼', '군에', '▁1,', '▁곧', '호는', '▁획', '▁뮤', '메이션', '▁풀', '위로', '▁속하는', '경기', '▁받았', '▁추정', '▁밖', '▁작업', '▁지정되었다', '▁있다는', '▁확인', '▁분야', '▁클럽', '▁충청', '▁가까', '쳤다', '▁담당', '▁떨어', 'id', 'ter', '▁선정', '▁받고', '▁방영', '▁the', '▁찾아', '▁건축', '류의', '▁컴퓨터', '▁없이', '동에', '▁되었고', '체가', '리지', 've', '▁노선', '▁숙', '▁착', '▁국가대표', '▁옥', '당의', '▁방향', '▁챔', '▁때문이다', '▁기독교', '년의', '▁규모', '▁열차', '▁작곡', '▁피해', '어가', '▁자기', '트는', '▁통합', '▁득', '사와', '▁환경', '-2', '▁지지', '비전', '▁낙', '▁염', '▁차량', '▁증가', '▁배우이다', '14', '정에', '단을', '세는', '야마', '▁어느', '▁두고', '▁실패', '스에', 'ow', '▁설명', '하거나', 'op', '▁가족', '▁대부분의', '▁그녀는', '글랜드', '어의', '60', '조의', '크로', '▁우주', '▁멤', '인으로', '▁개념', '▁넣', '르게', '▁너', '▁기념', '▁늘', '▁올라', '▁활동을', '종의', '▁태어났다', '▁갑', '▁뉴욕', '▁이런', '11', '▁윌', '▁상당', '▁챔피언', '▁오늘', '부가', '▁최대', '▁자신이', '▁이와', '중학교', '나무', '▁수록', '▁이상의', '▁보호', '제는', 'ec', '.2', '회는', '▁캐나다', '인이다', '동을', '▁있지만', '시켜', '▁애니메이션', '▁걸쳐', '학적', '이로', '▁이름은', '▁서울특별', '▁TV', '트남', '▁1980', '▁FIFA', '일에는', '▁데이터', '▁사상', '면에', '▁사고', '▁(19', '▁하나이다', '▁어린', '원에', '▁대체', '교육', '▁다음을', '계의', '▁없었다', '▁1999', '관을', '▁있어서', '렇게', '움을', '▁수는', '▁등에', '으면', '▁대하여', '적이', 'cm', '▁멤버', '▁·', 'em', '세가', '▁스페인', '겼다', '▁1998', '식의', '▁최초로', '▁예정', '▁최근', '스카', '이란', '▁등으로', '구에', '▁있었던', '치가', '▁하다', '13', '▁뛰어', '메리카', '▁흐', '▁나가', '▁획득', '▁위원', '했다고', '성과', '일을', '17', '기와', '▁땅', 'ag', '▁선출', '▁자료', '80', '심을', '자들은', '.)', 'ir', '▁더욱', '▁불가', '▁공화국', '드리', '▁잉글랜드', '식은', '▁윈', '▁텔레', '▁개봉', '▁선택', '▁최종', '▁내려', '단은', '▁구간', '_2', '식이', '성에', '했을', '▁지역에', '세를', '지역', '▁베이', '▁인천', 'oc', '▁맺', '어서', '▁부족', '▁흑', '▁솔', '▁잔', 'ia', '▁조사', '▁조건', '인민공화국', '▁보인다', '▁시민', '널리', '▁평균', '▁d', '▁정당', '▁선언', '학을', '트리', '40', '▁물리', '▁변화', '▁앤', '▁b', '▁런', '▁조지', '시키는', '되었으나', '.0', '▁연주', '▁자리', '▁명령', 'th', '▁대구', '▁선발', '프로', '▁어려', '▁흥', '▁1997', '한다는', '▁공산', '덜란드', 'ver', '개월', '》,', '시대', '▁동물', '▁연속', '▁에너', '▁도로', '▁서울특별시', '난다', '렀다', '▁결승', '▁가리킨다', '▁점령', '▁칭', '정부', '▁있게', '함으로써', '▁이름으로', '소가', '▁불구', '▁효과', '라도', '만을', '▁작가', '▁1995', '▁반응', '▁전기', '호선', '▁표준', '명으로', '▁Y', '▁움', '▁이들은', '▁옛', '▁관할', '포츠', '▁잃', '년간', '▁거주', '▁좋은', '▁국립', '▁X', '자들이', '하도록', '▁예를', '▁헌법', '내는', '만이', '▁언급', '▁몽', '▁교통', '상에', '이지만', 'ce', '▁이유로', '▁1996', '회에서', '▁팬', '▁이해', '▁아시아', '▁선수이다', '▁컨', '구를', '▁현재는', '이에', '▁고대', '▁유사', '▁후반', '▁덕', '▁마르', '▁덴', '쪽으로는', '▁국가대표팀', '▁그들의', '▁승리', '상은', '▁전에', ']]', '▁징', '▁네덜란드', '웠다', '▁익', '비를', '▁액', '▁소유', '▁주의', '역을', '▁출판', '▁베트남', '▁왜', '인데', '▁전자', '▁조약', '▁단체', '▁목표', '▁메이', '▁정규', '▁폴란드', '스턴', '▁사무', '레일', '▁겨', '▁km', '▁북한', '었으며', '진을', '▁것이라고', 'nd', 'mm', '▁휘', '학의', '모토', '▁면적은', '▁예술', '으므로', '▁공립', '일랜드', '▁명의', '▁세포', '▁지속', '▁이곳', '▁입단', '▁하나의', '▁맡았다', '▁주민', '주에', '▁188', '과에', '▁현재의', '▁1994', '랐다', '▁시설', '▁구분', '라의', '▁모습을', '월에는', '▁쌍', '▁깊', '▁밤', '▁이듬', '▁밝혔다', '▁국회의', '▁하지', '▁버전', '▁정신', '▁영국의', '정이', '▁하나로', '▁1970', '민주주의', '▁정확', '▁드러', '▁우리', '▁불구하고', '▁돈', '▁사용하는', '▁대중', '▁아직', '베이', '되기', '▁지상', '▁말했다', '▁끌', '▁실험', '▁소프트', '▁실제', '▁오늘날', '▁소비', 'ay', '▁강화', '지지', '▁그런', '▁1992', '▁분리', '▁쓴', '70', '계에', '▁씨', '라스', '지방', '자리', '..', '▁포르', '▁제한', '▁유래', '사카', '▁[[', '▁그림', '원에서', '▁세워', '▁거두', '▁이듬해', '▁육군', '▁사이의', '나이', '▁믿', '단에', '▁크리스', '스키', '관이', '치고', '주시', '▁핀', '직을', '지와', '▁페르', '금을', '▁가문', '▁웹', '메달', '소의', '버스', '▁알려진', '단이', '▁은퇴', '▁불리', '▁언론', '시코', '▁고등학교', '회에', '▁통과', '부르크', '거리', '월부터', '스테', '▁비해', '▁찬', 'The', '▁분석', '가의', '골을', '▁위에', '▁널리', 'im', '▁남자', '▁포함한', '회가', '형을', '▁그들은', '▁의미한다', '들로', '▁제품', '▁물질', '톨릭', '▁방문', '베르', '▁나온', '▁발달', '▁헬', '▁칸', '▁펼', '▁움직', '▁회사', '▁등과', '장과', '정의', '▁중에', 'ul', '바이', \")'\", '▁경험', '로의', '▁1991', '철도', '▁차례', '▁이사', '▁결합', '스티', '▁못했다', '▁완전히', '▁제조', '체는', '▁홀', '법을', '▁비행', '▁설계', '▁크로', '▁바탕', '불어', '하의', '▁자치', '▁친구', '▁프로젝', '르고', '▁것에', '드가', '루스', '이어', '▁여겨', '▁1993', '-0', '▁전해', '▁꽃', '▁괴', '▁사람이', '▁연기', '▁요청', '▁갖고', '▁부여', 'te', '▁배치', '▁더불어', '들도', '아의', '▁통일', '▁멸', '▁자주', '▁때까지', '▁소재', '당은', '▁1960', '▁마음', '▁스웨', '러스', '선에', '▁정도로', '점이', '▁알렉', '▁독일의', '사업', '▁수준', '▁프랑스의', '▁비롯한', '▁주연', '일본', '▁빛', '시는', '▁런던', 'EFA', '▁브라질', '산을', '▁맨', '▁멀', '▁깨', '소는', '▁제안', '▁나머', '▁오른', '▁중요', '▁그대로', '찬가지', 'TV', '▁영토', '▁목적으로', '▁마찬가지', '▁1988', '▁초등학교', '▁오래', '▁파괴', '▁요시', '로를', '▁쉽', '▁바뀌', '릭터', '▁유전', '트가', '▁아프리카', '▁감독의', '▁스스로', '▁이로', '위가', '부로', '▁주인', '경을', '▁텔레비전', '스토', '▁않아', '웨어', '▁인터넷', '▁만나', '▁유명한', '▁60', '위는', '▁확장', '지에서', '기술', '우는', '▁있도록', '▁외국', '▁패배', '관으로', '》()', '▁성장', '.3', '▁이들', '▁식민', '인과', '정은', '▁추진', '▁밝혀', '선거', '가를', '▁오스트리아', '었던', '▁의하여', '▁많다', '▁치료', 'ap', '\",', '▁스웨덴', '문에', '위의', '▁존재한다', '▁사라', '선이', '▁달러', '▁UEFA', '▁하이', '물의', '▁지난', '▁우승을', '▁아마', '주를', '▁남부', '▁기여', '▁사람들이', '▁칠', '▁가르', '받았다', '▁복귀', '되기도', '일의', '지게', '감을', '르의', '▁불교', '아가', '▁경우가', '▁경쟁', '▁1989', '종이다', '▁혈', '없이', '▁스포츠', '영화', '▁과정에서', '신을', '▁강력', '▁근처', '▁법률', '▁습', '▁몬', '▁짧', '▁되었', '▁먼저', '▁일어나', '▁하계', '▁캐릭터', '▁공항', '▁해석', '▁왕국', '회사', '▁있으나', '▁이외', '▁초대', '라인', '멕시코', 'NA', '▁주도', '▁것이었다', '많은', '▁영어', '▁접근', '48', '▁수용', '▁가톨릭', '▁광주', '규모', '▁폐지', '력은', '▁집합', '▁일제', '▁밴드', '▁서식', '▁들어가', '▁관측', '▁불리는', '▁품', '▁선수로', '이기', '카와', '하라', '스에서', '레일리아', '▁KBS', '▁가능하다', '▁단순', '군과', '도와', '▁알고', '조는', '▁그녀의', '▁잇', '▁작용', '▁제작된', '▁개혁', '▁특정', '▁촉', 'li', '구는', '행을', '▁스위', '정보', '▁않다', '25', '오는', '▁가져', '디어', '▁구성되어', '▁기초', '형의', '▁필리', '화국의', '▁이야기', '▁도착', '▁십', '▁인민', '▁노르', '▁때는', '▁결성', '하다가', '▁여기서', '과학', '▁교수', '하이', '▁제국의', '소년', '▁비슷한', '자이다', 'og', '▁70', '주로', '▁여객', '▁성립', '▁술', '▁St', '졌고', '▁/', '▁강원', '▁자동차', '▁조각', '량이', '간다', '▁186', '▁해결', '▁궤', '▁조선민주주의', '▁선수권', '▁수많은', '수한', '전의', '▁거부', '▁록', '▁떨어진', '▁스테', '하였는데', '▁아카', '크의', '▁해안', '▁경영', '_3', '▁앙', '웨이', '▁사용한다', '▁디자인', '▁파견', '▁기록했다', '▁상대로', '▁삼성', '▁반란', '속도로', '고를', '▁아무', '시를', '▁지역에서', '▁라디오', '▁바꾸', '▁지냈다', '했다는', '▁행동', '선은', '▁상호', '▁생성', '▁의하면', '▁보다', 'ab', '▁동맹', '▁『', '▁다르', '▁발행', '▁겪', '▁중간', '▁아시', '▁히로', '▁여름', '▁미국에서', '▁북쪽', '▁그린', '▁이루어진', '▁살아', '▁놀', '전이', '▁외교', '어나', '▁187', '▁의원', '▁대표적인', '▁을', '▁남쪽', '▁황제', '▁프레', '90', '▁제시', '▁부정', '▁당선', '센터', '구가', '하기로', '▁나무', '▁대해서', '▁승강장', '▁훈련', '▁슈퍼', '▁지하철', '함을', '▁공작', '▁임시', '▁분포', '자에', '▁타이틀', '▁다만', '▁시행', '▁만에', '▁2020', '촬영', '▁논란', '량을', '▁것과', '▁마찬가지로', '▁오스트레일리아', '▁1945', '(200', '▁형태로', '▁이렇게', '▁투표', '▁근거', '▁위해서', '▁엔진', '미터', '▁in', '부에서', '▁방어', '▁이주', '▁상징', '▁처리', '트워', '관의', 'ard', '▁흡', '▁캠', '▁중에서', '▁빅', '와는', '인트', '▁번역', '▁위험', '아시아', '▁계열', '▁대응', '▁시작하였다', '낸다', '▁교회', '▁일을', '▁1950', '▁끝에', '(20', '▁윌리', '만의', '▁스트', '전은', '왕의', '▁1986', '나가', '▁출생', '▁등록', '▁유니', '았고', '▁부른다', '▁멕시코', '▁1987', '▁디지', '▁년', '지션', '▁표시', '▁벽', '▁개통', '▁야마', '였고', '한다고', '▁시도', '▁n', '▁재판', '업을', '▁제주', '교회', '면을', '시즌', '으면서', '▁붕', '▁꾸', '▁체포', '성으로', '▁준비', '▁사용된다', '▁값', '평양', '▁곳에', '▁즉위', '▁몇몇', '▁있었고', '▁뇌', '▁통치', '조선', '▁있기', '크라', '▁규정', '▁?', '▁삶', '화된', '.1', '.4', '사에서', '▁한국의', '▁아일랜드', '사회', '▁이름이', '▁숨', '21', '▁적이', '▁사용할', '▁곤', '점으로', '▁좋아', '▁시험', '조를', '년을', '요일', '▁회의', '어졌다', '23', '▁활용', '▁쌓', '▁체결', '▁동생', '▁바다', '▁보유', '리에서', '문화재', '▁중단', '24', '▁따른', '▁캘', '디아', '▁제기', '▁대해서는', '▁벤', '화의', '오카', '.6', '86', 'ut', '▁그렇', '학생', 'ie', '▁있지', '▁낳', '대와', '▁본래', '▁1984', '▁보존', '▁다카', '▁미사', '▁안정', '▁다루', '▁종합', '▁나타나', '인들이', '▁조성', '▁가정', '▁직후', '▁귀족', '▁80', '▁유로', '▁경상북도', '▁윈도', '나의', '연합', '▁카를', '▁관련된', '▁종류', '▁밑', '물이', '▁나머지', '부와', '국이', '당이', '해졌다', '▁얼마', '▁시기', '▁지적', '량은', '▁표기', '▁경상남도', '▁계승', '수이다', 'ine', '가이다', '도시', '▁살해', '▁주인공', '▁촬영', 'ht', '▁것도', '▁오브', '▁못하고', '35', '▁완성', '.7', '▁보수', '▁센터', '가로', '습니다', '▁하루', '▁1985', '▁팀의', '▁문학', '▁엘리', '▁서비스', '▁and', '▁못한', '▁떠나', '▁혁명', '였으며', '▁옮겨', '▁사진', '▁내각', '리포', '로가', '니는', '▁동쪽', '▁오후', 'ion', '▁수비', '력의', '나라의', '트에서', '러운', '▁대사', '▁둔', '▁강한', '되자', 'ess', '하에', '▁천황', '▁가능한', '▁금지', '▁대륙', '▁혐', '역으로', '▁유일한', '▁이루어져', '▁위치하고', '▁싶', '인지', '시키고', '전한', '권의', '선에서', '롭게', '▁홍콩', '자들의', '소에', '내고', '▁묘사', '시킨', '▁이스', '▁취임', '안을', '소로', '주교', '▁윌리엄', '▁안에', '▁류', '▁달성', '▁왼', '체로', '려고', '▁유대', 'nt', '서로', '▁비디오', '▁젊', '▁디지털', '▁바르', '국은', '▁해외', '▁스코', '▁의견', '계가', '▁종료', '▁포르투', '티아', '學校', '▁충돌', '▁정부는', '▁르', '▁베르', '▁물론', '▁이용하여', '력으로', '▁벗', '▁스튜', '▁친일', '89', '▁각종', '▁일어난', '▁소개', '▁인근', '▁중의', '▁경우에는', '▁이집', '▁지명', 'br', 'ak', '민족', '치의', '피아', '▁전달', '▁근무', '▁사이에서', '▁필요한', '▁간의', '▁아내', '▁35', '▁위치해', '▁승격', '▁문제가', '▁오사카', '세에', '▁주목', '▁관광', '헝가', '▁억', '▁2,', '▁경기를', '▁가까운', '당을', '▁발사', '▁지역을', '월까지', '로로', '▁빨', '치로', '▁낮은', '▁읽', '▁참여하였다', '▁말을', '▁도시로', '▁32', '▁제거', '임스', '▁베네', 'ity', ')\"', '▁죄', '▁아니다', '▁나누', '▁파이', '▁관계를', '▁위의', '▁전환', '▁듣', '▁이슬', '분을', '적으로는', '조가', '92', '▁1982', '▁합류', '45', '분에', '▁만들었다', '▁남북', '▁둘러', '▁가입', '▁뒤에', '▁알렉산', '▁문제를', '량의', '▁만들어진', '▁폰', '▁썼', '단으로', '▁굴', '작용', '▁중국의', '▁미술', '▁해군', '▁서쪽', '기업', '▁빼', '▁이래', '승을', '워드', '▁명예', '고로', '▁만화', '라우', '▁에이', '▁되었으며', '▁평화', '▁후쿠', 'ph', '▁제도', '▁수가', '▁꼬', '▁출신의', '▁주는', '준다', '니스', '▁불린다', '▁건너', '▁구조를', '▁즐', '▁Ch', \"',\", '▁북부', '.(', '▁갖추', '물관', '그룹', '▁뮤직', '라고도', '▁1983', '▁바탕으로', '▁네트워', '▁미래', '▁정식', '지도', '▁그려', '▁반면', '▁계산', '▁실제로', '석을', '▁옆', '론을', '▁실행', '▁멜', '▁신라', '▁전반', '상과', '▁전시', '▁전략', '되었던', '▁펜', '▁종목', '종이', '▁최고의', '▁너무', '▁마련', '▁정치적', '▁기존의', '▁제목', '인들은', '▁만약', '만에', '일은', '문학', '▁전라남도', '메이', '▁w', '▁부문', '계는', '▁주었다', '신의', '▁오르', '▁In', '권이', '85', '▁사실을', '▁납', '프는', '▁재직', '▁MBC', '▁그해', '▁비밀', 'ist', '시가', '▁기록을', '▁저항', '산으로', '버트', '▁스토', '▁집중', '▁신문', '▁강조', '이던', 'ge', '▁The', '▁통하여', '▁사람은', '▁가는', '▁인식', '산의', '▁부모', '▁넘어', '리어', '미널', '▁맹', '▁배경', '▁생물', '▁연장', 'ber', '▁기후', '산업', '\"(', '즈의', '사이', '먼트', '상에서', '▁작성', '-3', 'ne', '생활', '관리', '▁아키', '메달을', '▁상업', '▁던', '▁사령', '이라고도', '▁정착', '▁마이크로', '점에서', '▁불러', '▁성격', '비가', '크는', '했기', '▁무렵', '▁II', '▁인한', '로스', '년대에', 'CA', '차를', '▁적극', '▁기능을', '▁끼', '▁제외한', '▁하기', '라노', '▁보여주', '▁영역', '질을', '세포', 'est', '▁허용', '▁혜', '▁객', '단체', '▁공급', '보다는', '▁아우', '졌으며', '해를', '▁올랐다', '은행', '교의', '공항', '두고', '시대의', '장이다', '로운', '▁로스', '▁내부', '▁확대', '▁셀', '▁뿐만', '에게는', '▁유형', '▁왔다', '법원', '▁대회에서', '파의', '▁이후에', '전쟁', '47', '▁최소', '▁입학', '▁사용하여', '▁사회주의', 'all', '▁일반적인', '▁나중에', '▁일이', 'ran', '▁의사', '▁오스', '▁사람을', '밖에', ')》', '계에서', '프가', '▁항상', '▁헨', '▁포지션', '22', '▁받아들', '▁정부의', '▁생활을', '▁이슬람', '▁1979', '리포니아', '▁여전히', '▁지진', '▁뒷', '▁족', '▁터키', '▁만드는', '.8', '▁부근', '적이고', '가가', '물로', '▁1981', '▁국방', '▁보면', '▁인디', '▁관찰', '▁전투에서', '르타', '▁이번', '▁제정', '▁케이', '▁그래서', '래프트', '되었는데', 'qu', '.9', '▁시대의', '▁판단', '세이', '▁출발', '▁보도', '▁동료', '▁동부', '▁연극', '▁1972', '년과', '▁원자', '▁확보', '▁핀란드', '호가', '과를', '▁위협', '▁있었지만', '개발', '기고', '▁편집', '▁채널', '▁매년', '원과', '주가', '▁사용되는', '한국', 'ers', '▁a', '▁덴마', '▁보이', '▁붕괴', '▁선의', '▁가리키는', 'ub', '▁바람', '▁쉽게', '▁포르투갈', '▁국왕', '▁뒤를', '면의', '▁등은', '시오', '다이', '▁경우도', '27', '▁정리', '사령', '▁de', '까지의', '▁채택', '로도', '서관', '▁마리아', '았으며', '▁문서', '26', '끄는', '▁젊은', '력에', '▁충분', '▁90', '▁동계', '▁교체', '▁전개', '36', '▁마사', '동차', '▁흰', '▁높이', '실을', '▁이승', '경제', '▁방식', '▁시의', '시로', '▁범죄', '▁시작되었다', '▁1973', '▁합병', '▁500', '▁세운', '▁유리', '▁남동', '대전', 'tic', '▁승리를', '▁끊', '▁모스크', '▁일종이다', 'ST', '▁남편', '▁외에도', '▁말이다', '▁공격을', '▁겨울', '▁다섯', '▁감소', 'art', '▁하자', '▁점차', '37', '▁아나', '▁장기', 'ell', '▁척', '세기에', '▁시기에', '46', '구려', '▁없어', '▁득점', '모리', '화에', '▁떨어져', 'FC', '라운드', '▁계약을', '▁자리를', '▁밖에', '력과', '비는', '▁탑재', '▁측정', '트라', '▁귀국', '당에', '드와', '▁강력한', '로서의', '87', '▁옹', '배우', '▁등에서', '▁전사', '▁의해서', '▁중학교', '▁사람들은', '▁울산', '리기', '▁사용한', '▁서부', '▁블랙', '▁k', '음악', '▁구축', '▁그곳', '의로', '▁녹음', '▁잠시', '하려는', '▁강원도', '▁민간', '▁수학', '대에서', '테인', '▁본관은', '▁얼굴', '▁수립', '▁관심을', '▁냉', '데미', '▁갖춘', '▁하게', '▁성우', '▁책임', '까지는', '▁세르', '▁설립된', '▁에드', '자치', '▁하면서', '계로', '▁당시의', '▁헝가', '문이', '▁캘리포니아', '▁안전', '▁정보를', '▁통신', '▁충청남도', '▁해체', '▁필리핀', '당한', '▁구역', '▁주장했다', '▁변호', '협회', '▁시청', '▁흘', '▁인수', '▁평양', '▁g', '95', '▁파일', '▁증거', '설을', '▁춘', '▁마쓰', '▁45', '▁신경', '▁1974', '▁185', '라엘', '일보', '붉은', '▁알아', '▁불과', '▁자체', '▁화학', '▁침공', '▁해방', '▁균', '구로', '▁만족', 'uc', '스케', '▁왔', '해의', '▁집단', '정으로', '▁구단', '▁잎', '받아', '트에', '▁레코', '되었지만', '면에서', '▁v', '▁주연으로', '▁길이', '▁예선', '▁간주', '98', '▁종종', '틀랜드', '▁사후', '▁발표했다', '▁나뉘', '▁게이', '▁소프트웨어', '다운', '▁경향', '▁요리', '▁라이브', '네시아', '▁건강', '▁델', '일러', '▁여행', '▁시내', '▁대립', '▁쇠', '용으로', '▁나폴', '우리', '▁샌', '▁기획', '민국', '개를', '사키', '▁좀', '무원', '티브', '▁이끄는', 'ice', '▁텍', '▁쪽', '▁이란', '▁개봉한', '▁쓰인다', '▁인간의', '하나', '하다고', '▁임명되었다', '약을', '레이션', '리스트', '▁에스', '▁무역', '▁편입', '▁죽은', '▁음력', '같은', '▁1976', '▁봄', '▁찰', '▁회원', '▁태평양', '었는데', '▁정상', '▁힘을', '류를', '▁컬', '▁나오는', '티나', '▁자신을', '학년', '▁짓', '▁폭발', '▁태어난', '▁때에는', '▁제임스', '▁받는', '▁방식으로', 'our', '▁엑', '▁인사', '자들을', '▁1978', '▁회복', '자에게', '▁개편', '▁비교적', '▁대형', '▁인기를', '▁수입', '▁한다는', 'se', '▁장애', '명한', '75', '▁대상', '후의', '▁설치되어', '▁속에', '▁뛰어난', '▁연맹', '하고자', '키아', '▁기계', '▁라틴', '리학', '▁사례', '▁둥', '▁공공', '▁조정', '박쥐', '▁자본', '▁수정', '▁국회의원', '적이다', '▁아름', '점에', '...', '었으나', '▁1920', '▁조선민주주의인민공화국', '▁&', '▁특수', '▁1971', '▁신설', '▁남성', '▁노력', '▁후손', '▁어떻', '다른', '▁했지만', '▁블루', '라비아', '▁메이저', '신이', '▁루이', '▁에피', '초등학교는', '음이의', '▁숲', '족의', '▁고양', '▁전차', '65', \"'(\", '데스', '32', '▁이것이', '▁저장', 'ip', '▁보이는', '▁형식', '▁위치한다', '종은', '▁사람의', '▁대규모', '화는', '▁고구려', '▁1968', '▁1963', '▁1975', '▁몽골', '▁180', '▁초등학교이다', '▁함수', '▁불가능', '▁카메', '▁피아', '▁복잡', '니어', '포르', '▁네트워크', '▁프로듀', '▁발견된다', '▁농업', 'av', '룬다', '▁이스라엘', '어져', '▁내에서', '형이', '▁e', '▁않을', '로나', '여자', '▁부터', '▁1930', '정책', '▁파리', '▁털', '동의', '▁한다고', '▁원칙', '▁문화재', '▁사실상', '료로', '▁우선', '▁초반', '▁흔히', '▁고전', '리트', '▁내용을', '▁시대에', '▁편성', '▁홈런', '▁식물', '▁본격', '소에서', '▁1940', '▁감염', '▁링', '이었고', '▁아르헨', '유럽', '차례', '43', '▁꿈', '싱턴', '▁있었으며', '▁콩', '▁발매되었다', '군으로', '▁과정을', '49', '▁조금', '▁부인', '종으로', '▁1969', '▁스튜디오', '▁외에', '국을', '▁쉬', '▁기억', '▁구성된', '▁인하여', '▁근대', 'ik', '오프', '▁나카', '▁북서', ',5', '▁트리', '▁300', '▁지역은', '구역', '▁속에서', '터테인', '▁팀은', '▁나서', '▁전혀', '셔널', '▁이전에', '▁어떻게', '미디', '▁모스크바', '제에', '▁원작', '시와', '▁참석', '료를', '품을', '▁아주', '▁도움을', '▁형태의', '▁유명하다', '▁통한', '▁윈도우', '▁있었으나', '예술', '▁열대', '▁구체', '▁아랍', '▁오리', '▁행사', '크라이나', '려는', '▁죽음', '▁잭', '지기', '분의', '▁대상으로', '아버', '▁잘못', '▁증명', 'for', '▁세이', '▁암살', '▁중화인민공화국', '▁설정', '▁사회적', '▁섭', '▁물러', '76', '▁때에', '▁하는데', '▁사용되었다', '전으로', '지면서', '28', '▁탄생', '▁본선', '▁확정', '▁플로', '드에서', '라크', '▁사는', '대회', '었지만', '▁1948', '▁Z', '▁정도의', '▁비난', '법의', '서에', '▁캄', '▁숫', '▁카운', '세계', '공업', '인들의', '▁등장하는', '어와', '▁공부', '▁했고', '▁시장', '▁창설', '년이', '▁짧은', '동음이의', '권에', '▁되면서', '어도', '▁개선', '▁박사', '▁현실', '▁철도역이다', '▁보급', '받은', '▁묻', '▁하였고', '▁기사', '▁한때', '권은', '▁뜻이', '라가', '법에', '인에', '▁', '이', '다', '.', '에', '의', '는', '로', ',', '하', '1', '을', '가', '고', '지', '서', '한', '은', '기', '0', ')', '(', '으', '2', '사', '대', '리', '시', '를', '년', '스', '도', '인', '일', '아', '자', '9', '어', '있', '라', '수', '나', '부', '그', '전', '되', '정', '국', '과', '해', '주', '었', '제', '들', '성', '장', '3', '구', '여', '상', 'e', '적', '동', '했', '5', '8', '월', '위', 'a', '와', '4', '원', '선', '게', '공', '였', '보', '6', '마', '만', '조', '트', '중', '며', 'o', '드', '7', '화', '경', '학', '미', '교', '소', '우', '유', 'r', '세', 'i', '비', '신', '오', '문', '치', '르', 'n', '명', '개', '면', '계', '역', '후', '연', '관', '등', '회', '된', '것', '진', '터', '영', '모', '용', '\"', 't', '발', '프', '군', 'l', '당', '무', '산', '러', '작', '재', '방', '민', '타', '니', '음', 'm', '데', '단', '거', 's', '레', '통', '간', '카', '분', '반', '생', '바', '안', '체', '포', '차', '행', '크', '내', '호', '현', '식', '운', '본', '노', 'u', \"'\", '남', '할', '종', '파', '물', '양', '요', '때', '출', '속', '임', '실', '야', '두', 'S', '-', '함', '형', '던', 'C', '결', '토', '강', '설', '루', '려', '표', 'A', 'c', '히', '키', '코', '각', '법', '초', '승', '독', '태', '업', '직', '건', '까', '디', '불', 'h', '래', '입', 'd', '배', '버', '력', '합', '록', '또', '점', '최', '예', '않', '번', '받', '매', '피', '같', '았', '약', '천', '른', '권', '왕', '말', '베', '메', '티', '《', '》', 'M', 'T', '심', '판', '격', '립', '알', '브', '청', '더', '금', '목', '감', 'B', '투', '추', '처', '북', '없', '항', 'f', '란', '달', '~', '평', '활', 'F', 'I', '외', '네', '열', '따', '린', '특', '저', '·', 'g', '집', '언', '편', 'P', '석', '준', '복', 'D', '테', '향', '즈', '병', '광', '류', '변', 'p', 'k', '질', '름', '령', '난', 'y', '족', '근', 'E', '랑', '급', '총', '람', '황', '송', '김', '존', '페', '축', '많', '올', '쪽', '능', '박', '술', '참', '철', '울', '론', '별', '살', 'L', '환', 'R', 'N', '온', '창', '악', '증', '품', '절', '및', 'O', '육', '료', '곡', '쿠', '백', ':', '새', '쓰', 'K', '플', '져', 'G', '순', '돌', '졌', '량', '필', '께', 'b', '확', '애', '망', '든', '머', '규', '림', '글', '패', '케', '색', '워', '팀', '범', '탈', '날', '견', '극', 'H', '쟁', '클', '련', '삼', '탄', '너', '친', '충', 'V', '랜', '째', '손', '봉', '막', '_', '책', '접', 'v', '뒤', '못', '완', '협', '퍼', '션', 'U', '/', '담', '런', '밀', '채', '츠', '길', '녀', '습', '골', '측', '블', '혼', '곳', '취', 'W', '럽', '엔', '험', '칭', '귀', '누', '겨', '암', '벌', '찰', '슬', '갈', '커', '씨', '’', '앙', '높', '웨', '슈', '‘', '첫', '뜻', '쳐', '침', '허', '즌', 'w', '죽', '효', '획', '볼', '널', '뉴', '응', '센', '났', '착', '큰', '락', '잡', '헌', '례', '희', '렸', '검', '폭', '득', '징', '움', '논', 'J', '%', '농', '섬', '걸', '캐', '홍', '럼', '틀', '풍', '느', '좌', '퇴', '택', '왔', '끝', '폴', '즉', '엘', '폐', '층', '될', '압', '줄', '픽', '헤', '덕', '윤', '싱', '맞', '먼', '념', '앞', '>', '찬', '맡', '긴', '<', '혁', '늘', '갖', '킨', '율', '써', '익', '〈', '〉', '턴', ']', '[', '릭', '잘', '램', '묘', '빈', '슨', '염', '링', '냈', '얼', '벨', '흥', '균', '억', '델', '닌', '앨', '객', '궁', '콘', '밝', '몇', '엄', '맹', '빌', '휘', '훈', '팔', '옥', '얻', '숙', '컵', '렌', '칸', '갔', '쇼', '“', '”', '텔', '칼', '됐', '므', '괴', '넘', '콜', '맥', '푸', '뷔', '좋', 'X', '몰', '붙', '덴', '핵', '찾', '혹', '낸', '흐', '둘', '빠', '떠', '켰', '템', 'x', '액', '혀', '샤', '컴', '릴', '몬', '뿐', '놓', '룹', '률', '쥐', 'z', '탑', '굴', '욕', '십', '끌', '떨', '힘', '잠', '롯', '싸', '죄', '칙', '갑', '핀', '벽', '척', '졸', '략', '춘', '풀', '몸', '먹', '눈', '맨', '켜', '잉', '끼', 'Y', '촌', '휴', '쳤', '잔', '컬', '홈', '벤', '칠', '렉', '밖', '大', '틴', '녹', '렇', '뛰', '몽', '뮤', '곤', '탁', '!', '륙', '폰', '털', '꾸', '혜', '멸', '탕', '둥', '겼', '밴', '웠', '솔', '겸', '혈', '돈', '딸', '톤', '렀', '혔', '셀', '쿄', '팅', '?', '낮', '넷', '컨', '홀', '앤', '님', '둔', '퓨', '냐', '」', '「', '윈', '텐', '랐', '겠', '욱', '롤', '톨', '탐', '떤', '헨', '꽃', '낙', '넓', '촉', '킬', '읍', '왜', '金', '셔', '콩', '렬', '붕', '山', '펜', '뇌', '랙', '옹', '덜', '슷', '흔', '융', '李', '옮', '섭', '=', '듬', '넣', '멘', '빛', '깨', '놀', '곧', '땅', '學', '킹', '닝', '룬', '헬', '팬', '딩', '쌍', '흑', '겐', '힌', '답', '켓', '챔', '롭', '룡', '값', '튜', '멤', '짓', '젤', '큐', '즘', '윌', '쉬', '쇄', '밤', '릉', '렵', '뢰', '웅', '닉', '흡', '튼', '젠', '씩', '납', '듀', '옛', '맺', '닥', '궤', '쉽', '짜', '랭', '숭', '듯', '+', '랫', '中', '文', '잃', '州', '숨', 'Z', '섯', 'j', '젝', '깊', '웃', '&', '롱', '빙', '꼬', '멜', '國', '멀', '쓴', '王', '캠', '펠', '웹', '핑', '큼', '잇', '즐', '끄', '텍', '믿', '뜨', '찍', '잎', '셰', '덤', ';', 'Q', '』', '『', '밍', '펼', '뷰', '짐', '틱', '빅', '돼', '뀌', '멕', '빨', '엽', '틸', '쇠', '짧', '삭', '곱', '子', '롬', '|', '校', '城', '첨', '폼', '東', '힐', '촬', '럴', '럭', '릿', '혐', '三', '道', 'q', '켈', '캘', '썼', '겪', '安', '곽', '낭', '랍', '딘', '옆', '밑', '켄', '氏', '쌓', '삶', '콤', '高', '흘', '人', '南', '벗', '뉘', '싶', '헝', '첩', '낳', '컷', '젊', '닐', '꿈', '냥', '빼', '옷', '랄', '天', '왼', '듣', '됨', '公', '얀', '읽', '닛', '톱', '냉', '셜', '°', '믹', '룩', '平', '寺', '엑', '픈', '事', '法', '벡', '낼', '섰', '숲', '퀴', '봄', '뒷', '엇', '띠', '書', '흰', '宗', '軍', '묵', '벼', '셋', '뤄', '튀', '븐', '붉', '잭', '쿨', '캄', '川', '元', '좀', '앗', '괄', '샌', '뿌', '義', '正', '끊', '뱅', '슴', '맛', '덮', '一', '씬', '넬', '팽', '녕', '륜', '찌', '–', '떻', '숫', '댄', '뱀', '府', '늬', '묻', '院', '長', '첼', '팩', '∼', '・', '짝', '둑', '웰', '石', '춤', 'é', '늄', '成', '쾌', '렴', '톰', '明', '쓸', '海', '셈', '탱', '뤼', '앵', '캔', '엠', '꼽', '깔', '陽', '뽑', '샘', '늦', '렐', '훨', '꺼', '밥', '닫', '西', '쫓', '光', '옌', '횡', '꼭', '君', '上', '太', '앉', '使', '郡', '팝', '德', '會', '原', '뼈', '륨', '地', '덩', '흉', '좁', '끈', '北', '겔', '武', '世', '끔', '家', '行', '部', '新', '봇', '렘', '本', '훗', '主', '꾼', '룸', 'ᆞ', '等', '깃', '룰', '뚜', '日', '都', '멍', '田', '윗', '神', '水', '韓', '덧', '춰', '펙', '랩', '門', '仁', '햄', '갤', '縣', '홋', '政', '퀘', '펴', '듭', '딕', '딜', '삽', '쿼', '꺾', '*', '龍', '生', '묶', '싼', '궐', '官', '륭', '經', '司', '탠', '퀸', '뮌', '윙', '無', '쌀', '꼴', '섞', '朴', '뉜', '겹', '里', '빗', '킴', '興', '눌', '훌', '띄', '趙', '×', '林', '긍', '첸', '슐', '펄', '洞', '忠', '녁', '밭', '셉', '깥', '돔', '相', '넌', 'а', '敎', '녔', '넥', '漢', '夫', '툰', '렛', '白', '民', '所', '永', '江', '聖', '낌', '五', '鄭', '펑', '臣', '和', '慶', '理', '빵', '돕', '馬', '깝', '史', '뿔', '張', '엉', '늑', '섹', '곰', '펀', '똑', '닷', '틈', '훼', '→', '全', 'の', '랴', '딱', '넨', '皇', '善', '컫', '前', '昌', '記', 'о', '흙', '힙', '朝', '굳', '將', '島', '帝', '툴', '갱', '定', '性', '핸', '心', '羅', '팡', '知', '尹', '化', '킥', '셸', '콰', '堂', '빚', 'и', '킷', '톡', '有', '겁', '껍', '之', '士', '풋', '小', '面', '맷', '닭', '벳', '崔', '十', '方', '겉', '京', '河', '松', '社', '쏘', '同', '뮬', '룽', '佛', '下', '時', '不', '淸', '굽', '멈', '古', '콥', '콕', '宮', '옵', '콧', 'α', '뇨', '봐', '푼', '通', '뻗', '代', '밸', '핫', '턱', '四', '信', '師', '딴', '럿', '年', '二', '떼', '꿀', '굿', '像', '렷', '탓', '퉁', '쯤', '論', '華', '죠', '後', '守', '닮', '劉', '樂', '쑤', '홉', '禮', '月', '祖', '八', '왈', '孝', '샹', '尙', '캡', '女', '굉', '줬', '權', '릎', '눅', '릇', '重', '圖', '쁜', '市', '붓', '뚫', '木', '字', 'е', 'н', '툼', '洪', '基', '칩', '黃', '싫', '낱', '物', '샬', '孫', '댐', '雲', '셨', '內', '陵', '놈', '立', '엣', '名', '業', '띤', '닿', '걷', '寧', '侯', '鎭', '듈', '吉', '낀', '合', '自', '科', '、', '廣', '驛', '헐', 'р', '삿', '判', '兵', '集', '갓', '흠', '派', '젖', '功', '殿', '柳', '順', '分', '봤', '監', '냄', '쩌', '衛', '宋', '承', '體', 'ー', '靑', '솟', '六', '春', '펌', '잊', '谷', '웬', '걱', '九', '周', '建', '議', '퐁', '景', '쉐', '※', '曹', '덟', '앱', '直', '옴', '솜', '•', '制', '돋', '곁', '美', '흩', '쥬', '쿤', '度', '톈', '둠', '슘', '者', '얄', '얇', '郞', '源', '굵', '英', '路', '륵', '긋', '쏟', '村', '얘', '福', 'á', '휩', '껴', '館', '멋', '짙', '宣', '見', '身', '左', '章', '萬', '팜', '탤', '花', '星', '貞', '꾀', '觀', '號', '렁', '#', '맵', '眞', '的', '$', '初', '節', 'с', '쯔', '밟', '濟', '꿔', '動', '治', '野', '훔', '덱', '泰', '뭉', '侍', '康', '副', '컸', '傳', '造', '챌', '캉', '왓', '뚝', '開', '根', '뤘', '外', '典', '音', '国', '壽', '떡', '令', '臺', 'к', '式', '쁘', '옐', '寶', '玉', '끓', '別', '應', '憲', '利', '햇', '{', '吳', '族', '奉', '思', '휠', 'い', '鮮', 'в', '뀐', '텀', '핍', '댓', 'ü', '后', '實', '命', '戰', '`', '씀', '語', '짱', '良', '御', 'ン', '唐', '弘', '修', '꽤', '保', '申', '촨', '잦', '맘', '횟', '智', '슭', '說', '浦', '親', 'л', '在', '作', '賢', '空', '錄', '阿', '픔', '形', '줌', '펫', '來', '塔', '省', '梁', '썬', '빔', '進', '位', '괘', '土', '敬', '앓', 'т', '老', '詩', '싯', '歌', '뒀', '벅', '밋', '工', '色', '界', '津', 'ا', '徐', '붐', '右', '엿', 'ο', '線', '參', '井', '秀', '碑', '갇', '얹', '땄', '눠', '七', '流', '延', '溪', '齋', '言', '風', '陳', '多', '깎', '딪', '護', '運', '멧', '샨', '間', '헥', '땃', '줘', '用', '팟', '如', '數', '藤', 'ö', '맑', '맏', 'ó', '常', 'ā', '藏', '口', '찐', 'μ', '슛', '벵', '玄', '任', '達', '꼈', '反', '텝', '楊', '몫', '許', '닦', '찔', '密', '甲', '場', '걀', '先', '鳳', '車', '옳', '對', '志', '깐', 'í', '亭', '뭇', '곶', '씌', '錫', '沈', '끗', '靈', '낫', '朱', '郎', '頭', '윅', '統', '쟈', '≪', '印', '≫', '夏', '禪', '얽', '佐', '랏', '熙', '麗', '烈', '姜', '팍', '出', '츄', '務', '뻔', '察', '團', '伯', '園', 'ν', '愛', '百', '識', '쭉', '榮', '器', '草', '關', '캅', '豊', '}', 'ι', '湖', '員', 'ς', '嘉', '現', '鄕', '튬', '儀', '귄', '諸', '뚱', '勝', '橋', '從', '意', '植', '晉', '商', '解', '墓', '■', '낚', '氣', '볍', '앰', '遠', 'ä', '祭', '鐵', '뜬', '○', '益', '千', '뱃', '容', '管', '뻐', '헛', '加', '竹', '伊', '起', '領', '坐', '챙', '쾰', '궈', '沙', '遺', '第', '팰', '찮', '調', '엮', '귤', '魏', '엥', '쩔', '恩', '秦', '處', '想', '機', '싹', '욘', '力', '非', 'ρ', '居', '雄', '―', 'し', '뾰', '報', '異', '畵', '핏', '렝', '뫼', '꿨', '泉', '惠', '次', 'ん', '캣', '柱', '鍾', '샐', '術', '黨', '火', 'β', '始', '我', 'τ', '支', '훙', '岩', '。', '崇', '뭄', '丁', '탬', '紀', '室', '쉴', '秋', '俊', '受', '得', '宇', '盧', '섀', 'か', '샀', '品', '웍', '廳', '昭', 'な', '資', '池', '깜', '類', '삐', '푹', 'う', '交', '얕', '낄', '넛', '果', '랬', '쿡', '싣', '舍', '뮈', '嚴', '營', '咸', '目', '育', '提', '돗', '꽂', '姓', '챈', 'ل', '曲', '늙', '系', '뜸', '局', '試', '總', 'ε', '믈', 'λ', '仲', '렙', '妃', '齊', '香', '@', '彦', '富', '卿', '圓', '尉', '少', 'ス', '顯', '能', '手', '波', '男', '表', '魚', '致', '꽝', '껏', '發', '댈', 'м', '群', '瑞', '냅', '慧', 'д', '吏', '숀', '戶', '防', '極', '角', '눔', '갚', '象', '農', '셴', 'た', '共', '母', '큘', '恭', '츰', '産', '情', '首', '쾨', '故', '署', '늪', '薩', '»', '촛', '짖', '邑', '즙', 'σ', 'と', '因', '췄', '蘇', '샵', '썩', '훤', '博', '☆', '짚', '尊', '樞', '탭', '虎', '覺', '陸', '찢', '△', '庵', '仙', 'й', '町', '結', '峰', '牧', '電', '갯', '듐', '쪼', '入', '房', '릅', 'イ', '몹', 'ル', '딧', '陰', '區', 'у', '半', '펭', '뿜', '獻', '蓮', '췌', '協', '倉', '屬', '淑', '閣', '녜', '빽', '完', '뜰', 'è', '域', '蔡', '뇽', '巖', '贊', '딥', '룻', '板', '겟', '範', '쁨', '슌', '괌', '굶', '溫', '翼', '菩', 'り', '普', '呂', '씻', '靖', '숍', '變', '～', '펩', '勳', '可', '쩐', '깁', '父', '넉', '乙', '連', '−', '쿰', 'る', '鶴', '맬', '哲', '엎', '銀', '丹', '퀄', '퀼', '샷', '邊', '僧', '死', '督', '뮐', '엡', '律', '燕', '핼', '学', '貴', '壇', '«', '船', '越', '祠', '台', '友', '淵', '뭐', '珍', '復', 'κ', '衆', '彌', '淳', '職', '載', '輔', '久', '벙', '—', '斗', '탔', '볶', '舊', '港', '롄', '\\\\', '藝', '近', '郭', '샴', '슝', 'ラ', '젯', '喜', '境', '莊', '쵸', '隆', '種', '赤', '奇', '잼', '껑', '벚', 'に', '具', '똥', '꿰', '뜯', '足', '윽', '允', '精', '臨', '썰', '衣', '땀', '澤', '純', '舞', '層', '特', '禹', '잣', '튠', '毛', '禁', '座', 'ま', '煥', '퓌', '球', '둡', '촘', '爲', '둬', '亞', '惡', '旨', '龜', '′', '素', '訓', '均', '맴', 'ら', '住', '낡', '뵈', '뽀', '촐', '陀', '雨', '奎', '쥘', '址', '廟', '洋', '멩', '쑨', 'リ', '儒', '꼼', '洙', '養', '劇', '條', '誠', '期', '轉', '텅', 'ト', '깅', '盛', '蘭', '閔', '魯', 'き', '備', '射', '隨', '괜', '멱', '浩', '私', '욤', '댕', '慈', '낯', '퓰', 'π', '聲', '丘', '内', '執', '€', '牛', '警', '좡', '今', '隊', '刑', '葉', '藩', '要', '念', '隱', '醫', '켐', '那', '放', '젓', '쥔', '以', '麻', '緣', '取', '킵', '列', '岳', '弼', '兼', 'γ', '淨', '뎀', '됩', '綱', '츨', '獨', '팎', '胡', '布', '質', '兒', '岡', '戦', '至', '桂', '聯', '팻', '±', '愼', '持', '謙', '훅', '檢', '改', '穆', '雙', 'は', '祿', '肅', '靜', '量', '캇', '觸', '羽', '製', '嶺', '希', '然', '若', '밧', '冠', 'ッ', '딤', 'く', '狀', '茂', '밈', '亂', 'ن', '封', '譜', '웜', '쉰', '圭', '洛', '由', 'お', '캥', '戒', '苦', '몄', '離', '띈', '釋', '쏠', '比', '錦', '約', '計', '랠', '聞', '助', '惱', '望', '賀', '썸', '퀀', '夢', '補', '銅', '于', '汝', 'я', 'ي', 'ク', '亨', '孔', '件', '飛', '珠', '뇰', '單', '甫', 'さ', '팥', 'δ', '帶', '卷', '欲', '兩', '委', '裵', '쑹', '칫', '剛', '末', '鏡', '뱌', 'ア', '摠', '考', '藥', '엌', '‧', '^', '왁', '客', '寅', '餘', '孟', '敏', '辛', '問', '屋', '樹', '杜', '易', '清', '짠', '尾', '恒', '鳥', '型', '留', 'à', '眼', '準', 'ī', 'て', '向', '誌', '쏜', '챠', '慕', '헴', 'η', '夷', '廷', '樓', '쐐', 'ç', '宰', '麟', '뭔', '퍽', '克', '役', '祥', '端', '윔', '쿵', '꽁', '威', '紅', '格', '滿', '環', '갸', '폈', '丞', '求', '黑', '솥', '技', '影', '会', '梅', '好', '晋', '葛', '釜', '鉉', 'г', '烏', '宅', '僉', '翰', 'あ', '究', '細', 'ь', '食', '쨌', 'ر', 'م', '厚', '己', 'و', '演', '叔', '辰', '摩', '넴', '乘', '講', '丙', '諫', '먀', '秉', '酒', '덥', '衡', '잖', '回', '啓', '選', '題', '騎', '깡', '뺏', '指', '曺', '證', '財', '乾', 'ち', '則', '쩍', '徳', '筆', '돛', '煩', '遊', 'É', 'â', 'タ', '增', '斷', '邱', '簡', '茶', '滅', '妙', '祐', '骨', '服', '話', '炳', '假', '籍', '敦', '未', '雅', '욜', '懿', '桓', '略', '젬', '句', '댁', 'こ', 'だ', '散', '宜', '条', '點', '콴', '昇', 'С', '邪', '늠', '雜', '裕', '딛', 'み', '軒', '銘', '얌', '扶', '輪', 'ы', '눕', '央', 'ú', '遼', '巨', '續', '革', '歸', 'シ', '뛴', '設', '刺', '襄', '鎬', '툭', '坊', '旗', '雪', '季', '擧', '硏', '策', '登', '盟', '뎅', '賜', '찻', 'つ', '休', '振', '曆', '丸', '征', '倭', '庶', '難', '칵', '震', 'ド', '庭', '繼', '固', '寬', '殷', '핌', '積', '廉', 'ч', '依', '契', '庫', '翁', '쑥', '貪', '卞', '勞', '病', '뮴', 'θ', 'が', '健', '놉', '앳', 'ί', 'ᄀ', 'を', '罪', '送', '읊', '簿', '峴', '最', '紙', '웁', '́', '俗', '旌', '感', '願', 'ω', '株', '欽', '版', '超', 'п', '洲', '옅', '姬', '贈', '際', '뺨', '힉', '刻', '坡', '寫', '皮', '⁄', '注', '童', '땐', '볕', '캬', 'も', '夜', '消', '燮', '뛸', 'υ', '詞', '賓', '邦', '★', '紫', 'ά', '翊', '쉘', '爾', '琴', '뺀', '懷', '漏', '僕', '再', '勢', '逸', 'す', '梵', '룀', 'カ', '晩', 'マ', '旅', '組', 'ᄋ', '区', '匡', '潤', '蒙', '諦', '횃', 'ό', '徒', '盤', '鑑', 'Δ', '←', '程', '蓋', '追', '介', '팸', 'れ', '深', '鼎', 'б', '序', 'え', '甘', '速', '過', '陶', 'よ', '歷', '썹', '쭈', '切', '鐘', '∙', '才', '県', '亮', '惟', '納', '엷', '磨', '巡', '站', '뀔', '봅', '料', '뽕', '凉', '止', '症', '퀵', 'د', '譯', '掌', '殺', '浮', '옙', '構', '팁', 'ジ', 'ロ', '配', '落', '壤', '芳', '샛', '推', '楚', '웸', 'š', 'з', '存', '毅', '刊', '熊', '꼰', '斯', '磁', '勇', 'ñ', '習', '背', 'ł', '꿇', '텃', '畿', '碩', '編', '置', '蘊', '갠', '숄', '尼', '虛', '於', '灣', '露', '땡', '춧', '泳', 'х', 'レ', '宿', '戸', '넵', '施', '頼', 'ê', '也', '而', '袁', '奴', '疏', '染', '維', '述', '活', '織', '씹', 'キ', '텡', '嬪', '街', '깬', '쉼', 'け', '項', 'フ', '率', '鹿', '失', '岐', '켤', 'ب', '祚', '迦', '냇', '뎌', '評', '깼', '奏', '當', '짤', '튿', '勒', '将', '崎', '뻘', '壁', '峯', '稅', '鳴', 'К', '輝', '差', '帥', '熱', '真', '〜', '專', '弟', '與', '告', '墳', '鬼', 'ß', '긁', '何', '干', '幸', '揚', '導', '米', '坪', '潭', '睦', 'ニ', '倫', '規', '墨', '爭', '步', 'コ', '堅', '模', '階', '刀', '援', '꽉', '찼', '휼', 'オ', '標', '닙', '뱉', '펨', 'ᄂ', 'っ', '冬', '舜', 'А', '移', '貢', '徽', '血', '賊', '蹟', '쇤', '撰', '獄', '紋', '綠', '引', '壬', '燈', '耶', '댑', '享', '決', '錢', '텟', '폄', '幕', '渡', '謝', '꺽', '눗', 'ᄅ', '案', '兪', '眠', '視', '貫', '깍', 'じ', '害', '蔚', '랗', '윳', '홑', '吾', '耳', '賞', '鼓', '其', '嗣', '葬', 'ô', '午', '奈', '弓', '愚', '照', '邉', 'ᄃ', '勤', '般', '輸', '撫', '青', '줍', '紹', '裝', '▲', '阮', '段', '솝', 'で', '秘', '胤', '辭', '힝', 'ᄆ', '豆', '솅', 'æ', 'ı', '候', '坂', '讀', '限', '얏', '戱', '浪', '伽', '庚', '歲', '쏴', '伏', '됭', '젼', '函', '操', '教', 'ナ', '栗', 'ū', 'φ', 'М', '豫', '査', '降', '웡', '喪', '魔', '算', '쌈', '쭤', '附', '뢴', '劍', '篇', '鴻', 'ə', 'や', '堤', '微', '忍', '授', '쎄', 'わ', '兄', '喆', '齡', '챕', 'ᅳ', '帖', '芝', '薛', '쫒', '諡', '£', 'П', '関', '頂', '符', '륀', 'ウ', '뎃', '創', '禧', '뜩', '傅', '壯', '材', '庄', '稷', '破', '鬪', '춥', '曾', '顔', '唱', '塚', '睿', '瞋', '障', '빴', '是', '班', '韻', '뎬', '幀', '級', '惑', '映', '蜀', '衍', '哀', '肉', '号', '廢', '彩', '接', '赫', '寒', 'س', '優', '閭', '뵤', '쩡', 'テ', '收', '脈', 'ø', 'ć', '伐', '脫', '舌', '還', '驪', '놨', '森', '檀', '須', 'В', 'ノ', 'ミ', '淮', '董', '郵', 'ш', '─', '冊', '꿩', '텁', 'バ', '箕', '萊', '談', '⟫', 'ャ', '徵', '油', '땜', '숱', '佑', '攝', '経', '묀', '찹', '岸', '救', '牙', '鍊', '̊', '包', '桃', '菴', '巴', '癡', '碧', '展', '請', '맙', '헵', '⟪', '味', '尺', '孤', '幹', '敵', '꿉', '튕', '給', '齒', '씽', '宝', '漁', '稱', '終', '讓', '退', '匠', '卯', '舟', '蔵', '黎', '놔', 'エ', 'チ', '融', '랸', 'ã', '去', '婦', '疑', '댜', '륄', '젱', '찜', 'サ', '逆', '떴', '卓', '潘', '볜', '헹', 'ع', '梨', '뤽', '뽐', '亥', '絶', '跋', '넋', '좇', 'έ', '寂', '잿', '橫', '番', '雍', '例', '崖', '換', '駐', '鷄', 'ひ', '唯', '実', '必', '陣', '빡', '쌌', '審', '蕭', 'ت', '羊', '숯', '컹', '仕', '湯', 'モ', '屯', '默', '县', '強', '腹', '썽', 'ュ', '價', '示', '옻', '잰', '햐', 'ᅵ', '柴', '旭', '覆', '賦', '鹽', '셍', '巫', '彭', '酉', '〕', '輿', '얗', '了', '婆', '戊', '毘', '菊', '著', '귈', '묄', '便', '培', '愍', '胎', '꿋', 'ィ', '慢', '爵', '뻣', '숏', '他', '낵', '潮', '탸', 'ē', '俱', '祀', '껌', 'ō', '〔', '댔', '볏', '앎', '흄', '貨', '푀', 'め', '築', '航', 'Б', 'י', 'グ', '妻', '朔', '澄', '禎', '遂', '酸', '丈', 'χ', 'ц', '巳', '濬', 'Р', '砲', '쌔', '広', '뷸', '녘', '括', '泥', '牟', '굼', '밌', '븀', '핥', 'Đ', '□', '停', '打', '折', '癸', '蔣', '覽', 'ư', 'ば', '牌', '탯', 'ょ', '輕', 'ズ', 'ム', '片', '헷', '底', '及', '듦', '줏', 'ه', '仇', '複', '軌', '툇', '占', '幡', '莫', '衙', '쳇', '万', '稿', 'ハ', '楽', 'プ', '祝', 'ή', '拳', '沃', '着', '蟲', '鎌', '炎', '탉', '戴', '整', '泗', 'ガ', '裁', '똘', 'メ', '肖', '駿', '챗', '券', '尚', '짊', '\\xad', 'ブ', '拓', '殊', 'ă', 'ˈ', 'ᄉ', '升', '召', '嫡', '庸', '槐', '沢', '突', '筵', '討', '乳', '擊', '菜', '휜', '佳', '尋', '店', '桐', '놋', '彰', '杉', '梧', '短', '쨩', '禍', '范', '鼻', '測', '曉', '朗', '枝', '鎮', '除', '덫', '坤', '就', '敍', 'Α', 'ろ', '係', '抗', '遷', '갬', 'ë', 'ː', '災', 'ᄇ', 'ゃ', '傑', '勅', '奭', '彈', '戌', '淡', '炯', '訴', 'И', '宙', '彫', '訪', '註', '냑', 'ύ', '凡', 'Н', '丑', '競', '賈', '辨', '溝', '藍', '幢', '態', '早', '갭', 'า', '胞', '荷', '被', '悲', '抄', '暴', '漆', '虞', 'ح', '壺', '槃', '汗', '耆', '額', '●', '穴', '雷', 'デ', '昊', '渾', '笠', 'Π', '乱', '昧', '苑', '荊', '待', '氷', '豪', '履', '甁', '遍', '郷', '魂', 'č', '乃', '禦', '綜', '綾', '艦', '閑', '隋', '괭', '눙', '욧', '仰', '幽', '探', '核', '穀', '卜', '各', '婚', '鈴', '塘', '毒', '炭', '粉', '鉢', '췬', 'Г', '∞', '垂', '扈', '賴', '껀', '젭', 'Σ', '犯', '遞', '拜', '눴', '沖', '珪', '采', '귓', '亡', '側', '呼', '権', '沼', '砂', '賣', '넙', 'ş', '█', '悟', '捨', '涅', '租', '頌', '앴', '첵', 'ふ', '濃', '荒', '費', '遇', '닳', 'ו', '儉', '迎', '뉠', '쁠', '쿱', '悅', '熟', '蕃', '궂', '쭝', 'å', '云', '企', '浚', '薰', '넜', 'Á', 'ж', '་', '投', '来', '耕', 'Т', '為', '総', '肥', '陜', '뺄', 'ゆ', '伴', '供', '宴', '按', '絲', '謹', '走', '긱', 'ぶ', '応', '卽', '庾', '效', '曰', '跡', 'そ', '卒', '哈', '浜', '鏞', '튤', '懸', '矢', '認', '뷜', 'ダ', '余', '卑', '寛', '床', '排', '擇', '晴', '璋', '網', 'ビ', '低', '急', '暗', '更', '盡', '黄', '넝', '숴', 'ق', '姫', '屠', '뵐', 'ی', '幼', '杖', '樣', '驗', '늉', '뚤', '콸', '億', '謀', '軸', '陟', '깟', '伝', '僞', '筑', '縛', '諱', '쥰', 'パ', '席', '攻', '晶', '섣', 'Д', 'ה', 'ف', 'せ', 'ど', 'ワ', '倍', '宏', '息', '窟', '鎔', '兆', '堯', '菌', '諭', 'ᄌ', '勿', '灘', '鄧', '헉', '冷', '彬', '獸', '舒', '馮', '喬', '忘', '眉', '緖', '豐', '飯', '쳅', '팹', '免', '含', '播', '洗', '燦', '瓦', '꾹', '垣', '奮', '招', '瀬', '謨', '겜', '†', 'ず', '圈', '烽', '迪', 'Л', 'ة', '銃', '쟝', '짬', 'ᄒ', '又', '戎', '緯', '훠', 'ᄏ', '塾', '駕', '鷹', '뎠', '솽', '펍', '【', '】', '束', '答', '買', '頓', '髮', '돤', 'ר', '壓', '奥', '蔭', '衝', '뭘', 'ج', 'ツ', '呪', '課', '頃', 'Κ', '党', '冥', '慰', '負', '껄', '벰', 'Ö', '↔', '憂', '昆', '텨', 'О', '浙', '蒲', '詳', '윕', '东', '充', '損', '뀜', '몐', '셤', '왠', 'ョ', '忽', '扇', '蜜', '劑', '强', '架', '索', '聚', '黒', '涉', '混', 'ร', '体', '渠', '犬', '篆', '險', '뗀', 'ð', 'ơ', 'ェ', '荀', '阪', '寄', '悌', '掛', '湘', '爐', '辦', 'ŋ', 'ほ', 'セ', '押', '詔', '괵', '듄', '셧', '숟', 'Φ', '沿', '綏', '韋', '뗏', '쬐', '팠', 'ï', 'ケ', '偏', '寇', '往', '揮', '樑', '訥', '阜', '샥', '텼', '⋅', 'び', '迷', '雀', '믐', '뷴', '쫄', 'î', 'ý', '瞻', '鑄', '빤', '푈', '伸', '嶽', '潛', '灌', '疾', '筒', '羲', '겅', '떳', '偉', '対', '戚', '拉', '糖', '訟', '顧', '맣', '왑', '此', '澈', '箭', '켠', 'ò', 'ệ', '付', '忌', '桑', '絃', '챘', '堀', '帽', '悼', '沒', '甄', '笑', '鉄', '镇', '雕', '닻', '씰', 'む', '傷', '屛', '幾', '溟', '練', '襲', '왐', '参', '綿', '諺', '適', '只', '姚', '晦', '満', '쏙', '챤', '≤', 'ね', '乞', '柔', '栢', '樊', '蒼', '観', '鑛', '끽', '숑', 'ś', 'א', '々', '꼿', 'ヶ', '갉', '뎁', '似', '广', '捕', '橘', '覇', '鵬', 'Ε', 'أ', 'ボ', '堡', '蘆', '蛇', '쪄', '刹', '郁', 'ž', '廊', '浅', '繫', '耽', '샅', '햅', '吹', '渓', '僖', '娘', '巾', '斤', '燧', '畫', '療', '线', '貝', '遮', '隣', '霞', 'э', 'ю', 'น', '冀', '脚', '誤', '꿍', '쥴', '톳', 'Å', 'ァ', '塵', '已', '看', '祉', '綬', '訣', '違', '넹', '뺑', '뻑', 'ᅡ', '旦', '游', '纂', '芸', '짼', '쳄', '휨', 'Š', 'ա', 'げ', '慮', '琉', '翔', 'ネ', '値', '劃', '斥', '暦', '瑜', '膺', 'ù', '借', '勸', '吐', '峻', '曜', '減', '燁', '皆', '窯', '膜', '零', '従', '循', '晟', '狄', '猛', '璿', '禄', '互', '圃', '幻', '燒', '獅', '瓊', '盜', '萱', '讚', '뭍', '債', '婢', '裏', '譚', '貿', '鳩', 'ế', '円', '屈', '歐', '漫', '皐', '趣', '鐸', '岑', '旋', '갛', 'ش', 'ヤ', '勉', '婁', '杏', '杓', '汀', '煙', '礙', '稽', '竿', '賤', '遣', '馨', '割', '卵', '塞', '変', '寵', '怪', '斬', '横', '狂', '珉', '避', '땔', '묽', '짰', '칡', 'ベ', '揆', '敞', '榜', '琳', '盆', '翠', '闕', '넸', '्', '恪', '挺', '擬', '旺', '棋', '睡', '翟', '裴', 'へ', 'ゅ', '亀', '抱', '湛', '粹', '솁', '쉔', '힛', 'ì', 'ń', '伎', '弐', '衿', '껫', '톄', 'ψ', 'ك', 'र', 'ソ', '姑', '弁', '怡', '昔', '杞', '畢', '確', '礪', '祈', '肇', '趾', '週', '預', 'ğ', 'Λ', 'ё', '誘', '閤', '륌', '폿', '徹', '殉', '遵', '邵', '閉', '飾', '빳', '쩨', '쳉', 'Ω', 'َ', '凝', '媛', '恐', '斎', '票', '辯', '閻', '켁', '斜', '熹', '画', '畜', '縱', '藻', '遜', '냘', '횔', 'ф', '個', '倒', '寿', '廻', '析', '沛', '炫', '窩', '腦', '説', '龐', '냔', 'ě', '♪', '串', '廬', '恵', '涼', '濱', '繁', '纏', '邸', '욥', '잽', '튈', 'ز', 'ᄎ', 'ᅩ', 'ḥ', '叢', '妄', '帳', '湜', '盈', '祗', '羌', '聰', '肩', '駒', '뒬', 'Μ', 'ξ', '„', '竺', '腸', '託', '録', '®', 'У', 'ב', '卦', '壞', '拔', '杭', '渭', '糧', '脂', '謁', '퉈', 'ạ', 'ピ', '奧', '峽', '快', '柏', '漸', '隸', '顕', '섐', '탰', 'ᄑ', '妓', '朋', '札', '棟', '檜', '渤', '珥', '畠', '秩', '詠', '鴨', '빻', 'Ü', 'і', '‚', 'ヒ', '凰', '峙', '灰', '猿', '瑩', '繡', '脩', '詮', '謠', '铁', 'ぎ', '圍', '崗', '敷', '溶', '脣', '苻', '醴', '隅', '좨', '쭐', 'מ', '场', '幣', '弥', '捷', '皓', '績', '誓', '陝', '녓', '씁', '윷', '죤', 'Γ', 'ご', '否', '彼', '悔', '滉', '狗', '窮', '褒', '輯', '鈞', '鎖', '뢸', 'ा', '什', '叉', '棺', '牒', '猶', '逢', '鄒', '銓', '閱', '▶', 'ぬ', '倂', '冶', '凶', '患', '液', '瀛', '疇', '筋', '薄', '裂', '阳', '냠', '찧', 'ζ', 'ṭ', 'ễ', '夕', '尤', '拘', '柄', '璽', '需', '響', '뗄', '∎', '勃', '戀', '楷', '歡', '溥', '軾', '鎰', '駅', '윰', '予', '伺', '採', '紗', '詹', '針', '飮', '黔', '깰', '멎', '틋', 'ܐ', '寸', '崙', '拾', '獲', '祇', '禿', '蠶', '遲', '鋼', '飡', '亦', '滋', '疫', '硬', '꽈', '뵙', '셩', '웩', '츤', 'ל', 'ა', 'ザ', 'ポ', '吸', '巢', '恨', '據', '暉', '楞', '电', '畏', '誕', 'ʼ', 'ก', 'ᄐ', '僚', '嵌', '椒', '爆', '瓚', '研', '篤', '胄', '螺', 'ʿ', 'ъ', '倻', '償', '哉', '爀', '狼', '窓', 'ง', '与', '你', '凌', '危', '坦', '塑', '弗', '弱', '械', '棲', '澗', '誼', '뜀', '솀', 'ɪ', 'Ο', 'อ', '♭', 'ぐ', '滄', '苗', '趺', '밉', '뺐', '‰', 'ゴ', '冕', '団', '旻', '瑛', '穡', '辺', '잴', '쫑', 'ώ', 'ᅮ', '偶', '厭', '当', '殘', '滑', '瓜', '竟', '臧', '醉', '隴', '믄', '웽', '쿈', '훑', 'Β', '図', '幅', '恋', '愧', '暎', '槍', '粒', '縮', '臥', '虹', '衰', '醮', '霖', '퍄', '§', 'Č', 'đ', 'ʻ', 'Ф', 'ი', 'ṣ', 'ギ', '凱', '叱', '幷', '批', '晃', '栄', '每', '気', '琦', '禾', '諍', '辟', '鞍', '韶', '驅', '쐈', '쾡', '홰', 'Θ', 'ม', 'ホ', '兎', '峨', '曼', '沆', '瀑', '燃', '罰', '聽', '腫', '腺', '莞', '鱗', '뷧', 'ط', '丕', '兢', '到', '媒', '悳', '掾', '旬', '曇', '汚', '涵', '牡', '猫', '璧', '郊', '髻', '鬱', '龙', 'З', 'べ', 'ヴ', '墩', '拍', '敗', '旣', '椿', '沔', '点', '籠', '継', '耀', '豹', '貸', '閩', '鞠', '쇳', '쟌', '刷', '哥', '懺', '昕', '楓', '痛', '矣', '礎', '竇', '虜', '鄴', '겊', '꽌', '垈', '尸', '慚', '楠', '絹']\n"
          ]
        }
      ],
      "source": [
        "# 특수 token 7개를 제외한 나머지 tokens 들\n",
        "vocab_list = []\n",
        "for id in range(7, len(vocab)):\n",
        "    if not vocab.is_unknown(id):\n",
        "        vocab_list.append(vocab.id_to_piece(id))\n",
        "print(vocab_list)"
      ]
    },
    {
      "cell_type": "code",
      "execution_count": 14,
      "metadata": {
        "id": "xhWSqVxMo3oT",
        "colab": {
          "base_uri": "https://localhost:8080/"
        },
        "outputId": "c8188ac5-cfc6-47e2-937d-8426b2bdb4f4"
      },
      "outputs": [
        {
          "output_type": "stream",
          "name": "stdout",
          "text": [
            "['[CLS]', '▁추', '적', '추', '적', '▁비', '가', '▁내', '리는', '▁날', '이었', '어', '▁그', '날', '은', '▁', '왠', '지', '▁손', '님', '이', '▁많', '아', '▁첫', '▁번', '에', '▁삼', '십', '▁전', '▁둘', '째', '번', '▁오', '십', '▁전', '▁오', '랜', '만에', '▁받아', '보', '는', '▁십', '▁전', '짜', '리', '▁백', '통', '화', '▁서', '푼', '에', '[SEP]', '▁손', '바', '닥', '▁위', '엔', '▁기', '쁨', '의', '▁눈', '물이', '▁흘', '러', '▁컬', '컬', '한', '▁목', '에', '▁모', '주', '▁한', '잔', '을', '▁적', '셔', '▁몇', '▁달', '▁포', '▁전', '부터', '▁콜', '록', '거', '리는', '▁아내', '▁생각', '에', '▁그', '토', '록', '▁먹', '고', '▁싶', '다', '던', '[SEP]']\n"
          ]
        }
      ],
      "source": [
        "# [CLS], tokens a, [SEP], tokens b, [SEP] 형태의 token 생성\n",
        "string_a = \"추적추적 비가 내리는 날이었어 그날은 왠지 손님이 많아 첫 번에 삼십 전 둘째번 오십 전 오랜만에 받아보는 십 전짜리 백통화 서푼에\"\n",
        "string_b = \"손바닥 위엔 기쁨의 눈물이 흘러 컬컬한 목에 모주 한잔을 적셔 몇 달 포 전부터 콜록거리는 아내 생각에 그토록 먹고 싶다던\"\n",
        "tokens_org = [\"[CLS]\"] + vocab.encode_as_pieces(string_a) + [\"[SEP]\"] + vocab.encode_as_pieces(string_b) + [\"[SEP]\"]\n",
        "print(tokens_org)"
      ]
    },
    {
      "cell_type": "code",
      "execution_count": 15,
      "metadata": {
        "id": "sH3aRVFjo3qX",
        "colab": {
          "base_uri": "https://localhost:8080/"
        },
        "outputId": "45e63419-9702-4f72-8b2d-3fb2c87f9224"
      },
      "outputs": [
        {
          "output_type": "stream",
          "name": "stdout",
          "text": [
            "['[CLS]', '▁추', '적', '추', '적', '▁비', '가', '▁내', '리는', '▁날', '이었', '어', '▁그', '날', '은', '▁', '왠', '지', '▁손', '님', '이', '▁많', '아', '▁첫', '▁번', '에', '▁삼', '십', '▁전', '▁둘', '째', '번', '▁오', '십', '▁전', '▁오', '랜', '만에', '▁받아', '보', '는', '▁십', '▁전', '짜', '리', '▁백', '통', '화', '▁서', '푼', '에', '[SEP]', '▁손', '바', '닥', '▁위', '엔', '▁기', '쁨', '의', '▁눈', '물이', '▁흘', '러', '▁컬', '컬', '한', '▁목', '에', '▁모', '주', '▁한', '잔', '을', '▁적', '셔', '▁몇', '▁달', '▁포', '▁전', '부터', '▁콜', '록', '거', '리는', '▁아내', '▁생각', '에', '▁그', '토', '록', '▁먹', '고', '▁싶', '다', '던', '[SEP]']\n"
          ]
        },
        {
          "output_type": "execute_result",
          "data": {
            "text/plain": [
              "14"
            ]
          },
          "metadata": {},
          "execution_count": 15
        }
      ],
      "source": [
        "print(tokens_org)\n",
        "\n",
        "# 전체 token의 15% mask\n",
        "mask_cnt = int((len(tokens_org) - 3) * 0.15)\n",
        "mask_cnt"
      ]
    },
    {
      "cell_type": "code",
      "execution_count": 16,
      "metadata": {
        "id": "cQn560nqo3su",
        "colab": {
          "base_uri": "https://localhost:8080/"
        },
        "outputId": "194389f2-a1fd-4fb4-c268-10463c8ccdbf"
      },
      "outputs": [
        {
          "output_type": "stream",
          "name": "stdout",
          "text": [
            "[1, 2, 3, 4] ['▁추', '적', '추', '적']\n",
            "[5, 6] ['▁비', '가']\n",
            "[7, 8] ['▁내', '리는']\n",
            "[9, 10, 11] ['▁날', '이었', '어']\n",
            "[12, 13, 14] ['▁그', '날', '은']\n",
            "[15, 16, 17] ['▁', '왠', '지']\n",
            "[18, 19, 20] ['▁손', '님', '이']\n",
            "[21, 22] ['▁많', '아']\n",
            "[23] ['▁첫']\n",
            "[24, 25] ['▁번', '에']\n",
            "[26, 27] ['▁삼', '십']\n",
            "[28] ['▁전']\n",
            "[29, 30, 31] ['▁둘', '째', '번']\n",
            "[32, 33] ['▁오', '십']\n",
            "[34] ['▁전']\n",
            "[35, 36, 37] ['▁오', '랜', '만에']\n",
            "[38, 39, 40] ['▁받아', '보', '는']\n",
            "[41] ['▁십']\n",
            "[42, 43, 44] ['▁전', '짜', '리']\n",
            "[45, 46, 47] ['▁백', '통', '화']\n",
            "[48, 49, 50] ['▁서', '푼', '에']\n",
            "[52, 53, 54] ['▁손', '바', '닥']\n",
            "[55, 56] ['▁위', '엔']\n",
            "[57, 58, 59] ['▁기', '쁨', '의']\n",
            "[60, 61] ['▁눈', '물이']\n",
            "[62, 63] ['▁흘', '러']\n",
            "[64, 65, 66] ['▁컬', '컬', '한']\n",
            "[67, 68] ['▁목', '에']\n",
            "[69, 70] ['▁모', '주']\n",
            "[71, 72, 73] ['▁한', '잔', '을']\n",
            "[74, 75] ['▁적', '셔']\n",
            "[76] ['▁몇']\n",
            "[77] ['▁달']\n",
            "[78] ['▁포']\n",
            "[79, 80] ['▁전', '부터']\n",
            "[81, 82, 83, 84] ['▁콜', '록', '거', '리는']\n",
            "[85] ['▁아내']\n",
            "[86, 87] ['▁생각', '에']\n",
            "[88, 89, 90] ['▁그', '토', '록']\n",
            "[91, 92] ['▁먹', '고']\n",
            "[93, 94, 95] ['▁싶', '다', '던']\n"
          ]
        }
      ],
      "source": [
        "# 띄어쓰기 단위로 mask 하기 위해서 index 분할\n",
        "cand_idx = []  # word 단위의 index array\n",
        "for (i, token) in enumerate(tokens_org):\n",
        "    if token == \"[CLS]\" or token == \"[SEP]\":\n",
        "        continue\n",
        "    if 0 < len(cand_idx) and not token.startswith(u\"\\u2581\"):\n",
        "        cand_idx[-1].append(i)\n",
        "    else:\n",
        "        cand_idx.append([i])\n",
        "\n",
        "# 결과확인\n",
        "for cand in cand_idx:\n",
        "    print(cand, [tokens_org[i] for i in cand])"
      ]
    },
    {
      "cell_type": "code",
      "source": [
        "# random mask를 위해서 순서를 섞음\n",
        "random.shuffle(cand_idx)\n",
        "cand_idx"
      ],
      "metadata": {
        "colab": {
          "base_uri": "https://localhost:8080/"
        },
        "id": "emtxYFn_Lppi",
        "outputId": "cd7c2524-b110-4790-9c5e-f254080d2b3e"
      },
      "execution_count": 17,
      "outputs": [
        {
          "output_type": "execute_result",
          "data": {
            "text/plain": [
              "[[24, 25],\n",
              " [57, 58, 59],\n",
              " [32, 33],\n",
              " [64, 65, 66],\n",
              " [41],\n",
              " [79, 80],\n",
              " [52, 53, 54],\n",
              " [67, 68],\n",
              " [29, 30, 31],\n",
              " [91, 92],\n",
              " [23],\n",
              " [26, 27],\n",
              " [76],\n",
              " [42, 43, 44],\n",
              " [78],\n",
              " [60, 61],\n",
              " [38, 39, 40],\n",
              " [93, 94, 95],\n",
              " [9, 10, 11],\n",
              " [81, 82, 83, 84],\n",
              " [85],\n",
              " [12, 13, 14],\n",
              " [34],\n",
              " [71, 72, 73],\n",
              " [77],\n",
              " [45, 46, 47],\n",
              " [48, 49, 50],\n",
              " [28],\n",
              " [74, 75],\n",
              " [62, 63],\n",
              " [88, 89, 90],\n",
              " [5, 6],\n",
              " [35, 36, 37],\n",
              " [55, 56],\n",
              " [18, 19, 20],\n",
              " [86, 87],\n",
              " [7, 8],\n",
              " [15, 16, 17],\n",
              " [1, 2, 3, 4],\n",
              " [21, 22],\n",
              " [69, 70]]"
            ]
          },
          "metadata": {},
          "execution_count": 17
        }
      ]
    },
    {
      "cell_type": "code",
      "source": [
        "# tokens가 mask되므로 재 실행을 위해서 넣어줌 (테스트용)\n",
        "tokens = copy.deepcopy(tokens_org)\n",
        "\n",
        "mask_lms = []  # mask 된 값\n",
        "for index_set in cand_idx:\n",
        "    if len(mask_lms) >= mask_cnt:  # 핸재 mask된 개수가 15%를 넘으면 중지\n",
        "          break\n",
        "    if len(mask_lms) + len(index_set) > mask_cnt:  # 이번에 mask할 개수를 포함해 15%를 넘으면 skip\n",
        "          continue\n",
        "    dice = random.random()  # 0..1 사이의 확률 값\n",
        "\n",
        "    for index in index_set:\n",
        "        masked_token = None\n",
        "        if dice < 0.8:  # 80% replace with [MASK]\n",
        "            masked_token = \"[MASK]\"\n",
        "        elif dice < 0.9: # 10% keep original\n",
        "            masked_token = tokens[index]\n",
        "        else:  # 10% random word\n",
        "            masked_token = random.choice(vocab_list)\n",
        "        mask_lms.append({\"index\": index, \"label\": tokens[index]})\n",
        "        tokens[index] = masked_token\n",
        "\n",
        "print(tokens_org)\n",
        "print(tokens)"
      ],
      "metadata": {
        "colab": {
          "base_uri": "https://localhost:8080/"
        },
        "id": "RE5sC7AfLprj",
        "outputId": "e1dad814-6339-4d35-8e5e-b437cbdcff81"
      },
      "execution_count": 18,
      "outputs": [
        {
          "output_type": "stream",
          "name": "stdout",
          "text": [
            "['[CLS]', '▁추', '적', '추', '적', '▁비', '가', '▁내', '리는', '▁날', '이었', '어', '▁그', '날', '은', '▁', '왠', '지', '▁손', '님', '이', '▁많', '아', '▁첫', '▁번', '에', '▁삼', '십', '▁전', '▁둘', '째', '번', '▁오', '십', '▁전', '▁오', '랜', '만에', '▁받아', '보', '는', '▁십', '▁전', '짜', '리', '▁백', '통', '화', '▁서', '푼', '에', '[SEP]', '▁손', '바', '닥', '▁위', '엔', '▁기', '쁨', '의', '▁눈', '물이', '▁흘', '러', '▁컬', '컬', '한', '▁목', '에', '▁모', '주', '▁한', '잔', '을', '▁적', '셔', '▁몇', '▁달', '▁포', '▁전', '부터', '▁콜', '록', '거', '리는', '▁아내', '▁생각', '에', '▁그', '토', '록', '▁먹', '고', '▁싶', '다', '던', '[SEP]']\n",
            "['[CLS]', '▁추', '적', '추', '적', '▁비', '가', '▁내', '리는', '▁날', '이었', '어', '▁그', '날', '은', '▁', '왠', '지', '▁손', '님', '이', '▁많', '아', '[MASK]', '[MASK]', '[MASK]', '▁삼', '십', '▁전', '▁둘', '째', '번', '[MASK]', '[MASK]', '▁전', '▁오', '랜', '만에', '▁받아', '보', '는', '프', '▁전', '짜', '리', '▁백', '통', '화', '▁서', '푼', '에', '[SEP]', '▁손', '바', '닥', '▁위', '엔', '[MASK]', '[MASK]', '[MASK]', '▁눈', '물이', '▁흘', '러', '[MASK]', '[MASK]', '[MASK]', '▁목', '에', '▁모', '주', '▁한', '잔', '을', '▁적', '셔', '▁몇', '▁달', '▁포', '▁전', '부터', '▁콜', '록', '거', '리는', '▁아내', '▁생각', '에', '▁그', '토', '록', '▁먹', '고', '▁싶', '다', '던', '[SEP]']\n"
          ]
        }
      ]
    },
    {
      "cell_type": "code",
      "source": [
        "# 순서 정렬 및 mask_idx, mask_label 생성\n",
        "mask_lms = sorted(mask_lms, key=lambda x: x[\"index\"])\n",
        "mask_idx = [p[\"index\"] for p in mask_lms]\n",
        "mask_label = [p[\"label\"] for p in mask_lms]\n",
        "\n",
        "print(mask_idx)\n",
        "print(mask_label)"
      ],
      "metadata": {
        "colab": {
          "base_uri": "https://localhost:8080/"
        },
        "id": "wJGiZwIfLptf",
        "outputId": "c9a0639c-0dbf-4d7a-a26c-277c18e43415"
      },
      "execution_count": 19,
      "outputs": [
        {
          "output_type": "stream",
          "name": "stdout",
          "text": [
            "[23, 24, 25, 32, 33, 41, 57, 58, 59, 64, 65, 66, 79, 80]\n",
            "['▁첫', '▁번', '에', '▁오', '십', '▁십', '▁기', '쁨', '의', '▁컬', '컬', '한', '▁전', '부터']\n"
          ]
        }
      ]
    },
    {
      "cell_type": "code",
      "source": [
        "def create_pretrain_mask(tokens, mask_cnt, vocab_list):\n",
        "    \"\"\"\n",
        "    마스크 생성\n",
        "    :param tokens: tokens\n",
        "    :param mask_cnt: mask 개수 (전체 tokens의 15%)\n",
        "    :param vocab_list: vocab list (random token 용)\n",
        "    :return tokens: mask된 tokens\n",
        "    :return mask_idx: mask된 token의 index\n",
        "    :return mask_label: mask된 token의 원래 값\n",
        "    \"\"\"\n",
        "    # 단어 단위로 mask 하기 위해서 index 분할\n",
        "    cand_idx = []  # word 단위의 index array\n",
        "    for (i, token) in enumerate(tokens):\n",
        "        if token == \"[CLS]\" or token == \"[SEP]\":\n",
        "            continue\n",
        "        if 0 < len(cand_idx) and not token.startswith(u\"\\u2581\"):\n",
        "            cand_idx[-1].append(i)\n",
        "        else:\n",
        "            cand_idx.append([i])\n",
        "    # random mask를 위해서 순서를 섞음\n",
        "    random.shuffle(cand_idx)\n",
        "\n",
        "    mask_lms = []  # mask 된 값\n",
        "    for index_set in cand_idx:\n",
        "        if len(mask_lms) >= mask_cnt:  # 핸재 mask된 개수가 15%를 넘으면 중지\n",
        "            break\n",
        "        if len(mask_lms) + len(index_set) > mask_cnt:  # 이번에 mask할 개수를 포함해 15%를 넘으면 skip\n",
        "            continue\n",
        "        dice = random.random()  # 0..1 사이의 확률 값\n",
        "        for index in index_set:\n",
        "            masked_token = None\n",
        "            if dice < 0.8:  # 80% replace with [MASK]\n",
        "                masked_token = \"[MASK]\"\n",
        "            elif dice < 0.9: # 10% keep original\n",
        "                masked_token = tokens[index]\n",
        "            else:  # 10% random word\n",
        "                masked_token = random.choice(vocab_list)\n",
        "            mask_lms.append({\"index\": index, \"label\": tokens[index]})\n",
        "            tokens[index] = masked_token\n",
        "    # mask_lms 정렬 후 mask_idx, mask_label 추출\n",
        "    mask_lms = sorted(mask_lms, key=lambda x: x[\"index\"])\n",
        "    mask_idx = [p[\"index\"] for p in mask_lms]  # mask된 token의 index\n",
        "    mask_label = [p[\"label\"] for p in mask_lms]  # mask된 token의 원래 값\n",
        "\n",
        "    return tokens, mask_idx, mask_label"
      ],
      "metadata": {
        "id": "fzCbPNZmLpvr"
      },
      "execution_count": 20,
      "outputs": []
    },
    {
      "cell_type": "code",
      "source": [
        "# tokens가 mask되므로 재 실행을 위해서 넣어줌 (테스트용)\n",
        "tokens = copy.deepcopy(tokens_org)\n",
        "\n",
        "tokens, mask_idx, mask_label = create_pretrain_mask(tokens, mask_cnt, vocab_list)\n",
        "print(tokens_org)\n",
        "print(tokens)\n",
        "print(mask_idx)\n",
        "print(mask_label)"
      ],
      "metadata": {
        "colab": {
          "base_uri": "https://localhost:8080/"
        },
        "id": "CuD82QQXLpxq",
        "outputId": "935974ea-e291-4632-9af0-8acd050facda"
      },
      "execution_count": 21,
      "outputs": [
        {
          "output_type": "stream",
          "name": "stdout",
          "text": [
            "['[CLS]', '▁추', '적', '추', '적', '▁비', '가', '▁내', '리는', '▁날', '이었', '어', '▁그', '날', '은', '▁', '왠', '지', '▁손', '님', '이', '▁많', '아', '▁첫', '▁번', '에', '▁삼', '십', '▁전', '▁둘', '째', '번', '▁오', '십', '▁전', '▁오', '랜', '만에', '▁받아', '보', '는', '▁십', '▁전', '짜', '리', '▁백', '통', '화', '▁서', '푼', '에', '[SEP]', '▁손', '바', '닥', '▁위', '엔', '▁기', '쁨', '의', '▁눈', '물이', '▁흘', '러', '▁컬', '컬', '한', '▁목', '에', '▁모', '주', '▁한', '잔', '을', '▁적', '셔', '▁몇', '▁달', '▁포', '▁전', '부터', '▁콜', '록', '거', '리는', '▁아내', '▁생각', '에', '▁그', '토', '록', '▁먹', '고', '▁싶', '다', '던', '[SEP]']\n",
            "['[CLS]', '▁추', '적', '추', '적', '▁비', '가', '▁내', '리는', '▁날', '이었', '어', '▁그', '날', '은', '▁', '왠', '지', '▁손', '님', '이', '[MASK]', '[MASK]', '[MASK]', '▁번', '에', '▁삼', '십', '▁전', '▁둘', '째', '번', '▁오', '십', '▁전', '▁오', '랜', '만에', '▁받아', '보', '는', '▁십', '▁전', '짜', '리', '▁백', '통', '화', '팹', '著', '內', '[SEP]', '▁손', '바', '닥', '[MASK]', '[MASK]', '▁기', '쁨', '의', '▁눈', '물이', '▁흘', '러', '▁컬', '컬', '한', '▁목', '에', '[MASK]', '[MASK]', '▁한', '잔', '을', '▁적', '셔', '▁몇', '▁달', '▁포', '▁전', '부터', '▁콜', '록', '거', '리는', '▁아내', '[MASK]', '[MASK]', '▁그', '토', '록', '▁먹', '고', '▁싶', '다', '던', '[SEP]']\n",
            "[21, 22, 23, 48, 49, 50, 55, 56, 62, 63, 69, 70, 86, 87]\n",
            "['▁많', '아', '▁첫', '▁서', '푼', '에', '▁위', '엔', '▁흘', '러', '▁모', '주', '▁생각', '에']\n"
          ]
        }
      ]
    },
    {
      "cell_type": "code",
      "source": [
        "string = \"\"\"추적추적 비가 내리는 날이었어\n",
        "그날은 왠지 손님이 많아\n",
        "첫 번에 삼십 전 둘째번 오십 전\n",
        "오랜만에 받아보는 십 전짜리 백통화 서푼에\n",
        "손바닥 위엔 기쁨의 눈물이 흘러\n",
        "컬컬한 목에 모주 한잔을 적셔\n",
        "몇 달 포 전부터 콜록거리는 아내\n",
        "생각에 그토록 먹고 싶다던\n",
        "설렁탕 한 그릇을 이제는 살 수 있어\n",
        "집으로 돌아가는 길 난 문득 떠올라\n",
        "아내의 목소리가 거칠어만 가는 희박한 숨소리가\n",
        "오늘은 왠지 나가지 말라던 내 옆에 있어 달라던\n",
        "그리도 나가고 싶으면 일찍이라도 들어와 달라던\n",
        "아내의 간절한 목소리가 들려와\n",
        "나를 원망하듯 비는 점점 거세져\n",
        "싸늘히 식어가는 아내가 떠올라 걱정은 더해져\n",
        "난 몰라 오늘은 운수 좋은 날\n",
        "난 맨날 이렇게 살 수 있으면 얼마나 좋을까\"\"\""
      ],
      "metadata": {
        "id": "C3nRtrrnLpzr"
      },
      "execution_count": 22,
      "outputs": []
    },
    {
      "cell_type": "code",
      "source": [
        "# 줄 단위로 tokenize\n",
        "doc = [vocab.encode_as_pieces(line) for line in string.split(\"\\n\")]\n",
        "doc[:3]"
      ],
      "metadata": {
        "colab": {
          "base_uri": "https://localhost:8080/"
        },
        "id": "vEWiii1qLp19",
        "outputId": "02c2043f-cde0-4f67-b513-7c0e476353b9"
      },
      "execution_count": 23,
      "outputs": [
        {
          "output_type": "execute_result",
          "data": {
            "text/plain": [
              "[['▁추', '적', '추', '적', '▁비', '가', '▁내', '리는', '▁날', '이었', '어'],\n",
              " ['▁그', '날', '은', '▁', '왠', '지', '▁손', '님', '이', '▁많', '아'],\n",
              " ['▁첫', '▁번', '에', '▁삼', '십', '▁전', '▁둘', '째', '번', '▁오', '십', '▁전']]"
            ]
          },
          "metadata": {},
          "execution_count": 23
        }
      ]
    },
    {
      "cell_type": "code",
      "source": [
        "# 최대 길이\n",
        "n_test_seq = 64\n",
        "# 최소 길이\n",
        "min_seq = 8\n",
        "# [CLS], tokens_a, [SEB], tokens_b, [SEP]\n",
        "max_seq = n_test_seq - 3"
      ],
      "metadata": {
        "id": "GZgaG_nQLp4I"
      },
      "execution_count": 24,
      "outputs": []
    },
    {
      "cell_type": "code",
      "source": [
        "current_chunk = []  # line 단위 tokens\n",
        "current_length = 0\n",
        "for i in range(len(doc)):  # doc 전체를 loop\n",
        "    current_chunk.append(doc[i])  # line 단위로 추가\n",
        "    current_length += len(doc[i])  # current_chunk의 token 수\n",
        "    if 1 < len(current_chunk) and (i == len(doc) - 1 or current_length >= max_seq):  # 마지막 줄 이거나 길이가 max_seq 이상 인 경우\n",
        "        print(\"current_chunk:\", len(current_chunk), current_length, current_chunk)\n",
        "\n",
        "        #######################################\n",
        "        # token a\n",
        "        a_end = 1\n",
        "        if 1 < len(current_chunk):\n",
        "            a_end = random.randrange(1, len(current_chunk))\n",
        "        tokens_a = []\n",
        "        for j in range(a_end):\n",
        "            tokens_a.extend(current_chunk[j])\n",
        "        # token b\n",
        "        tokens_b = []\n",
        "        for j in range(a_end, len(current_chunk)):\n",
        "            tokens_b.extend(current_chunk[j])\n",
        "          \n",
        "        print(\"tokens_a:\", len(tokens_a), tokens_a)\n",
        "        print(\"tokens_b:\", len(tokens_b), tokens_b)\n",
        "        #######################################\n",
        "        print()\n",
        "\n",
        "        current_chunk = []\n",
        "        current_length = 0"
      ],
      "metadata": {
        "colab": {
          "base_uri": "https://localhost:8080/"
        },
        "id": "FEGm132jLp6R",
        "outputId": "3887bd1c-6d7f-41f7-b939-33f28e46ae38"
      },
      "execution_count": 25,
      "outputs": [
        {
          "output_type": "stream",
          "name": "stdout",
          "text": [
            "current_chunk: 5 62 [['▁추', '적', '추', '적', '▁비', '가', '▁내', '리는', '▁날', '이었', '어'], ['▁그', '날', '은', '▁', '왠', '지', '▁손', '님', '이', '▁많', '아'], ['▁첫', '▁번', '에', '▁삼', '십', '▁전', '▁둘', '째', '번', '▁오', '십', '▁전'], ['▁오', '랜', '만에', '▁받아', '보', '는', '▁십', '▁전', '짜', '리', '▁백', '통', '화', '▁서', '푼', '에'], ['▁손', '바', '닥', '▁위', '엔', '▁기', '쁨', '의', '▁눈', '물이', '▁흘', '러']]\n",
            "tokens_a: 50 ['▁추', '적', '추', '적', '▁비', '가', '▁내', '리는', '▁날', '이었', '어', '▁그', '날', '은', '▁', '왠', '지', '▁손', '님', '이', '▁많', '아', '▁첫', '▁번', '에', '▁삼', '십', '▁전', '▁둘', '째', '번', '▁오', '십', '▁전', '▁오', '랜', '만에', '▁받아', '보', '는', '▁십', '▁전', '짜', '리', '▁백', '통', '화', '▁서', '푼', '에']\n",
            "tokens_b: 12 ['▁손', '바', '닥', '▁위', '엔', '▁기', '쁨', '의', '▁눈', '물이', '▁흘', '러']\n",
            "\n",
            "current_chunk: 6 71 [['▁컬', '컬', '한', '▁목', '에', '▁모', '주', '▁한', '잔', '을', '▁적', '셔'], ['▁몇', '▁달', '▁포', '▁전', '부터', '▁콜', '록', '거', '리는', '▁아내'], ['▁생각', '에', '▁그', '토', '록', '▁먹', '고', '▁싶', '다', '던'], ['▁설', '렁', '탕', '▁한', '▁그', '릇', '을', '▁이', '제는', '▁살', '▁수', '▁있어'], ['▁집', '으로', '▁돌아', '가는', '▁길', '▁난', '▁문', '득', '▁떠', '올', '라'], ['▁아내', '의', '▁목', '소', '리가', '▁거', '칠', '어', '만', '▁가는', '▁희', '박', '한', '▁숨', '소', '리가']]\n",
            "tokens_a: 55 ['▁컬', '컬', '한', '▁목', '에', '▁모', '주', '▁한', '잔', '을', '▁적', '셔', '▁몇', '▁달', '▁포', '▁전', '부터', '▁콜', '록', '거', '리는', '▁아내', '▁생각', '에', '▁그', '토', '록', '▁먹', '고', '▁싶', '다', '던', '▁설', '렁', '탕', '▁한', '▁그', '릇', '을', '▁이', '제는', '▁살', '▁수', '▁있어', '▁집', '으로', '▁돌아', '가는', '▁길', '▁난', '▁문', '득', '▁떠', '올', '라']\n",
            "tokens_b: 16 ['▁아내', '의', '▁목', '소', '리가', '▁거', '칠', '어', '만', '▁가는', '▁희', '박', '한', '▁숨', '소', '리가']\n",
            "\n",
            "current_chunk: 5 73 [['▁오늘', '은', '▁', '왠', '지', '▁나', '가지', '▁말', '라', '던', '▁내', '▁옆', '에', '▁있어', '▁달', '라', '던'], ['▁그리', '도', '▁나가', '고', '▁싶', '으면', '▁일', '찍', '이라', '도', '▁들어', '와', '▁달', '라', '던'], ['▁아내', '의', '▁간', '절', '한', '▁목', '소', '리가', '▁들', '려', '와'], ['▁나', '를', '▁원', '망', '하', '듯', '▁비', '는', '▁점', '점', '▁거', '세', '져'], ['▁싸', '늘', '히', '▁식', '어', '가는', '▁아내', '가', '▁떠', '올', '라', '▁', '걱', '정은', '▁더', '해', '져']]\n",
            "tokens_a: 56 ['▁오늘', '은', '▁', '왠', '지', '▁나', '가지', '▁말', '라', '던', '▁내', '▁옆', '에', '▁있어', '▁달', '라', '던', '▁그리', '도', '▁나가', '고', '▁싶', '으면', '▁일', '찍', '이라', '도', '▁들어', '와', '▁달', '라', '던', '▁아내', '의', '▁간', '절', '한', '▁목', '소', '리가', '▁들', '려', '와', '▁나', '를', '▁원', '망', '하', '듯', '▁비', '는', '▁점', '점', '▁거', '세', '져']\n",
            "tokens_b: 17 ['▁싸', '늘', '히', '▁식', '어', '가는', '▁아내', '가', '▁떠', '올', '라', '▁', '걱', '정은', '▁더', '해', '져']\n",
            "\n",
            "current_chunk: 2 22 [['▁난', '▁몰', '라', '▁오늘', '은', '▁운', '수', '▁좋은', '▁날'], ['▁난', '▁맨', '날', '▁이렇게', '▁살', '▁수', '▁있', '으면', '▁얼마', '나', '▁좋', '을', '까']]\n",
            "tokens_a: 9 ['▁난', '▁몰', '라', '▁오늘', '은', '▁운', '수', '▁좋은', '▁날']\n",
            "tokens_b: 13 ['▁난', '▁맨', '날', '▁이렇게', '▁살', '▁수', '▁있', '으면', '▁얼마', '나', '▁좋', '을', '까']\n",
            "\n"
          ]
        }
      ]
    },
    {
      "cell_type": "code",
      "source": [
        "def trim_tokens(tokens_a, tokens_b, max_seq):\n",
        "    \"\"\"\n",
        "    tokens_a, tokens_b의 길이를 줄임 최대 길이: max_seq\n",
        "    :param tokens_a: tokens A\n",
        "    :param tokens_b: tokens B\n",
        "    :param max_seq: 두 tokens 길이의 최대 값\n",
        "    \"\"\"\n",
        "    while True:\n",
        "        total_length = len(tokens_a) + len(tokens_b)\n",
        "        if total_length <= max_seq:\n",
        "            break\n",
        "\n",
        "        if len(tokens_a) > len(tokens_b):\n",
        "            del tokens_a[0]\n",
        "        else:\n",
        "            tokens_b.pop()"
      ],
      "metadata": {
        "id": "PL_zTymkL2Po"
      },
      "execution_count": 26,
      "outputs": []
    },
    {
      "cell_type": "code",
      "source": [
        "current_chunk = []  # line 단위 tokens\n",
        "current_length = 0\n",
        "for i in range(len(doc)):  # doc 전체를 loop\n",
        "    current_chunk.append(doc[i])  # line 단위로 추가\n",
        "    current_length += len(doc[i])  # current_chunk의 token 수\n",
        "    if 1 < len(current_chunk) and (i == len(doc) - 1 or current_length >= max_seq):  # 마지막 줄 이거나 길이가 max_seq 이상 인 경우\n",
        "        print(\"current_chunk:\", len(current_chunk), current_length, current_chunk)\n",
        "\n",
        "        # token a\n",
        "        a_end = 1\n",
        "        if 1 < len(current_chunk):\n",
        "            a_end = random.randrange(1, len(current_chunk))\n",
        "        tokens_a = []\n",
        "        for j in range(a_end):\n",
        "            tokens_a.extend(current_chunk[j])\n",
        "        # token b\n",
        "        tokens_b = []\n",
        "        for j in range(a_end, len(current_chunk)):\n",
        "            tokens_b.extend(current_chunk[j])\n",
        "\n",
        "        #######################################\n",
        "        if random.random() < 0.5:  # 50% 확률로 swap\n",
        "            is_next = 0\n",
        "            tokens_t = tokens_a\n",
        "            tokens_a = tokens_b\n",
        "            tokens_b = tokens_t\n",
        "        else:\n",
        "            is_next = 1\n",
        "        # max_seq 보다 큰 경우 길이 조절\n",
        "        trim_tokens(tokens_a, tokens_b, max_seq)\n",
        "        assert 0 < len(tokens_a)\n",
        "        assert 0 < len(tokens_b)\n",
        "\n",
        "        print(\"is_next:\", is_next)\n",
        "        print(\"tokens_a:\", len(tokens_a), tokens_a)\n",
        "        print(\"tokens_b:\", len(tokens_b), tokens_b)\n",
        "        #######################################\n",
        "        print()\n",
        "\n",
        "        current_chunk = []\n",
        "        current_length = 0"
      ],
      "metadata": {
        "colab": {
          "base_uri": "https://localhost:8080/"
        },
        "id": "rV7BbsWSL2Rm",
        "outputId": "34af20d1-9608-4584-d0ff-0cb9c0f2a2bb"
      },
      "execution_count": 27,
      "outputs": [
        {
          "output_type": "stream",
          "name": "stdout",
          "text": [
            "current_chunk: 5 62 [['▁추', '적', '추', '적', '▁비', '가', '▁내', '리는', '▁날', '이었', '어'], ['▁그', '날', '은', '▁', '왠', '지', '▁손', '님', '이', '▁많', '아'], ['▁첫', '▁번', '에', '▁삼', '십', '▁전', '▁둘', '째', '번', '▁오', '십', '▁전'], ['▁오', '랜', '만에', '▁받아', '보', '는', '▁십', '▁전', '짜', '리', '▁백', '통', '화', '▁서', '푼', '에'], ['▁손', '바', '닥', '▁위', '엔', '▁기', '쁨', '의', '▁눈', '물이', '▁흘', '러']]\n",
            "is_next: 0\n",
            "tokens_a: 28 ['▁오', '랜', '만에', '▁받아', '보', '는', '▁십', '▁전', '짜', '리', '▁백', '통', '화', '▁서', '푼', '에', '▁손', '바', '닥', '▁위', '엔', '▁기', '쁨', '의', '▁눈', '물이', '▁흘', '러']\n",
            "tokens_b: 33 ['▁추', '적', '추', '적', '▁비', '가', '▁내', '리는', '▁날', '이었', '어', '▁그', '날', '은', '▁', '왠', '지', '▁손', '님', '이', '▁많', '아', '▁첫', '▁번', '에', '▁삼', '십', '▁전', '▁둘', '째', '번', '▁오', '십']\n",
            "\n",
            "current_chunk: 6 71 [['▁컬', '컬', '한', '▁목', '에', '▁모', '주', '▁한', '잔', '을', '▁적', '셔'], ['▁몇', '▁달', '▁포', '▁전', '부터', '▁콜', '록', '거', '리는', '▁아내'], ['▁생각', '에', '▁그', '토', '록', '▁먹', '고', '▁싶', '다', '던'], ['▁설', '렁', '탕', '▁한', '▁그', '릇', '을', '▁이', '제는', '▁살', '▁수', '▁있어'], ['▁집', '으로', '▁돌아', '가는', '▁길', '▁난', '▁문', '득', '▁떠', '올', '라'], ['▁아내', '의', '▁목', '소', '리가', '▁거', '칠', '어', '만', '▁가는', '▁희', '박', '한', '▁숨', '소', '리가']]\n",
            "is_next: 0\n",
            "tokens_a: 39 ['▁설', '렁', '탕', '▁한', '▁그', '릇', '을', '▁이', '제는', '▁살', '▁수', '▁있어', '▁집', '으로', '▁돌아', '가는', '▁길', '▁난', '▁문', '득', '▁떠', '올', '라', '▁아내', '의', '▁목', '소', '리가', '▁거', '칠', '어', '만', '▁가는', '▁희', '박', '한', '▁숨', '소', '리가']\n",
            "tokens_b: 22 ['▁컬', '컬', '한', '▁목', '에', '▁모', '주', '▁한', '잔', '을', '▁적', '셔', '▁몇', '▁달', '▁포', '▁전', '부터', '▁콜', '록', '거', '리는', '▁아내']\n",
            "\n",
            "current_chunk: 5 73 [['▁오늘', '은', '▁', '왠', '지', '▁나', '가지', '▁말', '라', '던', '▁내', '▁옆', '에', '▁있어', '▁달', '라', '던'], ['▁그리', '도', '▁나가', '고', '▁싶', '으면', '▁일', '찍', '이라', '도', '▁들어', '와', '▁달', '라', '던'], ['▁아내', '의', '▁간', '절', '한', '▁목', '소', '리가', '▁들', '려', '와'], ['▁나', '를', '▁원', '망', '하', '듯', '▁비', '는', '▁점', '점', '▁거', '세', '져'], ['▁싸', '늘', '히', '▁식', '어', '가는', '▁아내', '가', '▁떠', '올', '라', '▁', '걱', '정은', '▁더', '해', '져']]\n",
            "is_next: 1\n",
            "tokens_a: 17 ['▁오늘', '은', '▁', '왠', '지', '▁나', '가지', '▁말', '라', '던', '▁내', '▁옆', '에', '▁있어', '▁달', '라', '던']\n",
            "tokens_b: 44 ['▁그리', '도', '▁나가', '고', '▁싶', '으면', '▁일', '찍', '이라', '도', '▁들어', '와', '▁달', '라', '던', '▁아내', '의', '▁간', '절', '한', '▁목', '소', '리가', '▁들', '려', '와', '▁나', '를', '▁원', '망', '하', '듯', '▁비', '는', '▁점', '점', '▁거', '세', '져', '▁싸', '늘', '히', '▁식', '어']\n",
            "\n",
            "current_chunk: 2 22 [['▁난', '▁몰', '라', '▁오늘', '은', '▁운', '수', '▁좋은', '▁날'], ['▁난', '▁맨', '날', '▁이렇게', '▁살', '▁수', '▁있', '으면', '▁얼마', '나', '▁좋', '을', '까']]\n",
            "is_next: 1\n",
            "tokens_a: 9 ['▁난', '▁몰', '라', '▁오늘', '은', '▁운', '수', '▁좋은', '▁날']\n",
            "tokens_b: 13 ['▁난', '▁맨', '날', '▁이렇게', '▁살', '▁수', '▁있', '으면', '▁얼마', '나', '▁좋', '을', '까']\n",
            "\n"
          ]
        }
      ]
    },
    {
      "cell_type": "code",
      "source": [
        "instances = []\n",
        "current_chunk = []  # line 단위 tokens\n",
        "current_length = 0\n",
        "for i in range(len(doc)):  # doc 전체를 loop\n",
        "    current_chunk.append(doc[i])  # line 단위로 추가\n",
        "    current_length += len(doc[i])  # current_chunk의 token 수\n",
        "    if 1 < len(current_chunk) and (i == len(doc) - 1 or current_length >= max_seq):  # 마지막 줄 이거나 길이가 max_seq 이상 인 경우\n",
        "        print(\"current_chunk:\", len(current_chunk), current_length, current_chunk)\n",
        "\n",
        "        # token a\n",
        "        a_end = 1\n",
        "        if 1 < len(current_chunk):\n",
        "            a_end = random.randrange(1, len(current_chunk))\n",
        "        tokens_a = []\n",
        "        for j in range(a_end):\n",
        "            tokens_a.extend(current_chunk[j])\n",
        "        # token b\n",
        "        tokens_b = []\n",
        "        for j in range(a_end, len(current_chunk)):\n",
        "            tokens_b.extend(current_chunk[j])\n",
        "\n",
        "        if random.random() < 0.5:  # 50% 확률로 swap\n",
        "            is_next = 0\n",
        "            tokens_t = tokens_a\n",
        "            tokens_a = tokens_b\n",
        "            tokens_b = tokens_t\n",
        "        else:\n",
        "            is_next = 1\n",
        "        # max_seq 보다 큰 경우 길이 조절\n",
        "        trim_tokens(tokens_a, tokens_b, max_seq)\n",
        "        assert 0 < len(tokens_a)\n",
        "        assert 0 < len(tokens_b)\n",
        "\n",
        "        print(\"is_next:\", is_next)\n",
        "        print(\"tokens_a:\", len(tokens_a), tokens_a)\n",
        "        print(\"tokens_b:\", len(tokens_b), tokens_b)\n",
        "        #######################################\n",
        "        # tokens & aegment 생성\n",
        "        tokens = [\"[CLS]\"] + tokens_a + [\"[SEP]\"] + tokens_b + [\"[SEP]\"]\n",
        "        segment = [0] * (len(tokens_a) + 2) + [1] * (len(tokens_b) + 1)\n",
        "        print(\"tokens:\", len(tokens), tokens)\n",
        "        print(\"segment:\", len(segment), segment)\n",
        "        # mask\n",
        "        tokens, mask_idx, mask_label = create_pretrain_mask(tokens, int((len(tokens) - 3) * 0.15), vocab_list)\n",
        "        print(\"masked tokens:\", len(tokens), tokens)\n",
        "        print(\"masked index:\", len(mask_idx), mask_idx)\n",
        "        print(\"masked label:\", len(mask_label), mask_label)\n",
        "\n",
        "        instance = {\n",
        "            \"tokens\": tokens,\n",
        "            \"segment\": segment,\n",
        "            \"is_next\": is_next,\n",
        "            \"mask_idx\": mask_idx,\n",
        "            \"mask_label\": mask_label\n",
        "        }\n",
        "        instances.append(instance)\n",
        "        #######################################\n",
        "        print()\n",
        "\n",
        "        current_chunk = []\n",
        "        current_length = 0"
      ],
      "metadata": {
        "colab": {
          "base_uri": "https://localhost:8080/"
        },
        "id": "xbh537_iL2Tk",
        "outputId": "2360b02e-ac89-4d3c-cc21-09df74bbcf68"
      },
      "execution_count": 28,
      "outputs": [
        {
          "output_type": "stream",
          "name": "stdout",
          "text": [
            "current_chunk: 5 62 [['▁추', '적', '추', '적', '▁비', '가', '▁내', '리는', '▁날', '이었', '어'], ['▁그', '날', '은', '▁', '왠', '지', '▁손', '님', '이', '▁많', '아'], ['▁첫', '▁번', '에', '▁삼', '십', '▁전', '▁둘', '째', '번', '▁오', '십', '▁전'], ['▁오', '랜', '만에', '▁받아', '보', '는', '▁십', '▁전', '짜', '리', '▁백', '통', '화', '▁서', '푼', '에'], ['▁손', '바', '닥', '▁위', '엔', '▁기', '쁨', '의', '▁눈', '물이', '▁흘', '러']]\n",
            "is_next: 0\n",
            "tokens_a: 12 ['▁손', '바', '닥', '▁위', '엔', '▁기', '쁨', '의', '▁눈', '물이', '▁흘', '러']\n",
            "tokens_b: 49 ['▁추', '적', '추', '적', '▁비', '가', '▁내', '리는', '▁날', '이었', '어', '▁그', '날', '은', '▁', '왠', '지', '▁손', '님', '이', '▁많', '아', '▁첫', '▁번', '에', '▁삼', '십', '▁전', '▁둘', '째', '번', '▁오', '십', '▁전', '▁오', '랜', '만에', '▁받아', '보', '는', '▁십', '▁전', '짜', '리', '▁백', '통', '화', '▁서', '푼']\n",
            "tokens: 64 ['[CLS]', '▁손', '바', '닥', '▁위', '엔', '▁기', '쁨', '의', '▁눈', '물이', '▁흘', '러', '[SEP]', '▁추', '적', '추', '적', '▁비', '가', '▁내', '리는', '▁날', '이었', '어', '▁그', '날', '은', '▁', '왠', '지', '▁손', '님', '이', '▁많', '아', '▁첫', '▁번', '에', '▁삼', '십', '▁전', '▁둘', '째', '번', '▁오', '십', '▁전', '▁오', '랜', '만에', '▁받아', '보', '는', '▁십', '▁전', '짜', '리', '▁백', '통', '화', '▁서', '푼', '[SEP]']\n",
            "segment: 64 [0, 0, 0, 0, 0, 0, 0, 0, 0, 0, 0, 0, 0, 0, 1, 1, 1, 1, 1, 1, 1, 1, 1, 1, 1, 1, 1, 1, 1, 1, 1, 1, 1, 1, 1, 1, 1, 1, 1, 1, 1, 1, 1, 1, 1, 1, 1, 1, 1, 1, 1, 1, 1, 1, 1, 1, 1, 1, 1, 1, 1, 1, 1, 1]\n",
            "masked tokens: 64 ['[CLS]', '▁손', '바', '닥', '▁위', '엔', '▁기', '쁨', '의', '▁눈', '물이', '▁흘', '러', '[SEP]', '▁추', '적', '추', '적', '▁비', '가', '▁내', '리는', '▁날', '이었', '어', '[MASK]', '[MASK]', '[MASK]', '▁', '왠', '지', '▁손', '님', '이', '▁많', '아', '[MASK]', '▁번', '에', '▁삼', '십', '가로', '[MASK]', '[MASK]', '[MASK]', '▁오', '십', '[MASK]', '▁오', '랜', '만에', '▁받아', '보', '는', '▁십', '▁전', '짜', '리', '▁백', '통', '화', '▁서', '푼', '[SEP]']\n",
            "masked index: 9 [25, 26, 27, 36, 41, 42, 43, 44, 47]\n",
            "masked label: 9 ['▁그', '날', '은', '▁첫', '▁전', '▁둘', '째', '번', '▁전']\n",
            "\n",
            "current_chunk: 6 71 [['▁컬', '컬', '한', '▁목', '에', '▁모', '주', '▁한', '잔', '을', '▁적', '셔'], ['▁몇', '▁달', '▁포', '▁전', '부터', '▁콜', '록', '거', '리는', '▁아내'], ['▁생각', '에', '▁그', '토', '록', '▁먹', '고', '▁싶', '다', '던'], ['▁설', '렁', '탕', '▁한', '▁그', '릇', '을', '▁이', '제는', '▁살', '▁수', '▁있어'], ['▁집', '으로', '▁돌아', '가는', '▁길', '▁난', '▁문', '득', '▁떠', '올', '라'], ['▁아내', '의', '▁목', '소', '리가', '▁거', '칠', '어', '만', '▁가는', '▁희', '박', '한', '▁숨', '소', '리가']]\n",
            "is_next: 1\n",
            "tokens_a: 12 ['▁컬', '컬', '한', '▁목', '에', '▁모', '주', '▁한', '잔', '을', '▁적', '셔']\n",
            "tokens_b: 49 ['▁몇', '▁달', '▁포', '▁전', '부터', '▁콜', '록', '거', '리는', '▁아내', '▁생각', '에', '▁그', '토', '록', '▁먹', '고', '▁싶', '다', '던', '▁설', '렁', '탕', '▁한', '▁그', '릇', '을', '▁이', '제는', '▁살', '▁수', '▁있어', '▁집', '으로', '▁돌아', '가는', '▁길', '▁난', '▁문', '득', '▁떠', '올', '라', '▁아내', '의', '▁목', '소', '리가', '▁거']\n",
            "tokens: 64 ['[CLS]', '▁컬', '컬', '한', '▁목', '에', '▁모', '주', '▁한', '잔', '을', '▁적', '셔', '[SEP]', '▁몇', '▁달', '▁포', '▁전', '부터', '▁콜', '록', '거', '리는', '▁아내', '▁생각', '에', '▁그', '토', '록', '▁먹', '고', '▁싶', '다', '던', '▁설', '렁', '탕', '▁한', '▁그', '릇', '을', '▁이', '제는', '▁살', '▁수', '▁있어', '▁집', '으로', '▁돌아', '가는', '▁길', '▁난', '▁문', '득', '▁떠', '올', '라', '▁아내', '의', '▁목', '소', '리가', '▁거', '[SEP]']\n",
            "segment: 64 [0, 0, 0, 0, 0, 0, 0, 0, 0, 0, 0, 0, 0, 0, 1, 1, 1, 1, 1, 1, 1, 1, 1, 1, 1, 1, 1, 1, 1, 1, 1, 1, 1, 1, 1, 1, 1, 1, 1, 1, 1, 1, 1, 1, 1, 1, 1, 1, 1, 1, 1, 1, 1, 1, 1, 1, 1, 1, 1, 1, 1, 1, 1, 1]\n",
            "masked tokens: 64 ['[CLS]', '▁컬', '컬', '한', '▁목', '에', '▁모', '주', '▁한', '잔', '을', '暴', '°', '[SEP]', '▁몇', '▁달', '▁포', '▁전', '부터', '▁콜', '록', '거', '리는', '▁아내', '▁생각', '에', '▁그', '토', '록', '▁먹', '고', '▁싶', '다', '던', '▁설', '렁', '탕', '▁한', '▁그', '릇', '을', '▁이', '제는', '[MASK]', '▁수', '▁있어', '▁집', '으로', '▁돌아', '가는', '[MASK]', '▁난', '▁문', '득', '[MASK]', '[MASK]', '[MASK]', '[MASK]', '[MASK]', '▁목', '소', '리가', '▁거', '[SEP]']\n",
            "masked index: 9 [11, 12, 43, 50, 54, 55, 56, 57, 58]\n",
            "masked label: 9 ['▁적', '셔', '▁살', '▁길', '▁떠', '올', '라', '▁아내', '의']\n",
            "\n",
            "current_chunk: 5 73 [['▁오늘', '은', '▁', '왠', '지', '▁나', '가지', '▁말', '라', '던', '▁내', '▁옆', '에', '▁있어', '▁달', '라', '던'], ['▁그리', '도', '▁나가', '고', '▁싶', '으면', '▁일', '찍', '이라', '도', '▁들어', '와', '▁달', '라', '던'], ['▁아내', '의', '▁간', '절', '한', '▁목', '소', '리가', '▁들', '려', '와'], ['▁나', '를', '▁원', '망', '하', '듯', '▁비', '는', '▁점', '점', '▁거', '세', '져'], ['▁싸', '늘', '히', '▁식', '어', '가는', '▁아내', '가', '▁떠', '올', '라', '▁', '걱', '정은', '▁더', '해', '져']]\n",
            "is_next: 1\n",
            "tokens_a: 17 ['▁오늘', '은', '▁', '왠', '지', '▁나', '가지', '▁말', '라', '던', '▁내', '▁옆', '에', '▁있어', '▁달', '라', '던']\n",
            "tokens_b: 44 ['▁그리', '도', '▁나가', '고', '▁싶', '으면', '▁일', '찍', '이라', '도', '▁들어', '와', '▁달', '라', '던', '▁아내', '의', '▁간', '절', '한', '▁목', '소', '리가', '▁들', '려', '와', '▁나', '를', '▁원', '망', '하', '듯', '▁비', '는', '▁점', '점', '▁거', '세', '져', '▁싸', '늘', '히', '▁식', '어']\n",
            "tokens: 64 ['[CLS]', '▁오늘', '은', '▁', '왠', '지', '▁나', '가지', '▁말', '라', '던', '▁내', '▁옆', '에', '▁있어', '▁달', '라', '던', '[SEP]', '▁그리', '도', '▁나가', '고', '▁싶', '으면', '▁일', '찍', '이라', '도', '▁들어', '와', '▁달', '라', '던', '▁아내', '의', '▁간', '절', '한', '▁목', '소', '리가', '▁들', '려', '와', '▁나', '를', '▁원', '망', '하', '듯', '▁비', '는', '▁점', '점', '▁거', '세', '져', '▁싸', '늘', '히', '▁식', '어', '[SEP]']\n",
            "segment: 64 [0, 0, 0, 0, 0, 0, 0, 0, 0, 0, 0, 0, 0, 0, 0, 0, 0, 0, 0, 1, 1, 1, 1, 1, 1, 1, 1, 1, 1, 1, 1, 1, 1, 1, 1, 1, 1, 1, 1, 1, 1, 1, 1, 1, 1, 1, 1, 1, 1, 1, 1, 1, 1, 1, 1, 1, 1, 1, 1, 1, 1, 1, 1, 1]\n",
            "masked tokens: 64 ['[CLS]', '[MASK]', '[MASK]', '▁', '왠', '지', '▁나', '가지', '▁말', '라', '던', '▁내', '▁옆', '에', '▁있어', '[MASK]', '[MASK]', '[MASK]', '[SEP]', '▁그리', '도', '▁나가', '고', '▁싶', '으면', '[MASK]', '[MASK]', '[MASK]', '[MASK]', '▁들어', '와', '▁달', '라', '던', '▁아내', '의', '▁간', '절', '한', '▁목', '소', '리가', '▁들', '려', '와', '▁나', '를', '▁원', '망', '하', '듯', '▁비', '는', '▁점', '점', '▁거', '세', '져', '▁싸', '늘', '히', '▁식', '어', '[SEP]']\n",
            "masked index: 9 [1, 2, 15, 16, 17, 25, 26, 27, 28]\n",
            "masked label: 9 ['▁오늘', '은', '▁달', '라', '던', '▁일', '찍', '이라', '도']\n",
            "\n",
            "current_chunk: 2 22 [['▁난', '▁몰', '라', '▁오늘', '은', '▁운', '수', '▁좋은', '▁날'], ['▁난', '▁맨', '날', '▁이렇게', '▁살', '▁수', '▁있', '으면', '▁얼마', '나', '▁좋', '을', '까']]\n",
            "is_next: 0\n",
            "tokens_a: 13 ['▁난', '▁맨', '날', '▁이렇게', '▁살', '▁수', '▁있', '으면', '▁얼마', '나', '▁좋', '을', '까']\n",
            "tokens_b: 9 ['▁난', '▁몰', '라', '▁오늘', '은', '▁운', '수', '▁좋은', '▁날']\n",
            "tokens: 25 ['[CLS]', '▁난', '▁맨', '날', '▁이렇게', '▁살', '▁수', '▁있', '으면', '▁얼마', '나', '▁좋', '을', '까', '[SEP]', '▁난', '▁몰', '라', '▁오늘', '은', '▁운', '수', '▁좋은', '▁날', '[SEP]']\n",
            "segment: 25 [0, 0, 0, 0, 0, 0, 0, 0, 0, 0, 0, 0, 0, 0, 0, 1, 1, 1, 1, 1, 1, 1, 1, 1, 1]\n",
            "masked tokens: 25 ['[CLS]', '▁난', '▁맨', '날', '▁이렇게', '▁살', '▁수', '▁있', '으면', '▁얼마', '나', '▁좋', '을', '까', '[SEP]', '▁난', '▁몰', '라', '▁오늘', '은', '▁운', '수', '▁좋은', '▁날', '[SEP]']\n",
            "masked index: 3 [7, 8, 15]\n",
            "masked label: 3 ['▁있', '으면', '▁난']\n",
            "\n"
          ]
        }
      ]
    },
    {
      "cell_type": "code",
      "source": [
        "# 최종 데이터셋 결과 확인\n",
        "for instance in instances:\n",
        "    print(instance)"
      ],
      "metadata": {
        "colab": {
          "base_uri": "https://localhost:8080/"
        },
        "id": "EjEvlh0JL2Vn",
        "outputId": "b14891f0-f96d-4bf8-9a82-c0cd67f93f1a"
      },
      "execution_count": 29,
      "outputs": [
        {
          "output_type": "stream",
          "name": "stdout",
          "text": [
            "{'tokens': ['[CLS]', '▁손', '바', '닥', '▁위', '엔', '▁기', '쁨', '의', '▁눈', '물이', '▁흘', '러', '[SEP]', '▁추', '적', '추', '적', '▁비', '가', '▁내', '리는', '▁날', '이었', '어', '[MASK]', '[MASK]', '[MASK]', '▁', '왠', '지', '▁손', '님', '이', '▁많', '아', '[MASK]', '▁번', '에', '▁삼', '십', '가로', '[MASK]', '[MASK]', '[MASK]', '▁오', '십', '[MASK]', '▁오', '랜', '만에', '▁받아', '보', '는', '▁십', '▁전', '짜', '리', '▁백', '통', '화', '▁서', '푼', '[SEP]'], 'segment': [0, 0, 0, 0, 0, 0, 0, 0, 0, 0, 0, 0, 0, 0, 1, 1, 1, 1, 1, 1, 1, 1, 1, 1, 1, 1, 1, 1, 1, 1, 1, 1, 1, 1, 1, 1, 1, 1, 1, 1, 1, 1, 1, 1, 1, 1, 1, 1, 1, 1, 1, 1, 1, 1, 1, 1, 1, 1, 1, 1, 1, 1, 1, 1], 'is_next': 0, 'mask_idx': [25, 26, 27, 36, 41, 42, 43, 44, 47], 'mask_label': ['▁그', '날', '은', '▁첫', '▁전', '▁둘', '째', '번', '▁전']}\n",
            "{'tokens': ['[CLS]', '▁컬', '컬', '한', '▁목', '에', '▁모', '주', '▁한', '잔', '을', '暴', '°', '[SEP]', '▁몇', '▁달', '▁포', '▁전', '부터', '▁콜', '록', '거', '리는', '▁아내', '▁생각', '에', '▁그', '토', '록', '▁먹', '고', '▁싶', '다', '던', '▁설', '렁', '탕', '▁한', '▁그', '릇', '을', '▁이', '제는', '[MASK]', '▁수', '▁있어', '▁집', '으로', '▁돌아', '가는', '[MASK]', '▁난', '▁문', '득', '[MASK]', '[MASK]', '[MASK]', '[MASK]', '[MASK]', '▁목', '소', '리가', '▁거', '[SEP]'], 'segment': [0, 0, 0, 0, 0, 0, 0, 0, 0, 0, 0, 0, 0, 0, 1, 1, 1, 1, 1, 1, 1, 1, 1, 1, 1, 1, 1, 1, 1, 1, 1, 1, 1, 1, 1, 1, 1, 1, 1, 1, 1, 1, 1, 1, 1, 1, 1, 1, 1, 1, 1, 1, 1, 1, 1, 1, 1, 1, 1, 1, 1, 1, 1, 1], 'is_next': 1, 'mask_idx': [11, 12, 43, 50, 54, 55, 56, 57, 58], 'mask_label': ['▁적', '셔', '▁살', '▁길', '▁떠', '올', '라', '▁아내', '의']}\n",
            "{'tokens': ['[CLS]', '[MASK]', '[MASK]', '▁', '왠', '지', '▁나', '가지', '▁말', '라', '던', '▁내', '▁옆', '에', '▁있어', '[MASK]', '[MASK]', '[MASK]', '[SEP]', '▁그리', '도', '▁나가', '고', '▁싶', '으면', '[MASK]', '[MASK]', '[MASK]', '[MASK]', '▁들어', '와', '▁달', '라', '던', '▁아내', '의', '▁간', '절', '한', '▁목', '소', '리가', '▁들', '려', '와', '▁나', '를', '▁원', '망', '하', '듯', '▁비', '는', '▁점', '점', '▁거', '세', '져', '▁싸', '늘', '히', '▁식', '어', '[SEP]'], 'segment': [0, 0, 0, 0, 0, 0, 0, 0, 0, 0, 0, 0, 0, 0, 0, 0, 0, 0, 0, 1, 1, 1, 1, 1, 1, 1, 1, 1, 1, 1, 1, 1, 1, 1, 1, 1, 1, 1, 1, 1, 1, 1, 1, 1, 1, 1, 1, 1, 1, 1, 1, 1, 1, 1, 1, 1, 1, 1, 1, 1, 1, 1, 1, 1], 'is_next': 1, 'mask_idx': [1, 2, 15, 16, 17, 25, 26, 27, 28], 'mask_label': ['▁오늘', '은', '▁달', '라', '던', '▁일', '찍', '이라', '도']}\n",
            "{'tokens': ['[CLS]', '▁난', '▁맨', '날', '▁이렇게', '▁살', '▁수', '▁있', '으면', '▁얼마', '나', '▁좋', '을', '까', '[SEP]', '▁난', '▁몰', '라', '▁오늘', '은', '▁운', '수', '▁좋은', '▁날', '[SEP]'], 'segment': [0, 0, 0, 0, 0, 0, 0, 0, 0, 0, 0, 0, 0, 0, 0, 1, 1, 1, 1, 1, 1, 1, 1, 1, 1], 'is_next': 0, 'mask_idx': [7, 8, 15], 'mask_label': ['▁있', '으면', '▁난']}\n"
          ]
        }
      ]
    },
    {
      "cell_type": "code",
      "source": [
        "def create_pretrain_instances(vocab, doc, n_seq, mask_prob, vocab_list):\n",
        "    \"\"\"\n",
        "    doc별 pretrain 데이터 생성\n",
        "    \"\"\"\n",
        "    # for CLS], [SEP], [SEP]\n",
        "    max_seq = n_seq - 3\n",
        "\n",
        "    instances = []\n",
        "    current_chunk = []\n",
        "    current_length = 0\n",
        "    for i in range(len(doc)):\n",
        "        current_chunk.append(doc[i])  # line\n",
        "        current_length += len(doc[i])\n",
        "        if 1 < len(current_chunk) and (i == len(doc) - 1 or current_length >= max_seq):\n",
        "            # token a\n",
        "            a_end = 1\n",
        "            if 1 < len(current_chunk):\n",
        "                a_end = random.randrange(1, len(current_chunk))\n",
        "            tokens_a = []\n",
        "            for j in range(a_end):\n",
        "                tokens_a.extend(current_chunk[j])\n",
        "            # token b\n",
        "            tokens_b = []\n",
        "            for j in range(a_end, len(current_chunk)):\n",
        "                tokens_b.extend(current_chunk[j])\n",
        "\n",
        "            if random.random() < 0.5:  # 50% 확률로 swap\n",
        "                is_next = 0\n",
        "                tokens_t = tokens_a\n",
        "                tokens_a = tokens_b\n",
        "                tokens_b = tokens_t\n",
        "            else:\n",
        "                is_next = 1\n",
        "            # max_seq 보다 큰 경우 길이 조절\n",
        "            trim_tokens(tokens_a, tokens_b, max_seq)\n",
        "            assert 0 < len(tokens_a)\n",
        "            assert 0 < len(tokens_b)\n",
        "            # tokens & aegment 생성\n",
        "            tokens = [\"[CLS]\"] + tokens_a + [\"[SEP]\"] + tokens_b + [\"[SEP]\"]\n",
        "            segment = [0] * (len(tokens_a) + 2) + [1] * (len(tokens_b) + 1)\n",
        "            # mask\n",
        "            tokens, mask_idx, mask_label = create_pretrain_mask(tokens, int((len(tokens) - 3) * mask_prob), vocab_list)\n",
        "\n",
        "            instance = {\n",
        "                \"tokens\": tokens,\n",
        "                \"segment\": segment,\n",
        "                \"is_next\": is_next,\n",
        "                \"mask_idx\": mask_idx,\n",
        "                \"mask_label\": mask_label\n",
        "            }\n",
        "            instances.append(instance)\n",
        "\n",
        "            current_chunk = []\n",
        "            current_length = 0\n",
        "    return instances"
      ],
      "metadata": {
        "id": "ioE7aaAsL2Xx"
      },
      "execution_count": 30,
      "outputs": []
    },
    {
      "cell_type": "code",
      "source": [
        "instances = create_pretrain_instances(vocab, doc, n_test_seq, 0.15, vocab_list)\n",
        "\n",
        "# 최종 데이터셋 결과 확인\n",
        "for instance in instances:\n",
        "    print(instance)"
      ],
      "metadata": {
        "colab": {
          "base_uri": "https://localhost:8080/"
        },
        "id": "EsV6etZ0L2Z_",
        "outputId": "01e83fea-2c4a-4f5a-f240-494e4fbd4ad8"
      },
      "execution_count": 31,
      "outputs": [
        {
          "output_type": "stream",
          "name": "stdout",
          "text": [
            "{'tokens': ['[CLS]', '▁번', '에', '▁삼', '십', '▁전', '▁둘', '째', '번', 'え', 'れ', '▁전', '▁오', '랜', '만에', '▁받아', '보', '는', '[MASK]', '▁전', '짜', '리', '▁백', '통', '화', '▁서', '푼', '에', '▁손', '바', '닥', '▁위', '엔', '▁기', '쁨', '의', '▁눈', '물이', '왕의', '衆', '[SEP]', '[MASK]', '[MASK]', '[MASK]', '[MASK]', '▁비', '가', '▁내', '리는', '▁날', '이었', '어', '▁그', '날', '은', '▁', '왠', '지', '▁손', '님', '이', '▁많', '아', '[SEP]'], 'segment': [0, 0, 0, 0, 0, 0, 0, 0, 0, 0, 0, 0, 0, 0, 0, 0, 0, 0, 0, 0, 0, 0, 0, 0, 0, 0, 0, 0, 0, 0, 0, 0, 0, 0, 0, 0, 0, 0, 0, 0, 0, 1, 1, 1, 1, 1, 1, 1, 1, 1, 1, 1, 1, 1, 1, 1, 1, 1, 1, 1, 1, 1, 1, 1], 'is_next': 0, 'mask_idx': [9, 10, 18, 38, 39, 41, 42, 43, 44], 'mask_label': ['▁오', '십', '▁십', '▁흘', '러', '▁추', '적', '추', '적']}\n",
            "{'tokens': ['[CLS]', '吐', '▁맞', '▁목', '에', '▁모', '주', '▁한', '잔', '을', '▁적', '셔', '因', '▁달', '[MASK]', '▁전', '부터', '▁콜', '록', '거', '리는', '▁아내', '▁생각', '에', '▁그', '토', '록', '▁먹', '고', '▁싶', '다', '던', '[SEP]', '▁설', '렁', '탕', '▁한', '▁그', '릇', '을', '[MASK]', '[MASK]', '▁살', '▁수', '▁있어', '▁집', '으로', '▁돌아', '가는', '[MASK]', '▁난', '▁문', '득', '▁떠', '올', '라', '▁아내', '의', '▁목', '소', '리가', '▁거', '칠', '[SEP]'], 'segment': [0, 0, 0, 0, 0, 0, 0, 0, 0, 0, 0, 0, 0, 0, 0, 0, 0, 0, 0, 0, 0, 0, 0, 0, 0, 0, 0, 0, 0, 0, 0, 0, 0, 1, 1, 1, 1, 1, 1, 1, 1, 1, 1, 1, 1, 1, 1, 1, 1, 1, 1, 1, 1, 1, 1, 1, 1, 1, 1, 1, 1, 1, 1, 1], 'is_next': 1, 'mask_idx': [1, 2, 12, 14, 22, 23, 40, 41, 49], 'mask_label': ['컬', '한', '▁몇', '▁포', '▁생각', '에', '▁이', '제는', '▁길']}\n",
            "{'tokens': ['[CLS]', '▁나', '를', '▁원', '망', '하', '듯', '▁비', '는', '[MASK]', '[MASK]', '▁거', '세', '져', '▁싸', '늘', '히', '[MASK]', '[MASK]', '[MASK]', '▁아내', '가', '▁떠', '올', '라', '▁', '걱', '정은', '▁더', '해', '져', '[SEP]', '▁오늘', '은', '▁', '왠', '지', '[MASK]', '[MASK]', '▁말', '라', '던', '▁내', '▁옆', '에', '▁있어', '▁달', '라', '던', '▁그리', '도', '▁나가', '고', '▁싶', '으면', '▁일', '찍', '이라', '도', '[MASK]', '[MASK]', '▁달', '라', '[SEP]'], 'segment': [0, 0, 0, 0, 0, 0, 0, 0, 0, 0, 0, 0, 0, 0, 0, 0, 0, 0, 0, 0, 0, 0, 0, 0, 0, 0, 0, 0, 0, 0, 0, 0, 1, 1, 1, 1, 1, 1, 1, 1, 1, 1, 1, 1, 1, 1, 1, 1, 1, 1, 1, 1, 1, 1, 1, 1, 1, 1, 1, 1, 1, 1, 1, 1], 'is_next': 0, 'mask_idx': [9, 10, 17, 18, 19, 37, 38, 59, 60], 'mask_label': ['▁점', '점', '▁식', '어', '가는', '▁나', '가지', '▁들어', '와']}\n",
            "{'tokens': ['[CLS]', '▁난', '▁맨', '날', '▁이렇게', '▁북', '▁수', '▁있', '으면', '▁얼마', '나', '▁좋', '을', '까', '[SEP]', '▁난', '[MASK]', '[MASK]', '▁오늘', '은', '▁운', '수', '▁좋은', '▁날', '[SEP]'], 'segment': [0, 0, 0, 0, 0, 0, 0, 0, 0, 0, 0, 0, 0, 0, 0, 1, 1, 1, 1, 1, 1, 1, 1, 1, 1], 'is_next': 0, 'mask_idx': [5, 16, 17], 'mask_label': ['▁살', '▁몰', '라']}\n"
          ]
        }
      ]
    },
    {
      "cell_type": "code",
      "source": [
        "corpus_file = os.getenv('OLDPWD')+'content/drive/MyDrive/bert/data/kowiki.txt'\n",
        "\n",
        "# line count 확인\n",
        "total = 0\n",
        "with open(corpus_file, 'r') as in_f:\n",
        "    for line in in_f:\n",
        "        total += 1\n",
        "\n",
        "total"
      ],
      "metadata": {
        "colab": {
          "base_uri": "https://localhost:8080/"
        },
        "id": "yociMPWFL_ra",
        "outputId": "f9aa3178-a187-43d7-c7b6-d7f3592b157b"
      },
      "execution_count": 32,
      "outputs": [
        {
          "output_type": "execute_result",
          "data": {
            "text/plain": [
              "3957761"
            ]
          },
          "metadata": {},
          "execution_count": 32
        }
      ]
    },
    {
      "cell_type": "code",
      "source": [
        "# 위키가 주제별로 잘 나눠지는지 여부 확인\n",
        "count = 5\n",
        "\n",
        "with open(corpus_file, 'r') as in_f:\n",
        "    doc = []  # 단락 단위로 문서 저장\n",
        "    for line in tqdm(in_f, total=total):\n",
        "        line = line.strip()\n",
        "        if line == \"\":  # line이 빈줄 일 경우 (새로운 단락을 의미 함)\n",
        "            if 0 < len(doc):\n",
        "                if 0 < count:\n",
        "                    count -= 1\n",
        "                    print(len(doc), \"lines :\", doc[0])\n",
        "                    print(doc[1])\n",
        "                    print(doc[-1])\n",
        "                    print()\n",
        "                else:\n",
        "                    break\n",
        "                doc = []\n",
        "        else:  # doc에 저장\n",
        "            pieces = vocab.encode_as_pieces(line)\n",
        "            if 0 < len(pieces):\n",
        "                doc.append(pieces)\n",
        "    if 0 < len(doc):  # 마지막에 처리되지 않은 doc가 있는 경우\n",
        "        print(doc[0])\n",
        "        print(doc[1])\n",
        "        print(doc[-1])\n",
        "        doc = []"
      ],
      "metadata": {
        "colab": {
          "base_uri": "https://localhost:8080/",
          "height": 485,
          "referenced_widgets": [
            "0cebe0adb65c436fb0ba7b3f52939e2a",
            "73c8affbbcac4696971e4bcfc8d34569",
            "12b7383dae3a4ee183b56f1c8b722714",
            "ec08ff93ffa54ce18f403c255560ae73",
            "2a00cefc67e7461a9f5f41a66365d691",
            "c15d1350c20d474da219179ffae22a51",
            "f8544ada43984e8aa519061833cdbe8a",
            "f55d0437c92a40ba8934a39e10386d3a",
            "da9a63edc0eb491baa447a9a650b473e",
            "9b3d22c645c64b9c854f3ece1a5b2e10",
            "42b09f418a30480597db893da3d31c86"
          ]
        },
        "id": "EcECRcWQL_tc",
        "outputId": "20a67243-b076-4a43-dca3-75ac879a52f5"
      },
      "execution_count": 33,
      "outputs": [
        {
          "output_type": "display_data",
          "data": {
            "text/plain": [
              "  0%|          | 0/3957761 [00:00<?, ?it/s]"
            ],
            "application/vnd.jupyter.widget-view+json": {
              "version_major": 2,
              "version_minor": 0,
              "model_id": "0cebe0adb65c436fb0ba7b3f52939e2a"
            }
          },
          "metadata": {}
        },
        {
          "output_type": "stream",
          "name": "stdout",
          "text": [
            "21 lines : ['▁지', '미', '▁카', '터']\n",
            "['▁제임스', '▁얼', '▁\"', '지', '미', '\"', '▁카', '터', '▁주', '니어', '(,', '▁192', '4', '년', '▁10', '월', '▁1', '일', '▁~', '▁)', '는', '▁민주', '당', '▁출신', '▁미국', '▁3', '9', '번째', '▁대통령', '▁(19', '7', '7', '년', '▁~', '▁1981', '년', ')', '이다', '.']\n",
            "['▁그는', '▁2002', '년', '▁말', '▁인', '권', '과', '▁중', '재', '▁역할', '에', '▁대한', '▁공', '로를', '▁인정', '받아', '▁노', '벨', '▁평화', '상을', '▁받', '게', '▁되었다', '.']\n",
            "\n",
            "14 lines : ['▁수학']\n",
            "['▁수학', '(', '數', '學', ',', '▁)', '은', '▁양', ',', '▁구조', ',', '▁공간', ',', '▁변화', ',', '▁미', '적', '분', '▁등의', '▁개념', '을', '▁다루', '는', '▁학', '문', '이다', '.', '▁현대', '▁수학', '은', '▁형식', '▁논', '리를', '▁이용', '해서', '▁공', '리로', '▁구성된', '▁추', '상', '적', '▁구조를', '▁연구', '하는', '▁학', '문', '으로', '▁여겨', '지', '기도', '▁한다', '.', '▁수학', '은', '▁그', '▁구조', '와', '▁발전', '▁과정', '에서는', '▁자연', '과학', '에', '▁속하는', '▁물리', '학을', '▁비롯한', '▁다른', '▁학', '문', '들과', '▁깊', '은', '▁연', '관을', '▁맺', '고', '▁있다', '.', '▁하지만', ',', '▁어느', '▁과학', '의', '▁분야', '들과', '는', '▁달리', ',', '▁자연', '계에서', '▁관측', '되지', '▁않는', '▁개념', '들에', '▁대해서', '까지', '▁이론', '을', '▁일반', '화', '▁및', '▁추', '상', '화', '시', '킬', '▁수', '▁있다는', '▁차', '이가', '▁있다고', '▁한다', '.', '▁수', '학자', '들은', '▁그러', '한', '▁개념', '들에', '▁대해서', '▁추', '측', '을', '▁하고', ',', '▁적', '절', '하게', '▁선택', '된', '▁정의', '와', '▁공', '리', '로부터', '의', '▁엄', '밀', '한', '▁연', '역을', '▁통해', '서', '▁추', '측', '들의', '▁진', '위를', '▁파', '악', '한다', '.']\n",
            "['▁수', '학의', '▁기초', '를', '▁확', '실', '히', '▁세', '우', '기', '▁위해', ',', '▁수', '리', '논', '리', '학과', '▁집합', '론', '이', '▁발전', '하였고', ',', '▁이와', '▁더불어', '▁범', '주', '론', '이', '▁최근', '에도', '▁발전', '되고', '▁있다', '.', '▁“', '근', '본', '▁위', '기', '”', '라는', '▁말', '은', '▁대', '략', '▁19', '00', '년', '에서', '▁1930', '년', '▁사이에', '▁일어난', ',', '▁수', '학의', '▁엄', '밀', '한', '▁기초', '에', '▁대한', '▁탐', '구를', '▁상징', '적으로', '▁보여', '주는', '▁말이다', '.', '▁수', '학의', '▁엄', '밀', '한', '▁기초', '에', '▁대한', '▁몇', '▁가지', '▁의견', '▁불', '일', '치는', '▁오늘날', '에도', '▁계속', '되고', '▁있다', '.', '▁수', '학의', '▁기초', '에', '▁대한', '▁위', '기는', '▁그', '▁당시', '▁수많은', '▁논', '쟁', '에', '▁의해', '▁촉', '발', '되었으며', ',', '▁그', '▁논', '쟁', '에는', '▁칸', '토', '어의', '▁집합', '론', '과', '▁브라', '우', '어', '-', '힐', '베', '르트', '▁논', '쟁', '이', '▁포함', '되었다', '.']\n",
            "\n",
            "4 lines : ['▁수학', '▁상', '수']\n",
            "['▁수학', '에서', '▁상', '수', '란', '▁그', '▁값', '이', '▁변', '하지', '▁않는', '▁불', '변', '량', '으로', ',', '▁변', '수의', '▁반대', '말', '이다', '.', '▁물리', '▁상', '수', '와는', '▁달리', ',', '▁수학', '▁상', '수는', '▁물리', '적', '▁측정', '과는', '▁상', '관', '없이', '▁정의', '된다', '.']\n",
            "['▁특정', '▁수학', '▁상', '수', ',', '▁예를', '▁들', '면', '▁골', '롬', '-', '딕', '맨', '▁상', '수', ',', '▁프랑', '세', '즈', '-', '로', '빈', '슨', '▁상', '수', ',', '▁formula', '_1', ',', '▁레', '비', '▁상', '수', '같은', '▁상', '수는', '▁다른', '▁수학', '상', '수', '▁또는', '▁함수', '와', '▁약', '한', '▁상', '관', '관', '계', '▁또는', '▁강한', '▁상', '관', '관', '계를', '▁갖', '는다', '.']\n",
            "\n",
            "10 lines : ['▁문학']\n",
            "['▁문학', '(', '文', '學', ')', '은', '▁언', '어를', '▁예술', '적', '▁표현', '의', '▁제', '재', '로', '▁삼', '아', '▁새로운', '▁의미', '를', '▁창', '출', '하여', ',', '▁인간', '과', '▁사회', '를', '▁진', '실', '되', '게', '▁묘사', '하는', '▁예술', '의', '▁하', '위', '분', '야', '이다', '.', '▁간', '단', '하게', '▁설명', '하면', ',', '▁언', '어를', '▁통해', '▁인간의', '▁삶', '을', '▁미', '적', '(', '美', '的', ')', '으로', '▁형', '상', '화', '한', '▁것이라고', '▁볼', '▁수', '▁있다', '.', '▁문학', '은', '▁원래', '▁문', '예', '(', '文', '藝', ')', '라고', '▁부', '르는', '▁것이', '▁', '옳', '으며', ',', '▁문', '학을', '▁학', '문', '의', '▁대상', '으로서', '▁탐', '구', '하는', '▁학', '문', '의', '▁명칭', '▁역시', '▁문', '예', '학', '이다', '.', '▁문', '예', '학', '은', '▁음악', '사', '학', ',', '▁미술', '사', '학', '▁등과', '▁함께', '▁예술', '학의', '▁핵', '심', '분', '야', '로서', '▁인', '문', '학의', '▁하', '위', '범', '주에', '▁포함', '된다', '.']\n",
            "['▁반', '영', '론', '적', '▁관', '점에', '▁의한', '▁감', '상은', '▁작품', '을', '▁창', '작', '된', '▁당시', '▁시대', '▁정', '황', '과', '▁연결', '시켜', '▁감', '상', '하는', '▁입', '장', '이고', ',', '▁내', '재', '적', '▁관', '점', '의', '▁감', '상은', '▁작품', '의', '▁형식', ',', '▁내용', '에', '▁국', '한', '하여', '▁감', '상', '하는', '▁것이다', '.', '▁표현', '론', '적', '▁관', '점', '의', '▁감', '상은', '▁작가', '의', '▁전기', '적', '▁사실', '과', '▁작품', '을', '▁연결', '시켜', '▁감', '상', '하는', '▁것이', '고', ',', '▁수용', '론', '적', '▁관', '점', '의', '▁감', '상은', '▁독', '자와', '▁작품', '을', '▁연결', '시켜', '▁감', '상', '하는', '▁것을', '▁말한다', '.']\n",
            "\n",
            "10 lines : ['▁나라', '▁목록']\n",
            "['▁이', '▁문', '서는', '▁나라', '▁목록', '이며', ',', '▁전', '▁세계', '▁20', '6', '개', '▁나라', '의', '▁각', '▁현', '황', '과', '▁주', '권', '▁승', '인', '▁정보를', '▁개', '요', '▁형태로', '▁나', '열', '하고', '▁있다', '.']\n",
            "['▁위', '▁목록', '에', '▁포함', '되지', '▁않은', '▁다음', '▁국가', '는', '▁몬', '테', '비', '데', '오', '▁협', '약', '의', '▁모든', '▁조건', '을', '▁만족', '하지', '▁못', '하거나', ',', '▁자주', '적이고', '▁독립', '적', '임을', '▁주장', '하지', '▁않는', '▁국가', '이다', '.']\n",
            "\n",
            "['▁화학']\n",
            "['▁화학', '(', '化', '學', ',', '▁)', '은', '▁물질', '의', '▁성', '질', ',', '▁조성', ',', '▁구조', ',', '▁변화', '▁및', '▁그', '에', '▁수', '반', '하는', '▁에너', '지의', '▁변', '화를', '▁연구', '하는', '▁자연', '과', '학의', '▁한', '▁분야', '이다', '.', '▁물리', '학', '도', '▁역시', '▁물질', '을', '▁다루', '는', '▁학', '문', '이지만', ',', '▁물리', '학', '이', '▁원', '소', '와', '▁화', '합', '물을', '▁모두', '▁포함한', '▁물', '체의', '▁운동', '과', '▁에너', '지', ',', '▁열', '적', '·', '전', '기', '적', '·', '광', '학적', '·', '기', '계', '적', '▁속', '성을', '▁다루', '고', '▁이러한', '▁현', '상', '으로부터', '▁통일', '된', '▁이론', '을', '▁구축', '하려는', '▁것', '과는', '▁달리', '▁화학', '에서는', '▁물질', '▁자', '체를', '▁연구', '▁대상으로', '▁한다', '.', '▁화학', '은', '▁이미', '▁존재', '하는', '▁물질', '을', '▁이용하여', '▁특', '정한', '▁목', '적', '에', '▁맞', '는', '▁새로운', '▁물질', '을', '▁합', '성', '하는', '▁길', '을', '▁제공', '하며', ',', '▁이는', '▁농', '작', '물의', '▁증', '산', ',', '▁질', '병', '의', '▁치료', '▁및', '▁예', '방', ',', '▁에너', '지', '▁효', '율', '▁증', '대', ',', '▁환경', '오', '염', '▁감소', '▁등', '▁여러', '▁가지', '▁이', '점을', '▁제공', '한다', '.']\n",
            "['▁유', '기', '화', '학', '은', '▁탄', '소로', '▁이루어진', '▁화', '합', '물을', '▁연구', '하는', '▁분', '과', '이다', '.', '▁원래', '▁유', '기', '▁화', '합', '물', '은', '▁식물', '이나', '▁동물', '로부터', '▁추', '출', '해', '낸', '▁화', '합', '물을', '▁뜻', '하였으나', '▁지금', '은', '▁유', '기', '▁화', '합', '물의', '▁범', '위가', '▁크게', '▁넓', '어져', '▁탄', '소', '▁사', '슬', '▁또는', '▁탄', '소', '▁고', '리를', '▁가진', '▁모든', '▁화', '합', '물을', '▁뜻', '한다', '.', '▁유', '기', '화', '학의', '▁오', '랜', '▁관', '심', '사는', '▁유', '기', '▁화', '합', '물의', '▁합', '성', '▁메', '커', '니', '즘', '이다', '.', '▁현', '대에', '▁들어', '서', '▁핵', '자', '기', '▁공', '명', '법', '과', '▁X', '선', '▁결정', '학', '▁등이', '▁개발', '되어', '▁유', '기', '▁화', '합', '물', '▁분석', '에', '▁있어서', '▁매우', '▁중요한', '▁방법', '으로', '▁자리', '잡', '았다', '.', '▁플', '라스', '틱', ',', '▁합', '성', '섬', '유', '등', '의', '▁고', '분', '자', '물', '질', '▁등', '도', '▁유', '기', '화', '학', '에서', '▁다루', '어진', '다', '.']\n"
          ]
        }
      ]
    },
    {
      "cell_type": "code",
      "source": [
        "# instance 생성 기능 확인\n",
        "count = 5\n",
        "\n",
        "with open(corpus_file, 'r') as in_f:\n",
        "    doc = []  # 단락 단위로 문서 저장\n",
        "    for line in tqdm(in_f, total=total):\n",
        "        line = line.strip()\n",
        "        if line == \"\":  # line이 빈줄 일 경우 (새로운 단락을 의미 함)\n",
        "            if 0 < len(doc):\n",
        "                instances = create_pretrain_instances(vocab, doc, n_test_seq, 0.15, vocab_list)\n",
        "                # save\n",
        "                print(\"doc:\", len(doc), \"instances:\", len(instances))\n",
        "                print(instances[0])\n",
        "                print(instances[-1])\n",
        "                print()\n",
        "                doc = []\n",
        "                if 0 < count:  # 테스트를 위해서 부분 처리 함\n",
        "                    count -= 1\n",
        "                else:\n",
        "                    break\n",
        "        else:  # doc에 저장\n",
        "            if 0 < len(pieces):\n",
        "                doc.append(pieces)\n",
        "    if 0 < len(doc):  # 마지막에 처리되지 않은 doc가 있는 경우\n",
        "        instances = create_pretrain_instances(doc, 128)\n",
        "        # save\n",
        "        print(\"doc:\", len(doc), \"instances:\", len(instances))\n",
        "        print(instances[0])\n",
        "        print(instances[-1])\n",
        "        print()\n",
        "        doc = []"
      ],
      "metadata": {
        "colab": {
          "base_uri": "https://localhost:8080/",
          "height": 503,
          "referenced_widgets": [
            "67b565bbbee947278441c52df8daded0",
            "f36b983ac824432eb59af0609251800a",
            "59871609b2414b4a820f953793ee5056",
            "3b5f0ad951b149b6876aa44bd27b3f95",
            "35ad111b3a49403b9fc0f21121a9584c",
            "8c386d961a584fb99ee677d94b036b2d",
            "2af1b2a643d34cd2b56b226015f8a6f7",
            "cc0ecb8205b342118ec81dce07d5808e",
            "75e730a897f048049de9fa61c4ef34e8",
            "fab857254fcd493c8af005a5bee1e044",
            "9b6f0d65df8846bd9e1bc3f8b1e1c21b"
          ]
        },
        "id": "sKiAtuMrL_vg",
        "outputId": "40cc892b-e040-4bd5-b715-3d50445ca738"
      },
      "execution_count": 34,
      "outputs": [
        {
          "output_type": "display_data",
          "data": {
            "text/plain": [
              "  0%|          | 0/3957761 [00:00<?, ?it/s]"
            ],
            "application/vnd.jupyter.widget-view+json": {
              "version_major": 2,
              "version_minor": 0,
              "model_id": "67b565bbbee947278441c52df8daded0"
            }
          },
          "metadata": {}
        },
        {
          "output_type": "stream",
          "name": "stdout",
          "text": [
            "doc: 21 instances: 10\n",
            "{'tokens': ['[CLS]', '으로', '▁자리', '잡', '았다', '.', '[MASK]', '[MASK]', '[MASK]', '[MASK]', '▁합', '성', '섬', '유', '등', '의', '▁고', '분', '자', '물', '질', '▁등', '도', '▁유', '기', '화', '학', '에서', '▁다루', '어진', '다', '.', '[SEP]', '▁유', '기', '화', '학', '은', '▁탄', '소로', '▁이루어진', '[MASK]', '[MASK]', '[MASK]', '▁연구', '하는', '▁분', '과', '이다', '.', '▁원래', '▁유', '기', '▁화', '합', '물', '은', '▁식물', '이나', '훙', '最', '▁추', '출', '[SEP]'], 'segment': [0, 0, 0, 0, 0, 0, 0, 0, 0, 0, 0, 0, 0, 0, 0, 0, 0, 0, 0, 0, 0, 0, 0, 0, 0, 0, 0, 0, 0, 0, 0, 0, 0, 1, 1, 1, 1, 1, 1, 1, 1, 1, 1, 1, 1, 1, 1, 1, 1, 1, 1, 1, 1, 1, 1, 1, 1, 1, 1, 1, 1, 1, 1, 1], 'is_next': 1, 'mask_idx': [6, 7, 8, 9, 41, 42, 43, 59, 60], 'mask_label': ['▁플', '라스', '틱', ',', '▁화', '합', '물을', '▁동물', '로부터']}\n",
            "{'tokens': ['[CLS]', '으로', '▁자리', '잡', '았다', '.', '[MASK]', '[MASK]', '[MASK]', '[MASK]', '▁합', '성', '섬', '유', '등', '의', '▁고', '분', '자', '물', '질', '▁등', '도', '▁유', '기', '화', '학', '에서', '[MASK]', '[MASK]', '[MASK]', '[MASK]', '[SEP]', '▁유', '기', '화', '학', '은', '▁탄', '소로', '▁이루어진', '▁화', '합', '물을', '▁연구', '하는', '▁분', '과', '이다', '.', '十', '▁유', '기', '▁화', '합', '물', '은', '▁식물', '이나', '▁동물', '로부터', '▁추', '출', '[SEP]'], 'segment': [0, 0, 0, 0, 0, 0, 0, 0, 0, 0, 0, 0, 0, 0, 0, 0, 0, 0, 0, 0, 0, 0, 0, 0, 0, 0, 0, 0, 0, 0, 0, 0, 0, 1, 1, 1, 1, 1, 1, 1, 1, 1, 1, 1, 1, 1, 1, 1, 1, 1, 1, 1, 1, 1, 1, 1, 1, 1, 1, 1, 1, 1, 1, 1], 'is_next': 1, 'mask_idx': [6, 7, 8, 9, 28, 29, 30, 31, 50], 'mask_label': ['▁플', '라스', '틱', ',', '▁다루', '어진', '다', '.', '▁원래']}\n",
            "\n",
            "doc: 14 instances: 7\n",
            "{'tokens': ['[CLS]', '으로', '▁자리', '잡', '았다', '.', '[MASK]', '[MASK]', '[MASK]', '[MASK]', '▁합', '성', '섬', '유', '등', '의', '▁고', '분', '자', '물', '질', '[MASK]', '[MASK]', '▁유', '기', '화', '학', '에서', '▁다루', '어진', '다', '.', '[SEP]', '▁유', '기', '화', '학', '은', '▁탄', '소로', '▁이루어진', '▁화', '합', '물을', '▁연구', '하는', '▁분', '과', '이다', '.', '▁원래', '▁유', '기', '▁화', '합', '물', '은', '▁식물', '이나', '▁동물', '로부터', '▁추', '출', '[SEP]'], 'segment': [0, 0, 0, 0, 0, 0, 0, 0, 0, 0, 0, 0, 0, 0, 0, 0, 0, 0, 0, 0, 0, 0, 0, 0, 0, 0, 0, 0, 0, 0, 0, 0, 0, 1, 1, 1, 1, 1, 1, 1, 1, 1, 1, 1, 1, 1, 1, 1, 1, 1, 1, 1, 1, 1, 1, 1, 1, 1, 1, 1, 1, 1, 1, 1], 'is_next': 1, 'mask_idx': [6, 7, 8, 9, 21, 22, 41, 42, 43], 'mask_label': ['▁플', '라스', '틱', ',', '▁등', '도', '▁화', '합', '물을']}\n",
            "{'tokens': ['[CLS]', '으로', '▁자리', '잡', '았다', '.', '▁플', '라스', '틱', ',', '▁합', '성', '섬', '유', '등', '의', '▁고', '분', '자', '물', '질', '▁등', '도', '▁유', '기', '화', '학', '에서', '▁다루', '어진', '다', '.', '[SEP]', '▁유', '기', '화', '학', '은', '▁탄', '소로', '[MASK]', '▁화', '합', '물을', '▁연구', '하는', '▁분', '과', '이다', '.', '▁원래', '[MASK]', '[MASK]', '[MASK]', '[MASK]', '[MASK]', '[MASK]', '▁식물', '이나', '▁동물', '로부터', '[MASK]', '[MASK]', '[SEP]'], 'segment': [0, 0, 0, 0, 0, 0, 0, 0, 0, 0, 0, 0, 0, 0, 0, 0, 0, 0, 0, 0, 0, 0, 0, 0, 0, 0, 0, 0, 0, 0, 0, 0, 0, 1, 1, 1, 1, 1, 1, 1, 1, 1, 1, 1, 1, 1, 1, 1, 1, 1, 1, 1, 1, 1, 1, 1, 1, 1, 1, 1, 1, 1, 1, 1], 'is_next': 1, 'mask_idx': [40, 51, 52, 53, 54, 55, 56, 61, 62], 'mask_label': ['▁이루어진', '▁유', '기', '▁화', '합', '물', '은', '▁추', '출']}\n",
            "\n",
            "doc: 4 instances: 2\n",
            "{'tokens': ['[CLS]', '으로', '▁자리', '잡', '았다', '.', '▁플', '라스', '틱', ',', '▁합', '성', '섬', '유', '등', '의', '▁고', '분', '자', '물', '질', '▁등', '도', '▁유', '기', '화', '학', '에서', '[MASK]', '[MASK]', '[MASK]', '[MASK]', '[SEP]', '▁유', '기', '화', '학', '은', '[MASK]', '[MASK]', '▁이루어진', '▁화', '합', '물을', '[MASK]', '[MASK]', '▁분', '과', '이다', '.', '[MASK]', '▁유', '기', '▁화', '합', '물', '은', '▁식물', '이나', '▁동물', '로부터', '▁추', '출', '[SEP]'], 'segment': [0, 0, 0, 0, 0, 0, 0, 0, 0, 0, 0, 0, 0, 0, 0, 0, 0, 0, 0, 0, 0, 0, 0, 0, 0, 0, 0, 0, 0, 0, 0, 0, 0, 1, 1, 1, 1, 1, 1, 1, 1, 1, 1, 1, 1, 1, 1, 1, 1, 1, 1, 1, 1, 1, 1, 1, 1, 1, 1, 1, 1, 1, 1, 1], 'is_next': 0, 'mask_idx': [28, 29, 30, 31, 38, 39, 44, 45, 50], 'mask_label': ['▁다루', '어진', '다', '.', '▁탄', '소로', '▁연구', '하는', '▁원래']}\n",
            "{'tokens': ['[CLS]', '察', '▁자리', '잡', '았다', '.', '[MASK]', '[MASK]', '[MASK]', '[MASK]', '▁합', '성', '섬', '유', '등', '의', '▁고', '분', '자', '물', '질', '▁등', '도', '▁유', '기', '화', '학', '에서', '▁다루', '어진', '다', '.', '[SEP]', '▁유', '기', '화', '학', '은', '▁탄', '소로', '▁이루어진', '▁화', '합', '물을', '▁연구', '하는', '▁분', '과', '이다', '.', '▁원래', '▁유', '기', '▁화', '합', '물', '은', '▁식물', '이나', '[MASK]', '[MASK]', '▁추', '출', '[SEP]'], 'segment': [0, 0, 0, 0, 0, 0, 0, 0, 0, 0, 0, 0, 0, 0, 0, 0, 0, 0, 0, 0, 0, 0, 0, 0, 0, 0, 0, 0, 0, 0, 0, 0, 0, 1, 1, 1, 1, 1, 1, 1, 1, 1, 1, 1, 1, 1, 1, 1, 1, 1, 1, 1, 1, 1, 1, 1, 1, 1, 1, 1, 1, 1, 1, 1], 'is_next': 0, 'mask_idx': [1, 6, 7, 8, 9, 21, 22, 59, 60], 'mask_label': ['으로', '▁플', '라스', '틱', ',', '▁등', '도', '▁동물', '로부터']}\n",
            "\n",
            "doc: 10 instances: 5\n",
            "{'tokens': ['[CLS]', '식을', '[MASK]', '[MASK]', '[MASK]', '[MASK]', '▁플', '라스', '틱', ',', '▁합', '성', '섬', '유', '등', '의', '▁고', '분', '자', '물', '질', '▁등', '도', '▁유', '기', '화', '학', '에서', '▁다루', '어진', '다', '.', '[SEP]', '▁유', '기', '화', '학', '은', '▁탄', '소로', '▁이루어진', '▁화', '합', '물을', '▁연구', '하는', '▁분', '과', '이다', '.', '▁원래', '▁유', '기', '[MASK]', '[MASK]', '[MASK]', '[MASK]', '▁식물', '이나', '▁동물', '로부터', '▁추', '출', '[SEP]'], 'segment': [0, 0, 0, 0, 0, 0, 0, 0, 0, 0, 0, 0, 0, 0, 0, 0, 0, 0, 0, 0, 0, 0, 0, 0, 0, 0, 0, 0, 0, 0, 0, 0, 0, 1, 1, 1, 1, 1, 1, 1, 1, 1, 1, 1, 1, 1, 1, 1, 1, 1, 1, 1, 1, 1, 1, 1, 1, 1, 1, 1, 1, 1, 1, 1], 'is_next': 1, 'mask_idx': [1, 2, 3, 4, 5, 53, 54, 55, 56], 'mask_label': ['으로', '▁자리', '잡', '았다', '.', '▁화', '합', '물', '은']}\n",
            "{'tokens': ['[CLS]', '으로', '▁자리', '잡', '았다', '.', '▁플', '라스', '틱', ',', '▁합', '성', '섬', '유', '등', '의', '▁고', '분', '자', '물', '질', '▁등', '도', '[MASK]', '[MASK]', '[MASK]', '[MASK]', '[MASK]', '▁다루', '어진', '다', '.', '[SEP]', '▁유', '기', '화', '학', '은', '[MASK]', '[MASK]', '▁이루어진', '▁화', '합', '물을', '▁연구', '하는', '▁분', '과', '이다', '.', '▁원래', '[MASK]', '[MASK]', '▁화', '합', '물', '은', '▁식물', '이나', '▁동물', '로부터', '▁추', '출', '[SEP]'], 'segment': [0, 0, 0, 0, 0, 0, 0, 0, 0, 0, 0, 0, 0, 0, 0, 0, 0, 0, 0, 0, 0, 0, 0, 0, 0, 0, 0, 0, 0, 0, 0, 0, 0, 1, 1, 1, 1, 1, 1, 1, 1, 1, 1, 1, 1, 1, 1, 1, 1, 1, 1, 1, 1, 1, 1, 1, 1, 1, 1, 1, 1, 1, 1, 1], 'is_next': 1, 'mask_idx': [23, 24, 25, 26, 27, 38, 39, 51, 52], 'mask_label': ['▁유', '기', '화', '학', '에서', '▁탄', '소로', '▁유', '기']}\n",
            "\n",
            "doc: 10 instances: 5\n",
            "{'tokens': ['[CLS]', '[MASK]', '▁자리', '잡', '았다', '.', '▁플', '라스', '틱', ',', '▁합', '성', '섬', '유', '등', '의', '▁고', '분', '자', '물', '질', '▁등', '도', '▁유', '기', '화', '학', '에서', '▁다루', '어진', '다', '.', '[SEP]', '▁유', '기', '화', '학', '은', '▁탄', '소로', '▁이루어진', '▁화', '합', '물을', '▁연구', '하는', '[MASK]', '[MASK]', '[MASK]', '[MASK]', '▁원래', '[MASK]', '[MASK]', '▁화', '합', '물', '은', '[MASK]', '[MASK]', '▁동물', '로부터', '▁추', '출', '[SEP]'], 'segment': [0, 0, 0, 0, 0, 0, 0, 0, 0, 0, 0, 0, 0, 0, 0, 0, 0, 0, 0, 0, 0, 0, 0, 0, 0, 0, 0, 0, 0, 0, 0, 0, 0, 1, 1, 1, 1, 1, 1, 1, 1, 1, 1, 1, 1, 1, 1, 1, 1, 1, 1, 1, 1, 1, 1, 1, 1, 1, 1, 1, 1, 1, 1, 1], 'is_next': 0, 'mask_idx': [1, 46, 47, 48, 49, 51, 52, 57, 58], 'mask_label': ['으로', '▁분', '과', '이다', '.', '▁유', '기', '▁식물', '이나']}\n",
            "{'tokens': ['[CLS]', '으로', '▁자리', '잡', '았다', '.', '▁플', '라스', '틱', ',', '▁합', '성', '섬', '유', '등', '의', '▁고', '분', '자', '물', '질', '▁등', '도', '▁유', '기', '화', '학', '에서', '▁다루', '어진', '다', '.', '[SEP]', '▁유', '기', '화', '학', '은', '▁탄', '소로', '▁이루어진', '▁화', '합', '물을', '[MASK]', '[MASK]', '▁분', '과', '이다', '.', '[MASK]', '▁유', '기', '▁화', '합', '물', '은', '▁식물', '이나', '▁동물', '로부터', '[MASK]', '[MASK]', '[SEP]'], 'segment': [0, 0, 0, 0, 0, 0, 0, 0, 0, 0, 0, 0, 0, 0, 0, 0, 0, 0, 0, 0, 0, 0, 0, 0, 0, 0, 0, 0, 0, 0, 0, 0, 0, 1, 1, 1, 1, 1, 1, 1, 1, 1, 1, 1, 1, 1, 1, 1, 1, 1, 1, 1, 1, 1, 1, 1, 1, 1, 1, 1, 1, 1, 1, 1], 'is_next': 1, 'mask_idx': [44, 45, 50, 53, 54, 55, 56, 61, 62], 'mask_label': ['▁연구', '하는', '▁원래', '▁화', '합', '물', '은', '▁추', '출']}\n",
            "\n",
            "doc: 31 instances: 15\n",
            "{'tokens': ['[CLS]', '[MASK]', '▁자리', '잡', '았다', '.', '▁플', '라스', '틱', ',', '▁합', '성', '섬', '유', '등', '의', '▁고', '분', '자', '물', '질', '▁등', '도', '[MASK]', '[MASK]', '[MASK]', '[MASK]', '[MASK]', '▁다루', '어진', '다', '.', '[SEP]', '▁유', '기', '화', '학', '은', '▁탄', '소로', '[MASK]', '▁화', '합', '물을', '▁연구', '하는', '▁분', '과', '이다', '.', '▁원래', '[MASK]', '[MASK]', '▁화', '합', '물', '은', '▁식물', '이나', '▁동물', '로부터', '▁추', '출', '[SEP]'], 'segment': [0, 0, 0, 0, 0, 0, 0, 0, 0, 0, 0, 0, 0, 0, 0, 0, 0, 0, 0, 0, 0, 0, 0, 0, 0, 0, 0, 0, 0, 0, 0, 0, 0, 1, 1, 1, 1, 1, 1, 1, 1, 1, 1, 1, 1, 1, 1, 1, 1, 1, 1, 1, 1, 1, 1, 1, 1, 1, 1, 1, 1, 1, 1, 1], 'is_next': 1, 'mask_idx': [1, 23, 24, 25, 26, 27, 40, 51, 52], 'mask_label': ['으로', '▁유', '기', '화', '학', '에서', '▁이루어진', '▁유', '기']}\n",
            "{'tokens': ['[CLS]', '으로', '▁자리', '잡', '았다', '.', '▁플', '라스', '틱', ',', '▁합', '성', '섬', '유', '등', '의', '▁고', '분', '자', '물', '질', '▁등', '도', '▁유', '기', '화', '학', '에서', '▁다루', '어진', '다', '.', '[SEP]', '▁유', '기', '화', '학', '은', '▁탄', '소로', '▁이루어진', '[MASK]', '[MASK]', '[MASK]', '▁연구', '하는', '▁분', '과', '이다', '.', '[MASK]', '▁유', '기', '▁화', '합', '물', '은', '▁식물', '이나', '▁동물', '로부터', '▁추', '출', '[SEP]'], 'segment': [0, 0, 0, 0, 0, 0, 0, 0, 0, 0, 0, 0, 0, 0, 0, 0, 0, 0, 0, 0, 0, 0, 0, 0, 0, 0, 0, 0, 0, 0, 0, 0, 0, 1, 1, 1, 1, 1, 1, 1, 1, 1, 1, 1, 1, 1, 1, 1, 1, 1, 1, 1, 1, 1, 1, 1, 1, 1, 1, 1, 1, 1, 1, 1], 'is_next': 0, 'mask_idx': [23, 24, 25, 26, 27, 41, 42, 43, 50], 'mask_label': ['▁유', '기', '화', '학', '에서', '▁화', '합', '물을', '▁원래']}\n",
            "\n"
          ]
        }
      ]
    },
    {
      "cell_type": "code",
      "source": [
        "def make_pretrain_data(vocab, in_file, out_file, n_seq, mask_prob=0.15):\n",
        "    \"\"\" pretrain 데이터 생성 \"\"\"\n",
        "    def save_pretrain_instances(out_f, doc):\n",
        "        instances = create_pretrain_instances(vocab, doc, n_seq, mask_prob, vocab_list)\n",
        "        for instance in instances:\n",
        "            out_f.write(json.dumps(instance, ensure_ascii=False))\n",
        "            out_f.write(\"\\n\")\n",
        "\n",
        "    # 특수문자 7개를 제외한 vocab_list 생성\n",
        "    vocab_list = []\n",
        "    for id in range(7, len(vocab)):\n",
        "        if not vocab.is_unknown(id):\n",
        "            vocab_list.append(vocab.id_to_piece(id))\n",
        "\n",
        "    # line count 확인\n",
        "    line_cnt = 0\n",
        "    with open(in_file, \"r\") as in_f:\n",
        "        for line in in_f:\n",
        "            line_cnt += 1\n",
        "\n",
        "    with open(in_file, \"r\") as in_f:\n",
        "        with open(out_file, \"w\") as out_f:\n",
        "            doc = []\n",
        "            for line in tqdm(in_f, total=line_cnt):\n",
        "                line = line.strip()\n",
        "                if line == \"\":  # line이 빈줄 일 경우 (새로운 단락을 의미 함)\n",
        "                    if 0 < len(doc):\n",
        "                        save_pretrain_instances(out_f, doc)\n",
        "                        doc = []\n",
        "                else:  # line이 빈줄이 아닐 경우 tokenize 해서 doc에 저장\n",
        "                    pieces = vocab.encode_as_pieces(line)\n",
        "                    if 0 < len(pieces):\n",
        "                        doc.append(pieces)\n",
        "            if 0 < len(doc):  # 마지막에 처리되지 않은 doc가 있는 경우\n",
        "                save_pretrain_instances(out_f, doc)\n",
        "                doc = []"
      ],
      "metadata": {
        "id": "-J5t9CxyL_xi"
      },
      "execution_count": 35,
      "outputs": []
    },
    {
      "cell_type": "code",
      "source": [
        "pretrain_json_path = os.getenv('OLDPWD')+'content/drive/MyDrive/bert/data/bert_pre_train.json'\n",
        "\n",
        "make_pretrain_data(vocab, corpus_file, pretrain_json_path, 128)"
      ],
      "metadata": {
        "colab": {
          "base_uri": "https://localhost:8080/",
          "height": 49,
          "referenced_widgets": [
            "e1fbd918cece4d80b525ac5b6a1883d6",
            "edc9cdf3818149cb90350fcce69771e1",
            "3335af52d7ce4430ab79ab4541068b97",
            "60d0d9b6b51d4002b8df61a3a4ca9b18",
            "0ad3d49307ca4bc7b2e7cfc11bfe2ab4",
            "f9ed5ae0639c49ef9d335491dc24b143",
            "cd411c878aa5477191a4cac159cc182d",
            "541dbbebee1f48cfac31a06c12959e1a",
            "440271f55c5644e396870585a8d2d3a2",
            "5a68f93f1a8e42bc909909288e5b14c3",
            "35200ff00216477198b5c2f109c5e3b9"
          ]
        },
        "id": "JBZeO_SZL_zo",
        "outputId": "6631534d-bafe-4257-d1d6-2d2d7127e8c8"
      },
      "execution_count": 36,
      "outputs": [
        {
          "output_type": "display_data",
          "data": {
            "text/plain": [
              "  0%|          | 0/3957761 [00:00<?, ?it/s]"
            ],
            "application/vnd.jupyter.widget-view+json": {
              "version_major": 2,
              "version_minor": 0,
              "model_id": "e1fbd918cece4d80b525ac5b6a1883d6"
            }
          },
          "metadata": {}
        }
      ]
    },
    {
      "cell_type": "code",
      "source": [
        "# 라인수\n",
        "total = 0\n",
        "with open(pretrain_json_path, \"r\") as f:\n",
        "    for line in f:\n",
        "        total += 1\n",
        "total"
      ],
      "metadata": {
        "colab": {
          "base_uri": "https://localhost:8080/"
        },
        "id": "QnfVby4lL_2j",
        "outputId": "b66c3f39-8de8-4e3f-acde-89a89817a829"
      },
      "execution_count": 37,
      "outputs": [
        {
          "output_type": "execute_result",
          "data": {
            "text/plain": [
              "918189"
            ]
          },
          "metadata": {},
          "execution_count": 37
        }
      ]
    },
    {
      "cell_type": "code",
      "source": [
        "n_seq = 128\n",
        "# [CLS], tokens_a, [SEP], tokens_b, [SEP]\n",
        "max_seq = n_seq - 3\n",
        "\n",
        "# 만약 일반적인 Numpy Array에다 데이터를 로딩한다면 이렇게 되겠지만\n",
        "# enc_tokens = np.zeros((total, n_seq), np.int32)\n",
        "# dec_tokens = np.zeros((total, n_seq), np.int32)\n",
        "# labels_nsp = np.zeros((total,), np.int32)\n",
        "# labels_mlm = np.zeros((total, n_seq), np.int32)\n",
        "\n",
        "# np.memmap을 사용하면 메모리를 적은 메모리에서도 대용량 데이터 처리가 가능 함\n",
        "enc_tokens = np.memmap(filename='enc_tokens.memmap', mode='w+', dtype=np.int32, shape=(total, n_seq))\n",
        "segments = np.memmap(filename='segments.memmap', mode='w+', dtype=np.int32, shape=(total, n_seq))\n",
        "labels_nsp = np.memmap(filename='labels_nsp.memmap', mode='w+', dtype=np.int32, shape=(total,))\n",
        "labels_mlm = np.memmap(filename='labels_mlm.memmap', mode='w+', dtype=np.int32, shape=(total, n_seq))\n",
        "\n",
        "\n",
        "enc_tokens[0], enc_tokens[-1], segments[0], segments[-1], labels_nsp[0], labels_nsp[-1], labels_mlm[0], labels_mlm[-1]"
      ],
      "metadata": {
        "colab": {
          "base_uri": "https://localhost:8080/"
        },
        "id": "lQ4Sqh9VL_4s",
        "outputId": "489c6342-abc0-45a7-d0ed-1c2826333659"
      },
      "execution_count": 38,
      "outputs": [
        {
          "output_type": "execute_result",
          "data": {
            "text/plain": [
              "(memmap([0, 0, 0, 0, 0, 0, 0, 0, 0, 0, 0, 0, 0, 0, 0, 0, 0, 0, 0, 0, 0, 0,\n",
              "         0, 0, 0, 0, 0, 0, 0, 0, 0, 0, 0, 0, 0, 0, 0, 0, 0, 0, 0, 0, 0, 0,\n",
              "         0, 0, 0, 0, 0, 0, 0, 0, 0, 0, 0, 0, 0, 0, 0, 0, 0, 0, 0, 0, 0, 0,\n",
              "         0, 0, 0, 0, 0, 0, 0, 0, 0, 0, 0, 0, 0, 0, 0, 0, 0, 0, 0, 0, 0, 0,\n",
              "         0, 0, 0, 0, 0, 0, 0, 0, 0, 0, 0, 0, 0, 0, 0, 0, 0, 0, 0, 0, 0, 0,\n",
              "         0, 0, 0, 0, 0, 0, 0, 0, 0, 0, 0, 0, 0, 0, 0, 0, 0, 0], dtype=int32),\n",
              " memmap([0, 0, 0, 0, 0, 0, 0, 0, 0, 0, 0, 0, 0, 0, 0, 0, 0, 0, 0, 0, 0, 0,\n",
              "         0, 0, 0, 0, 0, 0, 0, 0, 0, 0, 0, 0, 0, 0, 0, 0, 0, 0, 0, 0, 0, 0,\n",
              "         0, 0, 0, 0, 0, 0, 0, 0, 0, 0, 0, 0, 0, 0, 0, 0, 0, 0, 0, 0, 0, 0,\n",
              "         0, 0, 0, 0, 0, 0, 0, 0, 0, 0, 0, 0, 0, 0, 0, 0, 0, 0, 0, 0, 0, 0,\n",
              "         0, 0, 0, 0, 0, 0, 0, 0, 0, 0, 0, 0, 0, 0, 0, 0, 0, 0, 0, 0, 0, 0,\n",
              "         0, 0, 0, 0, 0, 0, 0, 0, 0, 0, 0, 0, 0, 0, 0, 0, 0, 0], dtype=int32),\n",
              " memmap([0, 0, 0, 0, 0, 0, 0, 0, 0, 0, 0, 0, 0, 0, 0, 0, 0, 0, 0, 0, 0, 0,\n",
              "         0, 0, 0, 0, 0, 0, 0, 0, 0, 0, 0, 0, 0, 0, 0, 0, 0, 0, 0, 0, 0, 0,\n",
              "         0, 0, 0, 0, 0, 0, 0, 0, 0, 0, 0, 0, 0, 0, 0, 0, 0, 0, 0, 0, 0, 0,\n",
              "         0, 0, 0, 0, 0, 0, 0, 0, 0, 0, 0, 0, 0, 0, 0, 0, 0, 0, 0, 0, 0, 0,\n",
              "         0, 0, 0, 0, 0, 0, 0, 0, 0, 0, 0, 0, 0, 0, 0, 0, 0, 0, 0, 0, 0, 0,\n",
              "         0, 0, 0, 0, 0, 0, 0, 0, 0, 0, 0, 0, 0, 0, 0, 0, 0, 0], dtype=int32),\n",
              " memmap([0, 0, 0, 0, 0, 0, 0, 0, 0, 0, 0, 0, 0, 0, 0, 0, 0, 0, 0, 0, 0, 0,\n",
              "         0, 0, 0, 0, 0, 0, 0, 0, 0, 0, 0, 0, 0, 0, 0, 0, 0, 0, 0, 0, 0, 0,\n",
              "         0, 0, 0, 0, 0, 0, 0, 0, 0, 0, 0, 0, 0, 0, 0, 0, 0, 0, 0, 0, 0, 0,\n",
              "         0, 0, 0, 0, 0, 0, 0, 0, 0, 0, 0, 0, 0, 0, 0, 0, 0, 0, 0, 0, 0, 0,\n",
              "         0, 0, 0, 0, 0, 0, 0, 0, 0, 0, 0, 0, 0, 0, 0, 0, 0, 0, 0, 0, 0, 0,\n",
              "         0, 0, 0, 0, 0, 0, 0, 0, 0, 0, 0, 0, 0, 0, 0, 0, 0, 0], dtype=int32),\n",
              " 0,\n",
              " 0,\n",
              " memmap([0, 0, 0, 0, 0, 0, 0, 0, 0, 0, 0, 0, 0, 0, 0, 0, 0, 0, 0, 0, 0, 0,\n",
              "         0, 0, 0, 0, 0, 0, 0, 0, 0, 0, 0, 0, 0, 0, 0, 0, 0, 0, 0, 0, 0, 0,\n",
              "         0, 0, 0, 0, 0, 0, 0, 0, 0, 0, 0, 0, 0, 0, 0, 0, 0, 0, 0, 0, 0, 0,\n",
              "         0, 0, 0, 0, 0, 0, 0, 0, 0, 0, 0, 0, 0, 0, 0, 0, 0, 0, 0, 0, 0, 0,\n",
              "         0, 0, 0, 0, 0, 0, 0, 0, 0, 0, 0, 0, 0, 0, 0, 0, 0, 0, 0, 0, 0, 0,\n",
              "         0, 0, 0, 0, 0, 0, 0, 0, 0, 0, 0, 0, 0, 0, 0, 0, 0, 0], dtype=int32),\n",
              " memmap([0, 0, 0, 0, 0, 0, 0, 0, 0, 0, 0, 0, 0, 0, 0, 0, 0, 0, 0, 0, 0, 0,\n",
              "         0, 0, 0, 0, 0, 0, 0, 0, 0, 0, 0, 0, 0, 0, 0, 0, 0, 0, 0, 0, 0, 0,\n",
              "         0, 0, 0, 0, 0, 0, 0, 0, 0, 0, 0, 0, 0, 0, 0, 0, 0, 0, 0, 0, 0, 0,\n",
              "         0, 0, 0, 0, 0, 0, 0, 0, 0, 0, 0, 0, 0, 0, 0, 0, 0, 0, 0, 0, 0, 0,\n",
              "         0, 0, 0, 0, 0, 0, 0, 0, 0, 0, 0, 0, 0, 0, 0, 0, 0, 0, 0, 0, 0, 0,\n",
              "         0, 0, 0, 0, 0, 0, 0, 0, 0, 0, 0, 0, 0, 0, 0, 0, 0, 0], dtype=int32))"
            ]
          },
          "metadata": {},
          "execution_count": 38
        }
      ]
    },
    {
      "cell_type": "code",
      "source": [
        "# 라인 단위로 처리\n",
        "with open(pretrain_json_path, \"r\") as f:\n",
        "    for i, line in enumerate(tqdm(f, total=total)):\n",
        "        if 5 < i:  # 테스트를 위해서 5개만 확인\n",
        "            break\n",
        "        data = json.loads(line)\n",
        "        # encoder token\n",
        "        enc_token = [vocab.piece_to_id(p) for p in data[\"tokens\"]]\n",
        "        enc_token += [0] * (n_seq - len(enc_token))\n",
        "        # segment\n",
        "        segment = data[\"segment\"]\n",
        "        segment += [0] * (n_seq - len(segment))\n",
        "        # nsp label\n",
        "        label_nsp = data[\"is_next\"]\n",
        "        # mlm label\n",
        "        mask_idx = np.array(data[\"mask_idx\"], dtype=np.int)\n",
        "        mask_label = np.array([vocab.piece_to_id(p) for p in data[\"mask_label\"]], dtype=np.int)\n",
        "        label_mlm = np.full(n_seq, dtype=np.int, fill_value=0)\n",
        "        label_mlm[mask_idx] = mask_label\n",
        "\n",
        "        print(data)\n",
        "        print(\"enc_token:\", enc_token)\n",
        "        print(\"segment:\", segment)\n",
        "        print(\"label_nsp:\", label_nsp)\n",
        "        print(\"label_mlm:\", label_mlm)\n",
        "        print()\n",
        "\n",
        "        assert len(enc_token) == len(segment) == len(label_mlm) == n_seq\n",
        "\n",
        "        enc_tokens[i] = enc_token\n",
        "        segments[i] = segment\n",
        "        labels_nsp[i] = label_nsp\n",
        "        labels_mlm[i] = label_mlm"
      ],
      "metadata": {
        "colab": {
          "base_uri": "https://localhost:8080/",
          "height": 1000,
          "referenced_widgets": [
            "4caaca49bc5648b49d29887a0a1af153",
            "8a9a9b12028748f5862a1e3afea3e8c2",
            "8e98decb4b7b4924af17d07f6c34cfbc",
            "84872994cab84c0283612af1f5ff2661",
            "fa8b82c8e8c240f9b2ce03aff26ac4e2",
            "bc8bbf8708194a9e85097b176aeb3369",
            "e22d4a62890d47b48d96a53dc06235ec",
            "a5b6d1606e654cdb95828fccc73a0806",
            "ab6cde240cbf48f2b6b3d959d882e061",
            "66bf21df0b3945e995960f2190c3c2a6",
            "0def759c655c4170886577cecc6d03a9"
          ]
        },
        "id": "X6cXkZLhL_63",
        "outputId": "46e73aa6-d88a-4750-f3f2-d3439a2e1eb4"
      },
      "execution_count": 39,
      "outputs": [
        {
          "output_type": "display_data",
          "data": {
            "text/plain": [
              "  0%|          | 0/918189 [00:00<?, ?it/s]"
            ],
            "application/vnd.jupyter.widget-view+json": {
              "version_major": 2,
              "version_minor": 0,
              "model_id": "4caaca49bc5648b49d29887a0a1af153"
            }
          },
          "metadata": {}
        },
        {
          "output_type": "stream",
          "name": "stdout",
          "text": [
            "{'tokens': ['[CLS]', '일', '▁~', '[MASK]', '[MASK]', '▁민주', '당', '▁출신', '▁미국', '▁3', '9', '번째', '▁대통령', '▁(19', '7', '7', '년', '[MASK]', '▁1981', '년', ')', '이다', '.', '▁지', '미', '▁카', '터', '는', '[MASK]', '[MASK]', '[MASK]', '▁섬', '터', '▁카운', '티', '▁플', '레', '인', '스', '▁마을', '에서', '▁태어났다', '.', '▁조지', '아', '▁공', '과', '대학교', '를', '▁졸업', '하였다', '.', '▁그', '▁후', '▁해', '군에', '▁들어가', '▁전', '함', '·', '원', '자', '력', '·', '잠', '수', '함', '의', '▁승', '무', '원으로', '▁일', '하였다', '.', '▁195', '3', '년', '▁미국', '▁해군', '▁대', '위로', '▁예', '편', '하였고', '▁이후', '▁땅', '콩', '·', '면', '화', '[MASK]', '▁가', '꿔', '▁많은', '[MASK]', '[MASK]', '[MASK]', '[MASK]', '[MASK]', '▁그의', '▁별', '명이', '▁\"', '땅', '콩', '▁농', '부', '\"', '▁(', 'P', 'e', 'an', 'ut', '▁F', 'ar', 'm', 'er', ')', '로', '[MASK]', '[MASK]', '[MASK]', '[SEP]', '▁지', '미', '▁카', '터', '[SEP]'], 'segment': [0, 0, 0, 0, 0, 0, 0, 0, 0, 0, 0, 0, 0, 0, 0, 0, 0, 0, 0, 0, 0, 0, 0, 0, 0, 0, 0, 0, 0, 0, 0, 0, 0, 0, 0, 0, 0, 0, 0, 0, 0, 0, 0, 0, 0, 0, 0, 0, 0, 0, 0, 0, 0, 0, 0, 0, 0, 0, 0, 0, 0, 0, 0, 0, 0, 0, 0, 0, 0, 0, 0, 0, 0, 0, 0, 0, 0, 0, 0, 0, 0, 0, 0, 0, 0, 0, 0, 0, 0, 0, 0, 0, 0, 0, 0, 0, 0, 0, 0, 0, 0, 0, 0, 0, 0, 0, 0, 0, 0, 0, 0, 0, 0, 0, 0, 0, 0, 0, 0, 0, 0, 0, 0, 1, 1, 1, 1, 1], 'is_next': 0, 'mask_idx': [3, 4, 9, 10, 11, 17, 28, 29, 30, 90, 94, 95, 96, 97, 98, 119, 120, 121], 'mask_label': ['▁)', '는', '▁3', '9', '번째', '▁~', '▁조지', '아', '주', '▁등을', '▁돈', '을', '▁벌', '었다', '.', '▁알려', '졌다', '.']}\n",
            "enc_token: [5, 3629, 203, 6, 6, 1114, 3724, 788, 243, 49, 3632, 796, 663, 1647, 3682, 3682, 3625, 6, 3008, 3625, 3616, 16, 3599, 18, 3686, 207, 3714, 3602, 6, 6, 6, 630, 3714, 3565, 3835, 429, 3740, 3628, 3626, 1369, 10, 1605, 3599, 1755, 3630, 41, 3644, 830, 3624, 1135, 52, 3599, 13, 81, 87, 1501, 2247, 25, 3779, 3873, 3667, 3631, 3813, 3873, 4196, 3636, 3779, 3601, 249, 3725, 1232, 33, 52, 3599, 479, 3652, 3625, 243, 2780, 14, 1509, 168, 3877, 414, 165, 1697, 4290, 3873, 3703, 3683, 6, 21, 5007, 399, 6, 6, 6, 6, 6, 307, 587, 931, 103, 4313, 4290, 613, 3638, 3718, 98, 3878, 3656, 256, 2543, 309, 337, 3735, 181, 3616, 3603, 6, 6, 6, 4, 18, 3686, 207, 3714, 4]\n",
            "segment: [0, 0, 0, 0, 0, 0, 0, 0, 0, 0, 0, 0, 0, 0, 0, 0, 0, 0, 0, 0, 0, 0, 0, 0, 0, 0, 0, 0, 0, 0, 0, 0, 0, 0, 0, 0, 0, 0, 0, 0, 0, 0, 0, 0, 0, 0, 0, 0, 0, 0, 0, 0, 0, 0, 0, 0, 0, 0, 0, 0, 0, 0, 0, 0, 0, 0, 0, 0, 0, 0, 0, 0, 0, 0, 0, 0, 0, 0, 0, 0, 0, 0, 0, 0, 0, 0, 0, 0, 0, 0, 0, 0, 0, 0, 0, 0, 0, 0, 0, 0, 0, 0, 0, 0, 0, 0, 0, 0, 0, 0, 0, 0, 0, 0, 0, 0, 0, 0, 0, 0, 0, 0, 0, 1, 1, 1, 1, 1]\n",
            "label_nsp: 0\n",
            "label_mlm: [   0    0    0  241 3602    0    0    0    0   49 3632  796    0    0\n",
            "    0    0    0  203    0    0    0    0    0    0    0    0    0    0\n",
            " 1755 3630 3646    0    0    0    0    0    0    0    0    0    0    0\n",
            "    0    0    0    0    0    0    0    0    0    0    0    0    0    0\n",
            "    0    0    0    0    0    0    0    0    0    0    0    0    0    0\n",
            "    0    0    0    0    0    0    0    0    0    0    0    0    0    0\n",
            "    0    0    0    0    0    0  593    0    0    0 1927 3607  813   17\n",
            " 3599    0    0    0    0    0    0    0    0    0    0    0    0    0\n",
            "    0    0    0    0    0    0    0  489  376 3599    0    0    0    0\n",
            "    0    0]\n",
            "\n",
            "{'tokens': ['[CLS]', '아', '▁주', '▁상', '원', '▁의원', '▁선거', '에서', '▁낙', '선', '하나', '▁그', '▁선거', '가', '▁부정', '선거', '▁', '였', '음을', '▁입', '증', '하게', '▁되어', '▁당선', '되고', ',', '▁196', '6', '년', '▁조지', '아', '▁주', '▁지', '사', '▁선거', '에', '▁낙', '선', '하지만', '[MASK]', '[MASK]', '▁조지', '아', '▁주', '▁지', '사를', '▁역임', '했다', '.', '▁대통령', '이', '▁되', '기', '▁전', '▁조지', '아', '주', '總', '▁가르', '▁파', '▁두', '번', '▁연', '임', '했으며', ',', '[MASK]', '[MASK]', '▁1975', '년까지', '▁조지', '아', '▁지', '사로', '[MASK]', '[MASK]', '[MASK]', '▁조지', '아', '▁주', '지', '사로', '▁지', '내', '면서', ',', '▁미국', '에', '[MASK]', '▁흑', '인', '▁등', '용', '법을', '▁내', '세', '웠다', '.', '[SEP]', '▁1976', '년', '▁대통령', '▁선거', '에', '▁민주', '당', '▁후보', '로', '▁출', '마', '하여', '▁도', '덕', '주의', '[MASK]', '[MASK]', '▁내', '세', '워', ',', '[MASK]', '[MASK]', '▁누', '르고', '지', '▁달러', '잴', '[SEP]'], 'segment': [0, 0, 0, 0, 0, 0, 0, 0, 0, 0, 0, 0, 0, 0, 0, 0, 0, 0, 0, 0, 0, 0, 0, 0, 0, 0, 0, 0, 0, 0, 0, 0, 0, 0, 0, 0, 0, 0, 0, 0, 0, 0, 0, 0, 0, 0, 0, 0, 0, 0, 0, 0, 0, 0, 0, 0, 0, 0, 0, 0, 0, 0, 0, 0, 0, 0, 0, 0, 0, 0, 0, 0, 0, 0, 0, 0, 0, 0, 0, 0, 0, 0, 0, 0, 0, 0, 0, 0, 0, 0, 0, 0, 0, 0, 0, 0, 0, 0, 0, 1, 1, 1, 1, 1, 1, 1, 1, 1, 1, 1, 1, 1, 1, 1, 1, 1, 1, 1, 1, 1, 1, 1, 1, 1, 1, 1, 1, 1], 'is_next': 1, 'mask_idx': [39, 40, 57, 58, 59, 66, 67, 74, 75, 76, 88, 114, 115, 120, 121, 124, 125, 126], 'mask_label': ['▁1970', '년', '▁상', '원의', '원을', '▁1971', '년부터', '▁근무', '했다', '.', '▁사는', '▁정책', '으로', '▁포', '드를', '▁당선', '되었다', '.']}\n",
            "enc_token: [5, 3630, 37, 76, 3667, 2378, 822, 10, 1567, 3668, 3294, 13, 822, 3608, 2386, 2163, 3596, 3671, 969, 213, 3929, 173, 607, 2387, 317, 3604, 386, 3673, 3625, 1755, 3630, 37, 18, 3620, 822, 3600, 1567, 3668, 1447, 6, 6, 1755, 3630, 37, 18, 451, 1398, 31, 3599, 663, 3597, 450, 3614, 25, 1755, 3630, 3646, 5400, 2190, 146, 157, 3821, 61, 3773, 530, 3604, 6, 6, 3409, 673, 1755, 3630, 18, 982, 6, 6, 6, 1755, 3630, 37, 3610, 982, 18, 3754, 151, 3604, 243, 3600, 6, 1733, 3628, 50, 3717, 2046, 114, 3692, 1853, 3599, 4, 3306, 3625, 663, 822, 3600, 1114, 3724, 958, 3603, 117, 3674, 54, 75, 4089, 238, 6, 6, 114, 3692, 3964, 3604, 6, 6, 807, 2056, 3610, 2178, 7877, 4]\n",
            "segment: [0, 0, 0, 0, 0, 0, 0, 0, 0, 0, 0, 0, 0, 0, 0, 0, 0, 0, 0, 0, 0, 0, 0, 0, 0, 0, 0, 0, 0, 0, 0, 0, 0, 0, 0, 0, 0, 0, 0, 0, 0, 0, 0, 0, 0, 0, 0, 0, 0, 0, 0, 0, 0, 0, 0, 0, 0, 0, 0, 0, 0, 0, 0, 0, 0, 0, 0, 0, 0, 0, 0, 0, 0, 0, 0, 0, 0, 0, 0, 0, 0, 0, 0, 0, 0, 0, 0, 0, 0, 0, 0, 0, 0, 0, 0, 0, 0, 0, 0, 1, 1, 1, 1, 1, 1, 1, 1, 1, 1, 1, 1, 1, 1, 1, 1, 1, 1, 1, 1, 1, 1, 1, 1, 1, 1, 1, 1, 1]\n",
            "label_nsp: 1\n",
            "label_mlm: [   0    0    0    0    0    0    0    0    0    0    0    0    0    0\n",
            "    0    0    0    0    0    0    0    0    0    0    0    0    0    0\n",
            "    0    0    0    0    0    0    0    0    0    0    0 1921 3625    0\n",
            "    0    0    0    0    0    0    0    0    0    0    0    0    0    0\n",
            "    0   76  955  928    0    0    0    0    0    0 3372  523    0    0\n",
            "    0    0    0    0 2711   31 3599    0    0    0    0    0    0    0\n",
            "    0    0    0    0 3554    0    0    0    0    0    0    0    0    0\n",
            "    0    0    0    0    0    0    0    0    0    0    0    0    0    0\n",
            "    0    0 1421    9    0    0    0    0  119 1486    0    0 2387   43\n",
            " 3599    0]\n",
            "\n",
            "{'tokens': ['[CLS]', '[MASK]', '▁개발', '을', '▁촉', '구', '했으나', '▁공', '화', '당의', '[MASK]', '[MASK]', '▁무', '산', '되었다', '.', '▁카', '터', '는', '[MASK]', '[MASK]', '[MASK]', '▁이스라엘', '을', '[MASK]', '[MASK]', '[MASK]', '▁캠', '프', '▁데이', '비', '드에서', '▁안', '와', '르', '▁사', '다', '트', '[MASK]', '[MASK]', '▁메', '나', '헴', '▁베', '긴', '▁수상', '과', '▁함께', '▁중', '동', '▁평', '화를', '▁맡았다', '▁캠', '프', '데', '이', '비', '드', '▁협', '정을', '▁체결', '했다', '.', '[SEP]', '▁그러나', '[MASK]', '▁공', '화', '당', '과', '[MASK]', '▁유대', '인', '▁단', '체의', '▁반', '발', '을', '▁일으', '켰', '다', '.', '▁1979', '년', '▁백', '악', '관', '에서', '▁양', '국', '▁간의', '▁평화', '조', '약', '으로', '▁이끌', '어졌다', '.', '▁또한', '▁소련', '과', '▁제', '2', '차', '▁전략', '▁무', '기', '▁제한', '▁협', '상에', '▁조', '인', '했다', '.', '▁카', '터', '는', '▁1970', '년대', '[MASK]', '[MASK]', '▁대한민국', '▁등', '▁인', '권', '▁후', '[SEP]'], 'segment': [0, 0, 0, 0, 0, 0, 0, 0, 0, 0, 0, 0, 0, 0, 0, 0, 0, 0, 0, 0, 0, 0, 0, 0, 0, 0, 0, 0, 0, 0, 0, 0, 0, 0, 0, 0, 0, 0, 0, 0, 0, 0, 0, 0, 0, 0, 0, 0, 0, 0, 0, 0, 0, 0, 0, 0, 0, 0, 0, 0, 0, 0, 0, 0, 0, 1, 1, 1, 1, 1, 1, 1, 1, 1, 1, 1, 1, 1, 1, 1, 1, 1, 1, 1, 1, 1, 1, 1, 1, 1, 1, 1, 1, 1, 1, 1, 1, 1, 1, 1, 1, 1, 1, 1, 1, 1, 1, 1, 1, 1, 1, 1, 1, 1, 1, 1, 1, 1, 1, 1, 1, 1, 1, 1, 1, 1, 1, 1], 'is_next': 1, 'mask_idx': [1, 10, 11, 19, 20, 21, 24, 25, 26, 38, 39, 52, 66, 71, 100, 101, 120, 121], 'mask_label': ['지', '▁반', '대로', '▁이집', '트', '와', '▁조정', '하여', ',', '▁대통령', '과', '▁위한', '▁이것은', '▁미국의', '▁소련', '과', '▁후반', '▁당시']}\n",
            "enc_token: [5, 6, 570, 3607, 2270, 3653, 1003, 41, 3683, 1547, 6, 6, 107, 3726, 43, 3599, 207, 3714, 3602, 6, 6, 6, 3426, 3607, 6, 6, 6, 2432, 3721, 965, 3694, 3552, 172, 3665, 3699, 15, 3598, 3677, 6, 6, 334, 3637, 5887, 271, 4099, 1011, 3644, 280, 35, 3658, 232, 934, 1896, 2432, 3721, 3736, 3597, 3694, 3681, 617, 666, 2525, 31, 3599, 4, 330, 6, 41, 3683, 3724, 3644, 6, 2670, 3628, 164, 1314, 141, 3720, 3607, 1213, 4174, 3598, 3599, 2995, 3625, 456, 3928, 3708, 10, 230, 3643, 2714, 2793, 3676, 3827, 9, 1435, 2521, 3599, 276, 1302, 3644, 30, 3619, 3751, 2835, 107, 3614, 1956, 617, 1824, 53, 3628, 31, 3599, 207, 3714, 3602, 1921, 596, 6, 6, 410, 50, 42, 3830, 81, 4]\n",
            "segment: [0, 0, 0, 0, 0, 0, 0, 0, 0, 0, 0, 0, 0, 0, 0, 0, 0, 0, 0, 0, 0, 0, 0, 0, 0, 0, 0, 0, 0, 0, 0, 0, 0, 0, 0, 0, 0, 0, 0, 0, 0, 0, 0, 0, 0, 0, 0, 0, 0, 0, 0, 0, 0, 0, 0, 0, 0, 0, 0, 0, 0, 0, 0, 0, 0, 1, 1, 1, 1, 1, 1, 1, 1, 1, 1, 1, 1, 1, 1, 1, 1, 1, 1, 1, 1, 1, 1, 1, 1, 1, 1, 1, 1, 1, 1, 1, 1, 1, 1, 1, 1, 1, 1, 1, 1, 1, 1, 1, 1, 1, 1, 1, 1, 1, 1, 1, 1, 1, 1, 1, 1, 1, 1, 1, 1, 1, 1, 1]\n",
            "label_nsp: 1\n",
            "label_mlm: [   0 3610    0    0    0    0    0    0    0    0  141  448    0    0\n",
            "    0    0    0    0    0 2703 3677 3665    0    0 3358   54 3604    0\n",
            "    0    0    0    0    0    0    0    0    0    0  663 3644    0    0\n",
            "    0    0    0    0    0    0    0    0    0    0  521    0    0    0\n",
            "    0    0    0    0    0    0    0    0    0    0 1487    0    0    0\n",
            "    0  679    0    0    0    0    0    0    0    0    0    0    0    0\n",
            "    0    0    0    0    0    0    0    0    0    0    0    0    0    0\n",
            "    0    0 1302 3644    0    0    0    0    0    0    0    0    0    0\n",
            "    0    0    0    0    0    0    0    0 1840  316    0    0    0    0\n",
            "    0    0]\n",
            "\n",
            "{'tokens': ['[CLS]', '[MASK]', '[MASK]', '▁부', '딪', '혀', '吾', '팡', '▁계열', '도에', '▁완', '전', '철', '수', '▁대신', '▁6', ',000', '명을', '▁감', '축', '하는', '▁데', '▁그', '쳤다', '.', '▁또한', '▁박', '정', '희', '[MASK]', '[MASK]', '▁인', '권', '▁문제', '▁등', '과의', '▁논란', '으로', '▁불', '협', '화', '음을', '▁', '냈', '으나', ',', '▁1979', '년', '▁6', '월', '▁하', '순', ',', '▁대한민국', '을', '▁방문', '하여', '▁관계', '가', '▁다', '소', '[MASK]', '[MASK]', '[MASK]', '[SEP]', '▁그러나', '▁주', '[MASK]', '▁미국', '▁대사', '관', '▁인', '질', '▁사건', '에서', '▁인', '질', '▁구', '출', '▁실패', '를', '[MASK]', '▁1980', '년', '[MASK]', '[MASK]', '[MASK]', '▁공', '화', '당의', '▁로', '널', '드', '▁레이', '건', '▁후보', '에게', '▁', '져', '[MASK]', '▁재', '선에', '▁실패', '했다', '.', '▁또한', '▁임', '기', '▁말', '기에', '▁터', '진', '▁소련', '의', '▁아', '프가', '니', '스탄', '▁침공', '▁사건', '으로', '[MASK]', '▁1980', '년', '▁하계', '▁올림픽', '에', '[SEP]'], 'segment': [0, 0, 0, 0, 0, 0, 0, 0, 0, 0, 0, 0, 0, 0, 0, 0, 0, 0, 0, 0, 0, 0, 0, 0, 0, 0, 0, 0, 0, 0, 0, 0, 0, 0, 0, 0, 0, 0, 0, 0, 0, 0, 0, 0, 0, 0, 0, 0, 0, 0, 0, 0, 0, 0, 0, 0, 0, 0, 0, 0, 0, 0, 0, 0, 0, 1, 1, 1, 1, 1, 1, 1, 1, 1, 1, 1, 1, 1, 1, 1, 1, 1, 1, 1, 1, 1, 1, 1, 1, 1, 1, 1, 1, 1, 1, 1, 1, 1, 1, 1, 1, 1, 1, 1, 1, 1, 1, 1, 1, 1, 1, 1, 1, 1, 1, 1, 1, 1, 1, 1, 1, 1, 1, 1, 1, 1, 1, 1], 'is_next': 0, 'mask_idx': [1, 2, 6, 7, 8, 9, 29, 30, 61, 62, 63, 67, 81, 84, 85, 86, 99, 121], 'mask_label': ['▁반', '대에', '▁주', '한', '미', '군은', '▁정', '권의', '▁회복', '되었다', '.', '▁이란', '▁이유로', '▁대통령', '▁선거', '에서', '▁결국', '▁인해']}\n",
            "enc_token: [5, 6, 6, 51, 5148, 4178, 6398, 4758, 2440, 1464, 443, 3640, 3917, 3636, 1083, 125, 847, 859, 209, 3909, 38, 189, 13, 1523, 3599, 276, 338, 3642, 4055, 6, 6, 42, 3830, 550, 50, 786, 2408, 9, 128, 3993, 3683, 969, 3596, 4121, 191, 3604, 2995, 3625, 125, 3662, 27, 3946, 3604, 410, 3607, 2017, 54, 704, 3608, 29, 3688, 6, 6, 6, 4, 330, 37, 6, 243, 2630, 3708, 42, 3892, 636, 10, 42, 3892, 73, 3771, 1579, 3624, 6, 1640, 3625, 6, 6, 6, 41, 3683, 1547, 194, 4044, 3681, 1169, 3803, 958, 113, 3596, 3944, 6, 174, 2087, 1579, 31, 3599, 276, 273, 3614, 150, 329, 870, 3713, 1302, 3601, 26, 2986, 3733, 1323, 3232, 636, 9, 6, 1640, 3625, 2219, 779, 3600, 4]\n",
            "segment: [0, 0, 0, 0, 0, 0, 0, 0, 0, 0, 0, 0, 0, 0, 0, 0, 0, 0, 0, 0, 0, 0, 0, 0, 0, 0, 0, 0, 0, 0, 0, 0, 0, 0, 0, 0, 0, 0, 0, 0, 0, 0, 0, 0, 0, 0, 0, 0, 0, 0, 0, 0, 0, 0, 0, 0, 0, 0, 0, 0, 0, 0, 0, 0, 0, 1, 1, 1, 1, 1, 1, 1, 1, 1, 1, 1, 1, 1, 1, 1, 1, 1, 1, 1, 1, 1, 1, 1, 1, 1, 1, 1, 1, 1, 1, 1, 1, 1, 1, 1, 1, 1, 1, 1, 1, 1, 1, 1, 1, 1, 1, 1, 1, 1, 1, 1, 1, 1, 1, 1, 1, 1, 1, 1, 1, 1, 1, 1]\n",
            "label_nsp: 0\n",
            "label_mlm: [   0  141  867    0    0    0   37 3612 3686  941    0    0    0    0\n",
            "    0    0    0    0    0    0    0    0    0    0    0    0    0    0\n",
            "    0   36 2649    0    0    0    0    0    0    0    0    0    0    0\n",
            "    0    0    0    0    0    0    0    0    0    0    0    0    0    0\n",
            "    0    0    0    0    0 3332   43 3599    0    0    0 3290    0    0\n",
            "    0    0    0    0    0    0    0    0    0    0    0 1827    0    0\n",
            "  663  822   10    0    0    0    0    0    0    0    0    0    0    0\n",
            "    0  875    0    0    0    0    0    0    0    0    0    0    0    0\n",
            "    0    0    0    0    0    0    0    0    0  751    0    0    0    0\n",
            "    0    0]\n",
            "\n",
            "{'tokens': ['[CLS]', '한', '▁뒤', '▁민주', '주의', '▁실', '현', '을', '▁위해', '▁제', '▁3', '세', '계의', '[MASK]', '▁감', '시', '▁활동', '▁및', '▁기', '니', '[MASK]', '[MASK]', '[MASK]', '▁의한', '[MASK]', '[MASK]', '[MASK]', '[MASK]', '[MASK]', '[MASK]', '▁질', '병', '▁방', '재', '를', '▁위해', '▁힘', '썼', '다', '.', '▁미국의', '▁빈', '곤', '층', '▁지원', '▁활동', ',', '▁사랑', '의', '[MASK]', '[MASK]', '[MASK]', '▁운동', ',', '▁국제', '▁분', '쟁', '▁중', '재', '▁등의', '[MASK]', '[MASK]', '▁했다', '.', '[SEP]', '[MASK]', '[MASK]', '▁~', '▁1980', '년', '▁대한민국의', '▁정치적', '▁격', '변', '기', '[MASK]', '▁대통령', '이었던', '▁그는', '▁이에', '▁대해', '▁애', '매', '한', '▁태', '도를', '▁보', '였고', ',', '▁이는', '▁후에', '▁대한민국', '▁내에서', '▁고', '조', '되는', '▁반', '미', '▁운동', '의', '▁한', '▁원', '인이', '▁', '됐다', '.', '▁10', '월', '▁26', '일', ',', '▁박', '정', '희', '▁대통령', '이', '▁김', '재', '규', '▁중앙', '정보', '부', '장에', '▁의해', '▁살해', '된', '▁것에', '[SEP]'], 'segment': [0, 0, 0, 0, 0, 0, 0, 0, 0, 0, 0, 0, 0, 0, 0, 0, 0, 0, 0, 0, 0, 0, 0, 0, 0, 0, 0, 0, 0, 0, 0, 0, 0, 0, 0, 0, 0, 0, 0, 0, 0, 0, 0, 0, 0, 0, 0, 0, 0, 0, 0, 0, 0, 0, 0, 0, 0, 0, 0, 0, 0, 0, 0, 0, 0, 1, 1, 1, 1, 1, 1, 1, 1, 1, 1, 1, 1, 1, 1, 1, 1, 1, 1, 1, 1, 1, 1, 1, 1, 1, 1, 1, 1, 1, 1, 1, 1, 1, 1, 1, 1, 1, 1, 1, 1, 1, 1, 1, 1, 1, 1, 1, 1, 1, 1, 1, 1, 1, 1, 1, 1, 1, 1, 1, 1, 1, 1, 1], 'is_next': 0, 'mask_idx': [13, 20, 21, 22, 24, 25, 26, 27, 28, 29, 49, 50, 51, 60, 61, 65, 66, 75], 'mask_label': ['▁선거', '▁벌', '레', '에', '▁드', '라', '쿤', '쿠', '르', '스', '▁집', '짓', '기', '▁활동', '도', '▁1979', '년', '▁당시의']}\n",
            "enc_token: [5, 3612, 339, 1114, 238, 158, 3756, 3607, 231, 30, 49, 3692, 1654, 6, 209, 3623, 375, 228, 24, 3733, 6, 6, 6, 1332, 6, 6, 6, 6, 6, 6, 761, 3886, 95, 3729, 3624, 231, 947, 4437, 3598, 3599, 679, 1412, 4234, 4083, 770, 375, 3604, 1424, 3601, 6, 6, 6, 887, 3604, 605, 147, 3972, 35, 3729, 507, 6, 6, 345, 3599, 4, 6, 6, 203, 1640, 3625, 447, 2843, 1032, 3889, 3614, 6, 663, 1277, 202, 695, 433, 442, 3823, 3612, 227, 701, 47, 2470, 3604, 594, 1140, 410, 3428, 70, 3676, 267, 141, 3686, 887, 3601, 34, 129, 828, 3596, 1027, 3599, 131, 3662, 981, 3629, 3604, 338, 3642, 4055, 663, 3597, 200, 3729, 3958, 782, 2275, 3638, 1312, 355, 2591, 3711, 2057, 4]\n",
            "segment: [0, 0, 0, 0, 0, 0, 0, 0, 0, 0, 0, 0, 0, 0, 0, 0, 0, 0, 0, 0, 0, 0, 0, 0, 0, 0, 0, 0, 0, 0, 0, 0, 0, 0, 0, 0, 0, 0, 0, 0, 0, 0, 0, 0, 0, 0, 0, 0, 0, 0, 0, 0, 0, 0, 0, 0, 0, 0, 0, 0, 0, 0, 0, 0, 0, 1, 1, 1, 1, 1, 1, 1, 1, 1, 1, 1, 1, 1, 1, 1, 1, 1, 1, 1, 1, 1, 1, 1, 1, 1, 1, 1, 1, 1, 1, 1, 1, 1, 1, 1, 1, 1, 1, 1, 1, 1, 1, 1, 1, 1, 1, 1, 1, 1, 1, 1, 1, 1, 1, 1, 1, 1, 1, 1, 1, 1, 1, 1]\n",
            "label_nsp: 0\n",
            "label_mlm: [   0    0    0    0    0    0    0    0    0    0    0    0    0  822\n",
            "    0    0    0    0    0    0  813 3740 3600    0  311 3635 4956 3937\n",
            " 3699 3626    0    0    0    0    0    0    0    0    0    0    0    0\n",
            "    0    0    0    0    0    0    0  313 4333 3614    0    0    0    0\n",
            "    0    0    0    0  375 3627    0    0    0 2995 3625    0    0    0\n",
            "    0    0    0    0    0 3195    0    0    0    0    0    0    0    0\n",
            "    0    0    0    0    0    0    0    0    0    0    0    0    0    0\n",
            "    0    0    0    0    0    0    0    0    0    0    0    0    0    0\n",
            "    0    0    0    0    0    0    0    0    0    0    0    0    0    0\n",
            "    0    0]\n",
            "\n",
            "{'tokens': ['[CLS]', '▁미국', '이', '▁북', '핵', '▁위', '기', ',', '▁코', '소', '보', '▁전쟁', ',', '▁이', '라크', '▁전쟁', '과', '▁같이', '▁미국', '이', '▁군사', '적', '▁행', '동을', '[MASK]', '[MASK]', '[MASK]', '▁선택', '하는', '[MASK]', '[MASK]', '▁사고', '를', '▁버', '리고', '▁군사', '적', '▁행', '동을', '[MASK]', '[MASK]', '[MASK]', '▁행', '위에', '[MASK]', '▁깊', '은', '▁유', '감을', '▁표시', '▁하며', '▁미국의', '▁군사', '적', '[MASK]', '[MASK]', '▁강한', '▁반대', '[MASK]', '[MASK]', '▁보', '이고', '▁있다', '.', '[SEP]', '▁특히', '▁국제', '▁분', '쟁', '▁조', '정을', '▁위해', '▁북한', '의', '[MASK]', '[MASK]', '[MASK]', '[MASK]', '▁아이', '티', '의', '▁세', '드', '라스', '▁장', '군', ',', '▁팔', '레', '인', '스타', '인의', '▁하', '마', '스', ',', '▁보', '스', '니아', '의', '▁세르', '비아', '계', '▁정', '권', '▁같이', '[MASK]', '▁정부', '에', '▁대해', '▁협', '상을', '▁거부', '하면서', '▁사', '태', '의', '▁위', '기를', '▁초', '래', '한', '▁인물', '▁및', '▁단', '체를', '▁직접', '[SEP]'], 'segment': [0, 0, 0, 0, 0, 0, 0, 0, 0, 0, 0, 0, 0, 0, 0, 0, 0, 0, 0, 0, 0, 0, 0, 0, 0, 0, 0, 0, 0, 0, 0, 0, 0, 0, 0, 0, 0, 0, 0, 0, 0, 0, 0, 0, 0, 0, 0, 0, 0, 0, 0, 0, 0, 0, 0, 0, 0, 0, 0, 0, 0, 0, 0, 0, 0, 1, 1, 1, 1, 1, 1, 1, 1, 1, 1, 1, 1, 1, 1, 1, 1, 1, 1, 1, 1, 1, 1, 1, 1, 1, 1, 1, 1, 1, 1, 1, 1, 1, 1, 1, 1, 1, 1, 1, 1, 1, 1, 1, 1, 1, 1, 1, 1, 1, 1, 1, 1, 1, 1, 1, 1, 1, 1, 1, 1, 1, 1, 1], 'is_next': 1, 'mask_idx': [24, 25, 26, 29, 30, 39, 40, 41, 44, 54, 55, 58, 59, 74, 75, 76, 77, 106], 'mask_label': ['▁최', '후', '로', '▁전통', '적', '▁선', '행', '하는', '▁대해', '▁활동', '에', '▁입', '장을', '▁김', '일', '성', ',', '▁미국']}\n",
            "enc_token: [5, 243, 3597, 251, 4166, 45, 3614, 3604, 258, 3688, 3672, 506, 3604, 8, 3553, 506, 3644, 733, 243, 3597, 1250, 3657, 236, 1629, 6, 6, 6, 1715, 38, 6, 6, 1646, 3624, 407, 999, 1250, 3657, 236, 1629, 6, 6, 6, 236, 1157, 6, 1910, 3613, 46, 2196, 2466, 1368, 679, 1250, 3657, 6, 6, 2632, 1216, 6, 6, 47, 458, 28, 3599, 4, 698, 605, 147, 3972, 53, 666, 231, 1876, 3601, 6, 6, 6, 6, 520, 3835, 3601, 74, 3681, 1951, 104, 3722, 3604, 961, 3740, 3628, 936, 692, 27, 3674, 3626, 3604, 47, 3626, 491, 3601, 3189, 852, 3704, 36, 3830, 733, 6, 513, 3600, 433, 617, 460, 2324, 421, 15, 3800, 3601, 45, 333, 192, 3808, 3612, 1178, 228, 164, 1396, 1069, 4]\n",
            "segment: [0, 0, 0, 0, 0, 0, 0, 0, 0, 0, 0, 0, 0, 0, 0, 0, 0, 0, 0, 0, 0, 0, 0, 0, 0, 0, 0, 0, 0, 0, 0, 0, 0, 0, 0, 0, 0, 0, 0, 0, 0, 0, 0, 0, 0, 0, 0, 0, 0, 0, 0, 0, 0, 0, 0, 0, 0, 0, 0, 0, 0, 0, 0, 0, 0, 1, 1, 1, 1, 1, 1, 1, 1, 1, 1, 1, 1, 1, 1, 1, 1, 1, 1, 1, 1, 1, 1, 1, 1, 1, 1, 1, 1, 1, 1, 1, 1, 1, 1, 1, 1, 1, 1, 1, 1, 1, 1, 1, 1, 1, 1, 1, 1, 1, 1, 1, 1, 1, 1, 1, 1, 1, 1, 1, 1, 1, 1, 1]\n",
            "label_nsp: 1\n",
            "label_mlm: [   0    0    0    0    0    0    0    0    0    0    0    0    0    0\n",
            "    0    0    0    0    0    0    0    0    0    0  130 3706 3603    0\n",
            "    0 1306 3657    0    0    0    0    0    0    0    0   57 3752   38\n",
            "    0    0  433    0    0    0    0    0    0    0    0    0  375 3600\n",
            "    0    0  213  480    0    0    0    0    0    0    0    0    0    0\n",
            "    0    0    0    0  200 3629 3650 3604    0    0    0    0    0    0\n",
            "    0    0    0    0    0    0    0    0    0    0    0    0    0    0\n",
            "    0    0    0    0    0    0    0    0  243    0    0    0    0    0\n",
            "    0    0    0    0    0    0    0    0    0    0    0    0    0    0\n",
            "    0    0]\n",
            "\n"
          ]
        },
        {
          "output_type": "stream",
          "name": "stderr",
          "text": [
            "/usr/local/lib/python3.7/dist-packages/ipykernel_launcher.py:16: DeprecationWarning: `np.int` is a deprecated alias for the builtin `int`. To silence this warning, use `int` by itself. Doing this will not modify any behavior and is safe. When replacing `np.int`, you may wish to use e.g. `np.int64` or `np.int32` to specify the precision. If you wish to review your current use, check the release note link for additional information.\n",
            "Deprecated in NumPy 1.20; for more details and guidance: https://numpy.org/devdocs/release/1.20.0-notes.html#deprecations\n",
            "  app.launch_new_instance()\n",
            "/usr/local/lib/python3.7/dist-packages/ipykernel_launcher.py:17: DeprecationWarning: `np.int` is a deprecated alias for the builtin `int`. To silence this warning, use `int` by itself. Doing this will not modify any behavior and is safe. When replacing `np.int`, you may wish to use e.g. `np.int64` or `np.int32` to specify the precision. If you wish to review your current use, check the release note link for additional information.\n",
            "Deprecated in NumPy 1.20; for more details and guidance: https://numpy.org/devdocs/release/1.20.0-notes.html#deprecations\n",
            "/usr/local/lib/python3.7/dist-packages/ipykernel_launcher.py:18: DeprecationWarning: `np.int` is a deprecated alias for the builtin `int`. To silence this warning, use `int` by itself. Doing this will not modify any behavior and is safe. When replacing `np.int`, you may wish to use e.g. `np.int64` or `np.int32` to specify the precision. If you wish to review your current use, check the release note link for additional information.\n",
            "Deprecated in NumPy 1.20; for more details and guidance: https://numpy.org/devdocs/release/1.20.0-notes.html#deprecations\n"
          ]
        }
      ]
    },
    {
      "cell_type": "code",
      "source": [
        "def load_pre_train_data(vocab, filename, n_seq, count=None):\n",
        "    \"\"\"\n",
        "    학습에 필요한 데이터를 로드\n",
        "    :param vocab: vocab\n",
        "    :param filename: 전처리된 json 파일\n",
        "    :param n_seq: 시퀀스 길이 (number of sequence)\n",
        "    :param count: 데이터 수 제한 (None이면 전체)\n",
        "    :return enc_tokens: encoder inputs\n",
        "    :return segments: segment inputs\n",
        "    :return labels_nsp: nsp labels\n",
        "    :return labels_mlm: mlm labels\n",
        "    \"\"\"\n",
        "    total = 0\n",
        "    with open(filename, \"r\") as f:\n",
        "        for line in f:\n",
        "            total += 1\n",
        "            # 데이터 수 제한\n",
        "            if count is not None and count <= total:\n",
        "                break\n",
        "    \n",
        "    # np.memmap을 사용하면 메모리를 적은 메모리에서도 대용량 데이터 처리가 가능 함\n",
        "    enc_tokens = np.memmap(filename='enc_tokens.memmap', mode='w+', dtype=np.int32, shape=(total, n_seq))\n",
        "    segments = np.memmap(filename='segments.memmap', mode='w+', dtype=np.int32, shape=(total, n_seq))\n",
        "    labels_nsp = np.memmap(filename='labels_nsp.memmap', mode='w+', dtype=np.int32, shape=(total,))\n",
        "    labels_mlm = np.memmap(filename='labels_mlm.memmap', mode='w+', dtype=np.int32, shape=(total, n_seq))\n",
        "\n",
        "    with open(filename, \"r\") as f:\n",
        "        for i, line in enumerate(tqdm(f, total=total)):\n",
        "            if total <= i:\n",
        "                print(\"data load early stop\", total, i)\n",
        "                break\n",
        "            data = json.loads(line)\n",
        "            # encoder token\n",
        "            enc_token = [vocab.piece_to_id(p) for p in data[\"tokens\"]]\n",
        "            enc_token += [0] * (n_seq - len(enc_token))\n",
        "            # segment\n",
        "            segment = data[\"segment\"]\n",
        "            segment += [0] * (n_seq - len(segment))\n",
        "            # nsp label\n",
        "            label_nsp = data[\"is_next\"]\n",
        "            # mlm label\n",
        "            mask_idx = np.array(data[\"mask_idx\"], dtype=np.int)\n",
        "            mask_label = np.array([vocab.piece_to_id(p) for p in data[\"mask_label\"]], dtype=np.int)\n",
        "            label_mlm = np.full(n_seq, dtype=np.int, fill_value=0)\n",
        "            label_mlm[mask_idx] = mask_label\n",
        "\n",
        "            assert len(enc_token) == len(segment) == len(label_mlm) == n_seq\n",
        "\n",
        "            enc_tokens[i] = enc_token\n",
        "            segments[i] = segment\n",
        "            labels_nsp[i] = label_nsp\n",
        "            labels_mlm[i] = label_mlm\n",
        "\n",
        "    return (enc_tokens, segments), (labels_nsp, labels_mlm)"
      ],
      "metadata": {
        "id": "4sV49ThJL_8o"
      },
      "execution_count": 40,
      "outputs": []
    },
    {
      "cell_type": "code",
      "source": [
        "# 전체 로딩 #128000건만 메모리에 로딩\n",
        "pre_train_inputs, pre_train_labels = load_pre_train_data(vocab, pretrain_json_path, 128, count=918189)"
      ],
      "metadata": {
        "colab": {
          "base_uri": "https://localhost:8080/",
          "height": 178,
          "referenced_widgets": [
            "8c59b485981d4dd881eff9731c0f9fe1",
            "aa75935b118a4f388c9b4c136e893cff",
            "b2395f86e2bb4a7a8b8b06f0016b4d2c",
            "9e096970f2344cfbabf8c524ab1ca7dc",
            "cc85b08d48e34f499df0bf917b96c10d",
            "9e0a93001b5e4de8a95507b90cdac8bc",
            "f39d616e6f6147a8a53a25a5945e80f1",
            "8bf80d07c31d47799cc879a40c5372fa",
            "cd912814d7244bd3a5b5513c0b6ca700",
            "1785621319554b13b93e806a4252fde5",
            "a4f315503e26468bb5c21be4b3346886"
          ]
        },
        "id": "jB1Q3ptHL2b7",
        "outputId": "d5d4135b-96bd-4dba-8f30-561766413b76"
      },
      "execution_count": 41,
      "outputs": [
        {
          "output_type": "display_data",
          "data": {
            "text/plain": [
              "  0%|          | 0/918189 [00:00<?, ?it/s]"
            ],
            "application/vnd.jupyter.widget-view+json": {
              "version_major": 2,
              "version_minor": 0,
              "model_id": "8c59b485981d4dd881eff9731c0f9fe1"
            }
          },
          "metadata": {}
        },
        {
          "output_type": "stream",
          "name": "stderr",
          "text": [
            "/usr/local/lib/python3.7/dist-packages/ipykernel_launcher.py:42: DeprecationWarning: `np.int` is a deprecated alias for the builtin `int`. To silence this warning, use `int` by itself. Doing this will not modify any behavior and is safe. When replacing `np.int`, you may wish to use e.g. `np.int64` or `np.int32` to specify the precision. If you wish to review your current use, check the release note link for additional information.\n",
            "Deprecated in NumPy 1.20; for more details and guidance: https://numpy.org/devdocs/release/1.20.0-notes.html#deprecations\n",
            "/usr/local/lib/python3.7/dist-packages/ipykernel_launcher.py:43: DeprecationWarning: `np.int` is a deprecated alias for the builtin `int`. To silence this warning, use `int` by itself. Doing this will not modify any behavior and is safe. When replacing `np.int`, you may wish to use e.g. `np.int64` or `np.int32` to specify the precision. If you wish to review your current use, check the release note link for additional information.\n",
            "Deprecated in NumPy 1.20; for more details and guidance: https://numpy.org/devdocs/release/1.20.0-notes.html#deprecations\n",
            "/usr/local/lib/python3.7/dist-packages/ipykernel_launcher.py:44: DeprecationWarning: `np.int` is a deprecated alias for the builtin `int`. To silence this warning, use `int` by itself. Doing this will not modify any behavior and is safe. When replacing `np.int`, you may wish to use e.g. `np.int64` or `np.int32` to specify the precision. If you wish to review your current use, check the release note link for additional information.\n",
            "Deprecated in NumPy 1.20; for more details and guidance: https://numpy.org/devdocs/release/1.20.0-notes.html#deprecations\n"
          ]
        }
      ]
    },
    {
      "cell_type": "code",
      "source": [
        "# 처음과 마지막 확인\n",
        "pre_train_inputs[0][0], pre_train_inputs[0][-1], pre_train_inputs[1][0], pre_train_inputs[1][-1], pre_train_labels[0][0], pre_train_labels[0][-1], pre_train_labels[1][0], pre_train_labels[1][-1]"
      ],
      "metadata": {
        "colab": {
          "base_uri": "https://localhost:8080/"
        },
        "id": "8HUVhxT_MzH5",
        "outputId": "5e020f7a-4e49-49b6-e648-519de868de9c"
      },
      "execution_count": 42,
      "outputs": [
        {
          "output_type": "execute_result",
          "data": {
            "text/plain": [
              "(memmap([   5, 3629,  203,    6,    6, 1114, 3724,  788,  243,   49, 3632,\n",
              "          796,  663, 1647, 3682, 3682, 3625,    6, 3008, 3625, 3616,   16,\n",
              "         3599,   18, 3686,  207, 3714, 3602,    6,    6,    6,  630, 3714,\n",
              "         3565, 3835,  429, 3740, 3628, 3626, 1369,   10, 1605, 3599, 1755,\n",
              "         3630,   41, 3644,  830, 3624, 1135,   52, 3599,   13,   81,   87,\n",
              "         1501, 2247,   25, 3779, 3873, 3667, 3631, 3813, 3873, 4196, 3636,\n",
              "         3779, 3601,  249, 3725, 1232,   33,   52, 3599,  479, 3652, 3625,\n",
              "          243, 2780,   14, 1509,  168, 3877,  414,  165, 1697, 4290, 3873,\n",
              "         3703, 3683,    6,   21, 5007,  399,    6,    6,    6,    6,    6,\n",
              "          307,  587,  931,  103, 4313, 4290,  613, 3638, 3718,   98, 3878,\n",
              "         3656,  256, 2543,  309,  337, 3735,  181, 3616, 3603,    6,    6,\n",
              "            6,    4,   18, 3686,  207, 3714,    4], dtype=int32),\n",
              " memmap([   5,   55, 3674, 3689,    4,   55, 3674, 2149,  356, 4039,  635,\n",
              "          809, 3665,   46, 4331, 3845,   10, 2494, 4567,  610, 1628, 3599,\n",
              "          445, 3663, 3698,   10,  356, 4039,  635,  809, 3986, 3838, 2006,\n",
              "         3664, 4039,  265, 3596, 4345, 3867, 3773,    9,  375, 3678,   16,\n",
              "         3599,  318, 1595, 1041,  774,  757,   38,  568, 3613,  601, 3739,\n",
              "         3791, 2170, 3656,  286, 3691,  747,  356,  337, 3891, 3680, 3989,\n",
              "         3665,    6,    6,    6,    6,    6, 1079,  485, 3656, 3874,  327,\n",
              "         3810, 3739,   16, 3599,    4,    0,    0,    0,    0,    0,    0,\n",
              "            0,    0,    0,    0,    0,    0,    0,    0,    0,    0,    0,\n",
              "            0,    0,    0,    0,    0,    0,    0,    0,    0,    0,    0,\n",
              "            0,    0,    0,    0,    0,    0,    0,    0,    0,    0,    0,\n",
              "            0,    0,    0,    0,    0,    0,    0], dtype=int32),\n",
              " memmap([0, 0, 0, 0, 0, 0, 0, 0, 0, 0, 0, 0, 0, 0, 0, 0, 0, 0, 0, 0, 0, 0,\n",
              "         0, 0, 0, 0, 0, 0, 0, 0, 0, 0, 0, 0, 0, 0, 0, 0, 0, 0, 0, 0, 0, 0,\n",
              "         0, 0, 0, 0, 0, 0, 0, 0, 0, 0, 0, 0, 0, 0, 0, 0, 0, 0, 0, 0, 0, 0,\n",
              "         0, 0, 0, 0, 0, 0, 0, 0, 0, 0, 0, 0, 0, 0, 0, 0, 0, 0, 0, 0, 0, 0,\n",
              "         0, 0, 0, 0, 0, 0, 0, 0, 0, 0, 0, 0, 0, 0, 0, 0, 0, 0, 0, 0, 0, 0,\n",
              "         0, 0, 0, 0, 0, 0, 0, 0, 0, 0, 0, 0, 0, 1, 1, 1, 1, 1], dtype=int32),\n",
              " memmap([0, 0, 0, 0, 0, 1, 1, 1, 1, 1, 1, 1, 1, 1, 1, 1, 1, 1, 1, 1, 1, 1,\n",
              "         1, 1, 1, 1, 1, 1, 1, 1, 1, 1, 1, 1, 1, 1, 1, 1, 1, 1, 1, 1, 1, 1,\n",
              "         1, 1, 1, 1, 1, 1, 1, 1, 1, 1, 1, 1, 1, 1, 1, 1, 1, 1, 1, 1, 1, 1,\n",
              "         1, 1, 1, 1, 1, 1, 1, 1, 1, 1, 1, 1, 1, 1, 1, 1, 0, 0, 0, 0, 0, 0,\n",
              "         0, 0, 0, 0, 0, 0, 0, 0, 0, 0, 0, 0, 0, 0, 0, 0, 0, 0, 0, 0, 0, 0,\n",
              "         0, 0, 0, 0, 0, 0, 0, 0, 0, 0, 0, 0, 0, 0, 0, 0, 0, 0], dtype=int32),\n",
              " 0,\n",
              " 1,\n",
              " memmap([   0,    0,    0,  241, 3602,    0,    0,    0,    0,   49, 3632,\n",
              "          796,    0,    0,    0,    0,    0,  203,    0,    0,    0,    0,\n",
              "            0,    0,    0,    0,    0,    0, 1755, 3630, 3646,    0,    0,\n",
              "            0,    0,    0,    0,    0,    0,    0,    0,    0,    0,    0,\n",
              "            0,    0,    0,    0,    0,    0,    0,    0,    0,    0,    0,\n",
              "            0,    0,    0,    0,    0,    0,    0,    0,    0,    0,    0,\n",
              "            0,    0,    0,    0,    0,    0,    0,    0,    0,    0,    0,\n",
              "            0,    0,    0,    0,    0,    0,    0,    0,    0,    0,    0,\n",
              "            0,    0,  593,    0,    0,    0, 1927, 3607,  813,   17, 3599,\n",
              "            0,    0,    0,    0,    0,    0,    0,    0,    0,    0,    0,\n",
              "            0,    0,    0,    0,    0,    0,    0,    0,    0,  489,  376,\n",
              "         3599,    0,    0,    0,    0,    0,    0], dtype=int32),\n",
              " memmap([   0,    0,    0,    0,    0,    0,    0,    0,    0,    0,    0,\n",
              "            0,    0,   46, 4331, 3845,   10,  610,   38,    0,    0,    0,\n",
              "            0,    0,    0,    0,    0,    0,    0,    0,    0,    0,    0,\n",
              "            0,    0,    0,    0,    0,    0,    0,    0,    0,    0,    0,\n",
              "            0,    0,    0,    0,    0,    0,    0,    0,    0,    0,    0,\n",
              "            0,    0,    0,    0,    0,    0,    0,    0,    0,    0,    0,\n",
              "            0,  485, 3656, 1698, 3761, 3656,    0,    0,    0,    0,    0,\n",
              "            0,    0,    0,    0,    0,    0,    0,    0,    0,    0,    0,\n",
              "            0,    0,    0,    0,    0,    0,    0,    0,    0,    0,    0,\n",
              "            0,    0,    0,    0,    0,    0,    0,    0,    0,    0,    0,\n",
              "            0,    0,    0,    0,    0,    0,    0,    0,    0,    0,    0,\n",
              "            0,    0,    0,    0,    0,    0,    0], dtype=int32))"
            ]
          },
          "metadata": {},
          "execution_count": 42
        }
      ]
    },
    {
      "cell_type": "code",
      "source": [
        "def get_pad_mask(tokens, i_pad=0):\n",
        "    \"\"\"\n",
        "    pad mask 계산하는 함수\n",
        "    :param tokens: tokens (bs, n_seq)\n",
        "    :param i_pad: id of pad\n",
        "    :return mask: pad mask (pad: 1, other: 0)\n",
        "    \"\"\"\n",
        "    mask = tf.cast(tf.math.equal(tokens, i_pad), tf.float32)\n",
        "    mask = tf.expand_dims(mask, axis=1)\n",
        "    return mask\n",
        "\n",
        "\n",
        "def get_ahead_mask(tokens, i_pad=0):\n",
        "    \"\"\"\n",
        "    ahead mask 계산하는 함수\n",
        "    :param tokens: tokens (bs, n_seq)\n",
        "    :param i_pad: id of pad\n",
        "    :return mask: ahead and pad mask (ahead or pad: 1, other: 0)\n",
        "    \"\"\"\n",
        "    n_seq = tf.shape(tokens)[1]\n",
        "    ahead_mask = 1 - tf.linalg.band_part(tf.ones((n_seq, n_seq)), -1, 0)\n",
        "    ahead_mask = tf.expand_dims(ahead_mask, axis=0)\n",
        "    pad_mask = get_pad_mask(tokens, i_pad)\n",
        "    mask = tf.maximum(ahead_mask, pad_mask)\n",
        "    return mask"
      ],
      "metadata": {
        "id": "pjBYHpX1MzJ_"
      },
      "execution_count": 43,
      "outputs": []
    },
    {
      "cell_type": "code",
      "source": [
        "@tf.function(experimental_relax_shapes=True)\n",
        "def gelu(x):\n",
        "    \"\"\"\n",
        "    gelu activation 함수\n",
        "    :param x: 입력 값\n",
        "    :return: gelu activation result\n",
        "    \"\"\"\n",
        "    return 0.5 * x * (1 + K.tanh(x * 0.7978845608 * (1 + 0.044715 * x * x)))"
      ],
      "metadata": {
        "id": "CAeIhhaQMzMM"
      },
      "execution_count": 44,
      "outputs": []
    },
    {
      "cell_type": "code",
      "source": [
        "def kernel_initializer(stddev=0.02):\n",
        "    \"\"\"\n",
        "    parameter initializer 생성\n",
        "    :param stddev: 생성할 랜덤 변수의 표준편차\n",
        "    \"\"\"\n",
        "    return tf.keras.initializers.TruncatedNormal(stddev=stddev)\n",
        "\n",
        "\n",
        "def bias_initializer():\n",
        "    \"\"\"\n",
        "    bias initializer 생성\n",
        "    \"\"\"\n",
        "    return tf.zeros_initializer"
      ],
      "metadata": {
        "id": "lvoC41r1MzOG"
      },
      "execution_count": 45,
      "outputs": []
    },
    {
      "cell_type": "code",
      "source": [
        "class Config(dict):\n",
        "    \"\"\"\n",
        "    json을 config 형태로 사용하기 위한 Class\n",
        "    :param dict: config dictionary\n",
        "    \"\"\"\n",
        "    __getattr__ = dict.__getitem__\n",
        "    __setattr__ = dict.__setitem__\n",
        "\n",
        "    @classmethod\n",
        "    def load(cls, file):\n",
        "        \"\"\"\n",
        "        file에서 Config를 생성 함\n",
        "        :param file: filename\n",
        "        \"\"\"\n",
        "        with open(file, 'r') as f:\n",
        "            config = json.loads(f.read())\n",
        "            return Config(config)"
      ],
      "metadata": {
        "id": "ud-zEl5eMzQT"
      },
      "execution_count": 46,
      "outputs": []
    },
    {
      "cell_type": "code",
      "source": [
        "class SharedEmbedding(tf.keras.layers.Layer):\n",
        "    \"\"\"\n",
        "    Weighed Shaed Embedding Class\n",
        "    \"\"\"\n",
        "    def __init__(self, config, name=\"weight_shared_embedding\"):\n",
        "        \"\"\"\n",
        "        생성자\n",
        "        :param config: Config 객체\n",
        "        :param name: layer name\n",
        "        \"\"\"\n",
        "        super().__init__(name=name)\n",
        "\n",
        "        self.n_vocab = config.n_vocab\n",
        "        self.d_model = config.d_model\n",
        "    \n",
        "    def build(self, input_shape):\n",
        "        \"\"\"\n",
        "        shared weight 생성\n",
        "        :param input_shape: Tensor Shape (not used)\n",
        "        \"\"\"\n",
        "        with tf.name_scope(\"shared_embedding_weight\"):\n",
        "            self.shared_weights = self.add_weight(\n",
        "                \"weights\",\n",
        "                shape=[self.n_vocab, self.d_model],\n",
        "                initializer=kernel_initializer()\n",
        "            )\n",
        "\n",
        "    def call(self, inputs, mode=\"embedding\"):\n",
        "        \"\"\"\n",
        "        layer 실행\n",
        "        :param inputs: 입력\n",
        "        :param mode: 실행 모드\n",
        "        :return: embedding or linear 실행 결과\n",
        "        \"\"\"\n",
        "        # mode가 embedding일 경우 embedding lookup 실행\n",
        "        if mode == \"embedding\":\n",
        "            return self._embedding(inputs)\n",
        "        # mode가 linear일 경우 linear 실행\n",
        "        elif mode == \"linear\":\n",
        "            return self._linear(inputs)\n",
        "        # mode가 기타일 경우 오류 발생\n",
        "        else:\n",
        "            raise ValueError(f\"mode {mode} is not valid.\")\n",
        "    \n",
        "    def _embedding(self, inputs):\n",
        "        \"\"\"\n",
        "        embedding lookup\n",
        "        :param inputs: 입력\n",
        "        \"\"\"\n",
        "        embed = tf.gather(self.shared_weights, tf.cast(inputs, tf.int32))\n",
        "        return embed\n",
        "\n",
        "    def _linear(self, inputs):  # (bs, n_seq, d_model)\n",
        "        \"\"\"\n",
        "        linear 실행\n",
        "        :param inputs: 입력\n",
        "        \"\"\"\n",
        "        n_batch = tf.shape(inputs)[0]\n",
        "        n_seq = tf.shape(inputs)[1]\n",
        "        inputs = tf.reshape(inputs, [-1, self.d_model])  # (bs * n_seq, d_model)\n",
        "        outputs = tf.matmul(inputs, self.shared_weights, transpose_b=True)\n",
        "        outputs = tf.reshape(outputs, [n_batch, n_seq, self.n_vocab])  # (bs, n_seq, n_vocab)\n",
        "        return outputs"
      ],
      "metadata": {
        "id": "ATc8zOd8MzSe"
      },
      "execution_count": 47,
      "outputs": []
    },
    {
      "cell_type": "code",
      "source": [
        "class PositionalEmbedding(tf.keras.layers.Layer):\n",
        "    \"\"\"\n",
        "    Positional Embedding Class\n",
        "    \"\"\"\n",
        "    def __init__(self, config, name=\"position_embedding\"):\n",
        "        \"\"\"\n",
        "        생성자\n",
        "        :param config: Config 객체\n",
        "        :param name: layer name\n",
        "        \"\"\"\n",
        "        super().__init__(name=name)\n",
        "        \n",
        "        self.embedding = tf.keras.layers.Embedding(config.n_seq, config.d_model, embeddings_initializer=kernel_initializer())\n",
        "\n",
        "    def call(self, inputs):\n",
        "        \"\"\"\n",
        "        layer 실행\n",
        "        :param inputs: 입력\n",
        "        :return embed: positional embedding lookup 결과\n",
        "        \"\"\"\n",
        "        position = tf.cast(tf.math.cumsum(tf.ones_like(inputs), axis=1, exclusive=True), tf.int32)\n",
        "        embed = self.embedding(position)\n",
        "        return embed"
      ],
      "metadata": {
        "id": "eLybfTDbMzUn"
      },
      "execution_count": 48,
      "outputs": []
    },
    {
      "cell_type": "code",
      "source": [
        "class ScaleDotProductAttention(tf.keras.layers.Layer):\n",
        "    \"\"\"\n",
        "    Scale Dot Product Attention Class\n",
        "    \"\"\"\n",
        "    def __init__(self, name=\"scale_dot_product_attention\"):\n",
        "        \"\"\"\n",
        "        생성자\n",
        "        :param name: layer name\n",
        "        \"\"\"\n",
        "        super().__init__(name=name)\n",
        "\n",
        "    def call(self, Q, K, V, attn_mask):\n",
        "        \"\"\"\n",
        "        layer 실행\n",
        "        :param Q: Q value\n",
        "        :param K: K value\n",
        "        :param V: V value\n",
        "        :param attn_mask: 실행 모드\n",
        "        :return attn_out: attention 실행 결과\n",
        "        \"\"\"\n",
        "        attn_score = tf.matmul(Q, K, transpose_b=True)\n",
        "        scale = tf.math.sqrt(tf.cast(tf.shape(K)[-1], tf.float32))\n",
        "        attn_scale = tf.math.divide(attn_score, scale)\n",
        "        attn_scale -= 1.e9 * attn_mask\n",
        "        attn_prob = tf.nn.softmax(attn_scale, axis=-1)\n",
        "        attn_out = tf.matmul(attn_prob, V)\n",
        "        return attn_out"
      ],
      "metadata": {
        "id": "WnKktB2oMzW1"
      },
      "execution_count": 49,
      "outputs": []
    },
    {
      "cell_type": "code",
      "source": [
        "class MultiHeadAttention(tf.keras.layers.Layer):\n",
        "    \"\"\"\n",
        "    Multi Head Attention Class\n",
        "    \"\"\"\n",
        "    def __init__(self, config, name=\"multi_head_attention\"):\n",
        "        \"\"\"\n",
        "        생성자\n",
        "        :param config: Config 객체\n",
        "        :param name: layer name\n",
        "        \"\"\"\n",
        "        super().__init__(name=name)\n",
        "\n",
        "        self.d_model = config.d_model\n",
        "        self.n_head = config.n_head\n",
        "        self.d_head = config.d_head\n",
        "\n",
        "        # Q, K, V input dense layer\n",
        "        self.W_Q = tf.keras.layers.Dense(config.n_head * config.d_head, kernel_initializer=kernel_initializer(), bias_initializer=bias_initializer())\n",
        "        self.W_K = tf.keras.layers.Dense(config.n_head * config.d_head, kernel_initializer=kernel_initializer(), bias_initializer=bias_initializer())\n",
        "        self.W_V = tf.keras.layers.Dense(config.n_head * config.d_head, kernel_initializer=kernel_initializer(), bias_initializer=bias_initializer())\n",
        "        # Scale Dot Product Attention class\n",
        "        self.attention = ScaleDotProductAttention(name=\"self_attention\")\n",
        "        # output dense layer\n",
        "        self.W_O = tf.keras.layers.Dense(config.d_model, kernel_initializer=kernel_initializer(), bias_initializer=bias_initializer())\n",
        "\n",
        "    def call(self, Q, K, V, attn_mask):\n",
        "        \"\"\"\n",
        "        layer 실행\n",
        "        :param Q: Q value\n",
        "        :param K: K value\n",
        "        :param V: V value\n",
        "        :param attn_mask: 실행 모드\n",
        "        :return attn_out: attention 실행 결과\n",
        "        \"\"\"\n",
        "        # reshape Q, K, V, attn_mask\n",
        "        batch_size = tf.shape(Q)[0]\n",
        "        Q_m = tf.transpose(tf.reshape(self.W_Q(Q), [batch_size, -1, self.n_head, self.d_head]), [0, 2, 1, 3])  # (bs, n_head, Q_len, d_head)\n",
        "        K_m = tf.transpose(tf.reshape(self.W_K(K), [batch_size, -1, self.n_head, self.d_head]), [0, 2, 1, 3])  # (bs, n_head, K_len, d_head)\n",
        "        V_m = tf.transpose(tf.reshape(self.W_V(V), [batch_size, -1, self.n_head, self.d_head]), [0, 2, 1, 3])  # (bs, n_head, K_len, d_head)\n",
        "        attn_mask_m = tf.expand_dims(attn_mask, axis=1)\n",
        "        # Scale Dot Product Attention with multi head Q, K, V, attn_mask\n",
        "        attn_out = self.attention(Q_m, K_m, V_m, attn_mask_m)  # (bs, n_head, Q_len, d_head)\n",
        "        # transpose and liner\n",
        "        attn_out_m = tf.transpose(attn_out, perm=[0, 2, 1, 3])  # (bs, Q_len, n_head, d_head)\n",
        "        attn_out = tf.reshape(attn_out_m, [batch_size, -1, config.n_head * config.d_head])  # (bs, Q_len, d_model)\n",
        "        attn_out = self.W_O(attn_out) # (bs, Q_len, d_model)\n",
        "\n",
        "        return attn_out"
      ],
      "metadata": {
        "id": "r6gNIf7XMzZO"
      },
      "execution_count": 50,
      "outputs": []
    },
    {
      "cell_type": "code",
      "source": [
        "class PositionWiseFeedForward(tf.keras.layers.Layer):\n",
        "    \"\"\"\n",
        "    Position Wise Feed Forward Class\n",
        "    \"\"\"\n",
        "    def __init__(self, config, name=\"feed_forward\"):\n",
        "        \"\"\"\n",
        "        생성자\n",
        "        :param config: Config 객체\n",
        "        :param name: layer name\n",
        "        \"\"\"\n",
        "        super().__init__(name=name)\n",
        "\n",
        "        self.W_1 = tf.keras.layers.Dense(config.d_ff, activation=gelu, kernel_initializer=kernel_initializer(), bias_initializer=bias_initializer())\n",
        "        self.W_2 = tf.keras.layers.Dense(config.d_model, kernel_initializer=kernel_initializer(), bias_initializer=bias_initializer())\n",
        "\n",
        "    def call(self, inputs):\n",
        "        \"\"\"\n",
        "        layer 실행\n",
        "        :param inputs: inputs\n",
        "        :return ff_val: feed forward 실행 결과\n",
        "        \"\"\"\n",
        "        ff_val = self.W_2(self.W_1(inputs))\n",
        "        return ff_val"
      ],
      "metadata": {
        "id": "xrSKQpqVNEGi"
      },
      "execution_count": 51,
      "outputs": []
    },
    {
      "cell_type": "code",
      "source": [
        "class EncoderLayer(tf.keras.layers.Layer):\n",
        "    \"\"\"\n",
        "    Encoder Layer Class\n",
        "    \"\"\"\n",
        "    def __init__(self, config, name=\"encoder_layer\"):\n",
        "        \"\"\"\n",
        "        생성자\n",
        "        :param config: Config 객체\n",
        "        :param name: layer name\n",
        "        \"\"\"\n",
        "        super().__init__(name=name)\n",
        "\n",
        "        self.self_attention = MultiHeadAttention(config)\n",
        "        self.norm1 = tf.keras.layers.LayerNormalization(epsilon=config.layernorm_epsilon)\n",
        "\n",
        "        self.ffn = PositionWiseFeedForward(config)\n",
        "        self.norm2 = tf.keras.layers.LayerNormalization(epsilon=config.layernorm_epsilon)\n",
        "\n",
        "        self.dropout = tf.keras.layers.Dropout(config.dropout)\n",
        " \n",
        "    def call(self, enc_embed, self_mask):\n",
        "        \"\"\"\n",
        "        layer 실행\n",
        "        :param enc_embed: enc_embed 또는 이전 EncoderLayer의 출력\n",
        "        :param self_mask: enc_tokens의 pad mask\n",
        "        :return enc_out: EncoderLayer 실행 결과\n",
        "        \"\"\"\n",
        "        self_attn_val = self.self_attention(enc_embed, enc_embed, enc_embed, self_mask)\n",
        "        norm1_val = self.norm1(enc_embed + self.dropout(self_attn_val))\n",
        "\n",
        "        ffn_val = self.ffn(norm1_val)\n",
        "        enc_out = self.norm2(norm1_val + self.dropout(ffn_val))\n",
        "\n",
        "        return enc_out"
      ],
      "metadata": {
        "id": "nQCiqEMnNEIr"
      },
      "execution_count": 52,
      "outputs": []
    },
    {
      "cell_type": "code",
      "source": [
        "class BERT(tf.keras.layers.Layer):\n",
        "    \"\"\"\n",
        "    BERT Class\n",
        "    \"\"\"\n",
        "    def __init__(self, config, name=\"bert\"):\n",
        "        \"\"\"\n",
        "        생성자\n",
        "        :param config: Config 객체\n",
        "        :param name: layer name\n",
        "        \"\"\"\n",
        "        super().__init__(name=name)\n",
        "\n",
        "        self.i_pad = config.i_pad\n",
        "        self.embedding = SharedEmbedding(config)\n",
        "        self.position = PositionalEmbedding(config)\n",
        "        self.segment = tf.keras.layers.Embedding(2, config.d_model, embeddings_initializer=kernel_initializer())\n",
        "        self.norm = tf.keras.layers.LayerNormalization(epsilon=config.layernorm_epsilon)\n",
        "        \n",
        "        self.encoder_layers = [EncoderLayer(config, name=f\"encoder_layer_{i}\") for i in range(config.n_layer)]\n",
        "\n",
        "        self.dropout = tf.keras.layers.Dropout(config.dropout)\n",
        "\n",
        "    def call(self, inputs):\n",
        "        \"\"\"\n",
        "        layer 실행\n",
        "        :param inputs: (enc_tokens, segments)\n",
        "        :return logits: dec_tokens에 대한 다음 토큰 예측 결과 logits\n",
        "        \"\"\"\n",
        "        enc_tokens, segments = inputs\n",
        "\n",
        "        enc_self_mask = tf.keras.layers.Lambda(get_pad_mask, output_shape=(1, None), name='enc_self_mask')(enc_tokens, self.i_pad)\n",
        "\n",
        "        enc_embed = self.get_embedding(enc_tokens, segments)\n",
        "\n",
        "        enc_out = self.dropout(enc_embed)\n",
        "        for encoder_layer in self.encoder_layers:\n",
        "            enc_out = encoder_layer(enc_out, enc_self_mask)\n",
        "\n",
        "        logits_cls = enc_out[:,0]\n",
        "        logits_lm = self.embedding(enc_out, mode=\"linear\")\n",
        "        return logits_cls, logits_lm\n",
        "    \n",
        "    def get_embedding(self, tokens, segments):\n",
        "        \"\"\"\n",
        "        token embedding, position embedding lookup\n",
        "        :param tokens: 입력 tokens\n",
        "        :param segments: 입력 segments\n",
        "        :return embed: embedding 결과\n",
        "        \"\"\"\n",
        "        embed = self.embedding(tokens) + self.position(tokens) + self.segment(segments)\n",
        "        embed = self.norm(embed)\n",
        "        return embed"
      ],
      "metadata": {
        "id": "fir_bXY_NEKt"
      },
      "execution_count": 53,
      "outputs": []
    },
    {
      "cell_type": "code",
      "source": [
        "# Encoder Layer class 정의\n",
        "class PooledOutput(tf.keras.layers.Layer):\n",
        "    def __init__(self, config, n_output, name=\"pooled_output\"):\n",
        "        super().__init__(name=name)\n",
        "\n",
        "        self.dense1 = tf.keras.layers.Dense(config.d_model, activation=tf.nn.tanh, kernel_initializer=kernel_initializer(), bias_initializer=bias_initializer())\n",
        "        self.dense2 = tf.keras.layers.Dense(n_output, use_bias=False, activation=tf.nn.softmax, name=\"nsp\", kernel_initializer=kernel_initializer(), bias_initializer=bias_initializer())\n",
        " \n",
        "    def call(self, inputs):\n",
        "        outputs = self.dense1(inputs)\n",
        "        outputs = self.dense2(outputs)\n",
        "        return outputs"
      ],
      "metadata": {
        "id": "YH5JV7k9NENC"
      },
      "execution_count": 54,
      "outputs": []
    },
    {
      "cell_type": "code",
      "source": [
        "def build_model_pre_train(config):\n",
        "    enc_tokens = tf.keras.layers.Input((None,), name=\"enc_tokens\")\n",
        "    segments = tf.keras.layers.Input((None,), name=\"segments\")\n",
        "\n",
        "    bert = BERT(config)\n",
        "    logits_cls, logits_lm = bert((enc_tokens, segments))\n",
        "\n",
        "    logits_cls = PooledOutput(config, 2, name=\"pooled_nsp\")(logits_cls)\n",
        "    outputs_nsp = tf.keras.layers.Softmax(name=\"nsp\")(logits_cls)\n",
        "\n",
        "    outputs_mlm = tf.keras.layers.Softmax(name=\"mlm\")(logits_lm)\n",
        "\n",
        "    model = tf.keras.Model(inputs=(enc_tokens, segments), outputs=(outputs_nsp, outputs_mlm))\n",
        "    return model"
      ],
      "metadata": {
        "id": "uslR_yoUNEO_"
      },
      "execution_count": 55,
      "outputs": []
    },
    {
      "cell_type": "code",
      "source": [
        "config = Config({\"d_model\": 256, \"n_head\": 4, \"d_head\": 64, \"dropout\": 0.1, \"d_ff\": 1024, \"layernorm_epsilon\": 0.001, \"n_layer\": 3, \"n_seq\": 256, \"n_vocab\": 0, \"i_pad\": 0})\n",
        "config.n_vocab = len(vocab)\n",
        "config.i_pad = vocab.pad_id()\n",
        "config"
      ],
      "metadata": {
        "colab": {
          "base_uri": "https://localhost:8080/"
        },
        "id": "SJqIOe24NERJ",
        "outputId": "2f464c89-e486-45a9-b243-c5f0e93975e2"
      },
      "execution_count": 56,
      "outputs": [
        {
          "output_type": "execute_result",
          "data": {
            "text/plain": [
              "{'d_ff': 1024,\n",
              " 'd_head': 64,\n",
              " 'd_model': 256,\n",
              " 'dropout': 0.1,\n",
              " 'i_pad': 0,\n",
              " 'layernorm_epsilon': 0.001,\n",
              " 'n_head': 4,\n",
              " 'n_layer': 3,\n",
              " 'n_seq': 256,\n",
              " 'n_vocab': 8007}"
            ]
          },
          "metadata": {},
          "execution_count": 56
        }
      ]
    },
    {
      "cell_type": "code",
      "source": [
        "n_seq = 10\n",
        "\n",
        "# make test inputs\n",
        "enc_tokens = np.random.randint(0, len(vocab), (10, n_seq))\n",
        "segments = np.random.randint(0, 2, (10, n_seq))\n",
        "labels_nsp = np.random.randint(0, 2, (10,))\n",
        "labels_mlm = np.random.randint(0, len(vocab), (10, n_seq))\n",
        "\n",
        "test_model = build_model_pre_train(config)\n",
        "test_model.compile(loss=tf.keras.losses.sparse_categorical_crossentropy, optimizer=tf.keras.optimizers.Adam(), metrics=[\"acc\"])\n",
        "\n",
        "# test model fit\n",
        "test_model.fit((enc_tokens, segments), (labels_nsp, labels_mlm), epochs=2, batch_size=5)"
      ],
      "metadata": {
        "colab": {
          "base_uri": "https://localhost:8080/"
        },
        "id": "X0oioUueNETV",
        "outputId": "223b7c9d-a140-4e55-d5ea-5566876186a0"
      },
      "execution_count": 57,
      "outputs": [
        {
          "output_type": "stream",
          "name": "stdout",
          "text": [
            "Epoch 1/2\n",
            "2/2 [==============================] - 8s 15ms/step - loss: 9.7747 - nsp_loss: 0.7198 - mlm_loss: 9.0549 - nsp_acc: 0.6000 - mlm_acc: 0.0000e+00\n",
            "Epoch 2/2\n",
            "2/2 [==============================] - 0s 15ms/step - loss: 8.5973 - nsp_loss: 0.6165 - mlm_loss: 7.9808 - nsp_acc: 0.8000 - mlm_acc: 0.0000e+00\n"
          ]
        },
        {
          "output_type": "execute_result",
          "data": {
            "text/plain": [
              "<keras.callbacks.History at 0x7f58617b3d10>"
            ]
          },
          "metadata": {},
          "execution_count": 57
        }
      ]
    },
    {
      "cell_type": "code",
      "source": [
        "def lm_loss(y_true, y_pred):\n",
        "    \"\"\"\n",
        "    loss 계산 함수\n",
        "    :param y_true: 정답 (bs, n_seq)\n",
        "    :param y_pred: 예측 값 (bs, n_seq, n_vocab)\n",
        "    \"\"\"\n",
        "    # loss 계산\n",
        "    loss = tf.keras.losses.SparseCategoricalCrossentropy(reduction=tf.keras.losses.Reduction.NONE)(y_true, y_pred)\n",
        "    # pad(0) 인 부분 mask\n",
        "    mask = tf.cast(tf.math.not_equal(y_true, 0), dtype=loss.dtype)\n",
        "    loss *= mask\n",
        "    return loss * 20  # mlm을 더 잘 학습하도록 20배 증가 시킴"
      ],
      "metadata": {
        "id": "QaHbxHtGNEVb"
      },
      "execution_count": 58,
      "outputs": []
    },
    {
      "cell_type": "code",
      "source": [
        "def lm_acc(y_true, y_pred):\n",
        "    \"\"\"\n",
        "    acc 계산 함수\n",
        "    :param y_true: 정답 (bs, n_seq)\n",
        "    :param y_pred: 예측 값 (bs, n_seq, n_vocab)\n",
        "    \"\"\"\n",
        "    # 정답 여부 확인\n",
        "    y_pred_class = tf.cast(K.argmax(y_pred, axis=-1), tf.float32)\n",
        "    matches = tf.cast(K.equal(y_true, y_pred_class), tf.float32)\n",
        "    # pad(0) 인 부분 mask\n",
        "    mask = tf.cast(tf.math.not_equal(y_true, 0), dtype=matches.dtype)\n",
        "    matches *= mask\n",
        "    # 정확도 계산\n",
        "    accuracy = K.sum(matches) / K.maximum(K.sum(mask), 1)\n",
        "    return accuracy"
      ],
      "metadata": {
        "id": "K5ie8NIINPYG"
      },
      "execution_count": 59,
      "outputs": []
    },
    {
      "cell_type": "code",
      "source": [
        "class CosineSchedule(tf.keras.optimizers.schedules.LearningRateSchedule):\n",
        "    \"\"\"\n",
        "    CosineSchedule Class\n",
        "    \"\"\"\n",
        "    def __init__(self, train_steps=4000, warmup_steps=2000, max_lr=2.5e-4):\n",
        "        \"\"\"\n",
        "        생성자\n",
        "        :param train_steps: 학습 step 총 합\n",
        "        :param warmup_steps: warmup steps\n",
        "        :param max_lr: 최대 learning rate\n",
        "        \"\"\"\n",
        "        super().__init__()\n",
        "\n",
        "        assert 0 < warmup_steps < train_steps\n",
        "        self.warmup_steps = warmup_steps\n",
        "        self.train_steps = train_steps\n",
        "        self.max_lr = max_lr\n",
        "\n",
        "    def __call__(self, step_num):\n",
        "        \"\"\"\n",
        "        learning rate 계산\n",
        "        :param step_num: 현재 step number\n",
        "        :retrun: 계산된 learning rate\n",
        "        \"\"\"\n",
        "        state = tf.cast(step_num <= self.warmup_steps, tf.float32)\n",
        "        lr1 = tf.cast(step_num, tf.float32) / self.warmup_steps\n",
        "        progress = tf.cast(step_num - self.warmup_steps, tf.float32) / max(1, self.train_steps - self.warmup_steps)\n",
        "        lr2 = 0.5 * (1.0 + tf.math.cos(math.pi * progress))\n",
        "        return (state * lr1 + (1 - state) * lr2) * self.max_lr"
      ],
      "metadata": {
        "id": "v_1yXUHSNPcP"
      },
      "execution_count": 60,
      "outputs": []
    },
    {
      "cell_type": "code",
      "source": [
        "# compute lr \n",
        "test_schedule = CosineSchedule(train_steps=4000, warmup_steps=500)\n",
        "lrs = []\n",
        "for step_num in range(4000):\n",
        "    lrs.append(test_schedule(float(step_num)).numpy())\n",
        "\n",
        "# draw\n",
        "plt.plot(lrs, 'r-', label='learning_rate')\n",
        "plt.xlabel('Step')\n",
        "plt.show()"
      ],
      "metadata": {
        "colab": {
          "base_uri": "https://localhost:8080/",
          "height": 279
        },
        "id": "gpxT8QCxNPeK",
        "outputId": "5fe6c679-6552-40f7-93aa-9f42b067c60d"
      },
      "execution_count": 61,
      "outputs": [
        {
          "output_type": "display_data",
          "data": {
            "text/plain": [
              "<Figure size 432x288 with 1 Axes>"
            ],
            "image/png": "[encoded data removed]"
          },
          "metadata": {
            "needs_background": "light"
          }
        }
      ]
    },
    {
      "cell_type": "code",
      "source": [
        "# 모델 생성\n",
        "pre_train_model = build_model_pre_train(config)\n",
        "pre_train_model.summary()"
      ],
      "metadata": {
        "colab": {
          "base_uri": "https://localhost:8080/"
        },
        "id": "-TH2Dpo6NPgZ",
        "outputId": "a3eb3cfb-5e5b-491c-86f2-6a2859bb8153"
      },
      "execution_count": 62,
      "outputs": [
        {
          "output_type": "stream",
          "name": "stdout",
          "text": [
            "Model: \"model_1\"\n",
            "__________________________________________________________________________________________________\n",
            " Layer (type)                   Output Shape         Param #     Connected to                     \n",
            "==================================================================================================\n",
            " enc_tokens (InputLayer)        [(None, None)]       0           []                               \n",
            "                                                                                                  \n",
            " segments (InputLayer)          [(None, None)]       0           []                               \n",
            "                                                                                                  \n",
            " bert (BERT)                    ((None, 256),        4485632     ['enc_tokens[0][0]',             \n",
            "                                 (None, None, 8007)               'segments[0][0]']               \n",
            "                                )                                                                 \n",
            "                                                                                                  \n",
            " pooled_nsp (PooledOutput)      (None, 2)            66304       ['bert[0][0]']                   \n",
            "                                                                                                  \n",
            " nsp (Softmax)                  (None, 2)            0           ['pooled_nsp[0][0]']             \n",
            "                                                                                                  \n",
            " mlm (Softmax)                  (None, None, 8007)   0           ['bert[0][1]']                   \n",
            "                                                                                                  \n",
            "==================================================================================================\n",
            "Total params: 4,551,936\n",
            "Trainable params: 4,551,936\n",
            "Non-trainable params: 0\n",
            "__________________________________________________________________________________________________\n"
          ]
        }
      ]
    },
    {
      "cell_type": "code",
      "source": [
        "epochs = 5\n",
        "batch_size = 64\n",
        "\n",
        "# optimizer\n",
        "train_steps = math.ceil(len(pre_train_inputs[0]) / batch_size) * epochs\n",
        "print(\"train_steps:\", train_steps)\n",
        "learning_rate = CosineSchedule(train_steps=train_steps, warmup_steps=max(100, train_steps // 10))\n",
        "optimizer = tf.keras.optimizers.Adam(learning_rate, beta_1=0.9, beta_2=0.98, epsilon=1e-9)\n",
        "\n",
        "# compile\n",
        "pre_train_model.compile(loss=(tf.keras.losses.sparse_categorical_crossentropy, lm_loss), optimizer=optimizer, metrics={\"nsp\": \"acc\", \"mlm\": lm_acc})"
      ],
      "metadata": {
        "colab": {
          "base_uri": "https://localhost:8080/"
        },
        "id": "0DZ1YiLwNPim",
        "outputId": "ef872caa-fb63-4510-bd21-2c2e60f20275"
      },
      "execution_count": 65,
      "outputs": [
        {
          "output_type": "stream",
          "name": "stdout",
          "text": [
            "train_steps: 71735\n"
          ]
        }
      ]
    },
    {
      "cell_type": "code",
      "source": [
        "# save weights callback\n",
        "save_weights = tf.keras.callbacks.ModelCheckpoint(f\"{model_dir}/bert_pre_train.hdf5\", monitor=\"mlm_lm_acc\", verbose=1, save_best_only=True, mode=\"max\", save_freq=\"epoch\", save_weights_only=True)\n",
        "# train\n",
        "history = pre_train_model.fit(pre_train_inputs, pre_train_labels, epochs=epochs, batch_size=batch_size, callbacks=[save_weights])"
      ],
      "metadata": {
        "colab": {
          "base_uri": "https://localhost:8080/",
          "height": 540
        },
        "id": "ygAe_qvyNPks",
        "outputId": "6b9b9b4d-b169-46d3-f49b-39735fc5f821"
      },
      "execution_count": 66,
      "outputs": [
        {
          "output_type": "stream",
          "name": "stdout",
          "text": [
            "14347/14347 [==============================] - ETA: 0s - loss: 13.9539 - nsp_loss: 0.5310 - mlm_loss: 13.4229 - nsp_acc: 0.7415 - mlm_lm_acc: 0.1674\n",
            "Epoch 1: mlm_lm_acc improved from -inf to 0.16735, saving model to /content/drive/MyDrive/bert/models/bert_pre_train.hdf5\n",
            "14347/14347 [==============================] - 1914s 133ms/step - loss: 13.9539 - nsp_loss: 0.5310 - mlm_loss: 13.4229 - nsp_acc: 0.7415 - mlm_lm_acc: 0.1674\n",
            "Epoch 2/5\n",
            "14347/14347 [==============================] - ETA: 0s - loss: 10.4682 - nsp_loss: 0.5055 - mlm_loss: 9.9627 - nsp_acc: 0.7629 - mlm_lm_acc: 0.2755\n",
            "Epoch 2: mlm_lm_acc improved from 0.16735 to 0.27551, saving model to /content/drive/MyDrive/bert/models/bert_pre_train.hdf5\n",
            "14347/14347 [==============================] - 1931s 135ms/step - loss: 10.4682 - nsp_loss: 0.5055 - mlm_loss: 9.9627 - nsp_acc: 0.7629 - mlm_lm_acc: 0.2755\n",
            "Epoch 3/5\n",
            " 1949/14347 [===>..........................] - ETA: 27:49 - loss: 9.9585 - nsp_loss: 0.5010 - mlm_loss: 9.4574 - nsp_acc: 0.7683 - mlm_lm_acc: 0.2976"
          ]
        },
        {
          "output_type": "error",
          "ename": "KeyboardInterrupt",
          "evalue": "ignored",
          "traceback": [
            "\u001b[0;31m---------------------------------------------------------------------------\u001b[0m",
            "\u001b[0;31mKeyboardInterrupt\u001b[0m                         Traceback (most recent call last)",
            "\u001b[0;32m<ipython-input-66-1a6d7d8b5678>\u001b[0m in \u001b[0;36m<module>\u001b[0;34m()\u001b[0m\n\u001b[1;32m      2\u001b[0m \u001b[0msave_weights\u001b[0m \u001b[0;34m=\u001b[0m \u001b[0mtf\u001b[0m\u001b[0;34m.\u001b[0m\u001b[0mkeras\u001b[0m\u001b[0;34m.\u001b[0m\u001b[0mcallbacks\u001b[0m\u001b[0;34m.\u001b[0m\u001b[0mModelCheckpoint\u001b[0m\u001b[0;34m(\u001b[0m\u001b[0;34mf\"{model_dir}/bert_pre_train.hdf5\"\u001b[0m\u001b[0;34m,\u001b[0m \u001b[0mmonitor\u001b[0m\u001b[0;34m=\u001b[0m\u001b[0;34m\"mlm_lm_acc\"\u001b[0m\u001b[0;34m,\u001b[0m \u001b[0mverbose\u001b[0m\u001b[0;34m=\u001b[0m\u001b[0;36m1\u001b[0m\u001b[0;34m,\u001b[0m \u001b[0msave_best_only\u001b[0m\u001b[0;34m=\u001b[0m\u001b[0;32mTrue\u001b[0m\u001b[0;34m,\u001b[0m \u001b[0mmode\u001b[0m\u001b[0;34m=\u001b[0m\u001b[0;34m\"max\"\u001b[0m\u001b[0;34m,\u001b[0m \u001b[0msave_freq\u001b[0m\u001b[0;34m=\u001b[0m\u001b[0;34m\"epoch\"\u001b[0m\u001b[0;34m,\u001b[0m \u001b[0msave_weights_only\u001b[0m\u001b[0;34m=\u001b[0m\u001b[0;32mTrue\u001b[0m\u001b[0;34m)\u001b[0m\u001b[0;34m\u001b[0m\u001b[0;34m\u001b[0m\u001b[0m\n\u001b[1;32m      3\u001b[0m \u001b[0;31m# train\u001b[0m\u001b[0;34m\u001b[0m\u001b[0;34m\u001b[0m\u001b[0;34m\u001b[0m\u001b[0m\n\u001b[0;32m----> 4\u001b[0;31m \u001b[0mhistory\u001b[0m \u001b[0;34m=\u001b[0m \u001b[0mpre_train_model\u001b[0m\u001b[0;34m.\u001b[0m\u001b[0mfit\u001b[0m\u001b[0;34m(\u001b[0m\u001b[0mpre_train_inputs\u001b[0m\u001b[0;34m,\u001b[0m \u001b[0mpre_train_labels\u001b[0m\u001b[0;34m,\u001b[0m \u001b[0mepochs\u001b[0m\u001b[0;34m=\u001b[0m\u001b[0mepochs\u001b[0m\u001b[0;34m,\u001b[0m \u001b[0mbatch_size\u001b[0m\u001b[0;34m=\u001b[0m\u001b[0mbatch_size\u001b[0m\u001b[0;34m,\u001b[0m \u001b[0mcallbacks\u001b[0m\u001b[0;34m=\u001b[0m\u001b[0;34m[\u001b[0m\u001b[0msave_weights\u001b[0m\u001b[0;34m]\u001b[0m\u001b[0;34m)\u001b[0m\u001b[0;34m\u001b[0m\u001b[0;34m\u001b[0m\u001b[0m\n\u001b[0m",
            "\u001b[0;32m/usr/local/lib/python3.7/dist-packages/keras/utils/traceback_utils.py\u001b[0m in \u001b[0;36merror_handler\u001b[0;34m(*args, **kwargs)\u001b[0m\n\u001b[1;32m     62\u001b[0m     \u001b[0mfiltered_tb\u001b[0m \u001b[0;34m=\u001b[0m \u001b[0;32mNone\u001b[0m\u001b[0;34m\u001b[0m\u001b[0;34m\u001b[0m\u001b[0m\n\u001b[1;32m     63\u001b[0m     \u001b[0;32mtry\u001b[0m\u001b[0;34m:\u001b[0m\u001b[0;34m\u001b[0m\u001b[0;34m\u001b[0m\u001b[0m\n\u001b[0;32m---> 64\u001b[0;31m       \u001b[0;32mreturn\u001b[0m \u001b[0mfn\u001b[0m\u001b[0;34m(\u001b[0m\u001b[0;34m*\u001b[0m\u001b[0margs\u001b[0m\u001b[0;34m,\u001b[0m \u001b[0;34m**\u001b[0m\u001b[0mkwargs\u001b[0m\u001b[0;34m)\u001b[0m\u001b[0;34m\u001b[0m\u001b[0;34m\u001b[0m\u001b[0m\n\u001b[0m\u001b[1;32m     65\u001b[0m     \u001b[0;32mexcept\u001b[0m \u001b[0mException\u001b[0m \u001b[0;32mas\u001b[0m \u001b[0me\u001b[0m\u001b[0;34m:\u001b[0m  \u001b[0;31m# pylint: disable=broad-except\u001b[0m\u001b[0;34m\u001b[0m\u001b[0;34m\u001b[0m\u001b[0m\n\u001b[1;32m     66\u001b[0m       \u001b[0mfiltered_tb\u001b[0m \u001b[0;34m=\u001b[0m \u001b[0m_process_traceback_frames\u001b[0m\u001b[0;34m(\u001b[0m\u001b[0me\u001b[0m\u001b[0;34m.\u001b[0m\u001b[0m__traceback__\u001b[0m\u001b[0;34m)\u001b[0m\u001b[0;34m\u001b[0m\u001b[0;34m\u001b[0m\u001b[0m\n",
            "\u001b[0;32m/usr/local/lib/python3.7/dist-packages/keras/engine/training.py\u001b[0m in \u001b[0;36mfit\u001b[0;34m(self, x, y, batch_size, epochs, verbose, callbacks, validation_split, validation_data, shuffle, class_weight, sample_weight, initial_epoch, steps_per_epoch, validation_steps, validation_batch_size, validation_freq, max_queue_size, workers, use_multiprocessing)\u001b[0m\n\u001b[1;32m   1382\u001b[0m                 _r=1):\n\u001b[1;32m   1383\u001b[0m               \u001b[0mcallbacks\u001b[0m\u001b[0;34m.\u001b[0m\u001b[0mon_train_batch_begin\u001b[0m\u001b[0;34m(\u001b[0m\u001b[0mstep\u001b[0m\u001b[0;34m)\u001b[0m\u001b[0;34m\u001b[0m\u001b[0;34m\u001b[0m\u001b[0m\n\u001b[0;32m-> 1384\u001b[0;31m               \u001b[0mtmp_logs\u001b[0m \u001b[0;34m=\u001b[0m \u001b[0mself\u001b[0m\u001b[0;34m.\u001b[0m\u001b[0mtrain_function\u001b[0m\u001b[0;34m(\u001b[0m\u001b[0miterator\u001b[0m\u001b[0;34m)\u001b[0m\u001b[0;34m\u001b[0m\u001b[0;34m\u001b[0m\u001b[0m\n\u001b[0m\u001b[1;32m   1385\u001b[0m               \u001b[0;32mif\u001b[0m \u001b[0mdata_handler\u001b[0m\u001b[0;34m.\u001b[0m\u001b[0mshould_sync\u001b[0m\u001b[0;34m:\u001b[0m\u001b[0;34m\u001b[0m\u001b[0;34m\u001b[0m\u001b[0m\n\u001b[1;32m   1386\u001b[0m                 \u001b[0mcontext\u001b[0m\u001b[0;34m.\u001b[0m\u001b[0masync_wait\u001b[0m\u001b[0;34m(\u001b[0m\u001b[0;34m)\u001b[0m\u001b[0;34m\u001b[0m\u001b[0;34m\u001b[0m\u001b[0m\n",
            "\u001b[0;32m/usr/local/lib/python3.7/dist-packages/tensorflow/python/util/traceback_utils.py\u001b[0m in \u001b[0;36merror_handler\u001b[0;34m(*args, **kwargs)\u001b[0m\n\u001b[1;32m    148\u001b[0m     \u001b[0mfiltered_tb\u001b[0m \u001b[0;34m=\u001b[0m \u001b[0;32mNone\u001b[0m\u001b[0;34m\u001b[0m\u001b[0;34m\u001b[0m\u001b[0m\n\u001b[1;32m    149\u001b[0m     \u001b[0;32mtry\u001b[0m\u001b[0;34m:\u001b[0m\u001b[0;34m\u001b[0m\u001b[0;34m\u001b[0m\u001b[0m\n\u001b[0;32m--> 150\u001b[0;31m       \u001b[0;32mreturn\u001b[0m \u001b[0mfn\u001b[0m\u001b[0;34m(\u001b[0m\u001b[0;34m*\u001b[0m\u001b[0margs\u001b[0m\u001b[0;34m,\u001b[0m \u001b[0;34m**\u001b[0m\u001b[0mkwargs\u001b[0m\u001b[0;34m)\u001b[0m\u001b[0;34m\u001b[0m\u001b[0;34m\u001b[0m\u001b[0m\n\u001b[0m\u001b[1;32m    151\u001b[0m     \u001b[0;32mexcept\u001b[0m \u001b[0mException\u001b[0m \u001b[0;32mas\u001b[0m \u001b[0me\u001b[0m\u001b[0;34m:\u001b[0m\u001b[0;34m\u001b[0m\u001b[0;34m\u001b[0m\u001b[0m\n\u001b[1;32m    152\u001b[0m       \u001b[0mfiltered_tb\u001b[0m \u001b[0;34m=\u001b[0m \u001b[0m_process_traceback_frames\u001b[0m\u001b[0;34m(\u001b[0m\u001b[0me\u001b[0m\u001b[0;34m.\u001b[0m\u001b[0m__traceback__\u001b[0m\u001b[0;34m)\u001b[0m\u001b[0;34m\u001b[0m\u001b[0;34m\u001b[0m\u001b[0m\n",
            "\u001b[0;32m/usr/local/lib/python3.7/dist-packages/tensorflow/python/eager/def_function.py\u001b[0m in \u001b[0;36m__call__\u001b[0;34m(self, *args, **kwds)\u001b[0m\n\u001b[1;32m    913\u001b[0m \u001b[0;34m\u001b[0m\u001b[0m\n\u001b[1;32m    914\u001b[0m       \u001b[0;32mwith\u001b[0m \u001b[0mOptionalXlaContext\u001b[0m\u001b[0;34m(\u001b[0m\u001b[0mself\u001b[0m\u001b[0;34m.\u001b[0m\u001b[0m_jit_compile\u001b[0m\u001b[0;34m)\u001b[0m\u001b[0;34m:\u001b[0m\u001b[0;34m\u001b[0m\u001b[0;34m\u001b[0m\u001b[0m\n\u001b[0;32m--> 915\u001b[0;31m         \u001b[0mresult\u001b[0m \u001b[0;34m=\u001b[0m \u001b[0mself\u001b[0m\u001b[0;34m.\u001b[0m\u001b[0m_call\u001b[0m\u001b[0;34m(\u001b[0m\u001b[0;34m*\u001b[0m\u001b[0margs\u001b[0m\u001b[0;34m,\u001b[0m \u001b[0;34m**\u001b[0m\u001b[0mkwds\u001b[0m\u001b[0;34m)\u001b[0m\u001b[0;34m\u001b[0m\u001b[0;34m\u001b[0m\u001b[0m\n\u001b[0m\u001b[1;32m    916\u001b[0m \u001b[0;34m\u001b[0m\u001b[0m\n\u001b[1;32m    917\u001b[0m       \u001b[0mnew_tracing_count\u001b[0m \u001b[0;34m=\u001b[0m \u001b[0mself\u001b[0m\u001b[0;34m.\u001b[0m\u001b[0mexperimental_get_tracing_count\u001b[0m\u001b[0;34m(\u001b[0m\u001b[0;34m)\u001b[0m\u001b[0;34m\u001b[0m\u001b[0;34m\u001b[0m\u001b[0m\n",
            "\u001b[0;32m/usr/local/lib/python3.7/dist-packages/tensorflow/python/eager/def_function.py\u001b[0m in \u001b[0;36m_call\u001b[0;34m(self, *args, **kwds)\u001b[0m\n\u001b[1;32m    945\u001b[0m       \u001b[0;31m# In this case we have created variables on the first call, so we run the\u001b[0m\u001b[0;34m\u001b[0m\u001b[0;34m\u001b[0m\u001b[0;34m\u001b[0m\u001b[0m\n\u001b[1;32m    946\u001b[0m       \u001b[0;31m# defunned version which is guaranteed to never create variables.\u001b[0m\u001b[0;34m\u001b[0m\u001b[0;34m\u001b[0m\u001b[0;34m\u001b[0m\u001b[0m\n\u001b[0;32m--> 947\u001b[0;31m       \u001b[0;32mreturn\u001b[0m \u001b[0mself\u001b[0m\u001b[0;34m.\u001b[0m\u001b[0m_stateless_fn\u001b[0m\u001b[0;34m(\u001b[0m\u001b[0;34m*\u001b[0m\u001b[0margs\u001b[0m\u001b[0;34m,\u001b[0m \u001b[0;34m**\u001b[0m\u001b[0mkwds\u001b[0m\u001b[0;34m)\u001b[0m  \u001b[0;31m# pylint: disable=not-callable\u001b[0m\u001b[0;34m\u001b[0m\u001b[0;34m\u001b[0m\u001b[0m\n\u001b[0m\u001b[1;32m    948\u001b[0m     \u001b[0;32melif\u001b[0m \u001b[0mself\u001b[0m\u001b[0;34m.\u001b[0m\u001b[0m_stateful_fn\u001b[0m \u001b[0;32mis\u001b[0m \u001b[0;32mnot\u001b[0m \u001b[0;32mNone\u001b[0m\u001b[0;34m:\u001b[0m\u001b[0;34m\u001b[0m\u001b[0;34m\u001b[0m\u001b[0m\n\u001b[1;32m    949\u001b[0m       \u001b[0;31m# Release the lock early so that multiple threads can perform the call\u001b[0m\u001b[0;34m\u001b[0m\u001b[0;34m\u001b[0m\u001b[0;34m\u001b[0m\u001b[0m\n",
            "\u001b[0;32m/usr/local/lib/python3.7/dist-packages/tensorflow/python/eager/function.py\u001b[0m in \u001b[0;36m__call__\u001b[0;34m(self, *args, **kwargs)\u001b[0m\n\u001b[1;32m   2955\u001b[0m        filtered_flat_args) = self._maybe_define_function(args, kwargs)\n\u001b[1;32m   2956\u001b[0m     return graph_function._call_flat(\n\u001b[0;32m-> 2957\u001b[0;31m         filtered_flat_args, captured_inputs=graph_function.captured_inputs)  # pylint: disable=protected-access\n\u001b[0m\u001b[1;32m   2958\u001b[0m \u001b[0;34m\u001b[0m\u001b[0m\n\u001b[1;32m   2959\u001b[0m   \u001b[0;34m@\u001b[0m\u001b[0mproperty\u001b[0m\u001b[0;34m\u001b[0m\u001b[0;34m\u001b[0m\u001b[0m\n",
            "\u001b[0;32m/usr/local/lib/python3.7/dist-packages/tensorflow/python/eager/function.py\u001b[0m in \u001b[0;36m_call_flat\u001b[0;34m(self, args, captured_inputs, cancellation_manager)\u001b[0m\n\u001b[1;32m   1852\u001b[0m       \u001b[0;31m# No tape is watching; skip to running the function.\u001b[0m\u001b[0;34m\u001b[0m\u001b[0;34m\u001b[0m\u001b[0;34m\u001b[0m\u001b[0m\n\u001b[1;32m   1853\u001b[0m       return self._build_call_outputs(self._inference_function.call(\n\u001b[0;32m-> 1854\u001b[0;31m           ctx, args, cancellation_manager=cancellation_manager))\n\u001b[0m\u001b[1;32m   1855\u001b[0m     forward_backward = self._select_forward_and_backward_functions(\n\u001b[1;32m   1856\u001b[0m         \u001b[0margs\u001b[0m\u001b[0;34m,\u001b[0m\u001b[0;34m\u001b[0m\u001b[0;34m\u001b[0m\u001b[0m\n",
            "\u001b[0;32m/usr/local/lib/python3.7/dist-packages/tensorflow/python/eager/function.py\u001b[0m in \u001b[0;36mcall\u001b[0;34m(self, ctx, args, cancellation_manager)\u001b[0m\n\u001b[1;32m    502\u001b[0m               \u001b[0minputs\u001b[0m\u001b[0;34m=\u001b[0m\u001b[0margs\u001b[0m\u001b[0;34m,\u001b[0m\u001b[0;34m\u001b[0m\u001b[0;34m\u001b[0m\u001b[0m\n\u001b[1;32m    503\u001b[0m               \u001b[0mattrs\u001b[0m\u001b[0;34m=\u001b[0m\u001b[0mattrs\u001b[0m\u001b[0;34m,\u001b[0m\u001b[0;34m\u001b[0m\u001b[0;34m\u001b[0m\u001b[0m\n\u001b[0;32m--> 504\u001b[0;31m               ctx=ctx)\n\u001b[0m\u001b[1;32m    505\u001b[0m         \u001b[0;32melse\u001b[0m\u001b[0;34m:\u001b[0m\u001b[0;34m\u001b[0m\u001b[0;34m\u001b[0m\u001b[0m\n\u001b[1;32m    506\u001b[0m           outputs = execute.execute_with_cancellation(\n",
            "\u001b[0;32m/usr/local/lib/python3.7/dist-packages/tensorflow/python/eager/execute.py\u001b[0m in \u001b[0;36mquick_execute\u001b[0;34m(op_name, num_outputs, inputs, attrs, ctx, name)\u001b[0m\n\u001b[1;32m     53\u001b[0m     \u001b[0mctx\u001b[0m\u001b[0;34m.\u001b[0m\u001b[0mensure_initialized\u001b[0m\u001b[0;34m(\u001b[0m\u001b[0;34m)\u001b[0m\u001b[0;34m\u001b[0m\u001b[0;34m\u001b[0m\u001b[0m\n\u001b[1;32m     54\u001b[0m     tensors = pywrap_tfe.TFE_Py_Execute(ctx._handle, device_name, op_name,\n\u001b[0;32m---> 55\u001b[0;31m                                         inputs, attrs, num_outputs)\n\u001b[0m\u001b[1;32m     56\u001b[0m   \u001b[0;32mexcept\u001b[0m \u001b[0mcore\u001b[0m\u001b[0;34m.\u001b[0m\u001b[0m_NotOkStatusException\u001b[0m \u001b[0;32mas\u001b[0m \u001b[0me\u001b[0m\u001b[0;34m:\u001b[0m\u001b[0;34m\u001b[0m\u001b[0;34m\u001b[0m\u001b[0m\n\u001b[1;32m     57\u001b[0m     \u001b[0;32mif\u001b[0m \u001b[0mname\u001b[0m \u001b[0;32mis\u001b[0m \u001b[0;32mnot\u001b[0m \u001b[0;32mNone\u001b[0m\u001b[0;34m:\u001b[0m\u001b[0;34m\u001b[0m\u001b[0;34m\u001b[0m\u001b[0m\n",
            "\u001b[0;31mKeyboardInterrupt\u001b[0m: "
          ]
        }
      ]
    },
    {
      "cell_type": "code",
      "source": [
        "# training result\n",
        "plt.figure(figsize=(12, 4))\n",
        "\n",
        "plt.subplot(1, 2, 1)\n",
        "plt.plot(history.history['nsp_loss'], 'b-', label='nsp_loss')\n",
        "plt.plot(history.history['mlm_loss'], 'r--', label='mlm_loss')\n",
        "plt.xlabel('Epoch')\n",
        "plt.legend()\n",
        "\n",
        "plt.subplot(1, 2, 2)\n",
        "plt.plot(history.history['nsp_acc'], 'g-', label='nsp_acc')\n",
        "plt.plot(history.history['mlm_lm_acc'], 'k--', label='mlm_acc')\n",
        "plt.xlabel('Epoch')\n",
        "plt.legend()\n",
        "\n",
        "plt.show()"
      ],
      "metadata": {
        "colab": {
          "base_uri": "https://localhost:8080/",
          "height": 496
        },
        "id": "w7h3ariDNXso",
        "outputId": "6e2549c2-321a-4c9b-b655-77b0a297c34b"
      },
      "execution_count": 68,
      "outputs": [
        {
          "output_type": "error",
          "ename": "NameError",
          "evalue": "ignored",
          "traceback": [
            "\u001b[0;31m---------------------------------------------------------------------------\u001b[0m",
            "\u001b[0;31mNameError\u001b[0m                                 Traceback (most recent call last)",
            "\u001b[0;32m<ipython-input-68-4eac24868e5b>\u001b[0m in \u001b[0;36m<module>\u001b[0;34m()\u001b[0m\n\u001b[1;32m      3\u001b[0m \u001b[0;34m\u001b[0m\u001b[0m\n\u001b[1;32m      4\u001b[0m \u001b[0mplt\u001b[0m\u001b[0;34m.\u001b[0m\u001b[0msubplot\u001b[0m\u001b[0;34m(\u001b[0m\u001b[0;36m1\u001b[0m\u001b[0;34m,\u001b[0m \u001b[0;36m2\u001b[0m\u001b[0;34m,\u001b[0m \u001b[0;36m1\u001b[0m\u001b[0;34m)\u001b[0m\u001b[0;34m\u001b[0m\u001b[0;34m\u001b[0m\u001b[0m\n\u001b[0;32m----> 5\u001b[0;31m \u001b[0mplt\u001b[0m\u001b[0;34m.\u001b[0m\u001b[0mplot\u001b[0m\u001b[0;34m(\u001b[0m\u001b[0mhistory\u001b[0m\u001b[0;34m.\u001b[0m\u001b[0mhistory\u001b[0m\u001b[0;34m[\u001b[0m\u001b[0;34m'nsp_loss'\u001b[0m\u001b[0;34m]\u001b[0m\u001b[0;34m,\u001b[0m \u001b[0;34m'b-'\u001b[0m\u001b[0;34m,\u001b[0m \u001b[0mlabel\u001b[0m\u001b[0;34m=\u001b[0m\u001b[0;34m'nsp_loss'\u001b[0m\u001b[0;34m)\u001b[0m\u001b[0;34m\u001b[0m\u001b[0;34m\u001b[0m\u001b[0m\n\u001b[0m\u001b[1;32m      6\u001b[0m \u001b[0mplt\u001b[0m\u001b[0;34m.\u001b[0m\u001b[0mplot\u001b[0m\u001b[0;34m(\u001b[0m\u001b[0mhistory\u001b[0m\u001b[0;34m.\u001b[0m\u001b[0mhistory\u001b[0m\u001b[0;34m[\u001b[0m\u001b[0;34m'mlm_loss'\u001b[0m\u001b[0;34m]\u001b[0m\u001b[0;34m,\u001b[0m \u001b[0;34m'r--'\u001b[0m\u001b[0;34m,\u001b[0m \u001b[0mlabel\u001b[0m\u001b[0;34m=\u001b[0m\u001b[0;34m'mlm_loss'\u001b[0m\u001b[0;34m)\u001b[0m\u001b[0;34m\u001b[0m\u001b[0;34m\u001b[0m\u001b[0m\n\u001b[1;32m      7\u001b[0m \u001b[0mplt\u001b[0m\u001b[0;34m.\u001b[0m\u001b[0mxlabel\u001b[0m\u001b[0;34m(\u001b[0m\u001b[0;34m'Epoch'\u001b[0m\u001b[0;34m)\u001b[0m\u001b[0;34m\u001b[0m\u001b[0;34m\u001b[0m\u001b[0m\n",
            "\u001b[0;31mNameError\u001b[0m: name 'history' is not defined"
          ]
        },
        {
          "output_type": "display_data",
          "data": {
            "text/plain": [
              "<Figure size 864x288 with 1 Axes>"
            ],
            "image/png": "[encoded data removed]"
          },
          "metadata": {
            "needs_background": "light"
          }
        }
      ]
    },
    {
      "cell_type": "code",
      "source": [
        "ls"
      ],
      "metadata": {
        "colab": {
          "base_uri": "https://localhost:8080/"
        },
        "id": "mLWIg7_GbPj-",
        "outputId": "873a59b6-5b0c-4648-de85-c81cc8b9fc9e"
      },
      "execution_count": 69,
      "outputs": [
        {
          "output_type": "stream",
          "name": "stdout",
          "text": [
            "\u001b[0m\u001b[01;34mdrive\u001b[0m/             ko_8000.model  labels_mlm.memmap  \u001b[01;34msample_data\u001b[0m/\n",
            "enc_tokens.memmap  ko_8000.vocab  labels_nsp.memmap  segments.memmap\n"
          ]
        }
      ]
    },
    {
      "cell_type": "markdown",
      "source": [
        "![error.png](data:image/png;base64,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)"
      ],
      "metadata": {
        "id": "kOhme7wmnACY"
      }
    },
    {
      "cell_type": "markdown",
      "source": [
        "세션이 계속 다운되고 리소스 끊겨서 epoch이 망했다. 너무 슬프다.. ㅠ 코랩 망해라 구글망해라 ㅠ"
      ],
      "metadata": {
        "id": "xVmpZlcrnOsd"
      }
    },
    {
      "cell_type": "code",
      "source": [
        ""
      ],
      "metadata": {
        "id": "ZZxQZitUnXnx"
      },
      "execution_count": null,
      "outputs": []
    }
  ],
  "metadata": {
    "accelerator": "GPU",
    "colab": {
      "machine_shape": "hm",
      "name": "gd14.ipynb",
      "provenance": [],
      "collapsed_sections": []
    },
    "kernelspec": {
      "display_name": "Python 3",
      "name": "python3"
    },
    "language_info": {
      "name": "python"
    },
    "widgets": {
      "application/vnd.jupyter.widget-state+json": {
        "0cebe0adb65c436fb0ba7b3f52939e2a": {
          "model_module": "@jupyter-widgets/controls",
          "model_name": "HBoxModel",
          "model_module_version": "1.5.0",
          "state": {
            "_dom_classes": [],
            "_model_module": "@jupyter-widgets/controls",
            "_model_module_version": "1.5.0",
            "_model_name": "HBoxModel",
            "_view_count": null,
            "_view_module": "@jupyter-widgets/controls",
            "_view_module_version": "1.5.0",
            "_view_name": "HBoxView",
            "box_style": "",
            "children": [
              "IPY_MODEL_73c8affbbcac4696971e4bcfc8d34569",
              "IPY_MODEL_12b7383dae3a4ee183b56f1c8b722714",
              "IPY_MODEL_ec08ff93ffa54ce18f403c255560ae73"
            ],
            "layout": "IPY_MODEL_2a00cefc67e7461a9f5f41a66365d691"
          }
        },
        "73c8affbbcac4696971e4bcfc8d34569": {
          "model_module": "@jupyter-widgets/controls",
          "model_name": "HTMLModel",
          "model_module_version": "1.5.0",
          "state": {
            "_dom_classes": [],
            "_model_module": "@jupyter-widgets/controls",
            "_model_module_version": "1.5.0",
            "_model_name": "HTMLModel",
            "_view_count": null,
            "_view_module": "@jupyter-widgets/controls",
            "_view_module_version": "1.5.0",
            "_view_name": "HTMLView",
            "description": "",
            "description_tooltip": null,
            "layout": "IPY_MODEL_c15d1350c20d474da219179ffae22a51",
            "placeholder": "​",
            "style": "IPY_MODEL_f8544ada43984e8aa519061833cdbe8a",
            "value": "  0%"
          }
        },
        "12b7383dae3a4ee183b56f1c8b722714": {
          "model_module": "@jupyter-widgets/controls",
          "model_name": "FloatProgressModel",
          "model_module_version": "1.5.0",
          "state": {
            "_dom_classes": [],
            "_model_module": "@jupyter-widgets/controls",
            "_model_module_version": "1.5.0",
            "_model_name": "FloatProgressModel",
            "_view_count": null,
            "_view_module": "@jupyter-widgets/controls",
            "_view_module_version": "1.5.0",
            "_view_name": "ProgressView",
            "bar_style": "danger",
            "description": "",
            "description_tooltip": null,
            "layout": "IPY_MODEL_f55d0437c92a40ba8934a39e10386d3a",
            "max": 3957761,
            "min": 0,
            "orientation": "horizontal",
            "style": "IPY_MODEL_da9a63edc0eb491baa447a9a650b473e",
            "value": 105
          }
        },
        "ec08ff93ffa54ce18f403c255560ae73": {
          "model_module": "@jupyter-widgets/controls",
          "model_name": "HTMLModel",
          "model_module_version": "1.5.0",
          "state": {
            "_dom_classes": [],
            "_model_module": "@jupyter-widgets/controls",
            "_model_module_version": "1.5.0",
            "_model_name": "HTMLModel",
            "_view_count": null,
            "_view_module": "@jupyter-widgets/controls",
            "_view_module_version": "1.5.0",
            "_view_name": "HTMLView",
            "description": "",
            "description_tooltip": null,
            "layout": "IPY_MODEL_9b3d22c645c64b9c854f3ece1a5b2e10",
            "placeholder": "​",
            "style": "IPY_MODEL_42b09f418a30480597db893da3d31c86",
            "value": " 105/3957761 [00:00&lt;32:57, 2001.73it/s]"
          }
        },
        "2a00cefc67e7461a9f5f41a66365d691": {
          "model_module": "@jupyter-widgets/base",
          "model_name": "LayoutModel",
          "model_module_version": "1.2.0",
          "state": {
            "_model_module": "@jupyter-widgets/base",
            "_model_module_version": "1.2.0",
            "_model_name": "LayoutModel",
            "_view_count": null,
            "_view_module": "@jupyter-widgets/base",
            "_view_module_version": "1.2.0",
            "_view_name": "LayoutView",
            "align_content": null,
            "align_items": null,
            "align_self": null,
            "border": null,
            "bottom": null,
            "display": null,
            "flex": null,
            "flex_flow": null,
            "grid_area": null,
            "grid_auto_columns": null,
            "grid_auto_flow": null,
            "grid_auto_rows": null,
            "grid_column": null,
            "grid_gap": null,
            "grid_row": null,
            "grid_template_areas": null,
            "grid_template_columns": null,
            "grid_template_rows": null,
            "height": null,
            "justify_content": null,
            "justify_items": null,
            "left": null,
            "margin": null,
            "max_height": null,
            "max_width": null,
            "min_height": null,
            "min_width": null,
            "object_fit": null,
            "object_position": null,
            "order": null,
            "overflow": null,
            "overflow_x": null,
            "overflow_y": null,
            "padding": null,
            "right": null,
            "top": null,
            "visibility": null,
            "width": null
          }
        },
        "c15d1350c20d474da219179ffae22a51": {
          "model_module": "@jupyter-widgets/base",
          "model_name": "LayoutModel",
          "model_module_version": "1.2.0",
          "state": {
            "_model_module": "@jupyter-widgets/base",
            "_model_module_version": "1.2.0",
            "_model_name": "LayoutModel",
            "_view_count": null,
            "_view_module": "@jupyter-widgets/base",
            "_view_module_version": "1.2.0",
            "_view_name": "LayoutView",
            "align_content": null,
            "align_items": null,
            "align_self": null,
            "border": null,
            "bottom": null,
            "display": null,
            "flex": null,
            "flex_flow": null,
            "grid_area": null,
            "grid_auto_columns": null,
            "grid_auto_flow": null,
            "grid_auto_rows": null,
            "grid_column": null,
            "grid_gap": null,
            "grid_row": null,
            "grid_template_areas": null,
            "grid_template_columns": null,
            "grid_template_rows": null,
            "height": null,
            "justify_content": null,
            "justify_items": null,
            "left": null,
            "margin": null,
            "max_height": null,
            "max_width": null,
            "min_height": null,
            "min_width": null,
            "object_fit": null,
            "object_position": null,
            "order": null,
            "overflow": null,
            "overflow_x": null,
            "overflow_y": null,
            "padding": null,
            "right": null,
            "top": null,
            "visibility": null,
            "width": null
          }
        },
        "f8544ada43984e8aa519061833cdbe8a": {
          "model_module": "@jupyter-widgets/controls",
          "model_name": "DescriptionStyleModel",
          "model_module_version": "1.5.0",
          "state": {
            "_model_module": "@jupyter-widgets/controls",
            "_model_module_version": "1.5.0",
            "_model_name": "DescriptionStyleModel",
            "_view_count": null,
            "_view_module": "@jupyter-widgets/base",
            "_view_module_version": "1.2.0",
            "_view_name": "StyleView",
            "description_width": ""
          }
        },
        "f55d0437c92a40ba8934a39e10386d3a": {
          "model_module": "@jupyter-widgets/base",
          "model_name": "LayoutModel",
          "model_module_version": "1.2.0",
          "state": {
            "_model_module": "@jupyter-widgets/base",
            "_model_module_version": "1.2.0",
            "_model_name": "LayoutModel",
            "_view_count": null,
            "_view_module": "@jupyter-widgets/base",
            "_view_module_version": "1.2.0",
            "_view_name": "LayoutView",
            "align_content": null,
            "align_items": null,
            "align_self": null,
            "border": null,
            "bottom": null,
            "display": null,
            "flex": null,
            "flex_flow": null,
            "grid_area": null,
            "grid_auto_columns": null,
            "grid_auto_flow": null,
            "grid_auto_rows": null,
            "grid_column": null,
            "grid_gap": null,
            "grid_row": null,
            "grid_template_areas": null,
            "grid_template_columns": null,
            "grid_template_rows": null,
            "height": null,
            "justify_content": null,
            "justify_items": null,
            "left": null,
            "margin": null,
            "max_height": null,
            "max_width": null,
            "min_height": null,
            "min_width": null,
            "object_fit": null,
            "object_position": null,
            "order": null,
            "overflow": null,
            "overflow_x": null,
            "overflow_y": null,
            "padding": null,
            "right": null,
            "top": null,
            "visibility": null,
            "width": null
          }
        },
        "da9a63edc0eb491baa447a9a650b473e": {
          "model_module": "@jupyter-widgets/controls",
          "model_name": "ProgressStyleModel",
          "model_module_version": "1.5.0",
          "state": {
            "_model_module": "@jupyter-widgets/controls",
            "_model_module_version": "1.5.0",
            "_model_name": "ProgressStyleModel",
            "_view_count": null,
            "_view_module": "@jupyter-widgets/base",
            "_view_module_version": "1.2.0",
            "_view_name": "StyleView",
            "bar_color": null,
            "description_width": ""
          }
        },
        "9b3d22c645c64b9c854f3ece1a5b2e10": {
          "model_module": "@jupyter-widgets/base",
          "model_name": "LayoutModel",
          "model_module_version": "1.2.0",
          "state": {
            "_model_module": "@jupyter-widgets/base",
            "_model_module_version": "1.2.0",
            "_model_name": "LayoutModel",
            "_view_count": null,
            "_view_module": "@jupyter-widgets/base",
            "_view_module_version": "1.2.0",
            "_view_name": "LayoutView",
            "align_content": null,
            "align_items": null,
            "align_self": null,
            "border": null,
            "bottom": null,
            "display": null,
            "flex": null,
            "flex_flow": null,
            "grid_area": null,
            "grid_auto_columns": null,
            "grid_auto_flow": null,
            "grid_auto_rows": null,
            "grid_column": null,
            "grid_gap": null,
            "grid_row": null,
            "grid_template_areas": null,
            "grid_template_columns": null,
            "grid_template_rows": null,
            "height": null,
            "justify_content": null,
            "justify_items": null,
            "left": null,
            "margin": null,
            "max_height": null,
            "max_width": null,
            "min_height": null,
            "min_width": null,
            "object_fit": null,
            "object_position": null,
            "order": null,
            "overflow": null,
            "overflow_x": null,
            "overflow_y": null,
            "padding": null,
            "right": null,
            "top": null,
            "visibility": null,
            "width": null
          }
        },
        "42b09f418a30480597db893da3d31c86": {
          "model_module": "@jupyter-widgets/controls",
          "model_name": "DescriptionStyleModel",
          "model_module_version": "1.5.0",
          "state": {
            "_model_module": "@jupyter-widgets/controls",
            "_model_module_version": "1.5.0",
            "_model_name": "DescriptionStyleModel",
            "_view_count": null,
            "_view_module": "@jupyter-widgets/base",
            "_view_module_version": "1.2.0",
            "_view_name": "StyleView",
            "description_width": ""
          }
        },
        "67b565bbbee947278441c52df8daded0": {
          "model_module": "@jupyter-widgets/controls",
          "model_name": "HBoxModel",
          "model_module_version": "1.5.0",
          "state": {
            "_dom_classes": [],
            "_model_module": "@jupyter-widgets/controls",
            "_model_module_version": "1.5.0",
            "_model_name": "HBoxModel",
            "_view_count": null,
            "_view_module": "@jupyter-widgets/controls",
            "_view_module_version": "1.5.0",
            "_view_name": "HBoxView",
            "box_style": "",
            "children": [
              "IPY_MODEL_f36b983ac824432eb59af0609251800a",
              "IPY_MODEL_59871609b2414b4a820f953793ee5056",
              "IPY_MODEL_3b5f0ad951b149b6876aa44bd27b3f95"
            ],
            "layout": "IPY_MODEL_35ad111b3a49403b9fc0f21121a9584c"
          }
        },
        "f36b983ac824432eb59af0609251800a": {
          "model_module": "@jupyter-widgets/controls",
          "model_name": "HTMLModel",
          "model_module_version": "1.5.0",
          "state": {
            "_dom_classes": [],
            "_model_module": "@jupyter-widgets/controls",
            "_model_module_version": "1.5.0",
            "_model_name": "HTMLModel",
            "_view_count": null,
            "_view_module": "@jupyter-widgets/controls",
            "_view_module_version": "1.5.0",
            "_view_name": "HTMLView",
            "description": "",
            "description_tooltip": null,
            "layout": "IPY_MODEL_8c386d961a584fb99ee677d94b036b2d",
            "placeholder": "​",
            "style": "IPY_MODEL_2af1b2a643d34cd2b56b226015f8a6f7",
            "value": "  0%"
          }
        },
        "59871609b2414b4a820f953793ee5056": {
          "model_module": "@jupyter-widgets/controls",
          "model_name": "FloatProgressModel",
          "model_module_version": "1.5.0",
          "state": {
            "_dom_classes": [],
            "_model_module": "@jupyter-widgets/controls",
            "_model_module_version": "1.5.0",
            "_model_name": "FloatProgressModel",
            "_view_count": null,
            "_view_module": "@jupyter-widgets/controls",
            "_view_module_version": "1.5.0",
            "_view_name": "ProgressView",
            "bar_style": "danger",
            "description": "",
            "description_tooltip": null,
            "layout": "IPY_MODEL_cc0ecb8205b342118ec81dce07d5808e",
            "max": 3957761,
            "min": 0,
            "orientation": "horizontal",
            "style": "IPY_MODEL_75e730a897f048049de9fa61c4ef34e8",
            "value": 105
          }
        },
        "3b5f0ad951b149b6876aa44bd27b3f95": {
          "model_module": "@jupyter-widgets/controls",
          "model_name": "HTMLModel",
          "model_module_version": "1.5.0",
          "state": {
            "_dom_classes": [],
            "_model_module": "@jupyter-widgets/controls",
            "_model_module_version": "1.5.0",
            "_model_name": "HTMLModel",
            "_view_count": null,
            "_view_module": "@jupyter-widgets/controls",
            "_view_module_version": "1.5.0",
            "_view_name": "HTMLView",
            "description": "",
            "description_tooltip": null,
            "layout": "IPY_MODEL_fab857254fcd493c8af005a5bee1e044",
            "placeholder": "​",
            "style": "IPY_MODEL_9b6f0d65df8846bd9e1bc3f8b1e1c21b",
            "value": " 105/3957761 [00:00&lt;26:27, 2492.82it/s]"
          }
        },
        "35ad111b3a49403b9fc0f21121a9584c": {
          "model_module": "@jupyter-widgets/base",
          "model_name": "LayoutModel",
          "model_module_version": "1.2.0",
          "state": {
            "_model_module": "@jupyter-widgets/base",
            "_model_module_version": "1.2.0",
            "_model_name": "LayoutModel",
            "_view_count": null,
            "_view_module": "@jupyter-widgets/base",
            "_view_module_version": "1.2.0",
            "_view_name": "LayoutView",
            "align_content": null,
            "align_items": null,
            "align_self": null,
            "border": null,
            "bottom": null,
            "display": null,
            "flex": null,
            "flex_flow": null,
            "grid_area": null,
            "grid_auto_columns": null,
            "grid_auto_flow": null,
            "grid_auto_rows": null,
            "grid_column": null,
            "grid_gap": null,
            "grid_row": null,
            "grid_template_areas": null,
            "grid_template_columns": null,
            "grid_template_rows": null,
            "height": null,
            "justify_content": null,
            "justify_items": null,
            "left": null,
            "margin": null,
            "max_height": null,
            "max_width": null,
            "min_height": null,
            "min_width": null,
            "object_fit": null,
            "object_position": null,
            "order": null,
            "overflow": null,
            "overflow_x": null,
            "overflow_y": null,
            "padding": null,
            "right": null,
            "top": null,
            "visibility": null,
            "width": null
          }
        },
        "8c386d961a584fb99ee677d94b036b2d": {
          "model_module": "@jupyter-widgets/base",
          "model_name": "LayoutModel",
          "model_module_version": "1.2.0",
          "state": {
            "_model_module": "@jupyter-widgets/base",
            "_model_module_version": "1.2.0",
            "_model_name": "LayoutModel",
            "_view_count": null,
            "_view_module": "@jupyter-widgets/base",
            "_view_module_version": "1.2.0",
            "_view_name": "LayoutView",
            "align_content": null,
            "align_items": null,
            "align_self": null,
            "border": null,
            "bottom": null,
            "display": null,
            "flex": null,
            "flex_flow": null,
            "grid_area": null,
            "grid_auto_columns": null,
            "grid_auto_flow": null,
            "grid_auto_rows": null,
            "grid_column": null,
            "grid_gap": null,
            "grid_row": null,
            "grid_template_areas": null,
            "grid_template_columns": null,
            "grid_template_rows": null,
            "height": null,
            "justify_content": null,
            "justify_items": null,
            "left": null,
            "margin": null,
            "max_height": null,
            "max_width": null,
            "min_height": null,
            "min_width": null,
            "object_fit": null,
            "object_position": null,
            "order": null,
            "overflow": null,
            "overflow_x": null,
            "overflow_y": null,
            "padding": null,
            "right": null,
            "top": null,
            "visibility": null,
            "width": null
          }
        },
        "2af1b2a643d34cd2b56b226015f8a6f7": {
          "model_module": "@jupyter-widgets/controls",
          "model_name": "DescriptionStyleModel",
          "model_module_version": "1.5.0",
          "state": {
            "_model_module": "@jupyter-widgets/controls",
            "_model_module_version": "1.5.0",
            "_model_name": "DescriptionStyleModel",
            "_view_count": null,
            "_view_module": "@jupyter-widgets/base",
            "_view_module_version": "1.2.0",
            "_view_name": "StyleView",
            "description_width": ""
          }
        },
        "cc0ecb8205b342118ec81dce07d5808e": {
          "model_module": "@jupyter-widgets/base",
          "model_name": "LayoutModel",
          "model_module_version": "1.2.0",
          "state": {
            "_model_module": "@jupyter-widgets/base",
            "_model_module_version": "1.2.0",
            "_model_name": "LayoutModel",
            "_view_count": null,
            "_view_module": "@jupyter-widgets/base",
            "_view_module_version": "1.2.0",
            "_view_name": "LayoutView",
            "align_content": null,
            "align_items": null,
            "align_self": null,
            "border": null,
            "bottom": null,
            "display": null,
            "flex": null,
            "flex_flow": null,
            "grid_area": null,
            "grid_auto_columns": null,
            "grid_auto_flow": null,
            "grid_auto_rows": null,
            "grid_column": null,
            "grid_gap": null,
            "grid_row": null,
            "grid_template_areas": null,
            "grid_template_columns": null,
            "grid_template_rows": null,
            "height": null,
            "justify_content": null,
            "justify_items": null,
            "left": null,
            "margin": null,
            "max_height": null,
            "max_width": null,
            "min_height": null,
            "min_width": null,
            "object_fit": null,
            "object_position": null,
            "order": null,
            "overflow": null,
            "overflow_x": null,
            "overflow_y": null,
            "padding": null,
            "right": null,
            "top": null,
            "visibility": null,
            "width": null
          }
        },
        "75e730a897f048049de9fa61c4ef34e8": {
          "model_module": "@jupyter-widgets/controls",
          "model_name": "ProgressStyleModel",
          "model_module_version": "1.5.0",
          "state": {
            "_model_module": "@jupyter-widgets/controls",
            "_model_module_version": "1.5.0",
            "_model_name": "ProgressStyleModel",
            "_view_count": null,
            "_view_module": "@jupyter-widgets/base",
            "_view_module_version": "1.2.0",
            "_view_name": "StyleView",
            "bar_color": null,
            "description_width": ""
          }
        },
        "fab857254fcd493c8af005a5bee1e044": {
          "model_module": "@jupyter-widgets/base",
          "model_name": "LayoutModel",
          "model_module_version": "1.2.0",
          "state": {
            "_model_module": "@jupyter-widgets/base",
            "_model_module_version": "1.2.0",
            "_model_name": "LayoutModel",
            "_view_count": null,
            "_view_module": "@jupyter-widgets/base",
            "_view_module_version": "1.2.0",
            "_view_name": "LayoutView",
            "align_content": null,
            "align_items": null,
            "align_self": null,
            "border": null,
            "bottom": null,
            "display": null,
            "flex": null,
            "flex_flow": null,
            "grid_area": null,
            "grid_auto_columns": null,
            "grid_auto_flow": null,
            "grid_auto_rows": null,
            "grid_column": null,
            "grid_gap": null,
            "grid_row": null,
            "grid_template_areas": null,
            "grid_template_columns": null,
            "grid_template_rows": null,
            "height": null,
            "justify_content": null,
            "justify_items": null,
            "left": null,
            "margin": null,
            "max_height": null,
            "max_width": null,
            "min_height": null,
            "min_width": null,
            "object_fit": null,
            "object_position": null,
            "order": null,
            "overflow": null,
            "overflow_x": null,
            "overflow_y": null,
            "padding": null,
            "right": null,
            "top": null,
            "visibility": null,
            "width": null
          }
        },
        "9b6f0d65df8846bd9e1bc3f8b1e1c21b": {
          "model_module": "@jupyter-widgets/controls",
          "model_name": "DescriptionStyleModel",
          "model_module_version": "1.5.0",
          "state": {
            "_model_module": "@jupyter-widgets/controls",
            "_model_module_version": "1.5.0",
            "_model_name": "DescriptionStyleModel",
            "_view_count": null,
            "_view_module": "@jupyter-widgets/base",
            "_view_module_version": "1.2.0",
            "_view_name": "StyleView",
            "description_width": ""
          }
        },
        "e1fbd918cece4d80b525ac5b6a1883d6": {
          "model_module": "@jupyter-widgets/controls",
          "model_name": "HBoxModel",
          "model_module_version": "1.5.0",
          "state": {
            "_dom_classes": [],
            "_model_module": "@jupyter-widgets/controls",
            "_model_module_version": "1.5.0",
            "_model_name": "HBoxModel",
            "_view_count": null,
            "_view_module": "@jupyter-widgets/controls",
            "_view_module_version": "1.5.0",
            "_view_name": "HBoxView",
            "box_style": "",
            "children": [
              "IPY_MODEL_edc9cdf3818149cb90350fcce69771e1",
              "IPY_MODEL_3335af52d7ce4430ab79ab4541068b97",
              "IPY_MODEL_60d0d9b6b51d4002b8df61a3a4ca9b18"
            ],
            "layout": "IPY_MODEL_0ad3d49307ca4bc7b2e7cfc11bfe2ab4"
          }
        },
        "edc9cdf3818149cb90350fcce69771e1": {
          "model_module": "@jupyter-widgets/controls",
          "model_name": "HTMLModel",
          "model_module_version": "1.5.0",
          "state": {
            "_dom_classes": [],
            "_model_module": "@jupyter-widgets/controls",
            "_model_module_version": "1.5.0",
            "_model_name": "HTMLModel",
            "_view_count": null,
            "_view_module": "@jupyter-widgets/controls",
            "_view_module_version": "1.5.0",
            "_view_name": "HTMLView",
            "description": "",
            "description_tooltip": null,
            "layout": "IPY_MODEL_f9ed5ae0639c49ef9d335491dc24b143",
            "placeholder": "​",
            "style": "IPY_MODEL_cd411c878aa5477191a4cac159cc182d",
            "value": "100%"
          }
        },
        "3335af52d7ce4430ab79ab4541068b97": {
          "model_module": "@jupyter-widgets/controls",
          "model_name": "FloatProgressModel",
          "model_module_version": "1.5.0",
          "state": {
            "_dom_classes": [],
            "_model_module": "@jupyter-widgets/controls",
            "_model_module_version": "1.5.0",
            "_model_name": "FloatProgressModel",
            "_view_count": null,
            "_view_module": "@jupyter-widgets/controls",
            "_view_module_version": "1.5.0",
            "_view_name": "ProgressView",
            "bar_style": "success",
            "description": "",
            "description_tooltip": null,
            "layout": "IPY_MODEL_541dbbebee1f48cfac31a06c12959e1a",
            "max": 3957761,
            "min": 0,
            "orientation": "horizontal",
            "style": "IPY_MODEL_440271f55c5644e396870585a8d2d3a2",
            "value": 3957761
          }
        },
        "60d0d9b6b51d4002b8df61a3a4ca9b18": {
          "model_module": "@jupyter-widgets/controls",
          "model_name": "HTMLModel",
          "model_module_version": "1.5.0",
          "state": {
            "_dom_classes": [],
            "_model_module": "@jupyter-widgets/controls",
            "_model_module_version": "1.5.0",
            "_model_name": "HTMLModel",
            "_view_count": null,
            "_view_module": "@jupyter-widgets/controls",
            "_view_module_version": "1.5.0",
            "_view_name": "HTMLView",
            "description": "",
            "description_tooltip": null,
            "layout": "IPY_MODEL_5a68f93f1a8e42bc909909288e5b14c3",
            "placeholder": "​",
            "style": "IPY_MODEL_35200ff00216477198b5c2f109c5e3b9",
            "value": " 3957761/3957761 [07:31&lt;00:00, 11446.48it/s]"
          }
        },
        "0ad3d49307ca4bc7b2e7cfc11bfe2ab4": {
          "model_module": "@jupyter-widgets/base",
          "model_name": "LayoutModel",
          "model_module_version": "1.2.0",
          "state": {
            "_model_module": "@jupyter-widgets/base",
            "_model_module_version": "1.2.0",
            "_model_name": "LayoutModel",
            "_view_count": null,
            "_view_module": "@jupyter-widgets/base",
            "_view_module_version": "1.2.0",
            "_view_name": "LayoutView",
            "align_content": null,
            "align_items": null,
            "align_self": null,
            "border": null,
            "bottom": null,
            "display": null,
            "flex": null,
            "flex_flow": null,
            "grid_area": null,
            "grid_auto_columns": null,
            "grid_auto_flow": null,
            "grid_auto_rows": null,
            "grid_column": null,
            "grid_gap": null,
            "grid_row": null,
            "grid_template_areas": null,
            "grid_template_columns": null,
            "grid_template_rows": null,
            "height": null,
            "justify_content": null,
            "justify_items": null,
            "left": null,
            "margin": null,
            "max_height": null,
            "max_width": null,
            "min_height": null,
            "min_width": null,
            "object_fit": null,
            "object_position": null,
            "order": null,
            "overflow": null,
            "overflow_x": null,
            "overflow_y": null,
            "padding": null,
            "right": null,
            "top": null,
            "visibility": null,
            "width": null
          }
        },
        "f9ed5ae0639c49ef9d335491dc24b143": {
          "model_module": "@jupyter-widgets/base",
          "model_name": "LayoutModel",
          "model_module_version": "1.2.0",
          "state": {
            "_model_module": "@jupyter-widgets/base",
            "_model_module_version": "1.2.0",
            "_model_name": "LayoutModel",
            "_view_count": null,
            "_view_module": "@jupyter-widgets/base",
            "_view_module_version": "1.2.0",
            "_view_name": "LayoutView",
            "align_content": null,
            "align_items": null,
            "align_self": null,
            "border": null,
            "bottom": null,
            "display": null,
            "flex": null,
            "flex_flow": null,
            "grid_area": null,
            "grid_auto_columns": null,
            "grid_auto_flow": null,
            "grid_auto_rows": null,
            "grid_column": null,
            "grid_gap": null,
            "grid_row": null,
            "grid_template_areas": null,
            "grid_template_columns": null,
            "grid_template_rows": null,
            "height": null,
            "justify_content": null,
            "justify_items": null,
            "left": null,
            "margin": null,
            "max_height": null,
            "max_width": null,
            "min_height": null,
            "min_width": null,
            "object_fit": null,
            "object_position": null,
            "order": null,
            "overflow": null,
            "overflow_x": null,
            "overflow_y": null,
            "padding": null,
            "right": null,
            "top": null,
            "visibility": null,
            "width": null
          }
        },
        "cd411c878aa5477191a4cac159cc182d": {
          "model_module": "@jupyter-widgets/controls",
          "model_name": "DescriptionStyleModel",
          "model_module_version": "1.5.0",
          "state": {
            "_model_module": "@jupyter-widgets/controls",
            "_model_module_version": "1.5.0",
            "_model_name": "DescriptionStyleModel",
            "_view_count": null,
            "_view_module": "@jupyter-widgets/base",
            "_view_module_version": "1.2.0",
            "_view_name": "StyleView",
            "description_width": ""
          }
        },
        "541dbbebee1f48cfac31a06c12959e1a": {
          "model_module": "@jupyter-widgets/base",
          "model_name": "LayoutModel",
          "model_module_version": "1.2.0",
          "state": {
            "_model_module": "@jupyter-widgets/base",
            "_model_module_version": "1.2.0",
            "_model_name": "LayoutModel",
            "_view_count": null,
            "_view_module": "@jupyter-widgets/base",
            "_view_module_version": "1.2.0",
            "_view_name": "LayoutView",
            "align_content": null,
            "align_items": null,
            "align_self": null,
            "border": null,
            "bottom": null,
            "display": null,
            "flex": null,
            "flex_flow": null,
            "grid_area": null,
            "grid_auto_columns": null,
            "grid_auto_flow": null,
            "grid_auto_rows": null,
            "grid_column": null,
            "grid_gap": null,
            "grid_row": null,
            "grid_template_areas": null,
            "grid_template_columns": null,
            "grid_template_rows": null,
            "height": null,
            "justify_content": null,
            "justify_items": null,
            "left": null,
            "margin": null,
            "max_height": null,
            "max_width": null,
            "min_height": null,
            "min_width": null,
            "object_fit": null,
            "object_position": null,
            "order": null,
            "overflow": null,
            "overflow_x": null,
            "overflow_y": null,
            "padding": null,
            "right": null,
            "top": null,
            "visibility": null,
            "width": null
          }
        },
        "440271f55c5644e396870585a8d2d3a2": {
          "model_module": "@jupyter-widgets/controls",
          "model_name": "ProgressStyleModel",
          "model_module_version": "1.5.0",
          "state": {
            "_model_module": "@jupyter-widgets/controls",
            "_model_module_version": "1.5.0",
            "_model_name": "ProgressStyleModel",
            "_view_count": null,
            "_view_module": "@jupyter-widgets/base",
            "_view_module_version": "1.2.0",
            "_view_name": "StyleView",
            "bar_color": null,
            "description_width": ""
          }
        },
        "5a68f93f1a8e42bc909909288e5b14c3": {
          "model_module": "@jupyter-widgets/base",
          "model_name": "LayoutModel",
          "model_module_version": "1.2.0",
          "state": {
            "_model_module": "@jupyter-widgets/base",
            "_model_module_version": "1.2.0",
            "_model_name": "LayoutModel",
            "_view_count": null,
            "_view_module": "@jupyter-widgets/base",
            "_view_module_version": "1.2.0",
            "_view_name": "LayoutView",
            "align_content": null,
            "align_items": null,
            "align_self": null,
            "border": null,
            "bottom": null,
            "display": null,
            "flex": null,
            "flex_flow": null,
            "grid_area": null,
            "grid_auto_columns": null,
            "grid_auto_flow": null,
            "grid_auto_rows": null,
            "grid_column": null,
            "grid_gap": null,
            "grid_row": null,
            "grid_template_areas": null,
            "grid_template_columns": null,
            "grid_template_rows": null,
            "height": null,
            "justify_content": null,
            "justify_items": null,
            "left": null,
            "margin": null,
            "max_height": null,
            "max_width": null,
            "min_height": null,
            "min_width": null,
            "object_fit": null,
            "object_position": null,
            "order": null,
            "overflow": null,
            "overflow_x": null,
            "overflow_y": null,
            "padding": null,
            "right": null,
            "top": null,
            "visibility": null,
            "width": null
          }
        },
        "35200ff00216477198b5c2f109c5e3b9": {
          "model_module": "@jupyter-widgets/controls",
          "model_name": "DescriptionStyleModel",
          "model_module_version": "1.5.0",
          "state": {
            "_model_module": "@jupyter-widgets/controls",
            "_model_module_version": "1.5.0",
            "_model_name": "DescriptionStyleModel",
            "_view_count": null,
            "_view_module": "@jupyter-widgets/base",
            "_view_module_version": "1.2.0",
            "_view_name": "StyleView",
            "description_width": ""
          }
        },
        "4caaca49bc5648b49d29887a0a1af153": {
          "model_module": "@jupyter-widgets/controls",
          "model_name": "HBoxModel",
          "model_module_version": "1.5.0",
          "state": {
            "_dom_classes": [],
            "_model_module": "@jupyter-widgets/controls",
            "_model_module_version": "1.5.0",
            "_model_name": "HBoxModel",
            "_view_count": null,
            "_view_module": "@jupyter-widgets/controls",
            "_view_module_version": "1.5.0",
            "_view_name": "HBoxView",
            "box_style": "",
            "children": [
              "IPY_MODEL_8a9a9b12028748f5862a1e3afea3e8c2",
              "IPY_MODEL_8e98decb4b7b4924af17d07f6c34cfbc",
              "IPY_MODEL_84872994cab84c0283612af1f5ff2661"
            ],
            "layout": "IPY_MODEL_fa8b82c8e8c240f9b2ce03aff26ac4e2"
          }
        },
        "8a9a9b12028748f5862a1e3afea3e8c2": {
          "model_module": "@jupyter-widgets/controls",
          "model_name": "HTMLModel",
          "model_module_version": "1.5.0",
          "state": {
            "_dom_classes": [],
            "_model_module": "@jupyter-widgets/controls",
            "_model_module_version": "1.5.0",
            "_model_name": "HTMLModel",
            "_view_count": null,
            "_view_module": "@jupyter-widgets/controls",
            "_view_module_version": "1.5.0",
            "_view_name": "HTMLView",
            "description": "",
            "description_tooltip": null,
            "layout": "IPY_MODEL_bc8bbf8708194a9e85097b176aeb3369",
            "placeholder": "​",
            "style": "IPY_MODEL_e22d4a62890d47b48d96a53dc06235ec",
            "value": "  0%"
          }
        },
        "8e98decb4b7b4924af17d07f6c34cfbc": {
          "model_module": "@jupyter-widgets/controls",
          "model_name": "FloatProgressModel",
          "model_module_version": "1.5.0",
          "state": {
            "_dom_classes": [],
            "_model_module": "@jupyter-widgets/controls",
            "_model_module_version": "1.5.0",
            "_model_name": "FloatProgressModel",
            "_view_count": null,
            "_view_module": "@jupyter-widgets/controls",
            "_view_module_version": "1.5.0",
            "_view_name": "ProgressView",
            "bar_style": "danger",
            "description": "",
            "description_tooltip": null,
            "layout": "IPY_MODEL_a5b6d1606e654cdb95828fccc73a0806",
            "max": 918189,
            "min": 0,
            "orientation": "horizontal",
            "style": "IPY_MODEL_ab6cde240cbf48f2b6b3d959d882e061",
            "value": 6
          }
        },
        "84872994cab84c0283612af1f5ff2661": {
          "model_module": "@jupyter-widgets/controls",
          "model_name": "HTMLModel",
          "model_module_version": "1.5.0",
          "state": {
            "_dom_classes": [],
            "_model_module": "@jupyter-widgets/controls",
            "_model_module_version": "1.5.0",
            "_model_name": "HTMLModel",
            "_view_count": null,
            "_view_module": "@jupyter-widgets/controls",
            "_view_module_version": "1.5.0",
            "_view_name": "HTMLView",
            "description": "",
            "description_tooltip": null,
            "layout": "IPY_MODEL_66bf21df0b3945e995960f2190c3c2a6",
            "placeholder": "​",
            "style": "IPY_MODEL_0def759c655c4170886577cecc6d03a9",
            "value": " 6/918189 [00:00&lt;2:09:20, 118.32it/s]"
          }
        },
        "fa8b82c8e8c240f9b2ce03aff26ac4e2": {
          "model_module": "@jupyter-widgets/base",
          "model_name": "LayoutModel",
          "model_module_version": "1.2.0",
          "state": {
            "_model_module": "@jupyter-widgets/base",
            "_model_module_version": "1.2.0",
            "_model_name": "LayoutModel",
            "_view_count": null,
            "_view_module": "@jupyter-widgets/base",
            "_view_module_version": "1.2.0",
            "_view_name": "LayoutView",
            "align_content": null,
            "align_items": null,
            "align_self": null,
            "border": null,
            "bottom": null,
            "display": null,
            "flex": null,
            "flex_flow": null,
            "grid_area": null,
            "grid_auto_columns": null,
            "grid_auto_flow": null,
            "grid_auto_rows": null,
            "grid_column": null,
            "grid_gap": null,
            "grid_row": null,
            "grid_template_areas": null,
            "grid_template_columns": null,
            "grid_template_rows": null,
            "height": null,
            "justify_content": null,
            "justify_items": null,
            "left": null,
            "margin": null,
            "max_height": null,
            "max_width": null,
            "min_height": null,
            "min_width": null,
            "object_fit": null,
            "object_position": null,
            "order": null,
            "overflow": null,
            "overflow_x": null,
            "overflow_y": null,
            "padding": null,
            "right": null,
            "top": null,
            "visibility": null,
            "width": null
          }
        },
        "bc8bbf8708194a9e85097b176aeb3369": {
          "model_module": "@jupyter-widgets/base",
          "model_name": "LayoutModel",
          "model_module_version": "1.2.0",
          "state": {
            "_model_module": "@jupyter-widgets/base",
            "_model_module_version": "1.2.0",
            "_model_name": "LayoutModel",
            "_view_count": null,
            "_view_module": "@jupyter-widgets/base",
            "_view_module_version": "1.2.0",
            "_view_name": "LayoutView",
            "align_content": null,
            "align_items": null,
            "align_self": null,
            "border": null,
            "bottom": null,
            "display": null,
            "flex": null,
            "flex_flow": null,
            "grid_area": null,
            "grid_auto_columns": null,
            "grid_auto_flow": null,
            "grid_auto_rows": null,
            "grid_column": null,
            "grid_gap": null,
            "grid_row": null,
            "grid_template_areas": null,
            "grid_template_columns": null,
            "grid_template_rows": null,
            "height": null,
            "justify_content": null,
            "justify_items": null,
            "left": null,
            "margin": null,
            "max_height": null,
            "max_width": null,
            "min_height": null,
            "min_width": null,
            "object_fit": null,
            "object_position": null,
            "order": null,
            "overflow": null,
            "overflow_x": null,
            "overflow_y": null,
            "padding": null,
            "right": null,
            "top": null,
            "visibility": null,
            "width": null
          }
        },
        "e22d4a62890d47b48d96a53dc06235ec": {
          "model_module": "@jupyter-widgets/controls",
          "model_name": "DescriptionStyleModel",
          "model_module_version": "1.5.0",
          "state": {
            "_model_module": "@jupyter-widgets/controls",
            "_model_module_version": "1.5.0",
            "_model_name": "DescriptionStyleModel",
            "_view_count": null,
            "_view_module": "@jupyter-widgets/base",
            "_view_module_version": "1.2.0",
            "_view_name": "StyleView",
            "description_width": ""
          }
        },
        "a5b6d1606e654cdb95828fccc73a0806": {
          "model_module": "@jupyter-widgets/base",
          "model_name": "LayoutModel",
          "model_module_version": "1.2.0",
          "state": {
            "_model_module": "@jupyter-widgets/base",
            "_model_module_version": "1.2.0",
            "_model_name": "LayoutModel",
            "_view_count": null,
            "_view_module": "@jupyter-widgets/base",
            "_view_module_version": "1.2.0",
            "_view_name": "LayoutView",
            "align_content": null,
            "align_items": null,
            "align_self": null,
            "border": null,
            "bottom": null,
            "display": null,
            "flex": null,
            "flex_flow": null,
            "grid_area": null,
            "grid_auto_columns": null,
            "grid_auto_flow": null,
            "grid_auto_rows": null,
            "grid_column": null,
            "grid_gap": null,
            "grid_row": null,
            "grid_template_areas": null,
            "grid_template_columns": null,
            "grid_template_rows": null,
            "height": null,
            "justify_content": null,
            "justify_items": null,
            "left": null,
            "margin": null,
            "max_height": null,
            "max_width": null,
            "min_height": null,
            "min_width": null,
            "object_fit": null,
            "object_position": null,
            "order": null,
            "overflow": null,
            "overflow_x": null,
            "overflow_y": null,
            "padding": null,
            "right": null,
            "top": null,
            "visibility": null,
            "width": null
          }
        },
        "ab6cde240cbf48f2b6b3d959d882e061": {
          "model_module": "@jupyter-widgets/controls",
          "model_name": "ProgressStyleModel",
          "model_module_version": "1.5.0",
          "state": {
            "_model_module": "@jupyter-widgets/controls",
            "_model_module_version": "1.5.0",
            "_model_name": "ProgressStyleModel",
            "_view_count": null,
            "_view_module": "@jupyter-widgets/base",
            "_view_module_version": "1.2.0",
            "_view_name": "StyleView",
            "bar_color": null,
            "description_width": ""
          }
        },
        "66bf21df0b3945e995960f2190c3c2a6": {
          "model_module": "@jupyter-widgets/base",
          "model_name": "LayoutModel",
          "model_module_version": "1.2.0",
          "state": {
            "_model_module": "@jupyter-widgets/base",
            "_model_module_version": "1.2.0",
            "_model_name": "LayoutModel",
            "_view_count": null,
            "_view_module": "@jupyter-widgets/base",
            "_view_module_version": "1.2.0",
            "_view_name": "LayoutView",
            "align_content": null,
            "align_items": null,
            "align_self": null,
            "border": null,
            "bottom": null,
            "display": null,
            "flex": null,
            "flex_flow": null,
            "grid_area": null,
            "grid_auto_columns": null,
            "grid_auto_flow": null,
            "grid_auto_rows": null,
            "grid_column": null,
            "grid_gap": null,
            "grid_row": null,
            "grid_template_areas": null,
            "grid_template_columns": null,
            "grid_template_rows": null,
            "height": null,
            "justify_content": null,
            "justify_items": null,
            "left": null,
            "margin": null,
            "max_height": null,
            "max_width": null,
            "min_height": null,
            "min_width": null,
            "object_fit": null,
            "object_position": null,
            "order": null,
            "overflow": null,
            "overflow_x": null,
            "overflow_y": null,
            "padding": null,
            "right": null,
            "top": null,
            "visibility": null,
            "width": null
          }
        },
        "0def759c655c4170886577cecc6d03a9": {
          "model_module": "@jupyter-widgets/controls",
          "model_name": "DescriptionStyleModel",
          "model_module_version": "1.5.0",
          "state": {
            "_model_module": "@jupyter-widgets/controls",
            "_model_module_version": "1.5.0",
            "_model_name": "DescriptionStyleModel",
            "_view_count": null,
            "_view_module": "@jupyter-widgets/base",
            "_view_module_version": "1.2.0",
            "_view_name": "StyleView",
            "description_width": ""
          }
        },
        "8c59b485981d4dd881eff9731c0f9fe1": {
          "model_module": "@jupyter-widgets/controls",
          "model_name": "HBoxModel",
          "model_module_version": "1.5.0",
          "state": {
            "_dom_classes": [],
            "_model_module": "@jupyter-widgets/controls",
            "_model_module_version": "1.5.0",
            "_model_name": "HBoxModel",
            "_view_count": null,
            "_view_module": "@jupyter-widgets/controls",
            "_view_module_version": "1.5.0",
            "_view_name": "HBoxView",
            "box_style": "",
            "children": [
              "IPY_MODEL_aa75935b118a4f388c9b4c136e893cff",
              "IPY_MODEL_b2395f86e2bb4a7a8b8b06f0016b4d2c",
              "IPY_MODEL_9e096970f2344cfbabf8c524ab1ca7dc"
            ],
            "layout": "IPY_MODEL_cc85b08d48e34f499df0bf917b96c10d"
          }
        },
        "aa75935b118a4f388c9b4c136e893cff": {
          "model_module": "@jupyter-widgets/controls",
          "model_name": "HTMLModel",
          "model_module_version": "1.5.0",
          "state": {
            "_dom_classes": [],
            "_model_module": "@jupyter-widgets/controls",
            "_model_module_version": "1.5.0",
            "_model_name": "HTMLModel",
            "_view_count": null,
            "_view_module": "@jupyter-widgets/controls",
            "_view_module_version": "1.5.0",
            "_view_name": "HTMLView",
            "description": "",
            "description_tooltip": null,
            "layout": "IPY_MODEL_9e0a93001b5e4de8a95507b90cdac8bc",
            "placeholder": "​",
            "style": "IPY_MODEL_f39d616e6f6147a8a53a25a5945e80f1",
            "value": "100%"
          }
        },
        "b2395f86e2bb4a7a8b8b06f0016b4d2c": {
          "model_module": "@jupyter-widgets/controls",
          "model_name": "FloatProgressModel",
          "model_module_version": "1.5.0",
          "state": {
            "_dom_classes": [],
            "_model_module": "@jupyter-widgets/controls",
            "_model_module_version": "1.5.0",
            "_model_name": "FloatProgressModel",
            "_view_count": null,
            "_view_module": "@jupyter-widgets/controls",
            "_view_module_version": "1.5.0",
            "_view_name": "ProgressView",
            "bar_style": "success",
            "description": "",
            "description_tooltip": null,
            "layout": "IPY_MODEL_8bf80d07c31d47799cc879a40c5372fa",
            "max": 918189,
            "min": 0,
            "orientation": "horizontal",
            "style": "IPY_MODEL_cd912814d7244bd3a5b5513c0b6ca700",
            "value": 918189
          }
        },
        "9e096970f2344cfbabf8c524ab1ca7dc": {
          "model_module": "@jupyter-widgets/controls",
          "model_name": "HTMLModel",
          "model_module_version": "1.5.0",
          "state": {
            "_dom_classes": [],
            "_model_module": "@jupyter-widgets/controls",
            "_model_module_version": "1.5.0",
            "_model_name": "HTMLModel",
            "_view_count": null,
            "_view_module": "@jupyter-widgets/controls",
            "_view_module_version": "1.5.0",
            "_view_name": "HTMLView",
            "description": "",
            "description_tooltip": null,
            "layout": "IPY_MODEL_1785621319554b13b93e806a4252fde5",
            "placeholder": "​",
            "style": "IPY_MODEL_a4f315503e26468bb5c21be4b3346886",
            "value": " 918189/918189 [03:52&lt;00:00, 4620.39it/s]"
          }
        },
        "cc85b08d48e34f499df0bf917b96c10d": {
          "model_module": "@jupyter-widgets/base",
          "model_name": "LayoutModel",
          "model_module_version": "1.2.0",
          "state": {
            "_model_module": "@jupyter-widgets/base",
            "_model_module_version": "1.2.0",
            "_model_name": "LayoutModel",
            "_view_count": null,
            "_view_module": "@jupyter-widgets/base",
            "_view_module_version": "1.2.0",
            "_view_name": "LayoutView",
            "align_content": null,
            "align_items": null,
            "align_self": null,
            "border": null,
            "bottom": null,
            "display": null,
            "flex": null,
            "flex_flow": null,
            "grid_area": null,
            "grid_auto_columns": null,
            "grid_auto_flow": null,
            "grid_auto_rows": null,
            "grid_column": null,
            "grid_gap": null,
            "grid_row": null,
            "grid_template_areas": null,
            "grid_template_columns": null,
            "grid_template_rows": null,
            "height": null,
            "justify_content": null,
            "justify_items": null,
            "left": null,
            "margin": null,
            "max_height": null,
            "max_width": null,
            "min_height": null,
            "min_width": null,
            "object_fit": null,
            "object_position": null,
            "order": null,
            "overflow": null,
            "overflow_x": null,
            "overflow_y": null,
            "padding": null,
            "right": null,
            "top": null,
            "visibility": null,
            "width": null
          }
        },
        "9e0a93001b5e4de8a95507b90cdac8bc": {
          "model_module": "@jupyter-widgets/base",
          "model_name": "LayoutModel",
          "model_module_version": "1.2.0",
          "state": {
            "_model_module": "@jupyter-widgets/base",
            "_model_module_version": "1.2.0",
            "_model_name": "LayoutModel",
            "_view_count": null,
            "_view_module": "@jupyter-widgets/base",
            "_view_module_version": "1.2.0",
            "_view_name": "LayoutView",
            "align_content": null,
            "align_items": null,
            "align_self": null,
            "border": null,
            "bottom": null,
            "display": null,
            "flex": null,
            "flex_flow": null,
            "grid_area": null,
            "grid_auto_columns": null,
            "grid_auto_flow": null,
            "grid_auto_rows": null,
            "grid_column": null,
            "grid_gap": null,
            "grid_row": null,
            "grid_template_areas": null,
            "grid_template_columns": null,
            "grid_template_rows": null,
            "height": null,
            "justify_content": null,
            "justify_items": null,
            "left": null,
            "margin": null,
            "max_height": null,
            "max_width": null,
            "min_height": null,
            "min_width": null,
            "object_fit": null,
            "object_position": null,
            "order": null,
            "overflow": null,
            "overflow_x": null,
            "overflow_y": null,
            "padding": null,
            "right": null,
            "top": null,
            "visibility": null,
            "width": null
          }
        },
        "f39d616e6f6147a8a53a25a5945e80f1": {
          "model_module": "@jupyter-widgets/controls",
          "model_name": "DescriptionStyleModel",
          "model_module_version": "1.5.0",
          "state": {
            "_model_module": "@jupyter-widgets/controls",
            "_model_module_version": "1.5.0",
            "_model_name": "DescriptionStyleModel",
            "_view_count": null,
            "_view_module": "@jupyter-widgets/base",
            "_view_module_version": "1.2.0",
            "_view_name": "StyleView",
            "description_width": ""
          }
        },
        "8bf80d07c31d47799cc879a40c5372fa": {
          "model_module": "@jupyter-widgets/base",
          "model_name": "LayoutModel",
          "model_module_version": "1.2.0",
          "state": {
            "_model_module": "@jupyter-widgets/base",
            "_model_module_version": "1.2.0",
            "_model_name": "LayoutModel",
            "_view_count": null,
            "_view_module": "@jupyter-widgets/base",
            "_view_module_version": "1.2.0",
            "_view_name": "LayoutView",
            "align_content": null,
            "align_items": null,
            "align_self": null,
            "border": null,
            "bottom": null,
            "display": null,
            "flex": null,
            "flex_flow": null,
            "grid_area": null,
            "grid_auto_columns": null,
            "grid_auto_flow": null,
            "grid_auto_rows": null,
            "grid_column": null,
            "grid_gap": null,
            "grid_row": null,
            "grid_template_areas": null,
            "grid_template_columns": null,
            "grid_template_rows": null,
            "height": null,
            "justify_content": null,
            "justify_items": null,
            "left": null,
            "margin": null,
            "max_height": null,
            "max_width": null,
            "min_height": null,
            "min_width": null,
            "object_fit": null,
            "object_position": null,
            "order": null,
            "overflow": null,
            "overflow_x": null,
            "overflow_y": null,
            "padding": null,
            "right": null,
            "top": null,
            "visibility": null,
            "width": null
          }
        },
        "cd912814d7244bd3a5b5513c0b6ca700": {
          "model_module": "@jupyter-widgets/controls",
          "model_name": "ProgressStyleModel",
          "model_module_version": "1.5.0",
          "state": {
            "_model_module": "@jupyter-widgets/controls",
            "_model_module_version": "1.5.0",
            "_model_name": "ProgressStyleModel",
            "_view_count": null,
            "_view_module": "@jupyter-widgets/base",
            "_view_module_version": "1.2.0",
            "_view_name": "StyleView",
            "bar_color": null,
            "description_width": ""
          }
        },
        "1785621319554b13b93e806a4252fde5": {
          "model_module": "@jupyter-widgets/base",
          "model_name": "LayoutModel",
          "model_module_version": "1.2.0",
          "state": {
            "_model_module": "@jupyter-widgets/base",
            "_model_module_version": "1.2.0",
            "_model_name": "LayoutModel",
            "_view_count": null,
            "_view_module": "@jupyter-widgets/base",
            "_view_module_version": "1.2.0",
            "_view_name": "LayoutView",
            "align_content": null,
            "align_items": null,
            "align_self": null,
            "border": null,
            "bottom": null,
            "display": null,
            "flex": null,
            "flex_flow": null,
            "grid_area": null,
            "grid_auto_columns": null,
            "grid_auto_flow": null,
            "grid_auto_rows": null,
            "grid_column": null,
            "grid_gap": null,
            "grid_row": null,
            "grid_template_areas": null,
            "grid_template_columns": null,
            "grid_template_rows": null,
            "height": null,
            "justify_content": null,
            "justify_items": null,
            "left": null,
            "margin": null,
            "max_height": null,
            "max_width": null,
            "min_height": null,
            "min_width": null,
            "object_fit": null,
            "object_position": null,
            "order": null,
            "overflow": null,
            "overflow_x": null,
            "overflow_y": null,
            "padding": null,
            "right": null,
            "top": null,
            "visibility": null,
            "width": null
          }
        },
        "a4f315503e26468bb5c21be4b3346886": {
          "model_module": "@jupyter-widgets/controls",
          "model_name": "DescriptionStyleModel",
          "model_module_version": "1.5.0",
          "state": {
            "_model_module": "@jupyter-widgets/controls",
            "_model_module_version": "1.5.0",
            "_model_name": "DescriptionStyleModel",
            "_view_count": null,
            "_view_module": "@jupyter-widgets/base",
            "_view_module_version": "1.2.0",
            "_view_name": "StyleView",
            "description_width": ""
          }
        }
      }
    }
  },
  "nbformat": 4,
  "nbformat_minor": 0
}