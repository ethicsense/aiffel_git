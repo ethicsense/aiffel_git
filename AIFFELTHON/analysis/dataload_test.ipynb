{
  "nbformat": 4,
  "nbformat_minor": 0,
  "metadata": {
    "colab": {
      "name": "dataload_test.ipynb",
      "provenance": []
    },
    "kernelspec": {
      "name": "python3",
      "display_name": "Python 3"
    },
    "language_info": {
      "name": "python"
    }
  },
  "cells": [
    {
      "cell_type": "code",
      "execution_count": 8,
      "metadata": {
        "colab": {
          "base_uri": "https://localhost:8080/"
        },
        "id": "QDFIen0pY4lc",
        "outputId": "ca4e539f-4a68-47a2-9759-046625c8b953"
      },
      "outputs": [
        {
          "output_type": "stream",
          "name": "stdout",
          "text": [
            "Mounted at /content/drive\n"
          ]
        }
      ],
      "source": [
        "from google.colab import drive\n",
        "drive.mount('/content/drive')"
      ]
    },
    {
      "cell_type": "code",
      "source": [
        "import os\n",
        "import pandas as pd"
      ],
      "metadata": {
        "id": "TK1skppSY9M0"
      },
      "execution_count": null,
      "outputs": []
    },
    {
      "cell_type": "code",
      "source": [
        "data_path = os.path.join(\"./drive/MyDrive/Colab_Notebooks/voc_rm/datasets/dktc/data/insert_koen\", \"train.csv\")\n",
        "\n",
        "df = pd.read_csv(data_path)"
      ],
      "metadata": {
        "id": "o5dt2AtnZEu7"
      },
      "execution_count": null,
      "outputs": []
    },
    {
      "cell_type": "code",
      "source": [
        "df.head()"
      ],
      "metadata": {
        "colab": {
          "base_uri": "https://localhost:8080/",
          "height": 206
        },
        "id": "9VFhTSvnZZpP",
        "outputId": "19bb7fc7-0f7a-44a6-f005-a534f5441547"
      },
      "execution_count": null,
      "outputs": [
        {
          "output_type": "execute_result",
          "data": {
            "text/plain": [
              "   idx   label   class                                       conversation\n",
              "0    0  악성민원상담      협박  지금 너 스스로를 죽여달라고 애원하는 것인가?\\n 아닙니다. 죄송합니다.\\n 죽을 ...\n",
              "1    1  악성민원상담      협박  길동경찰서입니다.\\n9시 40분 마트에 폭발물을 설치할거다.\\n네?\\n똑바로 들어 ...\n",
              "2    2  악성민원상담  기타 괴롭힘  너 되게 귀여운거 알지? 나보다 작은 남자는 첨봤어.\\n그만해. 니들 놀리는거 재미...\n",
              "3    3  악성민원상담      갈취  어이 거기\\n예??\\n너 말이야 너. 이리 오라고\\n무슨 일.\\n너 옷 좋아보인다?...\n",
              "4    4  악성민원상담      갈취  저기요 혹시 날이 너무 뜨겁잖아요? 저희 회사에서 이 선크림 파는데 한 번 손등에 ..."
            ],
            "text/html": [
              "\n",
              "  <div id=\"df-e4b1bd77-ef14-4521-85f3-b429d3244703\">\n",
              "    <div class=\"colab-df-container\">\n",
              "      <div>\n",
              "<style scoped>\n",
              "    .dataframe tbody tr th:only-of-type {\n",
              "        vertical-align: middle;\n",
              "    }\n",
              "\n",
              "    .dataframe tbody tr th {\n",
              "        vertical-align: top;\n",
              "    }\n",
              "\n",
              "    .dataframe thead th {\n",
              "        text-align: right;\n",
              "    }\n",
              "</style>\n",
              "<table border=\"1\" class=\"dataframe\">\n",
              "  <thead>\n",
              "    <tr style=\"text-align: right;\">\n",
              "      <th></th>\n",
              "      <th>idx</th>\n",
              "      <th>label</th>\n",
              "      <th>class</th>\n",
              "      <th>conversation</th>\n",
              "    </tr>\n",
              "  </thead>\n",
              "  <tbody>\n",
              "    <tr>\n",
              "      <th>0</th>\n",
              "      <td>0</td>\n",
              "      <td>악성민원상담</td>\n",
              "      <td>협박</td>\n",
              "      <td>지금 너 스스로를 죽여달라고 애원하는 것인가?\\n 아닙니다. 죄송합니다.\\n 죽을 ...</td>\n",
              "    </tr>\n",
              "    <tr>\n",
              "      <th>1</th>\n",
              "      <td>1</td>\n",
              "      <td>악성민원상담</td>\n",
              "      <td>협박</td>\n",
              "      <td>길동경찰서입니다.\\n9시 40분 마트에 폭발물을 설치할거다.\\n네?\\n똑바로 들어 ...</td>\n",
              "    </tr>\n",
              "    <tr>\n",
              "      <th>2</th>\n",
              "      <td>2</td>\n",
              "      <td>악성민원상담</td>\n",
              "      <td>기타 괴롭힘</td>\n",
              "      <td>너 되게 귀여운거 알지? 나보다 작은 남자는 첨봤어.\\n그만해. 니들 놀리는거 재미...</td>\n",
              "    </tr>\n",
              "    <tr>\n",
              "      <th>3</th>\n",
              "      <td>3</td>\n",
              "      <td>악성민원상담</td>\n",
              "      <td>갈취</td>\n",
              "      <td>어이 거기\\n예??\\n너 말이야 너. 이리 오라고\\n무슨 일.\\n너 옷 좋아보인다?...</td>\n",
              "    </tr>\n",
              "    <tr>\n",
              "      <th>4</th>\n",
              "      <td>4</td>\n",
              "      <td>악성민원상담</td>\n",
              "      <td>갈취</td>\n",
              "      <td>저기요 혹시 날이 너무 뜨겁잖아요? 저희 회사에서 이 선크림 파는데 한 번 손등에 ...</td>\n",
              "    </tr>\n",
              "  </tbody>\n",
              "</table>\n",
              "</div>\n",
              "      <button class=\"colab-df-convert\" onclick=\"convertToInteractive('df-e4b1bd77-ef14-4521-85f3-b429d3244703')\"\n",
              "              title=\"Convert this dataframe to an interactive table.\"\n",
              "              style=\"display:none;\">\n",
              "        \n",
              "  <svg xmlns=\"http://www.w3.org/2000/svg\" height=\"24px\"viewBox=\"0 0 24 24\"\n",
              "       width=\"24px\">\n",
              "    <path d=\"M0 0h24v24H0V0z\" fill=\"none\"/>\n",
              "    <path d=\"M18.56 5.44l.94 2.06.94-2.06 2.06-.94-2.06-.94-.94-2.06-.94 2.06-2.06.94zm-11 1L8.5 8.5l.94-2.06 2.06-.94-2.06-.94L8.5 2.5l-.94 2.06-2.06.94zm10 10l.94 2.06.94-2.06 2.06-.94-2.06-.94-.94-2.06-.94 2.06-2.06.94z\"/><path d=\"M17.41 7.96l-1.37-1.37c-.4-.4-.92-.59-1.43-.59-.52 0-1.04.2-1.43.59L10.3 9.45l-7.72 7.72c-.78.78-.78 2.05 0 2.83L4 21.41c.39.39.9.59 1.41.59.51 0 1.02-.2 1.41-.59l7.78-7.78 2.81-2.81c.8-.78.8-2.07 0-2.86zM5.41 20L4 18.59l7.72-7.72 1.47 1.35L5.41 20z\"/>\n",
              "  </svg>\n",
              "      </button>\n",
              "      \n",
              "  <style>\n",
              "    .colab-df-container {\n",
              "      display:flex;\n",
              "      flex-wrap:wrap;\n",
              "      gap: 12px;\n",
              "    }\n",
              "\n",
              "    .colab-df-convert {\n",
              "      background-color: #E8F0FE;\n",
              "      border: none;\n",
              "      border-radius: 50%;\n",
              "      cursor: pointer;\n",
              "      display: none;\n",
              "      fill: #1967D2;\n",
              "      height: 32px;\n",
              "      padding: 0 0 0 0;\n",
              "      width: 32px;\n",
              "    }\n",
              "\n",
              "    .colab-df-convert:hover {\n",
              "      background-color: #E2EBFA;\n",
              "      box-shadow: 0px 1px 2px rgba(60, 64, 67, 0.3), 0px 1px 3px 1px rgba(60, 64, 67, 0.15);\n",
              "      fill: #174EA6;\n",
              "    }\n",
              "\n",
              "    [theme=dark] .colab-df-convert {\n",
              "      background-color: #3B4455;\n",
              "      fill: #D2E3FC;\n",
              "    }\n",
              "\n",
              "    [theme=dark] .colab-df-convert:hover {\n",
              "      background-color: #434B5C;\n",
              "      box-shadow: 0px 1px 3px 1px rgba(0, 0, 0, 0.15);\n",
              "      filter: drop-shadow(0px 1px 2px rgba(0, 0, 0, 0.3));\n",
              "      fill: #FFFFFF;\n",
              "    }\n",
              "  </style>\n",
              "\n",
              "      <script>\n",
              "        const buttonEl =\n",
              "          document.querySelector('#df-e4b1bd77-ef14-4521-85f3-b429d3244703 button.colab-df-convert');\n",
              "        buttonEl.style.display =\n",
              "          google.colab.kernel.accessAllowed ? 'block' : 'none';\n",
              "\n",
              "        async function convertToInteractive(key) {\n",
              "          const element = document.querySelector('#df-e4b1bd77-ef14-4521-85f3-b429d3244703');\n",
              "          const dataTable =\n",
              "            await google.colab.kernel.invokeFunction('convertToInteractive',\n",
              "                                                     [key], {});\n",
              "          if (!dataTable) return;\n",
              "\n",
              "          const docLinkHtml = 'Like what you see? Visit the ' +\n",
              "            '<a target=\"_blank\" href=https://colab.research.google.com/notebooks/data_table.ipynb>data table notebook</a>'\n",
              "            + ' to learn more about interactive tables.';\n",
              "          element.innerHTML = '';\n",
              "          dataTable['output_type'] = 'display_data';\n",
              "          await google.colab.output.renderOutput(dataTable, element);\n",
              "          const docLink = document.createElement('div');\n",
              "          docLink.innerHTML = docLinkHtml;\n",
              "          element.appendChild(docLink);\n",
              "        }\n",
              "      </script>\n",
              "    </div>\n",
              "  </div>\n",
              "  "
            ]
          },
          "metadata": {},
          "execution_count": 5
        }
      ]
    },
    {
      "cell_type": "code",
      "source": [
        "set(df['class'])"
      ],
      "metadata": {
        "colab": {
          "base_uri": "https://localhost:8080/"
        },
        "id": "mcoIKqOjZn6o",
        "outputId": "81ec7f4d-68ee-487c-aa05-ef634cfdc6e2"
      },
      "execution_count": null,
      "outputs": [
        {
          "output_type": "execute_result",
          "data": {
            "text/plain": [
              "{'갈취', '기타 괴롭힘', '일반', '직장 내 괴롭힘', '협박'}"
            ]
          },
          "metadata": {},
          "execution_count": 6
        }
      ]
    },
    {
      "cell_type": "code",
      "source": [
        "data_path2 = os.path.join(\"./drive/MyDrive/Colab_Notebooks/voc_rm/datasets/dktc/data/insert_koen\", \"test.csv\")\n",
        "\n",
        "df2 = pd.read_csv(data_path2)"
      ],
      "metadata": {
        "id": "HW685SxdZstJ"
      },
      "execution_count": null,
      "outputs": []
    },
    {
      "cell_type": "code",
      "source": [
        "df2.head()"
      ],
      "metadata": {
        "colab": {
          "base_uri": "https://localhost:8080/",
          "height": 206
        },
        "id": "LhOqanh5clSc",
        "outputId": "0fe262cf-8dd1-4ce9-bd4d-3e34b0002783"
      },
      "execution_count": null,
      "outputs": [
        {
          "output_type": "execute_result",
          "data": {
            "text/plain": [
              "   idx   label                                       conversation\n",
              "0    1  악성민원상담  우리팀에서 다른팀으로 갈 사람 없나? 그럼 영지씨가 가는건 어때?  네? 제가요? ...\n",
              "1    2  악성민원상담  너 오늘 그게 뭐야 네 제가 뭘 잘못했나요.? 제대로 좀 하지 네 똑바로 좀 하지 ...\n",
              "2    3  악성민원상담  이거 들어바 와 이 노래 진짜 좋다 그치 요즘 이 것만 들어 진짜 너무 좋다 내가 ...\n",
              "3    4  악성민원상담  아무튼 앞으로 니가 내 와이파이야. .응 와이파이 온. 켰어. 반말? 주인님이라고도...\n",
              "4    5  악성민원상담  그러니까 빨리 말해. 선생님 제발 살려주십시오.  비밀번호 틀릴 때마다 손톱 하나씩..."
            ],
            "text/html": [
              "\n",
              "  <div id=\"df-95711ca2-a101-4582-90ec-2a2259ace758\">\n",
              "    <div class=\"colab-df-container\">\n",
              "      <div>\n",
              "<style scoped>\n",
              "    .dataframe tbody tr th:only-of-type {\n",
              "        vertical-align: middle;\n",
              "    }\n",
              "\n",
              "    .dataframe tbody tr th {\n",
              "        vertical-align: top;\n",
              "    }\n",
              "\n",
              "    .dataframe thead th {\n",
              "        text-align: right;\n",
              "    }\n",
              "</style>\n",
              "<table border=\"1\" class=\"dataframe\">\n",
              "  <thead>\n",
              "    <tr style=\"text-align: right;\">\n",
              "      <th></th>\n",
              "      <th>idx</th>\n",
              "      <th>label</th>\n",
              "      <th>conversation</th>\n",
              "    </tr>\n",
              "  </thead>\n",
              "  <tbody>\n",
              "    <tr>\n",
              "      <th>0</th>\n",
              "      <td>1</td>\n",
              "      <td>악성민원상담</td>\n",
              "      <td>우리팀에서 다른팀으로 갈 사람 없나? 그럼 영지씨가 가는건 어때?  네? 제가요? ...</td>\n",
              "    </tr>\n",
              "    <tr>\n",
              "      <th>1</th>\n",
              "      <td>2</td>\n",
              "      <td>악성민원상담</td>\n",
              "      <td>너 오늘 그게 뭐야 네 제가 뭘 잘못했나요.? 제대로 좀 하지 네 똑바로 좀 하지 ...</td>\n",
              "    </tr>\n",
              "    <tr>\n",
              "      <th>2</th>\n",
              "      <td>3</td>\n",
              "      <td>악성민원상담</td>\n",
              "      <td>이거 들어바 와 이 노래 진짜 좋다 그치 요즘 이 것만 들어 진짜 너무 좋다 내가 ...</td>\n",
              "    </tr>\n",
              "    <tr>\n",
              "      <th>3</th>\n",
              "      <td>4</td>\n",
              "      <td>악성민원상담</td>\n",
              "      <td>아무튼 앞으로 니가 내 와이파이야. .응 와이파이 온. 켰어. 반말? 주인님이라고도...</td>\n",
              "    </tr>\n",
              "    <tr>\n",
              "      <th>4</th>\n",
              "      <td>5</td>\n",
              "      <td>악성민원상담</td>\n",
              "      <td>그러니까 빨리 말해. 선생님 제발 살려주십시오.  비밀번호 틀릴 때마다 손톱 하나씩...</td>\n",
              "    </tr>\n",
              "  </tbody>\n",
              "</table>\n",
              "</div>\n",
              "      <button class=\"colab-df-convert\" onclick=\"convertToInteractive('df-95711ca2-a101-4582-90ec-2a2259ace758')\"\n",
              "              title=\"Convert this dataframe to an interactive table.\"\n",
              "              style=\"display:none;\">\n",
              "        \n",
              "  <svg xmlns=\"http://www.w3.org/2000/svg\" height=\"24px\"viewBox=\"0 0 24 24\"\n",
              "       width=\"24px\">\n",
              "    <path d=\"M0 0h24v24H0V0z\" fill=\"none\"/>\n",
              "    <path d=\"M18.56 5.44l.94 2.06.94-2.06 2.06-.94-2.06-.94-.94-2.06-.94 2.06-2.06.94zm-11 1L8.5 8.5l.94-2.06 2.06-.94-2.06-.94L8.5 2.5l-.94 2.06-2.06.94zm10 10l.94 2.06.94-2.06 2.06-.94-2.06-.94-.94-2.06-.94 2.06-2.06.94z\"/><path d=\"M17.41 7.96l-1.37-1.37c-.4-.4-.92-.59-1.43-.59-.52 0-1.04.2-1.43.59L10.3 9.45l-7.72 7.72c-.78.78-.78 2.05 0 2.83L4 21.41c.39.39.9.59 1.41.59.51 0 1.02-.2 1.41-.59l7.78-7.78 2.81-2.81c.8-.78.8-2.07 0-2.86zM5.41 20L4 18.59l7.72-7.72 1.47 1.35L5.41 20z\"/>\n",
              "  </svg>\n",
              "      </button>\n",
              "      \n",
              "  <style>\n",
              "    .colab-df-container {\n",
              "      display:flex;\n",
              "      flex-wrap:wrap;\n",
              "      gap: 12px;\n",
              "    }\n",
              "\n",
              "    .colab-df-convert {\n",
              "      background-color: #E8F0FE;\n",
              "      border: none;\n",
              "      border-radius: 50%;\n",
              "      cursor: pointer;\n",
              "      display: none;\n",
              "      fill: #1967D2;\n",
              "      height: 32px;\n",
              "      padding: 0 0 0 0;\n",
              "      width: 32px;\n",
              "    }\n",
              "\n",
              "    .colab-df-convert:hover {\n",
              "      background-color: #E2EBFA;\n",
              "      box-shadow: 0px 1px 2px rgba(60, 64, 67, 0.3), 0px 1px 3px 1px rgba(60, 64, 67, 0.15);\n",
              "      fill: #174EA6;\n",
              "    }\n",
              "\n",
              "    [theme=dark] .colab-df-convert {\n",
              "      background-color: #3B4455;\n",
              "      fill: #D2E3FC;\n",
              "    }\n",
              "\n",
              "    [theme=dark] .colab-df-convert:hover {\n",
              "      background-color: #434B5C;\n",
              "      box-shadow: 0px 1px 3px 1px rgba(0, 0, 0, 0.15);\n",
              "      filter: drop-shadow(0px 1px 2px rgba(0, 0, 0, 0.3));\n",
              "      fill: #FFFFFF;\n",
              "    }\n",
              "  </style>\n",
              "\n",
              "      <script>\n",
              "        const buttonEl =\n",
              "          document.querySelector('#df-95711ca2-a101-4582-90ec-2a2259ace758 button.colab-df-convert');\n",
              "        buttonEl.style.display =\n",
              "          google.colab.kernel.accessAllowed ? 'block' : 'none';\n",
              "\n",
              "        async function convertToInteractive(key) {\n",
              "          const element = document.querySelector('#df-95711ca2-a101-4582-90ec-2a2259ace758');\n",
              "          const dataTable =\n",
              "            await google.colab.kernel.invokeFunction('convertToInteractive',\n",
              "                                                     [key], {});\n",
              "          if (!dataTable) return;\n",
              "\n",
              "          const docLinkHtml = 'Like what you see? Visit the ' +\n",
              "            '<a target=\"_blank\" href=https://colab.research.google.com/notebooks/data_table.ipynb>data table notebook</a>'\n",
              "            + ' to learn more about interactive tables.';\n",
              "          element.innerHTML = '';\n",
              "          dataTable['output_type'] = 'display_data';\n",
              "          await google.colab.output.renderOutput(dataTable, element);\n",
              "          const docLink = document.createElement('div');\n",
              "          docLink.innerHTML = docLinkHtml;\n",
              "          element.appendChild(docLink);\n",
              "        }\n",
              "      </script>\n",
              "    </div>\n",
              "  </div>\n",
              "  "
            ]
          },
          "metadata": {},
          "execution_count": 11
        }
      ]
    },
    {
      "cell_type": "code",
      "source": [
        "df.iloc[:,2]"
      ],
      "metadata": {
        "colab": {
          "base_uri": "https://localhost:8080/"
        },
        "id": "u70dCyJBcmQx",
        "outputId": "db17d77a-c301-4749-db08-cbbeebe929a6"
      },
      "execution_count": null,
      "outputs": [
        {
          "output_type": "execute_result",
          "data": {
            "text/plain": [
              "0           협박\n",
              "1           협박\n",
              "2       기타 괴롭힘\n",
              "3           갈취\n",
              "4           갈취\n",
              "         ...  \n",
              "7894        일반\n",
              "7895        일반\n",
              "7896        일반\n",
              "7897        일반\n",
              "7898        일반\n",
              "Name: class, Length: 7899, dtype: object"
            ]
          },
          "metadata": {},
          "execution_count": 17
        }
      ]
    },
    {
      "cell_type": "code",
      "source": [
        "df.iloc[:,3]"
      ],
      "metadata": {
        "colab": {
          "base_uri": "https://localhost:8080/"
        },
        "id": "dk2BaN5Xcnmi",
        "outputId": "fb1d0d87-8b7a-492a-d4ef-ee3a3fea44f3"
      },
      "execution_count": null,
      "outputs": [
        {
          "output_type": "execute_result",
          "data": {
            "text/plain": [
              "0       지금 너 스스로를 죽여달라고 애원하는 것인가?\\n 아닙니다. 죄송합니다.\\n 죽을 ...\n",
              "1       길동경찰서입니다.\\n9시 40분 마트에 폭발물을 설치할거다.\\n네?\\n똑바로 들어 ...\n",
              "2       너 되게 귀여운거 알지? 나보다 작은 남자는 첨봤어.\\n그만해. 니들 놀리는거 재미...\n",
              "3       어이 거기\\n예??\\n너 말이야 너. 이리 오라고\\n무슨 일.\\n너 옷 좋아보인다?...\n",
              "4       저기요 혹시 날이 너무 뜨겁잖아요? 저희 회사에서 이 선크림 파는데 한 번 손등에 ...\n",
              "                              ...                        \n",
              "7894    필라테스 호흡에서는 조금 더 코어 근육에 집중합니다.\\n말로 하는 설명만 들어서는 ...\n",
              "7895    아주 어린 아이들도 짐볼로 운동을 하기 때문에 괜찮습니다.\\n발목을 접질릴까봐 무서...\n",
              "7896    의사가 가벼운 운동은 괜찮다고 해서 요가를 했어요.\\n기본적인 근력 운동을 계속하셨...\n",
              "7897    집안에 일이 생겨서 거기에 집중해야 할 것 같아요.\\n그럼 회원권은 잠시 정지 시켜...\n",
              "7898    러닝머신이나 자전거 같은 운동을 할 때 소리가 나요.\\n유산소 운동을 할 때 장의 ...\n",
              "Name: conversation, Length: 7899, dtype: object"
            ]
          },
          "metadata": {},
          "execution_count": 18
        }
      ]
    },
    {
      "cell_type": "code",
      "source": [
        "# Install transformers library.\n",
        "!pip install -q git+https://github.com/huggingface/transformers.git\n",
        "# Install helper functions.\n",
        "!pip install -q git+https://github.com/gmihaila/ml_things.git\n",
        "# Install matplotlib in proper version\n",
        "! pip install matplotlib==3.1.3"
      ],
      "metadata": {
        "colab": {
          "base_uri": "https://localhost:8080/",
          "height": 707
        },
        "id": "ESeLlEhjbGmd",
        "outputId": "67bb1a97-60cd-41b2-ec9f-d1abb94fad44"
      },
      "execution_count": 1,
      "outputs": [
        {
          "output_type": "stream",
          "name": "stdout",
          "text": [
            "  Installing build dependencies ... \u001b[?25l\u001b[?25hdone\n",
            "  Getting requirements to build wheel ... \u001b[?25l\u001b[?25hdone\n",
            "    Preparing wheel metadata ... \u001b[?25l\u001b[?25hdone\n",
            "\u001b[K     |████████████████████████████████| 6.6 MB 7.6 MB/s \n",
            "\u001b[K     |████████████████████████████████| 86 kB 5.4 MB/s \n",
            "\u001b[K     |████████████████████████████████| 596 kB 29.1 MB/s \n",
            "\u001b[?25h  Building wheel for transformers (PEP 517) ... \u001b[?25l\u001b[?25hdone\n",
            "\u001b[K     |████████████████████████████████| 53 kB 1.6 MB/s \n",
            "\u001b[K     |████████████████████████████████| 11.2 MB 14.5 MB/s \n",
            "\u001b[K     |████████████████████████████████| 930 kB 50.5 MB/s \n",
            "\u001b[?25h  Building wheel for ml-things (setup.py) ... \u001b[?25l\u001b[?25hdone\n",
            "\u001b[31mERROR: pip's dependency resolver does not currently take into account all the packages that are installed. This behaviour is the source of the following dependency conflicts.\n",
            "albumentations 0.1.12 requires imgaug<0.2.7,>=0.2.5, but you have imgaug 0.2.9 which is incompatible.\u001b[0m\n",
            "Looking in indexes: https://pypi.org/simple, https://us-python.pkg.dev/colab-wheels/public/simple/\n",
            "Collecting matplotlib==3.1.3\n",
            "  Downloading matplotlib-3.1.3-cp37-cp37m-manylinux1_x86_64.whl (13.1 MB)\n",
            "\u001b[K     |████████████████████████████████| 13.1 MB 6.9 MB/s \n",
            "\u001b[?25hRequirement already satisfied: kiwisolver>=1.0.1 in /usr/local/lib/python3.7/dist-packages (from matplotlib==3.1.3) (1.4.2)\n",
            "Requirement already satisfied: cycler>=0.10 in /usr/local/lib/python3.7/dist-packages (from matplotlib==3.1.3) (0.11.0)\n",
            "Requirement already satisfied: python-dateutil>=2.1 in /usr/local/lib/python3.7/dist-packages (from matplotlib==3.1.3) (2.8.2)\n",
            "Requirement already satisfied: pyparsing!=2.0.4,!=2.1.2,!=2.1.6,>=2.0.1 in /usr/local/lib/python3.7/dist-packages (from matplotlib==3.1.3) (3.0.9)\n",
            "Requirement already satisfied: numpy>=1.11 in /usr/local/lib/python3.7/dist-packages (from matplotlib==3.1.3) (1.21.6)\n",
            "Requirement already satisfied: typing-extensions in /usr/local/lib/python3.7/dist-packages (from kiwisolver>=1.0.1->matplotlib==3.1.3) (4.2.0)\n",
            "Requirement already satisfied: six>=1.5 in /usr/local/lib/python3.7/dist-packages (from python-dateutil>=2.1->matplotlib==3.1.3) (1.15.0)\n",
            "Installing collected packages: matplotlib\n",
            "  Attempting uninstall: matplotlib\n",
            "    Found existing installation: matplotlib 3.5.2\n",
            "    Uninstalling matplotlib-3.5.2:\n",
            "      Successfully uninstalled matplotlib-3.5.2\n",
            "\u001b[31mERROR: pip's dependency resolver does not currently take into account all the packages that are installed. This behaviour is the source of the following dependency conflicts.\n",
            "ml-things 0.0.1 requires matplotlib>=3.4.0, but you have matplotlib 3.1.3 which is incompatible.\n",
            "albumentations 0.1.12 requires imgaug<0.2.7,>=0.2.5, but you have imgaug 0.2.9 which is incompatible.\u001b[0m\n",
            "Successfully installed matplotlib-3.1.3\n"
          ]
        },
        {
          "output_type": "display_data",
          "data": {
            "application/vnd.colab-display-data+json": {
              "pip_warning": {
                "packages": [
                  "matplotlib",
                  "mpl_toolkits"
                ]
              }
            }
          },
          "metadata": {}
        }
      ]
    },
    {
      "cell_type": "code",
      "source": [
        "import pickle as pickle\n",
        "import os\n",
        "import pandas as pd\n",
        "import torch\n",
        "\n",
        "class news_dataset(torch.utils.data.Dataset):\n",
        "    \"\"\"Dataset 구성을 위한 class.\"\"\"\n",
        "\n",
        "    def __init__(self, news_dataset, labels):\n",
        "        self.news_dataset = news_dataset\n",
        "        self.labels = labels\n",
        "\n",
        "    def __getitem__(self, idx):\n",
        "        item = {\n",
        "            key: val[idx].clone().detach() for key, val in self.news_dataset.items()\n",
        "        }\n",
        "        item[\"labels\"] = torch.tensor(self.labels[idx])\n",
        "        return item\n",
        "\n",
        "    def __len__(self):\n",
        "        return len(self.labels)\n",
        "\n",
        "\n",
        "def load_data(dataset_dir):\n",
        "    \"\"\"csv 파일을 경로에 맡게 불러 옵니다.\"\"\"\n",
        "    pd_dataset = pd.read_csv(dataset_dir)\n",
        "    return pd_dataset\n",
        "\n",
        "\n",
        "def tokenized_dataset(dataset, tokenizer, max_length):\n",
        "    \"\"\"tokenizer에 따라 sentence를 tokenizing 합니다.\"\"\"\n",
        "    concat_entity = []\n",
        "    for e01 in dataset['conversation']:\n",
        "        temp = \"\"\n",
        "        temp = e01\n",
        "        # 밥을 굶은 아이들 [SEP] 아이들이 밥을 굶고있다... \n",
        "        concat_entity.append(temp)\n",
        "\n",
        "    tokenized_sentences = tokenizer(\n",
        "        concat_entity,\n",
        "        return_tensors=\"pt\",\n",
        "        padding=True,\n",
        "        truncation=True,\n",
        "        max_length=max_length,\n",
        "        add_special_tokens=True,\n",
        "        return_token_type_ids=False, #BERT ->  RoBERTa 120, 20 100 밥을 먹었다 [PAD] [PAD][PAD][PAD][PAD][PAD][PAD][PAD][PAD][PAD][PAD][PAD] [1 1 1 00000000]\n",
        "    )\n",
        "    # Tokenizer : sentence -> token_id , attention mask , token_type_ids => 첫번째 문장과 두번째 문장 표시 00000000 111111111\n",
        "    return tokenized_sentences"
      ],
      "metadata": {
        "id": "zdkuX7PzxnSX"
      },
      "execution_count": 92,
      "outputs": []
    },
    {
      "cell_type": "code",
      "source": [
        "def seed_everything(seed):\n",
        "    os.environ[\"PYTHONHASHSEED\"] = str(seed)\n",
        "    torch.manual_seed(seed)\n",
        "    torch.cuda.manual_seed(seed)\n",
        "    torch.cuda.manual_seed_all(seed)  # if use multi-GPU\n",
        "    torch.backends.cudnn.deterministic = True\n",
        "    torch.backends.cudnn.benchmark = False\n",
        "    np.random.seed(seed)\n",
        "    random.seed(seed)\n",
        "\n",
        "\n",
        "def compute_metrics(pred):\n",
        "    \"\"\"validation을 위한 metrics function\"\"\"\n",
        "    labels = pred.label_ids\n",
        "    preds = pred.predictions.argmax(-1) #argmax([0.01 0.0001 0.1])\n",
        "\n",
        "    # calculate accuracy using sklearn's function\n",
        "    acc = accuracy_score(labels, preds)\n",
        "    return {\n",
        "        \"accuracy\": acc,\n",
        "    }\n",
        "\n",
        "\n",
        "def label_to_num(label):\n",
        "    dict_label_to_num = {\n",
        "        '일반':0, '갈취':1, '협박':2, '직장 내 괴롭힘':3, '기타 괴롭힘':4,\n",
        "    }\n",
        "    num_label = []\n",
        "\n",
        "    for v in label:\n",
        "        num_label.append(dict_label_to_num[v])\n",
        "\n",
        "    return num_label"
      ],
      "metadata": {
        "id": "BTLNR8wRa1eN"
      },
      "execution_count": 78,
      "outputs": []
    },
    {
      "cell_type": "code",
      "source": [
        "import os\n",
        "import random\n",
        "import argparse\n",
        "\n",
        "import numpy as np\n",
        "from sklearn.metrics import accuracy_score\n",
        "\n",
        "import torch\n",
        "from torch.utils.data import random_split\n",
        "from transformers import (\n",
        "    AutoTokenizer,\n",
        "    AutoConfig,\n",
        "    AutoModelForSequenceClassification,\n",
        ")\n",
        "\n",
        "from transformers import Trainer, TrainingArguments\n",
        "from transformers import EarlyStoppingCallback\n",
        "from transformers.optimization import get_cosine_with_hard_restarts_schedule_with_warmup\n",
        "\n",
        "model_name = \"klue/roberta-base\"\n",
        "seed = 42\n",
        "max_len = 400\n",
        "save_limit = 5\n",
        "save_step = 500\n",
        "epochs = 10\n",
        "lr = 5e-3\n",
        "batch_size = 4\n",
        "per_device_eval_batch_size = 2\n",
        "warmup_steps = 300\n",
        "weight_decay = 0.01\n",
        "logging_steps = 100\n",
        "\n",
        "eval_steps = 500\n",
        "load_best_model_at_end = True\n"
      ],
      "metadata": {
        "id": "TgvsT5O4a2jK"
      },
      "execution_count": 5,
      "outputs": []
    },
    {
      "cell_type": "code",
      "source": [
        "! pwd"
      ],
      "metadata": {
        "colab": {
          "base_uri": "https://localhost:8080/"
        },
        "id": "qS-nI59Ib39C",
        "outputId": "b5e57171-eb71-4f17-93a3-9b999c50c820"
      },
      "execution_count": 7,
      "outputs": [
        {
          "output_type": "stream",
          "name": "stdout",
          "text": [
            "/content\n"
          ]
        }
      ]
    },
    {
      "cell_type": "code",
      "source": [
        "# fix a seed\n",
        "seed_everything(seed)\n",
        "\n",
        "# load model and tokenizer\n",
        "MODEL_NAME = model_name  # klue/roberta-base\n",
        "tokenizer = AutoTokenizer.from_pretrained(MODEL_NAME)\n",
        "\n",
        "# load dataset\n",
        "org_dataset = load_data(\n",
        "    './drive/MyDrive/Colab_Notebooks/voc_rm/datasets/dktc/data/insert_koen/train.csv')\n",
        "# test_dataset = load_data(\"..data/newszum_test_data.csv\")\n",
        "\n",
        "org_label = label_to_num(org_dataset[\"class\"].values)\n",
        "# test_label = label_to_num(test_dataset[\"class\"].values)\n",
        "\n",
        "# tokenizing dataset\n",
        "tokenized_corpus = tokenized_dataset(org_dataset, tokenizer, max_len)\n",
        "# tokenized_test = tokenized_dataset(test_dataset, tokenizer, max_len)\n",
        "\n",
        "# make dataset for pytorch.\n",
        "voc_dataset = news_dataset(tokenized_corpus, org_label)\n",
        "# news_test_dataset = news_dataset(tokenized_test, test_label)\n",
        "\n",
        "# defining split_size\n",
        "dataset_size = len(voc_dataset)\n",
        "train_size = int(dataset_size * 0.8)\n",
        "validation_size = int(dataset_size * 0.1)\n",
        "test_size = dataset_size - train_size - validation_size\n",
        "\n",
        "# random split\n",
        "train_dataset, valid_dataset, test_dataset = random_split(\n",
        "    voc_dataset, [train_size, validation_size, test_size])\n",
        "\n",
        "print(f\"Training Data Size : {len(train_dataset)}\")\n",
        "print(f\"Validation Data Size : {len(valid_dataset)}\")\n",
        "print(f\"Testing Data Size : {len(test_dataset)}\")\n"
      ],
      "metadata": {
        "colab": {
          "base_uri": "https://localhost:8080/"
        },
        "id": "dyr4KqRua2ni",
        "outputId": "fe18028b-b8c5-47c2-cfa2-1b36c7bdd3de"
      },
      "execution_count": 9,
      "outputs": [
        {
          "output_type": "stream",
          "name": "stdout",
          "text": [
            "Training Data Size : 6319\n",
            "Validation Data Size : 789\n",
            "Testing Data Size : 791\n"
          ]
        }
      ]
    },
    {
      "cell_type": "code",
      "source": [
        "type(org_label)"
      ],
      "metadata": {
        "colab": {
          "base_uri": "https://localhost:8080/"
        },
        "id": "TICv7hYqGoQM",
        "outputId": "c7c66e1b-626b-4345-97a5-ff38fd4e5d69"
      },
      "execution_count": 82,
      "outputs": [
        {
          "output_type": "execute_result",
          "data": {
            "text/plain": [
              "list"
            ]
          },
          "metadata": {},
          "execution_count": 82
        }
      ]
    },
    {
      "cell_type": "code",
      "source": [
        "len(org_dataset.iloc[132]['conversation'])"
      ],
      "metadata": {
        "colab": {
          "base_uri": "https://localhost:8080/"
        },
        "id": "ghip1bfOa5yq",
        "outputId": "29ddde9a-08c7-4aef-fb94-a226303b1403"
      },
      "execution_count": 35,
      "outputs": [
        {
          "output_type": "execute_result",
          "data": {
            "text/plain": [
              "228"
            ]
          },
          "metadata": {},
          "execution_count": 35
        }
      ]
    },
    {
      "cell_type": "code",
      "source": [
        "org_dataset.sort_values(by=['conversation'], ascending=True)"
      ],
      "metadata": {
        "colab": {
          "base_uri": "https://localhost:8080/",
          "height": 424
        },
        "id": "S_LW-gSIcVwY",
        "outputId": "6eb0832c-30e6-41fa-dd73-103e43ad2fa2"
      },
      "execution_count": 54,
      "outputs": [
        {
          "output_type": "execute_result",
          "data": {
            "text/plain": [
              "       idx   label     class  \\\n",
              "3865  3865  악성민원상담    기타 괴롭힘   \n",
              "3299  3299  악성민원상담        협박   \n",
              "2661  2661  악성민원상담  직장 내 괴롭힘   \n",
              "2495  2495  악성민원상담  직장 내 괴롭힘   \n",
              "1769  1769  악성민원상담    기타 괴롭힘   \n",
              "...    ...     ...       ...   \n",
              "4475  4475    일반상담        일반   \n",
              "3949  3949  악성민원상담  직장 내 괴롭힘   \n",
              "2883  2883  악성민원상담  직장 내 괴롭힘   \n",
              "3381  3381  악성민원상담  직장 내 괴롭힘   \n",
              "6938  6938    일반상담        일반   \n",
              "\n",
              "                                           conversation  \n",
              "3865  . 저기 혹시 이 자리에 해도 될까요?\\n아 안되는데요. 저희 가게는 예약제로 운영...  \n",
              "3299  .내가 뭘 하면 되는데?\\n아무것도.\\n아무거나 상관없어 내가 다 할게. 제발 이러...  \n",
              "2661  00씨 요즘 얼굴 좋아보이네\\n아. 감사합니다\\n00씨는 성격이 참 좋은 것 같아 ...  \n",
              "2495  00씨 커피좀 사와\\n저 지금 거래처 전화 기다리고 있어요\\n중요한건가\\n네 \\n내...  \n",
              "1769  00아 ! 나 이것 좀 빌려줘\\n 어 ? 안돼 이거는 못 빌려줘\\n 뭐 ? 너 뭐라...  \n",
              "...                                                 ...  \n",
              "4475  휴스턴에 잘 도착했어?\\n응, 지금 공항에 내렸어.\\n호텔까지는 어떻게 갈 예정이야...  \n",
              "3949  희정씨\\n네?\\n주말에 시간이 넘쳐나나봐\\n갑자기 왜그러세요?\\n손이 빤짝빤짝 네일...  \n",
              "2883  희정씨\\n네??\\n치마가 왜 이렇게 짧아?\\n네??\\n여기가 일하러 오는데지 클럽아...  \n",
              "3381  희정씨는 참 성격이 꼼꼼한가봐?\\n네??\\n오전에 시킨거 아직도야?\\n아 마무리 단...  \n",
              "6938  흰색 티셔츠가 비침이 심해서 환불받고 싶어요.\\n죄송하지만 여기 립스틱이 묻어 있어...  \n",
              "\n",
              "[7899 rows x 4 columns]"
            ],
            "text/html": [
              "\n",
              "  <div id=\"df-1d0d1c99-c413-4907-8e1e-c6244a02094c\">\n",
              "    <div class=\"colab-df-container\">\n",
              "      <div>\n",
              "<style scoped>\n",
              "    .dataframe tbody tr th:only-of-type {\n",
              "        vertical-align: middle;\n",
              "    }\n",
              "\n",
              "    .dataframe tbody tr th {\n",
              "        vertical-align: top;\n",
              "    }\n",
              "\n",
              "    .dataframe thead th {\n",
              "        text-align: right;\n",
              "    }\n",
              "</style>\n",
              "<table border=\"1\" class=\"dataframe\">\n",
              "  <thead>\n",
              "    <tr style=\"text-align: right;\">\n",
              "      <th></th>\n",
              "      <th>idx</th>\n",
              "      <th>label</th>\n",
              "      <th>class</th>\n",
              "      <th>conversation</th>\n",
              "    </tr>\n",
              "  </thead>\n",
              "  <tbody>\n",
              "    <tr>\n",
              "      <th>3865</th>\n",
              "      <td>3865</td>\n",
              "      <td>악성민원상담</td>\n",
              "      <td>기타 괴롭힘</td>\n",
              "      <td>. 저기 혹시 이 자리에 해도 될까요?\\n아 안되는데요. 저희 가게는 예약제로 운영...</td>\n",
              "    </tr>\n",
              "    <tr>\n",
              "      <th>3299</th>\n",
              "      <td>3299</td>\n",
              "      <td>악성민원상담</td>\n",
              "      <td>협박</td>\n",
              "      <td>.내가 뭘 하면 되는데?\\n아무것도.\\n아무거나 상관없어 내가 다 할게. 제발 이러...</td>\n",
              "    </tr>\n",
              "    <tr>\n",
              "      <th>2661</th>\n",
              "      <td>2661</td>\n",
              "      <td>악성민원상담</td>\n",
              "      <td>직장 내 괴롭힘</td>\n",
              "      <td>00씨 요즘 얼굴 좋아보이네\\n아. 감사합니다\\n00씨는 성격이 참 좋은 것 같아 ...</td>\n",
              "    </tr>\n",
              "    <tr>\n",
              "      <th>2495</th>\n",
              "      <td>2495</td>\n",
              "      <td>악성민원상담</td>\n",
              "      <td>직장 내 괴롭힘</td>\n",
              "      <td>00씨 커피좀 사와\\n저 지금 거래처 전화 기다리고 있어요\\n중요한건가\\n네 \\n내...</td>\n",
              "    </tr>\n",
              "    <tr>\n",
              "      <th>1769</th>\n",
              "      <td>1769</td>\n",
              "      <td>악성민원상담</td>\n",
              "      <td>기타 괴롭힘</td>\n",
              "      <td>00아 ! 나 이것 좀 빌려줘\\n 어 ? 안돼 이거는 못 빌려줘\\n 뭐 ? 너 뭐라...</td>\n",
              "    </tr>\n",
              "    <tr>\n",
              "      <th>...</th>\n",
              "      <td>...</td>\n",
              "      <td>...</td>\n",
              "      <td>...</td>\n",
              "      <td>...</td>\n",
              "    </tr>\n",
              "    <tr>\n",
              "      <th>4475</th>\n",
              "      <td>4475</td>\n",
              "      <td>일반상담</td>\n",
              "      <td>일반</td>\n",
              "      <td>휴스턴에 잘 도착했어?\\n응, 지금 공항에 내렸어.\\n호텔까지는 어떻게 갈 예정이야...</td>\n",
              "    </tr>\n",
              "    <tr>\n",
              "      <th>3949</th>\n",
              "      <td>3949</td>\n",
              "      <td>악성민원상담</td>\n",
              "      <td>직장 내 괴롭힘</td>\n",
              "      <td>희정씨\\n네?\\n주말에 시간이 넘쳐나나봐\\n갑자기 왜그러세요?\\n손이 빤짝빤짝 네일...</td>\n",
              "    </tr>\n",
              "    <tr>\n",
              "      <th>2883</th>\n",
              "      <td>2883</td>\n",
              "      <td>악성민원상담</td>\n",
              "      <td>직장 내 괴롭힘</td>\n",
              "      <td>희정씨\\n네??\\n치마가 왜 이렇게 짧아?\\n네??\\n여기가 일하러 오는데지 클럽아...</td>\n",
              "    </tr>\n",
              "    <tr>\n",
              "      <th>3381</th>\n",
              "      <td>3381</td>\n",
              "      <td>악성민원상담</td>\n",
              "      <td>직장 내 괴롭힘</td>\n",
              "      <td>희정씨는 참 성격이 꼼꼼한가봐?\\n네??\\n오전에 시킨거 아직도야?\\n아 마무리 단...</td>\n",
              "    </tr>\n",
              "    <tr>\n",
              "      <th>6938</th>\n",
              "      <td>6938</td>\n",
              "      <td>일반상담</td>\n",
              "      <td>일반</td>\n",
              "      <td>흰색 티셔츠가 비침이 심해서 환불받고 싶어요.\\n죄송하지만 여기 립스틱이 묻어 있어...</td>\n",
              "    </tr>\n",
              "  </tbody>\n",
              "</table>\n",
              "<p>7899 rows × 4 columns</p>\n",
              "</div>\n",
              "      <button class=\"colab-df-convert\" onclick=\"convertToInteractive('df-1d0d1c99-c413-4907-8e1e-c6244a02094c')\"\n",
              "              title=\"Convert this dataframe to an interactive table.\"\n",
              "              style=\"display:none;\">\n",
              "        \n",
              "  <svg xmlns=\"http://www.w3.org/2000/svg\" height=\"24px\"viewBox=\"0 0 24 24\"\n",
              "       width=\"24px\">\n",
              "    <path d=\"M0 0h24v24H0V0z\" fill=\"none\"/>\n",
              "    <path d=\"M18.56 5.44l.94 2.06.94-2.06 2.06-.94-2.06-.94-.94-2.06-.94 2.06-2.06.94zm-11 1L8.5 8.5l.94-2.06 2.06-.94-2.06-.94L8.5 2.5l-.94 2.06-2.06.94zm10 10l.94 2.06.94-2.06 2.06-.94-2.06-.94-.94-2.06-.94 2.06-2.06.94z\"/><path d=\"M17.41 7.96l-1.37-1.37c-.4-.4-.92-.59-1.43-.59-.52 0-1.04.2-1.43.59L10.3 9.45l-7.72 7.72c-.78.78-.78 2.05 0 2.83L4 21.41c.39.39.9.59 1.41.59.51 0 1.02-.2 1.41-.59l7.78-7.78 2.81-2.81c.8-.78.8-2.07 0-2.86zM5.41 20L4 18.59l7.72-7.72 1.47 1.35L5.41 20z\"/>\n",
              "  </svg>\n",
              "      </button>\n",
              "      \n",
              "  <style>\n",
              "    .colab-df-container {\n",
              "      display:flex;\n",
              "      flex-wrap:wrap;\n",
              "      gap: 12px;\n",
              "    }\n",
              "\n",
              "    .colab-df-convert {\n",
              "      background-color: #E8F0FE;\n",
              "      border: none;\n",
              "      border-radius: 50%;\n",
              "      cursor: pointer;\n",
              "      display: none;\n",
              "      fill: #1967D2;\n",
              "      height: 32px;\n",
              "      padding: 0 0 0 0;\n",
              "      width: 32px;\n",
              "    }\n",
              "\n",
              "    .colab-df-convert:hover {\n",
              "      background-color: #E2EBFA;\n",
              "      box-shadow: 0px 1px 2px rgba(60, 64, 67, 0.3), 0px 1px 3px 1px rgba(60, 64, 67, 0.15);\n",
              "      fill: #174EA6;\n",
              "    }\n",
              "\n",
              "    [theme=dark] .colab-df-convert {\n",
              "      background-color: #3B4455;\n",
              "      fill: #D2E3FC;\n",
              "    }\n",
              "\n",
              "    [theme=dark] .colab-df-convert:hover {\n",
              "      background-color: #434B5C;\n",
              "      box-shadow: 0px 1px 3px 1px rgba(0, 0, 0, 0.15);\n",
              "      filter: drop-shadow(0px 1px 2px rgba(0, 0, 0, 0.3));\n",
              "      fill: #FFFFFF;\n",
              "    }\n",
              "  </style>\n",
              "\n",
              "      <script>\n",
              "        const buttonEl =\n",
              "          document.querySelector('#df-1d0d1c99-c413-4907-8e1e-c6244a02094c button.colab-df-convert');\n",
              "        buttonEl.style.display =\n",
              "          google.colab.kernel.accessAllowed ? 'block' : 'none';\n",
              "\n",
              "        async function convertToInteractive(key) {\n",
              "          const element = document.querySelector('#df-1d0d1c99-c413-4907-8e1e-c6244a02094c');\n",
              "          const dataTable =\n",
              "            await google.colab.kernel.invokeFunction('convertToInteractive',\n",
              "                                                     [key], {});\n",
              "          if (!dataTable) return;\n",
              "\n",
              "          const docLinkHtml = 'Like what you see? Visit the ' +\n",
              "            '<a target=\"_blank\" href=https://colab.research.google.com/notebooks/data_table.ipynb>data table notebook</a>'\n",
              "            + ' to learn more about interactive tables.';\n",
              "          element.innerHTML = '';\n",
              "          dataTable['output_type'] = 'display_data';\n",
              "          await google.colab.output.renderOutput(dataTable, element);\n",
              "          const docLink = document.createElement('div');\n",
              "          docLink.innerHTML = docLinkHtml;\n",
              "          element.appendChild(docLink);\n",
              "        }\n",
              "      </script>\n",
              "    </div>\n",
              "  </div>\n",
              "  "
            ]
          },
          "metadata": {},
          "execution_count": 54
        }
      ]
    },
    {
      "cell_type": "code",
      "source": [
        "org_dataset['conversation']"
      ],
      "metadata": {
        "colab": {
          "base_uri": "https://localhost:8080/"
        },
        "id": "2OTEAWH9Jc1X",
        "outputId": "2eb46db9-9b2d-4a68-9a9c-48d0c54d4c75"
      },
      "execution_count": 96,
      "outputs": [
        {
          "output_type": "execute_result",
          "data": {
            "text/plain": [
              "0       지금 너 스스로를 죽여달라고 애원하는 것인가?\\n 아닙니다. 죄송합니다.\\n 죽을 ...\n",
              "1       길동경찰서입니다.\\n9시 40분 마트에 폭발물을 설치할거다.\\n네?\\n똑바로 들어 ...\n",
              "2       너 되게 귀여운거 알지? 나보다 작은 남자는 첨봤어.\\n그만해. 니들 놀리는거 재미...\n",
              "3       어이 거기\\n예??\\n너 말이야 너. 이리 오라고\\n무슨 일.\\n너 옷 좋아보인다?...\n",
              "4       저기요 혹시 날이 너무 뜨겁잖아요? 저희 회사에서 이 선크림 파는데 한 번 손등에 ...\n",
              "                              ...                        \n",
              "7894    필라테스 호흡에서는 조금 더 코어 근육에 집중합니다.\\n말로 하는 설명만 들어서는 ...\n",
              "7895    아주 어린 아이들도 짐볼로 운동을 하기 때문에 괜찮습니다.\\n발목을 접질릴까봐 무서...\n",
              "7896    의사가 가벼운 운동은 괜찮다고 해서 요가를 했어요.\\n기본적인 근력 운동을 계속하셨...\n",
              "7897    집안에 일이 생겨서 거기에 집중해야 할 것 같아요.\\n그럼 회원권은 잠시 정지 시켜...\n",
              "7898    러닝머신이나 자전거 같은 운동을 할 때 소리가 나요.\\n유산소 운동을 할 때 장의 ...\n",
              "Name: conversation, Length: 7899, dtype: object"
            ]
          },
          "metadata": {},
          "execution_count": 96
        }
      ]
    },
    {
      "cell_type": "code",
      "source": [
        "org_dataset.iloc[3865, 3]"
      ],
      "metadata": {
        "colab": {
          "base_uri": "https://localhost:8080/",
          "height": 144
        },
        "id": "_8G11Hso65zh",
        "outputId": "89b61eea-0740-48da-d26f-5340a84d1728"
      },
      "execution_count": 55,
      "outputs": [
        {
          "output_type": "execute_result",
          "data": {
            "text/plain": [
              "'. 저기 혹시 이 자리에 해도 될까요?\\n아 안되는데요. 저희 가게는 예약제로 운영하고 있어서 다른 손님 오실겁니다.\\n아 네 알겠습니다. 안녕히 계세요.\\n저기. 혹시 이 자리에 앉을 수 있을까요?\\n아 네! 그럼요 당연하죠 앉으세요. 무슨 메뉴 주문하시겠어요?\\n아니 저기요! 저한테는 예약제라고 하셨잖아요. 근데 저 손님 예약도 안 하셨는데 왜 제가 말한 똑같은 자리에 앉게 해주시는 거죠? 저는 안된다면서요.\\n아니 저기요 그냥 안된다했으면 가지 왜 아직도 안 가셨어요?\\n지금 가려고 나가다가 딱 앉아도 된다는 얘기를 들어서 궁금해서 물어보는겁니다. 왜 저는 안되죠?\\n아니 보면 몰라요? 피부도 까매서 더러워. 지금 냄새도 되게 심하게 나요. 그리고 당신네들 종족은 화장실 다녀오면 손도 안 씻고 밥 먹잖아. 더럽게 비위생적이고 냄새나고 불결해요.\\n단편적인 모습만 보고 판단하시면 안되죠. 저 한국에 오래 살았어요\\n그래서 뭐 어쩌라고요. 이 식당 사람들도 당신이랑 한 공간에서 밥 먹기 싫을거야. 그리고 너네 나라 전염병도 많잖아. 병 옮기면 어쩌려고 그리 당당해. 배고프면 집에서 요리를 해 먹어.\\n진짜 너무하시네요. 제가 뭘 어쨌다고\\n네 뭐 어쩌신거 없으니까 빨리 식당에서 나가요. 영업방해로 신고해요? 가게 더러워지기 전에 나가요. 하 진짜 가게에 냄새 다 퍼지는거 같네.'"
            ],
            "application/vnd.google.colaboratory.intrinsic+json": {
              "type": "string"
            }
          },
          "metadata": {},
          "execution_count": 55
        }
      ]
    },
    {
      "cell_type": "code",
      "source": [
        "len(org_dataset.loc[3865]['conversation'])"
      ],
      "metadata": {
        "colab": {
          "base_uri": "https://localhost:8080/"
        },
        "id": "qWOkg9VHd13_",
        "outputId": "920d144a-62a4-4cba-a46e-7543f9406374"
      },
      "execution_count": 56,
      "outputs": [
        {
          "output_type": "execute_result",
          "data": {
            "text/plain": [
              "657"
            ]
          },
          "metadata": {},
          "execution_count": 56
        }
      ]
    },
    {
      "cell_type": "code",
      "source": [
        "sent = org_dataset.iloc[3865, 3]\n",
        "\n",
        "\n",
        "temp_label = []\n",
        "temp_label.append(4)\n",
        "\n",
        "concat_entity = []\n",
        "concat_entity.append(sent)\n",
        "\n",
        "max_length = 300"
      ],
      "metadata": {
        "id": "ho2kYCECHlR6"
      },
      "execution_count": 99,
      "outputs": []
    },
    {
      "cell_type": "code",
      "source": [
        "temp = tokenizer(\n",
        "        concat_entity,\n",
        "        return_tensors=\"pt\",\n",
        "        padding=True,\n",
        "        truncation=True,\n",
        "        max_length=max_length,\n",
        "        add_special_tokens=True,\n",
        "        return_token_type_ids=False, #BERT ->  RoBERTa 120, 20 100 밥을 먹었다 [PAD] [PAD][PAD][PAD][PAD][PAD][PAD][PAD][PAD][PAD][PAD][PAD] [1 1 1 00000000]\n",
        ")\n"
      ],
      "metadata": {
        "id": "MQicxRRnKB_4"
      },
      "execution_count": 102,
      "outputs": []
    },
    {
      "cell_type": "code",
      "source": [
        "org_dataset.iloc[3865]['class']"
      ],
      "metadata": {
        "colab": {
          "base_uri": "https://localhost:8080/",
          "height": 35
        },
        "id": "J-O9mpxYBqXF",
        "outputId": "0f6f5869-f7bd-4165-a3f8-ecbfaf705257"
      },
      "execution_count": 77,
      "outputs": [
        {
          "output_type": "execute_result",
          "data": {
            "text/plain": [
              "'기타 괴롭힘'"
            ],
            "application/vnd.google.colaboratory.intrinsic+json": {
              "type": "string"
            }
          },
          "metadata": {},
          "execution_count": 77
        }
      ]
    },
    {
      "cell_type": "code",
      "source": [
        "test_data = news_dataset(temp, temp_label)\n",
        "test_data.__getitem__(0)"
      ],
      "metadata": {
        "colab": {
          "base_uri": "https://localhost:8080/"
        },
        "id": "gL3JJWYTHBTG",
        "outputId": "d4e23e38-778e-4715-f4c9-e6c4ac9d154e"
      },
      "execution_count": 103,
      "outputs": [
        {
          "output_type": "execute_result",
          "data": {
            "text/plain": [
              "{'attention_mask': tensor([1, 1, 1, 1, 1, 1, 1, 1, 1, 1, 1, 1, 1, 1, 1, 1, 1, 1, 1, 1, 1, 1, 1, 1,\n",
              "         1, 1, 1, 1, 1, 1, 1, 1, 1, 1, 1, 1, 1, 1, 1, 1, 1, 1, 1, 1, 1, 1, 1, 1,\n",
              "         1, 1, 1, 1, 1, 1, 1, 1, 1, 1, 1, 1, 1, 1, 1, 1, 1, 1, 1, 1, 1, 1, 1, 1,\n",
              "         1, 1, 1, 1, 1, 1, 1, 1, 1, 1, 1, 1, 1, 1, 1, 1, 1, 1, 1, 1, 1, 1, 1, 1,\n",
              "         1, 1, 1, 1, 1, 1, 1, 1, 1, 1, 1, 1, 1, 1, 1, 1, 1, 1, 1, 1, 1, 1, 1, 1,\n",
              "         1, 1, 1, 1, 1, 1, 1, 1, 1, 1, 1, 1, 1, 1, 1, 1, 1, 1, 1, 1, 1, 1, 1, 1,\n",
              "         1, 1, 1, 1, 1, 1, 1, 1, 1, 1, 1, 1, 1, 1, 1, 1, 1, 1, 1, 1, 1, 1, 1, 1,\n",
              "         1, 1, 1, 1, 1, 1, 1, 1, 1, 1, 1, 1, 1, 1, 1, 1, 1, 1, 1, 1, 1, 1, 1, 1,\n",
              "         1, 1, 1, 1, 1, 1, 1, 1, 1, 1, 1, 1, 1, 1, 1, 1, 1, 1, 1, 1, 1, 1, 1, 1,\n",
              "         1, 1, 1, 1, 1, 1, 1, 1, 1, 1, 1, 1, 1, 1, 1, 1, 1, 1, 1, 1, 1, 1, 1, 1,\n",
              "         1, 1, 1, 1, 1, 1, 1, 1, 1, 1, 1, 1, 1, 1, 1, 1, 1, 1, 1, 1, 1, 1, 1, 1,\n",
              "         1, 1, 1, 1, 1, 1, 1, 1, 1, 1, 1, 1, 1, 1, 1, 1, 1, 1, 1, 1, 1, 1, 1, 1,\n",
              "         1, 1, 1, 1, 1, 1, 1, 1, 1, 1, 1, 1]),\n",
              " 'input_ids': tensor([    0,    18,  7069,  5697,  1504,  3798,  2170,  3978, 14765,    35,\n",
              "          1376,  1378,  2496, 13964,  2182,    18,  4940,  6042,  2259,  6297,\n",
              "          2021,  2200,  3792, 19521,  1513,  2051,  2112,  3656,  6654,  1443,\n",
              "          2477,  2824,  3606,    18,  1376,   752,  1381,  2918,  2219,  3606,\n",
              "            18, 26382, 20260,    18,  7069,    18,  5697,  1504,  3798,  2170,\n",
              "          1379,  2069,  1295,  1513, 16809,  2182,    35,  1376,   752,     5,\n",
              "          4292,  2182,  4685,  2205,  2321,  1379,  2279,  5971,    18,  4177,\n",
              "          5396,  4867,  2205,  2067,  2918, 10283,    35,  3614,  7069,  2182,\n",
              "             5,  1535,  2470,  2201,  2259,  6297,  2021,  7245,  1889,  3011,\n",
              "         20754,    18,  4224,  1535,  6654,  6297,  2119,  1378,  1889,  3011,\n",
              "         13964,  1460,  1545,  2116,  1041,  2470,  5218,  2073,  3798,  2170,\n",
              "          1379,  2318,  1897,  2223,  2067,  2259,   568,  2321,    35,  1535,\n",
              "          2259,  1378,  2897,  5209,  2112,  2182,    18,  3614,  7069,  2182,\n",
              "          4181,  1378,  2897,  2062,  2371,  6076,  3663,  1460,  3919,  2119,\n",
              "          1378,   543,  3011, 10283,    35,  3660,  7937,  2088,  4005,  4795,\n",
              "           898,  1379,  2227,  2119,  4894,  3880,  2138,  6333,  5333,  6396,\n",
              "          9288,  2178,  2259,  2824,  3606,    18,  1460,  1535,  2259,  1378,\n",
              "          2496,  2321,    35,  3614,  1160,  2460, 14412,    35,  4335,  2119,\n",
              "           653,  2077,  2112, 30461,    18,  3660,  5695,  2119,  6109,  7090,\n",
              "          2318,  5444,    18,  3673,  3994,  2203,  2031, 13014,  2073,  7047,\n",
              "         12743,  2460,  1284,  2119,  1378,  1374,  2088,  1127,  1059,  9958,\n",
              "            18, 15547,  2318, 15510,  2065,  2125,  2052,  2088,  5695,  2075,\n",
              "          2088,  1176,  2489,  2097,  2182,    18,  9558, 31221,  3781,  2154,\n",
              "          4530,  4150,  2205,  2067,  2460,  1378,  2496,  2321,    18,  1535,\n",
              "          3629,  2170,  4517,  1236,  2886, 10283,  3775,  1097,  5397,  7245,\n",
              "          2182,    18,  1504,  5499,  3611,  2031,  2119,  3994,  2052,  2379,\n",
              "          1891,  4101, 27135,  1127,  1059,  2015,  1330,  2069,  2180,  2275,\n",
              "            18,  3673,   743,  2203,  3779, 15327,  2119,  1039,  9958,    18,\n",
              "          1158,  7590,  2460,  5397, 10554,  3636,  7412,  2097,    18, 23044,\n",
              "          2460,  1589, 27135,  5084,  2138,  1897,  1059,  2051,    18,     2]),\n",
              " 'labels': tensor(4)}"
            ]
          },
          "metadata": {},
          "execution_count": 103
        }
      ]
    },
    {
      "cell_type": "code",
      "source": [
        "! python --version"
      ],
      "metadata": {
        "colab": {
          "base_uri": "https://localhost:8080/"
        },
        "id": "o8tGfBtcAFZ1",
        "outputId": "aeded4d9-ff68-4d92-96ef-b2d84291c917"
      },
      "execution_count": 76,
      "outputs": [
        {
          "output_type": "stream",
          "name": "stdout",
          "text": [
            "Python 3.7.13\n"
          ]
        }
      ]
    },
    {
      "cell_type": "code",
      "source": [
        "test_data.__getitem__(0)"
      ],
      "metadata": {
        "colab": {
          "base_uri": "https://localhost:8080/"
        },
        "id": "PhMxOnxo8277",
        "outputId": "d0ad7aa5-c5ee-4de2-ba47-ac058dd1c5a4"
      },
      "execution_count": 69,
      "outputs": [
        {
          "output_type": "execute_result",
          "data": {
            "text/plain": [
              "{'attention_mask': tensor([1, 1, 1]),\n",
              " 'input_ids': tensor([ 0, 18,  2]),\n",
              " 'labels': tensor(2)}"
            ]
          },
          "metadata": {},
          "execution_count": 69
        }
      ]
    },
    {
      "cell_type": "code",
      "source": [
        "train_dataset.__getitem__(3865)['input_ids']"
      ],
      "metadata": {
        "colab": {
          "base_uri": "https://localhost:8080/"
        },
        "id": "MCfsxuMza8As",
        "outputId": "7d87883e-5b9c-49dd-cc03-0b9adf62f379"
      },
      "execution_count": 59,
      "outputs": [
        {
          "output_type": "execute_result",
          "data": {
            "text/plain": [
              "tensor([    0,  1545,  2116,  3971,  3708,  4062,  2069,  6297,  2371,  2359,\n",
              "        13964,  2182,    18,  3907, 31221,  5183,  2052, 18107,  9384,  2138,\n",
              "        13845,  1892,   575,   555,  2227,  2182,    18,     3,    81,  2194,\n",
              "         2589,  5733,  2522,  1268,  2530,  2069,  4241,  2097, 12000,  2918,\n",
              "        10283,    35,     3,    81,  2314,  2111, 24316,  2213,  2111,  2185,\n",
              "        23525, 12190,    18,  6297,  2155,  3934,  2073, 13833,  2170,  2182,\n",
              "           18,     3,    81,  2049,  2429,  3633,  2210,  3797,    25,  2429,\n",
              "         3876,  2210,  2299,  2118,    23,  2042,    24,  2210,  4062,  8216,\n",
              "         2138,  4625,  2205,  3011,  2203,  2182,    18,  4943,  2079,  6389,\n",
              "         2138, 14347,  2460,  9384,  5131,  2052,  3662, 11800,    18,     2,\n",
              "            1,     1,     1,     1,     1,     1,     1,     1,     1,     1,\n",
              "            1,     1,     1,     1,     1,     1,     1,     1,     1,     1,\n",
              "            1,     1,     1,     1,     1,     1,     1,     1,     1,     1,\n",
              "            1,     1,     1,     1,     1,     1,     1,     1,     1,     1,\n",
              "            1,     1,     1,     1,     1,     1,     1,     1,     1,     1,\n",
              "            1,     1,     1,     1,     1,     1,     1,     1,     1,     1,\n",
              "            1,     1,     1,     1,     1,     1,     1,     1,     1,     1,\n",
              "            1,     1,     1,     1,     1,     1,     1,     1,     1,     1,\n",
              "            1,     1,     1,     1,     1,     1,     1,     1,     1,     1,\n",
              "            1,     1,     1,     1,     1,     1,     1,     1,     1,     1,\n",
              "            1,     1,     1,     1,     1,     1,     1,     1,     1,     1,\n",
              "            1,     1,     1,     1,     1,     1,     1,     1,     1,     1,\n",
              "            1,     1,     1,     1,     1,     1,     1,     1,     1,     1,\n",
              "            1,     1,     1,     1,     1,     1,     1,     1,     1,     1,\n",
              "            1,     1,     1,     1,     1,     1,     1,     1,     1,     1,\n",
              "            1,     1,     1,     1,     1,     1,     1,     1,     1,     1,\n",
              "            1,     1,     1,     1,     1,     1,     1,     1,     1,     1,\n",
              "            1,     1,     1,     1,     1,     1,     1,     1,     1,     1,\n",
              "            1,     1,     1,     1,     1,     1,     1,     1,     1,     1,\n",
              "            1,     1,     1,     1,     1,     1,     1,     1,     1,     1,\n",
              "            1,     1,     1,     1,     1,     1,     1,     1,     1,     1,\n",
              "            1,     1,     1,     1,     1,     1,     1,     1,     1,     1,\n",
              "            1,     1,     1,     1,     1,     1,     1,     1,     1,     1,\n",
              "            1,     1,     1,     1,     1,     1,     1,     1,     1,     1,\n",
              "            1,     1,     1,     1,     1,     1,     1,     1,     1,     1,\n",
              "            1,     1,     1,     1,     1,     1,     1,     1,     1,     1,\n",
              "            1,     1,     1,     1,     1,     1,     1,     1,     1,     1,\n",
              "            1,     1,     1,     1,     1,     1,     1,     1,     1,     1,\n",
              "            1,     1,     1,     1,     1,     1,     1,     1,     1,     1,\n",
              "            1,     1,     1,     1,     1,     1,     1,     1,     1,     1])"
            ]
          },
          "metadata": {},
          "execution_count": 59
        }
      ]
    },
    {
      "cell_type": "code",
      "source": [
        ""
      ],
      "metadata": {
        "id": "KMbdPGbya8Ck"
      },
      "execution_count": null,
      "outputs": []
    }
  ]
}