{
 "cells": [
  {
   "cell_type": "markdown",
   "id": "1a20019d",
   "metadata": {},
   "source": [
    "# 가위바위보분류기 제작\n",
    "***\n",
    "## 모듈임포팅\n",
    "***"
   ]
  },
  {
   "cell_type": "code",
   "execution_count": 2,
   "id": "9fc8b5d7",
   "metadata": {},
   "outputs": [
    {
     "name": "stdout",
     "output_type": "stream",
     "text": [
      "PIL 라이브러리 import 완료!\n"
     ]
    }
   ],
   "source": [
    "from PIL import Image\n",
    "import glob\n",
    "import os\n",
    "import matplotlib.pyplot as plt\n",
    "\n",
    "print(\"PIL 라이브러리 import 완료!\")"
   ]
  },
  {
   "cell_type": "markdown",
   "id": "d904221c",
   "metadata": {},
   "source": [
    "## 데이터 전처리\n",
    "***\n",
    "### 리사이징 및 라벨링\n",
    "* 사이즈 28 , 가위 [0], 바위 [1], 보[2]"
   ]
  },
  {
   "cell_type": "code",
   "execution_count": 54,
   "id": "b8b9863f",
   "metadata": {
    "scrolled": false
   },
   "outputs": [
    {
     "name": "stdout",
     "output_type": "stream",
     "text": [
      "110  images to be resized.\n",
      "110  images resized.\n",
      "가위 이미지 resize 완료!\n"
     ]
    }
   ],
   "source": [
    "def resize_images(img_path):\n",
    "\timages=glob.glob(img_path + \"/*.jpg\")  \n",
    "    \n",
    "\tprint(len(images), \" images to be resized.\")\n",
    "\n",
    "    # 파일마다 모두 28x28 사이즈로 바꾸어 저장합니다.\n",
    "\ttarget_size=(28,28)\n",
    "\tfor img in images:\n",
    "\t\told_img=Image.open(img)\n",
    "\t\tnew_img=old_img.resize(target_size,Image.ANTIALIAS)\n",
    "\t\tnew_img.save(img, \"JPEG\")\n",
    "    \n",
    "\tprint(len(images), \" images resized.\")\n",
    "\t\n",
    "# 가위 이미지가 저장된 디렉토리 아래의 모든 jpg 파일을 읽어들여서\n",
    "image_dir_path = os.getenv(\"HOME\") + \"/aiffel/aiffel_git/rock_scissor_paper/train28/scissor\"\n",
    "resize_images(image_dir_path)\n",
    "\n",
    "print(\"가위 이미지 resize 완료!\")"
   ]
  },
  {
   "cell_type": "code",
   "execution_count": 55,
   "id": "2a944053",
   "metadata": {},
   "outputs": [
    {
     "name": "stdout",
     "output_type": "stream",
     "text": [
      "156  images to be resized.\n",
      "156  images resized.\n",
      "보 resize done\n"
     ]
    }
   ],
   "source": [
    "# 바위 이미지가 저장된 디렉토리 아래의 모든 jpg 파일을 읽어들여서\n",
    "image_dir_path = os.getenv(\"HOME\") + \"/aiffel/aiffel_git/rock_scissor_paper/train28/paper\"\n",
    "\n",
    "# 파일마다 모두 28x28 사이즈로 바꾸어 저장합니다.\n",
    "# [[YOUR CODE]]\n",
    "resize_images(image_dir_path)\n",
    "\n",
    "print(\"보 resize done\")"
   ]
  },
  {
   "cell_type": "code",
   "execution_count": 56,
   "id": "e696a3ce",
   "metadata": {},
   "outputs": [
    {
     "name": "stdout",
     "output_type": "stream",
     "text": [
      "145  images to be resized.\n",
      "145  images resized.\n",
      "바위 resize done\n"
     ]
    }
   ],
   "source": [
    "# 보 이미지가 저장된 디렉토리 아래의 모든 jpg 파일을 읽어들여서\n",
    "# [[YOUR CODE]]\n",
    "image_dir_path = os.getenv(\"HOME\") + \"/aiffel/aiffel_git/rock_scissor_paper/train28/rock\"\n",
    "\n",
    "# 파일마다 모두 28x28 사이즈로 바꾸어 저장합니다.\n",
    "# [[YOUR CODE]]\n",
    "resize_images(image_dir_path)\n",
    "\n",
    "print(\"바위 resize done\")"
   ]
  },
  {
   "cell_type": "markdown",
   "id": "1ff27c27",
   "metadata": {},
   "source": [
    "## 데이터 로드\n",
    "***\n",
    "### x_train, y_train 데이터셋 저장"
   ]
  },
  {
   "cell_type": "code",
   "execution_count": 59,
   "id": "f2f479a0",
   "metadata": {},
   "outputs": [
    {
     "name": "stdout",
     "output_type": "stream",
     "text": [
      "학습데이터(x_train)의 이미지 개수는 411 입니다.\n",
      "x_train shape: (411, 28, 28, 3)\n",
      "y_train shape: (411,)\n"
     ]
    }
   ],
   "source": [
    "import numpy as np\n",
    "\n",
    "def load_data(img_path, number_of_data=411):  # 가위바위보 이미지 개수 총합에 주의하세요.\n",
    "    # 가위 : 0, 바위 : 1, 보 : 2\n",
    "    img_size=28\n",
    "    color=3\n",
    "    #이미지 데이터와 라벨(가위 : 0, 바위 : 1, 보 : 2) 데이터를 담을 행렬(matrix) 영역을 생성합니다.\n",
    "    imgs=np.zeros(number_of_data*img_size*img_size*color,dtype=np.int32).reshape(number_of_data,img_size,img_size,color)\n",
    "    labels=np.zeros(number_of_data,dtype=np.int32)\n",
    "\n",
    "    idx=0\n",
    "    for file in glob.iglob(img_path+'/scissor/*.jpg'):\n",
    "        img = np.array(Image.open(file),dtype=np.int32)\n",
    "        imgs[idx,:,:,:]=img    # 데이터 영역에 이미지 행렬을 복사\n",
    "        labels[idx]=0   # 가위 : 0\n",
    "        idx=idx+1\n",
    "\n",
    "    for file in glob.iglob(img_path+'/rock/*.jpg'):\n",
    "        img = np.array(Image.open(file),dtype=np.int32)\n",
    "        imgs[idx,:,:,:]=img    # 데이터 영역에 이미지 행렬을 복사\n",
    "        labels[idx]=1   # 바위 : 1\n",
    "        idx=idx+1  \n",
    "    \n",
    "    for file in glob.iglob(img_path+'/paper/*.jpg'):\n",
    "        img = np.array(Image.open(file),dtype=np.int32)\n",
    "        imgs[idx,:,:,:]=img    # 데이터 영역에 이미지 행렬을 복사\n",
    "        labels[idx]=2   # 보 : 2\n",
    "        idx=idx+1\n",
    "        \n",
    "    print(\"학습데이터(x_train)의 이미지 개수는\", idx,\"입니다.\")\n",
    "    return imgs, labels\n",
    "\n",
    "image_dir_path = os.getenv(\"HOME\") + \"/aiffel/aiffel_git/rock_scissor_paper/train28\"\n",
    "(x_train, y_train)=load_data(image_dir_path)\n",
    "x_train_norm = x_train/255.0   # 입력은 0~1 사이의 값으로 정규화\n",
    "\n",
    "print(\"x_train shape: {}\".format(x_train.shape))\n",
    "print(\"y_train shape: {}\".format(y_train.shape))"
   ]
  },
  {
   "cell_type": "markdown",
   "id": "9fae5df7",
   "metadata": {},
   "source": [
    "### 데이터가 정상적으로 로드되었는지 검증\n",
    "* 데이터 불러오기"
   ]
  },
  {
   "cell_type": "code",
   "execution_count": 60,
   "id": "3a5a8f94",
   "metadata": {
    "scrolled": true
   },
   "outputs": [
    {
     "name": "stdout",
     "output_type": "stream",
     "text": [
      "라벨:  0\n"
     ]
    },
    {
     "data": {
      "image/png": "[encoded data removed]",
      "text/plain": [
       "<Figure size 432x288 with 1 Axes>"
      ]
     },
     "metadata": {
      "needs_background": "light"
     },
     "output_type": "display_data"
    }
   ],
   "source": [
    "plt.imshow(x_train[0])\n",
    "print('라벨: ', y_train[0])"
   ]
  },
  {
   "cell_type": "markdown",
   "id": "c929fc55",
   "metadata": {},
   "source": [
    "## 모델 정의\n",
    "***\n",
    "### keras.sequential 모델 사용"
   ]
  },
  {
   "cell_type": "code",
   "execution_count": 4,
   "id": "d3dac725",
   "metadata": {},
   "outputs": [
    {
     "name": "stdout",
     "output_type": "stream",
     "text": [
      "Model에 추가된 Layer 개수:  7\n",
      "Model: \"sequential\"\n",
      "_________________________________________________________________\n",
      "Layer (type)                 Output Shape              Param #   \n",
      "=================================================================\n",
      "conv2d (Conv2D)              (None, 26, 26, 16)        448       \n",
      "_________________________________________________________________\n",
      "max_pooling2d (MaxPooling2D) (None, 13, 13, 16)        0         \n",
      "_________________________________________________________________\n",
      "conv2d_1 (Conv2D)            (None, 11, 11, 32)        4640      \n",
      "_________________________________________________________________\n",
      "max_pooling2d_1 (MaxPooling2 (None, 5, 5, 32)          0         \n",
      "_________________________________________________________________\n",
      "flatten (Flatten)            (None, 800)               0         \n",
      "_________________________________________________________________\n",
      "dense (Dense)                (None, 32)                25632     \n",
      "_________________________________________________________________\n",
      "dense_1 (Dense)              (None, 3)                 99        \n",
      "=================================================================\n",
      "Total params: 30,819\n",
      "Trainable params: 30,819\n",
      "Non-trainable params: 0\n",
      "_________________________________________________________________\n"
     ]
    }
   ],
   "source": [
    "import tensorflow as tf\n",
    "from tensorflow import keras\n",
    "import numpy as np\n",
    "\n",
    "# model을 직접 만들어 보세요.\n",
    "# Hint! model의 입력/출력부에 특히 유의해 주세요. 가위바위보 데이터셋은 MNIST 데이터셋과 어떤 점이 달라졌나요?\n",
    "# [[YOUR CODE]]\n",
    "model=keras.models.Sequential()\n",
    "model.add(keras.layers.Conv2D(16, (3,3), activation='relu', input_shape=(28,28,3)))\n",
    "model.add(keras.layers.MaxPool2D(2,2))\n",
    "model.add(keras.layers.Conv2D(32, (3,3), activation='relu'))\n",
    "model.add(keras.layers.MaxPooling2D((2,2)))\n",
    "model.add(keras.layers.Flatten())\n",
    "model.add(keras.layers.Dense(32, activation='relu'))\n",
    "model.add(keras.layers.Dense(3, activation='softmax'))\n",
    "\n",
    "print('Model에 추가된 Layer 개수: ', len(model.layers))\n",
    "model.summary()"
   ]
  },
  {
   "cell_type": "markdown",
   "id": "94e7d786",
   "metadata": {},
   "source": [
    "## 학습 수행 및 테스트\n",
    "***"
   ]
  },
  {
   "cell_type": "code",
   "execution_count": 62,
   "id": "b473f43f",
   "metadata": {},
   "outputs": [
    {
     "name": "stdout",
     "output_type": "stream",
     "text": [
      "Epoch 1/10\n",
      "13/13 [==============================] - 0s 9ms/step - loss: 14.3073 - accuracy: 0.4331\n",
      "Epoch 2/10\n",
      "13/13 [==============================] - 0s 3ms/step - loss: 2.5261 - accuracy: 0.6618\n",
      "Epoch 3/10\n",
      "13/13 [==============================] - 0s 3ms/step - loss: 0.6137 - accuracy: 0.8394\n",
      "Epoch 4/10\n",
      "13/13 [==============================] - 0s 3ms/step - loss: 0.2788 - accuracy: 0.8978\n",
      "Epoch 5/10\n",
      "13/13 [==============================] - 0s 3ms/step - loss: 0.1389 - accuracy: 0.9440\n",
      "Epoch 6/10\n",
      "13/13 [==============================] - 0s 3ms/step - loss: 0.0926 - accuracy: 0.9684\n",
      "Epoch 7/10\n",
      "13/13 [==============================] - 0s 4ms/step - loss: 0.0704 - accuracy: 0.9757\n",
      "Epoch 8/10\n",
      "13/13 [==============================] - 0s 4ms/step - loss: 0.0397 - accuracy: 0.9903\n",
      "Epoch 9/10\n",
      "13/13 [==============================] - 0s 3ms/step - loss: 0.0243 - accuracy: 0.9951\n",
      "Epoch 10/10\n",
      "13/13 [==============================] - 0s 3ms/step - loss: 0.0206 - accuracy: 0.9976\n"
     ]
    },
    {
     "data": {
      "text/plain": [
       "<keras.callbacks.History at 0x7f04d11b8640>"
      ]
     },
     "execution_count": 62,
     "metadata": {},
     "output_type": "execute_result"
    }
   ],
   "source": [
    "# model을 학습시키는 코드를 직접 작성해 보세요.\n",
    "# Hint! model.compile()과 model.fit()을 사용해 봅시다.\n",
    "# [[YOUR CODE]]\n",
    "model.compile(optimizer='adam',\n",
    "             loss='sparse_categorical_crossentropy',\n",
    "             metrics=['accuracy'])\n",
    "\n",
    "model.fit(x_train, y_train, epochs=10)"
   ]
  },
  {
   "cell_type": "code",
   "execution_count": 65,
   "id": "231174dc",
   "metadata": {},
   "outputs": [
    {
     "name": "stdout",
     "output_type": "stream",
     "text": [
      "학습데이터(x_test)의 이미지 개수는 600 입니다.\n",
      "x_test shape: (600, 28, 28, 3)\n",
      "y_test shape: (600,)\n"
     ]
    }
   ],
   "source": [
    "\"\"\"\n",
    "절차 생략\n",
    "\n",
    "def resize_images(img_path):\n",
    "\timages=glob.glob(img_path + \"/*.jpg\")  \n",
    "    \n",
    "\tprint(len(images), \" images to be resized.\")\n",
    "\n",
    "    # 파일마다 모두 28x28 사이즈로 바꾸어 저장합니다.\n",
    "\ttarget_size=(28,28)\n",
    "\tfor img in images:\n",
    "\t\told_img=Image.open(img)\n",
    "\t\tnew_img=old_img.resize(target_size,Image.ANTIALIAS)\n",
    "\t\tnew_img.save(img, \"JPEG\")\n",
    "    \n",
    "\tprint(len(images), \" images resized.\")\n",
    "\t\n",
    "# 가위 이미지가 저장된 디렉토리 아래의 모든 jpg 파일을 읽어들여서\n",
    "image_dir_path = os.getenv(\"HOME\") + \"/aiffel/rock_scissor_paper/test/scissor\"\n",
    "resize_images(image_dir_path)\n",
    "\n",
    "print(\"가위 이미지 resize 완료!\")\n",
    "\n",
    "image_dir_path = os.getenv(\"HOME\") + \"/aiffel/rock_scissor_paper/test/paper\"\n",
    "\n",
    "# 파일마다 모두 28x28 사이즈로 바꾸어 저장합니다.\n",
    "# [[YOUR CODE]]\n",
    "resize_images(image_dir_path)\n",
    "\n",
    "print(\"보 resize done\")\n",
    "\n",
    "image_dir_path = os.getenv(\"HOME\") + \"/aiffel/rock_scissor_paper/test/rock\"\n",
    "\n",
    "# 파일마다 모두 28x28 사이즈로 바꾸어 저장합니다.\n",
    "# [[YOUR CODE]]\n",
    "resize_images(image_dir_path)\n",
    "\n",
    "print(\"바위 resize done\") \"\"\"\n",
    "\n",
    "import numpy as np\n",
    "\n",
    "def load_data(img_path, number_of_data=600):  # 가위바위보 이미지 개수 총합에 주의하세요.\n",
    "    # 가위 : 0, 바위 : 1, 보 : 2\n",
    "    img_size=28\n",
    "    color=3\n",
    "    #이미지 데이터와 라벨(가위 : 0, 바위 : 1, 보 : 2) 데이터를 담을 행렬(matrix) 영역을 생성합니다.\n",
    "    imgs=np.zeros(number_of_data*img_size*img_size*color,dtype=np.int32).reshape(number_of_data,img_size,img_size,color)\n",
    "    labels=np.zeros(number_of_data,dtype=np.int32)\n",
    "\n",
    "    idx=0\n",
    "    for file in glob.iglob(img_path+'/scissor/*.jpg'):\n",
    "        img = np.array(Image.open(file),dtype=np.int32)\n",
    "        imgs[idx,:,:,:]=img    # 데이터 영역에 이미지 행렬을 복사\n",
    "        labels[idx]=0   # 가위 : 0\n",
    "        idx=idx+1\n",
    "\n",
    "    for file in glob.iglob(img_path+'/rock/*.jpg'):\n",
    "        img = np.array(Image.open(file),dtype=np.int32)\n",
    "        imgs[idx,:,:,:]=img    # 데이터 영역에 이미지 행렬을 복사\n",
    "        labels[idx]=1   # 바위 : 1\n",
    "        idx=idx+1  \n",
    "    \n",
    "    for file in glob.iglob(img_path+'/paper/*.jpg'):\n",
    "        img = np.array(Image.open(file),dtype=np.int32)\n",
    "        imgs[idx,:,:,:]=img    # 데이터 영역에 이미지 행렬을 복사\n",
    "        labels[idx]=2   # 보 : 2\n",
    "        idx=idx+1\n",
    "        \n",
    "    print(\"학습데이터(x_test)의 이미지 개수는\", idx,\"입니다.\")\n",
    "    return imgs, labels\n",
    "\n",
    "image_dir_path = os.getenv(\"HOME\") + \"/aiffel/aiffel_git/rock_scissor_paper/test28\"\n",
    "(x_test, y_test)=load_data(image_dir_path)\n",
    "x_test_norm = x_test/255.0   # 입력은 0~1 사이의 값으로 정규화\n",
    "\n",
    "print(\"x_test shape: {}\".format(x_test.shape))\n",
    "print(\"y_test shape: {}\".format(y_test.shape))"
   ]
  },
  {
   "cell_type": "code",
   "execution_count": 66,
   "id": "8ff9935b",
   "metadata": {},
   "outputs": [
    {
     "name": "stdout",
     "output_type": "stream",
     "text": [
      "19/19 - 0s - loss: 2.8086 - accuracy: 0.4117\n",
      "test_loss: 2.808631181716919 \n",
      "test_accuracy: 0.4116666615009308\n"
     ]
    }
   ],
   "source": [
    "test_loss, test_accuracy = model.evaluate(x_test,y_test, verbose=2)\n",
    "5\n",
    "print(\"test_loss: {} \".format(test_loss))\n",
    "6\n",
    "print(\"test_accuracy: {}\".format(test_accuracy))"
   ]
  },
  {
   "cell_type": "markdown",
   "id": "1b2c3e1f",
   "metadata": {},
   "source": [
    "> 학습 및 테스트 수행 후\n",
    "   >* 기존 학습 데이터의 수(411개)가 너무 적다고 느낌\n",
    "        * 학습 데이터 수를 늘림(1733개)\n",
    "   > * 28x28 픽셀 사이즈로 크기를 줄이는 이유를 모르겠음\n",
    "        * 코드 실험결과 224x224 크기의 이미지도 전처리나 학습에 지장이 없는 것으로 보여지며, 굳이 번거로운 과정을 거쳐야 하나 의문이 들었음\n",
    "        * 또한 크기를 작게 변형할 경우 형체가 매우 불명확하므로, 픽셀 값을 토대로 이미지를 인식하는 방식임을 감안할 때 높은 픽셀 값이 학습에 유리할 것이라고 판단함\n",
    "        * 데이터 전처리 과정이 더욱 단순해져서 편하기도 함"
   ]
  },
  {
   "cell_type": "markdown",
   "id": "f840c201",
   "metadata": {},
   "source": [
    "***\n",
    "## 224x224 크기의 이미지로 학습을 재시도함\n",
    "***\n",
    "### 데이터 전처리 및 로드\n",
    "* resizing 구간 코드 삭제\n",
    "* number_of_data 업데이트, img_size 업데이트\n",
    "* 기타 디렉터리 연결 확립"
   ]
  },
  {
   "cell_type": "code",
   "execution_count": 5,
   "id": "2ab6cde0",
   "metadata": {},
   "outputs": [
    {
     "name": "stdout",
     "output_type": "stream",
     "text": [
      "학습데이터(x_train)의 이미지 개수는 1733 입니다.\n",
      "x_train shape: (1733, 224, 224, 3)\n",
      "y_train shape: (1733,)\n"
     ]
    }
   ],
   "source": [
    "def load_data(img_path, number_of_data=1733):  # 가위바위보 이미지 개수 총합에 주의하세요.\n",
    "    # 가위 : 0, 바위 : 1, 보 : 2\n",
    "    img_size=224\n",
    "    color=3\n",
    "    #이미지 데이터와 라벨(가위 : 0, 바위 : 1, 보 : 2) 데이터를 담을 행렬(matrix) 영역을 생성합니다.\n",
    "    imgs=np.zeros(number_of_data*img_size*img_size*color,dtype=np.int32).reshape(number_of_data,img_size,img_size,color)\n",
    "    labels=np.zeros(number_of_data,dtype=np.int32)\n",
    "\n",
    "    idx=0\n",
    "    for file in glob.iglob(img_path+'/scissor/*.jpg'):\n",
    "        img = np.array(Image.open(file),dtype=np.int32)\n",
    "        imgs[idx,:,:,:]=img    # 데이터 영역에 이미지 행렬을 복사\n",
    "        labels[idx]=0   # 가위 : 0\n",
    "        idx=idx+1\n",
    "\n",
    "    for file in glob.iglob(img_path+'/rock/*.jpg'):\n",
    "        img = np.array(Image.open(file),dtype=np.int32)\n",
    "        imgs[idx,:,:,:]=img    # 데이터 영역에 이미지 행렬을 복사\n",
    "        labels[idx]=1   # 바위 : 1\n",
    "        idx=idx+1  \n",
    "    \n",
    "    for file in glob.iglob(img_path+'/paper/*.jpg'):\n",
    "        img = np.array(Image.open(file),dtype=np.int32)\n",
    "        imgs[idx,:,:,:]=img    # 데이터 영역에 이미지 행렬을 복사\n",
    "        labels[idx]=2   # 보 : 2\n",
    "        idx=idx+1\n",
    "        \n",
    "    print(\"학습데이터(x_train)의 이미지 개수는\", idx,\"입니다.\")\n",
    "    return imgs, labels\n",
    "\n",
    "image_dir_path = os.getenv(\"HOME\") + \"/aiffel/aiffel_git/rock_scissor_paper/train224\"\n",
    "(x_train, y_train)=load_data(image_dir_path)\n",
    "x_train_norm = x_train/255.0   # 입력은 0~1 사이의 값으로 정규화\n",
    "\n",
    "print(\"x_train shape: {}\".format(x_train.shape))\n",
    "print(\"y_train shape: {}\".format(y_train.shape))"
   ]
  },
  {
   "cell_type": "markdown",
   "id": "1e3d0bff",
   "metadata": {},
   "source": [
    "### 모델 정의\n",
    "* 우선 input_shape만 업데이트하여 데이터 형태만 맞춰준 뒤 추이를 보고 모델을 추가적으로 수정하기로 함"
   ]
  },
  {
   "cell_type": "code",
   "execution_count": 69,
   "id": "5a3d4384",
   "metadata": {},
   "outputs": [
    {
     "name": "stdout",
     "output_type": "stream",
     "text": [
      "Model에 추가된 Layer 개수:  7\n",
      "Model: \"sequential_3\"\n",
      "_________________________________________________________________\n",
      "Layer (type)                 Output Shape              Param #   \n",
      "=================================================================\n",
      "conv2d_6 (Conv2D)            (None, 222, 222, 16)      448       \n",
      "_________________________________________________________________\n",
      "max_pooling2d_6 (MaxPooling2 (None, 111, 111, 16)      0         \n",
      "_________________________________________________________________\n",
      "conv2d_7 (Conv2D)            (None, 109, 109, 32)      4640      \n",
      "_________________________________________________________________\n",
      "max_pooling2d_7 (MaxPooling2 (None, 54, 54, 32)        0         \n",
      "_________________________________________________________________\n",
      "flatten_3 (Flatten)          (None, 93312)             0         \n",
      "_________________________________________________________________\n",
      "dense_6 (Dense)              (None, 32)                2986016   \n",
      "_________________________________________________________________\n",
      "dense_7 (Dense)              (None, 3)                 99        \n",
      "=================================================================\n",
      "Total params: 2,991,203\n",
      "Trainable params: 2,991,203\n",
      "Non-trainable params: 0\n",
      "_________________________________________________________________\n"
     ]
    }
   ],
   "source": [
    "import tensorflow as tf\n",
    "from tensorflow import keras\n",
    "import numpy as np\n",
    "\n",
    "# model을 직접 만들어 보세요.\n",
    "# Hint! model의 입력/출력부에 특히 유의해 주세요. 가위바위보 데이터셋은 MNIST 데이터셋과 어떤 점이 달라졌나요?\n",
    "# [[YOUR CODE]]\n",
    "model=keras.models.Sequential()\n",
    "model.add(keras.layers.Conv2D(16, (3,3), activation='relu', input_shape=(224,224,3)))\n",
    "model.add(keras.layers.MaxPool2D(2,2))\n",
    "model.add(keras.layers.Conv2D(32, (3,3), activation='relu'))\n",
    "model.add(keras.layers.MaxPooling2D((2,2)))\n",
    "model.add(keras.layers.Flatten())\n",
    "model.add(keras.layers.Dense(32, activation='relu'))\n",
    "model.add(keras.layers.Dense(3, activation='softmax'))\n",
    "\n",
    "print('Model에 추가된 Layer 개수: ', len(model.layers))\n",
    "model.summary()"
   ]
  },
  {
   "cell_type": "markdown",
   "id": "43e15e18",
   "metadata": {},
   "source": [
    "### 학습 수행"
   ]
  },
  {
   "cell_type": "code",
   "execution_count": 70,
   "id": "d8022091",
   "metadata": {},
   "outputs": [
    {
     "name": "stdout",
     "output_type": "stream",
     "text": [
      "Epoch 1/10\n",
      "55/55 [==============================] - 2s 23ms/step - loss: 144.1239 - accuracy: 0.7357\n",
      "Epoch 2/10\n",
      "55/55 [==============================] - 1s 20ms/step - loss: 0.0359 - accuracy: 0.9856\n",
      "Epoch 3/10\n",
      "55/55 [==============================] - 1s 20ms/step - loss: 0.0131 - accuracy: 0.9983\n",
      "Epoch 4/10\n",
      "55/55 [==============================] - 1s 19ms/step - loss: 6.7486e-04 - accuracy: 1.0000\n",
      "Epoch 5/10\n",
      "55/55 [==============================] - 1s 20ms/step - loss: 0.0142 - accuracy: 0.9960\n",
      "Epoch 6/10\n",
      "55/55 [==============================] - 1s 20ms/step - loss: 0.0012 - accuracy: 1.0000\n",
      "Epoch 7/10\n",
      "55/55 [==============================] - 1s 20ms/step - loss: 1.5348e-04 - accuracy: 1.0000\n",
      "Epoch 8/10\n",
      "55/55 [==============================] - 1s 19ms/step - loss: 1.1307e-04 - accuracy: 1.0000\n",
      "Epoch 9/10\n",
      "55/55 [==============================] - 1s 20ms/step - loss: 8.4661e-05 - accuracy: 1.0000\n",
      "Epoch 10/10\n",
      "55/55 [==============================] - 1s 19ms/step - loss: 6.6709e-05 - accuracy: 1.0000\n"
     ]
    },
    {
     "data": {
      "text/plain": [
       "<keras.callbacks.History at 0x7f05f5927400>"
      ]
     },
     "execution_count": 70,
     "metadata": {},
     "output_type": "execute_result"
    }
   ],
   "source": [
    "model.compile(optimizer='adam',\n",
    "             loss='sparse_categorical_crossentropy',\n",
    "             metrics=['accuracy'])\n",
    "\n",
    "model.fit(x_train, y_train, epochs=10)"
   ]
  },
  {
   "cell_type": "markdown",
   "id": "9cc2e3be",
   "metadata": {},
   "source": [
    "### 학습된 모델의 테스트 수행\n",
    "* 마찬가지로 resizing 절차가 불필요하여 주석 처리 및 변수, 디렉터리 등 업데이트\n",
    "* test_dataset은 600개로 구성됨"
   ]
  },
  {
   "cell_type": "code",
   "execution_count": 71,
   "id": "3a150789",
   "metadata": {},
   "outputs": [
    {
     "name": "stdout",
     "output_type": "stream",
     "text": [
      "학습데이터(x_test)의 이미지 개수는 600 입니다.\n",
      "x_test shape: (600, 224, 224, 3)\n",
      "y_test shape: (600,)\n"
     ]
    }
   ],
   "source": [
    "import numpy as np\n",
    "\n",
    "def load_data(img_path, number_of_data=600):  # 가위바위보 이미지 개수 총합에 주의하세요.\n",
    "    # 가위 : 0, 바위 : 1, 보 : 2\n",
    "    img_size=224\n",
    "    color=3\n",
    "    #이미지 데이터와 라벨(가위 : 0, 바위 : 1, 보 : 2) 데이터를 담을 행렬(matrix) 영역을 생성합니다.\n",
    "    imgs=np.zeros(number_of_data*img_size*img_size*color,dtype=np.int32).reshape(number_of_data,img_size,img_size,color)\n",
    "    labels=np.zeros(number_of_data,dtype=np.int32)\n",
    "\n",
    "    idx=0\n",
    "    for file in glob.iglob(img_path+'/scissor/*.jpg'):\n",
    "        img = np.array(Image.open(file),dtype=np.int32)\n",
    "        imgs[idx,:,:,:]=img    # 데이터 영역에 이미지 행렬을 복사\n",
    "        labels[idx]=0   # 가위 : 0\n",
    "        idx=idx+1\n",
    "\n",
    "    for file in glob.iglob(img_path+'/rock/*.jpg'):\n",
    "        img = np.array(Image.open(file),dtype=np.int32)\n",
    "        imgs[idx,:,:,:]=img    # 데이터 영역에 이미지 행렬을 복사\n",
    "        labels[idx]=1   # 바위 : 1\n",
    "        idx=idx+1  \n",
    "    \n",
    "    for file in glob.iglob(img_path+'/paper/*.jpg'):\n",
    "        img = np.array(Image.open(file),dtype=np.int32)\n",
    "        imgs[idx,:,:,:]=img    # 데이터 영역에 이미지 행렬을 복사\n",
    "        labels[idx]=2   # 보 : 2\n",
    "        idx=idx+1\n",
    "        \n",
    "    print(\"학습데이터(x_test)의 이미지 개수는\", idx,\"입니다.\")\n",
    "    return imgs, labels\n",
    "\n",
    "image_dir_path = os.getenv(\"HOME\") + \"/aiffel/aiffel_git/rock_scissor_paper/test224\"\n",
    "(x_test, y_test)=load_data(image_dir_path)\n",
    "x_test_norm = x_test/255.0   # 입력은 0~1 사이의 값으로 정규화\n",
    "\n",
    "print(\"x_test shape: {}\".format(x_test.shape))\n",
    "print(\"y_test shape: {}\".format(y_test.shape))"
   ]
  },
  {
   "cell_type": "markdown",
   "id": "8c3ffd7c",
   "metadata": {},
   "source": [
    "### test 수행"
   ]
  },
  {
   "cell_type": "code",
   "execution_count": 72,
   "id": "388da2df",
   "metadata": {},
   "outputs": [
    {
     "name": "stdout",
     "output_type": "stream",
     "text": [
      "19/19 - 0s - loss: 3.6987 - accuracy: 0.2583\n",
      "test_loss: 3.698709726333618 \n",
      "test_accuracy: 0.25833332538604736\n"
     ]
    }
   ],
   "source": [
    "test_loss, test_accuracy = model.evaluate(x_test,y_test, verbose=2)\n",
    "5\n",
    "print(\"test_loss: {} \".format(test_loss))\n",
    "6\n",
    "print(\"test_accuracy: {}\".format(test_accuracy))"
   ]
  },
  {
   "cell_type": "markdown",
   "id": "9f30e298",
   "metadata": {},
   "source": [
    "### 테스트 결과\n",
    "***\n",
    "* accuracy가 0.25 ~ 0.40 사이 밖에 나오지 않음.\n",
    "* 하이퍼파라미터를 임의로 조정해도 원하는 결과가 나오지 않고 있음.\n",
    "    * 파라미터의 인자값, 조정할 경우 생기는 변화 등 정확한 이론과 지표를 알 수 없기 때문에 무작정 조정하는 것은 무의미하다고 느낌\n",
    "* keras.models.Sequential()의 정확한 구조와 언더피팅/오버피팅의 개념을 조사하고 다시 진행하기로 함.\n",
    "* 아이펠 교육수강 중 데이터 선별이 중요하다는 정보를 추가로 입수하여 중복데이터 및 판별이 어려울 것 같은(흔들림, 식별하기 힘들 것으로 사료되는 자세나 모양 등) 데이터를 모두 삭제하는 과정도 추가하기로 함.\n",
    "***"
   ]
  },
  {
   "cell_type": "markdown",
   "id": "69dcafd9",
   "metadata": {},
   "source": [
    "## 데이터 선별\n",
    "***\n",
    "### 자세, 모양이 비슷한 중복 데이터를 삭제<br>흔들림, 초점 불분명, 판별하기 어려울 것으로 사료되는 모양, 자세 등 삭제"
   ]
  },
  {
   "cell_type": "markdown",
   "id": "cb7130fc",
   "metadata": {},
   "source": [
    "![](imgs/data_del1.png)"
   ]
  },
  {
   "cell_type": "markdown",
   "id": "fc4c6bcc",
   "metadata": {},
   "source": [
    "![](imgs/data_del2.png)"
   ]
  },
  {
   "cell_type": "markdown",
   "id": "4a2e9d38",
   "metadata": {},
   "source": [
    "#### 데이터 재업로드 및 디렉터리 정리"
   ]
  },
  {
   "cell_type": "markdown",
   "id": "14352ae0",
   "metadata": {},
   "source": [
    "![](imgs/upload.png)"
   ]
  },
  {
   "cell_type": "markdown",
   "id": "4edae2c2",
   "metadata": {},
   "source": [
    "### 재선별한 데이터로 학습 및 테스트 재수행\n",
    "#### 데이터 재가공 외에 다른 변경사항은 없이 우선 진행해보기로 함."
   ]
  },
  {
   "cell_type": "code",
   "execution_count": 10,
   "id": "c3fab041",
   "metadata": {},
   "outputs": [
    {
     "name": "stdout",
     "output_type": "stream",
     "text": [
      "학습데이터(x_train)의 이미지 개수는 626 입니다.\n",
      "x_train shape: (626, 224, 224, 3)\n",
      "y_train shape: (626,)\n"
     ]
    }
   ],
   "source": [
    "def load_data(img_path, number_of_data=626):  # 가위바위보 이미지 개수 총합에 주의하세요.\n",
    "    # 가위 : 0, 바위 : 1, 보 : 2\n",
    "    img_size=224\n",
    "    color=3\n",
    "    #이미지 데이터와 라벨(가위 : 0, 바위 : 1, 보 : 2) 데이터를 담을 행렬(matrix) 영역을 생성합니다.\n",
    "    imgs=np.zeros(number_of_data*img_size*img_size*color,dtype=np.int32).reshape(number_of_data,img_size,img_size,color)\n",
    "    labels=np.zeros(number_of_data,dtype=np.int32)\n",
    "\n",
    "    idx=0\n",
    "    for file in glob.iglob(img_path+'/scissor/*.jpg'):\n",
    "        img = np.array(Image.open(file),dtype=np.int32)\n",
    "        imgs[idx,:,:,:]=img    # 데이터 영역에 이미지 행렬을 복사\n",
    "        labels[idx]=0   # 가위 : 0\n",
    "        idx=idx+1\n",
    "\n",
    "    for file in glob.iglob(img_path+'/rock/*.jpg'):\n",
    "        img = np.array(Image.open(file),dtype=np.int32)\n",
    "        imgs[idx,:,:,:]=img    # 데이터 영역에 이미지 행렬을 복사\n",
    "        labels[idx]=1   # 바위 : 1\n",
    "        idx=idx+1  \n",
    "    \n",
    "    for file in glob.iglob(img_path+'/paper/*.jpg'):\n",
    "        img = np.array(Image.open(file),dtype=np.int32)\n",
    "        imgs[idx,:,:,:]=img    # 데이터 영역에 이미지 행렬을 복사\n",
    "        labels[idx]=2   # 보 : 2\n",
    "        idx=idx+1\n",
    "        \n",
    "    print(\"학습데이터(x_train)의 이미지 개수는\", idx,\"입니다.\")\n",
    "    return imgs, labels\n",
    "\n",
    "image_dir_path = os.getenv(\"HOME\") + \"/aiffel/rock_scissor_paper/train224\"\n",
    "(x_train, y_train)=load_data(image_dir_path)\n",
    "x_train_norm = x_train/255.0   # 입력은 0~1 사이의 값으로 정규화\n",
    "\n",
    "print(\"x_train shape: {}\".format(x_train.shape))\n",
    "print(\"y_train shape: {}\".format(y_train.shape))"
   ]
  },
  {
   "cell_type": "markdown",
   "id": "ea752dd1",
   "metadata": {},
   "source": [
    "##### 별것 아닌 것 같지만 리사이징 부분 코드를 완전히 삭제하니 정말 편하긴 하다."
   ]
  },
  {
   "cell_type": "code",
   "execution_count": 75,
   "id": "2de01087",
   "metadata": {},
   "outputs": [
    {
     "name": "stdout",
     "output_type": "stream",
     "text": [
      "라벨 :  0\n"
     ]
    },
    {
     "data": {
      "image/png": "[encoded data removed]",
      "text/plain": [
       "<Figure size 432x288 with 1 Axes>"
      ]
     },
     "metadata": {
      "needs_background": "light"
     },
     "output_type": "display_data"
    }
   ],
   "source": [
    "plt.imshow(x_train[0])\n",
    "print('라벨 : ', y_train[0])"
   ]
  },
  {
   "cell_type": "markdown",
   "id": "153a4f65",
   "metadata": {},
   "source": [
    "##### 본 사이즈 그대로 로드된 데이터"
   ]
  },
  {
   "cell_type": "code",
   "execution_count": 77,
   "id": "ad2f1e3e",
   "metadata": {},
   "outputs": [
    {
     "name": "stdout",
     "output_type": "stream",
     "text": [
      "Model에 추가된 Layer 개수:  7\n",
      "Model: \"sequential_4\"\n",
      "_________________________________________________________________\n",
      "Layer (type)                 Output Shape              Param #   \n",
      "=================================================================\n",
      "conv2d_8 (Conv2D)            (None, 222, 222, 16)      448       \n",
      "_________________________________________________________________\n",
      "max_pooling2d_8 (MaxPooling2 (None, 111, 111, 16)      0         \n",
      "_________________________________________________________________\n",
      "conv2d_9 (Conv2D)            (None, 109, 109, 32)      4640      \n",
      "_________________________________________________________________\n",
      "max_pooling2d_9 (MaxPooling2 (None, 54, 54, 32)        0         \n",
      "_________________________________________________________________\n",
      "flatten_4 (Flatten)          (None, 93312)             0         \n",
      "_________________________________________________________________\n",
      "dense_8 (Dense)              (None, 32)                2986016   \n",
      "_________________________________________________________________\n",
      "dense_9 (Dense)              (None, 3)                 99        \n",
      "=================================================================\n",
      "Total params: 2,991,203\n",
      "Trainable params: 2,991,203\n",
      "Non-trainable params: 0\n",
      "_________________________________________________________________\n"
     ]
    }
   ],
   "source": [
    "import tensorflow as tf\n",
    "from tensorflow import keras\n",
    "import numpy as np\n",
    "\n",
    "model=keras.models.Sequential()\n",
    "model.add(keras.layers.Conv2D(16, (3,3), activation='relu', input_shape=(224,224,3)))\n",
    "model.add(keras.layers.MaxPool2D(2,2))\n",
    "model.add(keras.layers.Conv2D(32, (3,3), activation='relu'))\n",
    "model.add(keras.layers.MaxPooling2D((2,2)))\n",
    "model.add(keras.layers.Flatten())\n",
    "model.add(keras.layers.Dense(32, activation='relu'))\n",
    "model.add(keras.layers.Dense(3, activation='softmax'))\n",
    "\n",
    "print('Model에 추가된 Layer 개수: ', len(model.layers))\n",
    "model.summary()"
   ]
  },
  {
   "cell_type": "code",
   "execution_count": 78,
   "id": "9d57523f",
   "metadata": {},
   "outputs": [
    {
     "name": "stdout",
     "output_type": "stream",
     "text": [
      "Epoch 1/10\n",
      "20/20 [==============================] - 1s 32ms/step - loss: 449.4370 - accuracy: 0.3562\n",
      "Epoch 2/10\n",
      "20/20 [==============================] - 0s 19ms/step - loss: 2.2776 - accuracy: 0.4073\n",
      "Epoch 3/10\n",
      "20/20 [==============================] - 0s 19ms/step - loss: 1.0200 - accuracy: 0.4665\n",
      "Epoch 4/10\n",
      "20/20 [==============================] - 0s 20ms/step - loss: 0.9928 - accuracy: 0.4760\n",
      "Epoch 5/10\n",
      "20/20 [==============================] - 0s 19ms/step - loss: 0.9606 - accuracy: 0.5112\n",
      "Epoch 6/10\n",
      "20/20 [==============================] - 0s 20ms/step - loss: 0.9217 - accuracy: 0.5495\n",
      "Epoch 7/10\n",
      "20/20 [==============================] - 0s 19ms/step - loss: 0.8064 - accuracy: 0.6502\n",
      "Epoch 8/10\n",
      "20/20 [==============================] - 0s 20ms/step - loss: 0.7315 - accuracy: 0.6997\n",
      "Epoch 9/10\n",
      "20/20 [==============================] - 0s 20ms/step - loss: 0.7098 - accuracy: 0.7061\n",
      "Epoch 10/10\n",
      "20/20 [==============================] - 0s 20ms/step - loss: 0.7348 - accuracy: 0.7188\n"
     ]
    },
    {
     "data": {
      "text/plain": [
       "<keras.callbacks.History at 0x7f05f5717d90>"
      ]
     },
     "execution_count": 78,
     "metadata": {},
     "output_type": "execute_result"
    }
   ],
   "source": [
    "model.compile(optimizer='adam',\n",
    "             loss='sparse_categorical_crossentropy',\n",
    "             metrics=['accuracy'])\n",
    "\n",
    "model.fit(x_train, y_train, epochs=10)"
   ]
  },
  {
   "cell_type": "markdown",
   "id": "d57e8e4d",
   "metadata": {},
   "source": [
    "##### 테스트"
   ]
  },
  {
   "cell_type": "code",
   "execution_count": 79,
   "id": "93a323d9",
   "metadata": {},
   "outputs": [
    {
     "name": "stdout",
     "output_type": "stream",
     "text": [
      "학습데이터(x_test)의 이미지 개수는 600 입니다.\n",
      "x_test shape: (600, 224, 224, 3)\n",
      "y_test shape: (600,)\n"
     ]
    }
   ],
   "source": [
    "import numpy as np\n",
    "\n",
    "def load_data(img_path, number_of_data=600):  # 가위바위보 이미지 개수 총합에 주의하세요.\n",
    "    # 가위 : 0, 바위 : 1, 보 : 2\n",
    "    img_size=224\n",
    "    color=3\n",
    "    #이미지 데이터와 라벨(가위 : 0, 바위 : 1, 보 : 2) 데이터를 담을 행렬(matrix) 영역을 생성합니다.\n",
    "    imgs=np.zeros(number_of_data*img_size*img_size*color,dtype=np.int32).reshape(number_of_data,img_size,img_size,color)\n",
    "    labels=np.zeros(number_of_data,dtype=np.int32)\n",
    "\n",
    "    idx=0\n",
    "    for file in glob.iglob(img_path+'/scissor/*.jpg'):\n",
    "        img = np.array(Image.open(file),dtype=np.int32)\n",
    "        imgs[idx,:,:,:]=img    # 데이터 영역에 이미지 행렬을 복사\n",
    "        labels[idx]=0   # 가위 : 0\n",
    "        idx=idx+1\n",
    "\n",
    "    for file in glob.iglob(img_path+'/rock/*.jpg'):\n",
    "        img = np.array(Image.open(file),dtype=np.int32)\n",
    "        imgs[idx,:,:,:]=img    # 데이터 영역에 이미지 행렬을 복사\n",
    "        labels[idx]=1   # 바위 : 1\n",
    "        idx=idx+1  \n",
    "    \n",
    "    for file in glob.iglob(img_path+'/paper/*.jpg'):\n",
    "        img = np.array(Image.open(file),dtype=np.int32)\n",
    "        imgs[idx,:,:,:]=img    # 데이터 영역에 이미지 행렬을 복사\n",
    "        labels[idx]=2   # 보 : 2\n",
    "        idx=idx+1\n",
    "        \n",
    "    print(\"학습데이터(x_test)의 이미지 개수는\", idx,\"입니다.\")\n",
    "    return imgs, labels\n",
    "\n",
    "image_dir_path = os.getenv(\"HOME\") + \"/aiffel/rock_scissor_paper/test224\"\n",
    "(x_test, y_test)=load_data(image_dir_path)\n",
    "x_test_norm = x_test/255.0   # 입력은 0~1 사이의 값으로 정규화\n",
    "\n",
    "print(\"x_test shape: {}\".format(x_test.shape))\n",
    "print(\"y_test shape: {}\".format(y_test.shape))"
   ]
  },
  {
   "cell_type": "code",
   "execution_count": 80,
   "id": "986b6f03",
   "metadata": {},
   "outputs": [
    {
     "name": "stdout",
     "output_type": "stream",
     "text": [
      "19/19 - 0s - loss: 1.6089 - accuracy: 0.1983\n",
      "test_loss: 1.6089372634887695 \n",
      "test_accuracy: 0.19833333790302277\n"
     ]
    }
   ],
   "source": [
    "test_loss, test_accuracy = model.evaluate(x_test,y_test, verbose=2)\n",
    "5\n",
    "print(\"test_loss: {} \".format(test_loss))\n",
    "6\n",
    "print(\"test_accuracy: {}\".format(test_accuracy))"
   ]
  },
  {
   "cell_type": "markdown",
   "id": "53dde5b4",
   "metadata": {},
   "source": [
    "##### 모델 학습 성능부터 심각하게 낮게 떠서 매우 걱정했는데...<br>혹시나가 역시나 최악의 결과를 도출함\n",
    "***\n"
   ]
  },
  {
   "cell_type": "markdown",
   "id": "e6fb77c3",
   "metadata": {},
   "source": [
    "## 최후의 수단. 모델 하이퍼 파라미터를 변경해보자\n",
    "***\n",
    "* keras.models.Sequential()의 함수에 따른 전달 인자나 작동구조 등을 조사해보고<br>성능을 높일 수 있는 방향으로 파라미터를 조정해보기로 함\n",
    "### 모델 정의 코드"
   ]
  },
  {
   "cell_type": "code",
   "execution_count": null,
   "id": "6c5a78fb",
   "metadata": {},
   "outputs": [],
   "source": [
    "import tensorflow as tf\n",
    "from tensorflow import keras\n",
    "import numpy as np\n",
    "\n",
    "model=keras.models.Sequential()\n",
    "model.add(keras.layers.Conv2D(16, (3,3), activation='relu', input_shape=(224,224,3)))\n",
    "model.add(keras.layers.MaxPool2D(2,2))\n",
    "model.add(keras.layers.Conv2D(32, (3,3), activation='relu'))\n",
    "model.add(keras.layers.MaxPooling2D((2,2)))\n",
    "model.add(keras.layers.Flatten())\n",
    "model.add(keras.layers.Dense(32, activation='relu'))\n",
    "model.add(keras.layers.Dense(3, activation='softmax'))\n",
    "\n",
    "print('Model에 추가된 Layer 개수: ', len(model.layers))\n",
    "model.summary()"
   ]
  },
  {
   "cell_type": "markdown",
   "id": "8d5e4131",
   "metadata": {},
   "source": [
    "### CNN\n",
    "**이 친구의 정확한 이름은 Convolution Neural Network, 합성곱 신경망이다.<br>합성곱이 무엇인지 우선 알아보자.**"
   ]
  },
  {
   "cell_type": "markdown",
   "id": "70b1e2c1",
   "metadata": {},
   "source": [
    "![](imgs/convolution_def.png)"
   ]
  },
  {
   "cell_type": "markdown",
   "id": "e33a97dd",
   "metadata": {},
   "source": [
    "![](imgs/convolution_def2.png)"
   ]
  },
  {
   "cell_type": "markdown",
   "id": "924fc486",
   "metadata": {},
   "source": [
    "**??? 합성곱은 그만 알아보자**<br><br>**농담이고 이런 수학적 이론은 잘 모르겠지만 cnn의 동작구조를 보면 맥락은 알 것 같다.**"
   ]
  },
  {
   "cell_type": "markdown",
   "id": "85b92200",
   "metadata": {},
   "source": [
    "#### CNN의 동작구조\n",
    "**기본적으로 신경망 모델은 1차원 데이터밖에 소화할 수 없다고 한다. 하지만 이미지는 다차원 데이터이다. 훌륭하신 분들은 이 문제를 해결하기 위해 CNN을 개발하였다.**\n",
    "<br>\n",
    "**상기 기재된 코드를 기준으로 CNN의 특징을 나열해보자**\n",
    "* **다차원 데이터를 입력할 수 있다.(= convolution)**\n",
    "    * 입력 과정에서 일정 크기의 필터로 다차원 데이터의 일정 영역을 합성곱 계산하여 feature로써 새로운 배열에 저장<br>이 행위가 반복되어 2차원 행렬 feature map을 생성한다.\n",
    "* **빠르고 효율적인 압축.(= pooling)**\n",
    "    * convolution 과정에서 데이터의 크기는 어느정도 줄어들지만 충분하지 않고 오랜 시간과 자원을 소모한다. 이 과정을 생략하기 위해 최대, 평균, 최소값 등 기준을 정해 원하는 크기로 feature map을 압축한다.\n",
    "* **신경망은 편식쟁이.(= flatten)**\n",
    "    * 상기에 언급했듯이 신경망은 1차원 데이터밖에 읽어드릴 수 없다. 충분히 압축된 데이터는 flatten 과정을 통해 1차원 데이터의 형태로 변형하여 학습이 가능하도록 한다.\n",
    "* **분류 시작.(= dense)**\n",
    "    * extracted feature에 대한 학습과 분류를 실행하는 layer이다."
   ]
  },
  {
   "cell_type": "markdown",
   "id": "0daf06d2",
   "metadata": {},
   "source": [
    "![](imgs/cnn_structure.png)\n",
    "##### 설명을 도식화하면 이런 느낌"
   ]
  },
  {
   "cell_type": "markdown",
   "id": "3269d7d8",
   "metadata": {},
   "source": [
    "#### 코드 분석\n",
    "**구조와 개념을 알고 나니 인수값에 대한 이해가 조금은 생긴 것 같다.**\n",
    "\n",
    ">**model.add(keras.layers.Conv2D(16, (3,3), activation='relu', input_shape=(224,224,3)))<br>\n",
    "model.add(keras.layers.MaxPool2D(2,2))**\n",
    "\n",
    "* pooling layer는 선택사항이지만 일반적으로 convolution과 pooling을 한 세트로 사용한다고 한다.\n",
    "* 위에 선언된 keras.layers.Conv2D 코드의 인자는 순서대로\n",
    "    * filter의 수\n",
    "    * filter의 사이즈\n",
    "    * 활성함수 여부\n",
    "    * 입력 데이터의 크기와 채널\n",
    "    을 의미한다.\n",
    "* 다음으로 keras.layers.MaxPool2D는 어느 정도 압축할 것인지에 대한 인자이다.\n",
    "    * 이부분은 사실 명확하지 않은데 (2,2)행렬로 압축하겠다는 소리가 아니라 각 행과 렬을 2로 나눈 결과로 압축한다는 의미 같다."
   ]
  },
  {
   "cell_type": "markdown",
   "id": "a74ad354",
   "metadata": {},
   "source": [
    ">**model.add(keras.layers.Flatten())<br>\n",
    "model.add(keras.layers.Dense(32, activation='relu'))<br>\n",
    "model.add(keras.layers.Dense(3, activation='softmax'))**<br>\n",
    "* flatten() 평면화, 즉 모델이 학습할 수 있도록 1차원데이터로 변형한다.\n",
    "* keras.layers.Dense 실제로 학습하고, 분류하는 진정한 뉴런이다.\n",
    "    * 이 또한 명확하지 않지만, 여러 레퍼런스를 본 결과 CNN은 구조 상 Data extraction과 Classification영역을 나누어져 있다는 것을 알 수 있었다. 학습할 데이터를 선별하고 해석 가능한 상태로 변형하는 과정 역시 학습이지만, 정말 의미 그대로의 \"학습\"을 진행하는 레이어는 여기가 아닐까 생각한다. 마치 영어를 공부할 때 모르는 단어를 먼저 찾고 독해 공부를 하는 것 처럼.\n",
    "    * 각설하고 각 인자는\n",
    "        * 학습할 feature의 갯수(뉴런?)\n",
    "        * 활성함수 (=ReLU)\n",
    "            * ReLU는 0 이하의 값을 모두 0으로 처리(버린다.). 양수만 x 그대로 반환한다.\n",
    "        * class의 갯수\n",
    "            * 삼진 분류 모델임을 알 수 있다. (가위 바위 보)\n",
    "        * 활성함수 (=softmax)\n",
    "            * softmax는 출력된 결과값을 확률값(%), 즉 0~1 사이의 값으로 조정할 때 사용된다.<br>원조는 sigmoid인데, output이 3개 이상일 경우 여러 개의 sigmoid 함수로 구성된 softmax를 활용 할 수 있다."
   ]
  },
  {
   "cell_type": "markdown",
   "id": "93844982",
   "metadata": {},
   "source": [
    ">ref.\n",
    ">* keras.sequential conv2d parameter : <br>\n",
    "    https://keras.io/ko/layers/convolutional/<br>\n",
    "https://tykimos.github.io/2017/01/27/CNN_Layer_Talk/\n",
    ">* about ReLU<br>\n",
    "    https://keras.io/api/layers/activations/<br>\n",
    "https://machinelearningmastery.com/rectified-linear-activation-function-for-deep-learning-neural-networks/\n",
    ">* keras.layer.dense<br>\n",
    "https://machinelearningknowledge.ai/keras-dense-layer-explained-for-beginners/\n",
    ">*cnn구조에 대한 설명<br>\n",
    "https://codetorial.net/tensorflow/convolutional_neural_network.html<Br>\n",
    "http://taewan.kim/post/cnn/<br>\n",
    "https://youngq.tistory.com/40\n",
    ">* 합성곱<br>\n",
    "https://ko.wikipedia.org/wiki/%ED%95%A9%EC%84%B1%EA%B3%B1"
   ]
  },
  {
   "cell_type": "markdown",
   "id": "9ac34143",
   "metadata": {},
   "source": [
    "### 공부 끝. 파라미터를 변경해보자\n",
    "**해보고 싶은 것도 많고 의문점도 많이 남았지만, 시간이 부족한 관계로 최대한 모험이 되지 않는 선에서 진행했다.<br>모든 의문은 회고에 남겨보자**"
   ]
  },
  {
   "cell_type": "markdown",
   "id": "fb11c009",
   "metadata": {},
   "source": [
    "#### 데이터 재업로드(선별건)"
   ]
  },
  {
   "cell_type": "code",
   "execution_count": null,
   "id": "9b23fd0a",
   "metadata": {},
   "outputs": [],
   "source": [
    "def load_data(img_path, number_of_data=626):  # 가위바위보 이미지 개수 총합에 주의하세요.\n",
    "    # 가위 : 0, 바위 : 1, 보 : 2\n",
    "    img_size=224\n",
    "    color=3\n",
    "    #이미지 데이터와 라벨(가위 : 0, 바위 : 1, 보 : 2) 데이터를 담을 행렬(matrix) 영역을 생성합니다.\n",
    "    imgs=np.zeros(number_of_data*img_size*img_size*color,dtype=np.int32).reshape(number_of_data,img_size,img_size,color)\n",
    "    labels=np.zeros(number_of_data,dtype=np.int32)\n",
    "\n",
    "    idx=0\n",
    "    for file in glob.iglob(img_path+'/scissor/*.jpg'):\n",
    "        img = np.array(Image.open(file),dtype=np.int32)\n",
    "        imgs[idx,:,:,:]=img    # 데이터 영역에 이미지 행렬을 복사\n",
    "        labels[idx]=0   # 가위 : 0\n",
    "        idx=idx+1\n",
    "\n",
    "    for file in glob.iglob(img_path+'/rock/*.jpg'):\n",
    "        img = np.array(Image.open(file),dtype=np.int32)\n",
    "        imgs[idx,:,:,:]=img    # 데이터 영역에 이미지 행렬을 복사\n",
    "        labels[idx]=1   # 바위 : 1\n",
    "        idx=idx+1  \n",
    "    \n",
    "    for file in glob.iglob(img_path+'/paper/*.jpg'):\n",
    "        img = np.array(Image.open(file),dtype=np.int32)\n",
    "        imgs[idx,:,:,:]=img    # 데이터 영역에 이미지 행렬을 복사\n",
    "        labels[idx]=2   # 보 : 2\n",
    "        idx=idx+1\n",
    "        \n",
    "    print(\"학습데이터(x_train)의 이미지 개수는\", idx,\"입니다.\")\n",
    "    return imgs, labels\n",
    "\n",
    "image_dir_path = os.getenv(\"HOME\") + \"/aiffel/rock_scissor_paper/train224\"\n",
    "(x_train, y_train)=load_data(image_dir_path)\n",
    "x_train_norm = x_train/255.0   # 입력은 0~1 사이의 값으로 정규화\n",
    "\n",
    "print(\"x_train shape: {}\".format(x_train.shape))\n",
    "print(\"y_train shape: {}\".format(y_train.shape))"
   ]
  },
  {
   "cell_type": "markdown",
   "id": "6dd41d4a",
   "metadata": {},
   "source": [
    "#### 파라미터 변경"
   ]
  },
  {
   "cell_type": "code",
   "execution_count": 28,
   "id": "c9244642",
   "metadata": {},
   "outputs": [
    {
     "name": "stdout",
     "output_type": "stream",
     "text": [
      "Model에 추가된 Layer 개수:  11\n",
      "Model: \"sequential_9\"\n",
      "_________________________________________________________________\n",
      "Layer (type)                 Output Shape              Param #   \n",
      "=================================================================\n",
      "conv2d_30 (Conv2D)           (None, 222, 222, 64)      1792      \n",
      "_________________________________________________________________\n",
      "max_pooling2d_30 (MaxPooling (None, 111, 111, 64)      0         \n",
      "_________________________________________________________________\n",
      "conv2d_31 (Conv2D)           (None, 109, 109, 128)     73856     \n",
      "_________________________________________________________________\n",
      "max_pooling2d_31 (MaxPooling (None, 54, 54, 128)       0         \n",
      "_________________________________________________________________\n",
      "conv2d_32 (Conv2D)           (None, 52, 52, 256)       295168    \n",
      "_________________________________________________________________\n",
      "max_pooling2d_32 (MaxPooling (None, 26, 26, 256)       0         \n",
      "_________________________________________________________________\n",
      "conv2d_33 (Conv2D)           (None, 24, 24, 128)       295040    \n",
      "_________________________________________________________________\n",
      "max_pooling2d_33 (MaxPooling (None, 12, 12, 128)       0         \n",
      "_________________________________________________________________\n",
      "flatten_9 (Flatten)          (None, 18432)             0         \n",
      "_________________________________________________________________\n",
      "dense_18 (Dense)             (None, 128)               2359424   \n",
      "_________________________________________________________________\n",
      "dense_19 (Dense)             (None, 3)                 387       \n",
      "=================================================================\n",
      "Total params: 3,025,667\n",
      "Trainable params: 3,025,667\n",
      "Non-trainable params: 0\n",
      "_________________________________________________________________\n"
     ]
    }
   ],
   "source": [
    "import tensorflow as tf\n",
    "from tensorflow import keras\n",
    "import numpy as np\n",
    "\n",
    "model=keras.models.Sequential()\n",
    "model.add(keras.layers.Conv2D(64, (10,10), activation='relu', input_shape=(224,224,3)))\n",
    "model.add(keras.layers.MaxPool2D(2,2))\n",
    "model.add(keras.layers.Conv2D(128, (5,5), activation='relu'))\n",
    "model.add(keras.layers.MaxPooling2D((2,2)))\n",
    "model.add(keras.layers.Conv2D(128, (3,3), activation='relu'))\n",
    "model.add(keras.layers.MaxPool2D(2,2))\n",
    "model.add(keras.layers.Conv2D(256, (3,3), activation='relu'))\n",
    "model.add(keras.layers.MaxPooling2D((2,2)))\n",
    "model.add(keras.layers.Flatten())\n",
    "model.add(keras.layers.Dense(128, activation='relu'))\n",
    "model.add(keras.layers.Dense(3, activation='softmax'))\n",
    "\n",
    "print('Model에 추가된 Layer 개수: ', len(model.layers))\n",
    "model.summary()"
   ]
  },
  {
   "cell_type": "code",
   "execution_count": null,
   "id": "19529712",
   "metadata": {
    "scrolled": true
   },
   "outputs": [],
   "source": [
    "model.compile(optimizer='adam',\n",
    "             loss='sparse_categorical_crossentropy',\n",
    "             metrics=['accuracy'])\n",
    "\n",
    "model.fit(x_train, y_train, epochs=10)"
   ]
  },
  {
   "cell_type": "code",
   "execution_count": 10,
   "id": "2227bb72",
   "metadata": {},
   "outputs": [
    {
     "name": "stdout",
     "output_type": "stream",
     "text": [
      "학습데이터(x_test)의 이미지 개수는 600 입니다.\n",
      "x_test shape: (600, 224, 224, 3)\n",
      "y_test shape: (600,)\n"
     ]
    }
   ],
   "source": [
    "import numpy as np\n",
    "\n",
    "def load_data(img_path, number_of_data=600):  # 가위바위보 이미지 개수 총합에 주의하세요.\n",
    "    # 가위 : 0, 바위 : 1, 보 : 2\n",
    "    img_size=224\n",
    "    color=3\n",
    "    #이미지 데이터와 라벨(가위 : 0, 바위 : 1, 보 : 2) 데이터를 담을 행렬(matrix) 영역을 생성합니다.\n",
    "    imgs=np.zeros(number_of_data*img_size*img_size*color,dtype=np.int32).reshape(number_of_data,img_size,img_size,color)\n",
    "    labels=np.zeros(number_of_data,dtype=np.int32)\n",
    "\n",
    "    idx=0\n",
    "    for file in glob.iglob(img_path+'/scissor/*.jpg'):\n",
    "        img = np.array(Image.open(file),dtype=np.int32)\n",
    "        imgs[idx,:,:,:]=img    # 데이터 영역에 이미지 행렬을 복사\n",
    "        labels[idx]=0   # 가위 : 0\n",
    "        idx=idx+1\n",
    "\n",
    "    for file in glob.iglob(img_path+'/rock/*.jpg'):\n",
    "        img = np.array(Image.open(file),dtype=np.int32)\n",
    "        imgs[idx,:,:,:]=img    # 데이터 영역에 이미지 행렬을 복사\n",
    "        labels[idx]=1   # 바위 : 1\n",
    "        idx=idx+1  \n",
    "    \n",
    "    for file in glob.iglob(img_path+'/paper/*.jpg'):\n",
    "        img = np.array(Image.open(file),dtype=np.int32)\n",
    "        imgs[idx,:,:,:]=img    # 데이터 영역에 이미지 행렬을 복사\n",
    "        labels[idx]=2   # 보 : 2\n",
    "        idx=idx+1\n",
    "        \n",
    "    print(\"학습데이터(x_test)의 이미지 개수는\", idx,\"입니다.\")\n",
    "    return imgs, labels\n",
    "\n",
    "image_dir_path = os.getenv(\"HOME\") + \"/aiffel/rock_scissor_paper/test224\"\n",
    "(x_test, y_test)=load_data(image_dir_path)\n",
    "x_test_norm = x_test/255.0   # 입력은 0~1 사이의 값으로 정규화\n",
    "\n",
    "print(\"x_test shape: {}\".format(x_test.shape))\n",
    "print(\"y_test shape: {}\".format(y_test.shape))"
   ]
  },
  {
   "cell_type": "code",
   "execution_count": 25,
   "id": "9bde82a2",
   "metadata": {},
   "outputs": [
    {
     "name": "stdout",
     "output_type": "stream",
     "text": [
      "19/19 - 1s - loss: 7.0196 - accuracy: 0.3900\n",
      "test_loss: 7.0196404457092285 \n",
      "test_accuracy: 0.38999998569488525\n"
     ]
    }
   ],
   "source": [
    "test_loss, test_accuracy = model.evaluate(x_test,y_test, verbose=2)\n",
    "5\n",
    "print(\"test_loss: {} \".format(test_loss))\n",
    "6\n",
    "print(\"test_accuracy: {}\".format(test_accuracy))"
   ]
  },
  {
   "cell_type": "markdown",
   "id": "be8f2eb9",
   "metadata": {},
   "source": [
    "##### 결과는 크게 달라지지 않고, 최고 성능이 고작 0.40을 조금 넘는 수준이다. 1/3확률을 고려할 때 학습이 거의 안되는 것이나 마찬가지다.<br>마지막으로 원래의 가이드라인대로 28크기의 이미지로 변형하여 진행해보기로 했다.\n",
    "\n",
    "#### 데이터 재업로드"
   ]
  },
  {
   "cell_type": "code",
   "execution_count": 46,
   "id": "cd06b6e6",
   "metadata": {},
   "outputs": [
    {
     "name": "stdout",
     "output_type": "stream",
     "text": [
      "522  images to be resized.\n",
      "522  images resized.\n",
      "가위 이미지 resize 완료!\n",
      "619  images to be resized.\n",
      "619  images resized.\n",
      "보 resize done\n",
      "592  images to be resized.\n",
      "592  images resized.\n",
      "바위 resize done\n",
      "학습데이터(x_train)의 이미지 개수는 1733 입니다.\n",
      "x_train shape: (1733, 28, 28, 3)\n",
      "y_train shape: (1733,)\n"
     ]
    }
   ],
   "source": [
    "import numpy as np\n",
    "\n",
    "def resize_images(img_path):\n",
    "\timages=glob.glob(img_path + \"/*.jpg\")  \n",
    "    \n",
    "\tprint(len(images), \" images to be resized.\")\n",
    "\n",
    "    # 파일마다 모두 28x28 사이즈로 바꾸어 저장합니다.\n",
    "\ttarget_size=(28,28)\n",
    "\tfor img in images:\n",
    "\t\told_img=Image.open(img)\n",
    "\t\tnew_img=old_img.resize(target_size,Image.ANTIALIAS)\n",
    "\t\tnew_img.save(img, \"JPEG\")\n",
    "    \n",
    "\tprint(len(images), \" images resized.\")\n",
    "\t\n",
    "# 가위 이미지가 저장된 디렉토리 아래의 모든 jpg 파일을 읽어들여서\n",
    "image_dir_path = os.getenv(\"HOME\") + \"/aiffel/aiffel_git/rock_scissor_paper/train224/scissor\"\n",
    "resize_images(image_dir_path)\n",
    "\n",
    "print(\"가위 이미지 resize 완료!\")\n",
    "\n",
    "image_dir_path = os.getenv(\"HOME\") + \"/aiffel/aiffel_git/rock_scissor_paper/train224/paper\"\n",
    "\n",
    "# 파일마다 모두 28x28 사이즈로 바꾸어 저장합니다.\n",
    "# [[YOUR CODE]]\n",
    "resize_images(image_dir_path)\n",
    "\n",
    "print(\"보 resize done\")\n",
    "\n",
    "image_dir_path = os.getenv(\"HOME\") + \"/aiffel/aiffel_git/rock_scissor_paper/train224/rock\"\n",
    "\n",
    "# 파일마다 모두 28x28 사이즈로 바꾸어 저장합니다.\n",
    "# [[YOUR CODE]]\n",
    "resize_images(image_dir_path)\n",
    "\n",
    "print(\"바위 resize done\")\n",
    "\n",
    "def load_data(img_path, number_of_data=1733):  # 가위바위보 이미지 개수 총합에 주의하세요.\n",
    "    # 가위 : 0, 바위 : 1, 보 : 2\n",
    "    img_size=28\n",
    "    color=3\n",
    "    #이미지 데이터와 라벨(가위 : 0, 바위 : 1, 보 : 2) 데이터를 담을 행렬(matrix) 영역을 생성합니다.\n",
    "    imgs=np.zeros(number_of_data*img_size*img_size*color,dtype=np.int32).reshape(number_of_data,img_size,img_size,color)\n",
    "    labels=np.zeros(number_of_data,dtype=np.int32)\n",
    "\n",
    "    idx=0\n",
    "    for file in glob.iglob(img_path+'/scissor/*.jpg'):\n",
    "        img = np.array(Image.open(file),dtype=np.int32)\n",
    "        imgs[idx,:,:,:]=img    # 데이터 영역에 이미지 행렬을 복사\n",
    "        labels[idx]=0   # 가위 : 0\n",
    "        idx=idx+1\n",
    "\n",
    "    for file in glob.iglob(img_path+'/rock/*.jpg'):\n",
    "        img = np.array(Image.open(file),dtype=np.int32)\n",
    "        imgs[idx,:,:,:]=img    # 데이터 영역에 이미지 행렬을 복사\n",
    "        labels[idx]=1   # 바위 : 1\n",
    "        idx=idx+1  \n",
    "    \n",
    "    for file in glob.iglob(img_path+'/paper/*.jpg'):\n",
    "        img = np.array(Image.open(file),dtype=np.int32)\n",
    "        imgs[idx,:,:,:]=img    # 데이터 영역에 이미지 행렬을 복사\n",
    "        labels[idx]=2   # 보 : 2\n",
    "        idx=idx+1\n",
    "        \n",
    "    print(\"학습데이터(x_train)의 이미지 개수는\", idx,\"입니다.\")\n",
    "    return imgs, labels\n",
    "\n",
    "image_dir_path = os.getenv(\"HOME\") + \"/aiffel/aiffel_git/rock_scissor_paper/train224\"\n",
    "(x_train, y_train)=load_data(image_dir_path)\n",
    "x_train_norm = x_train/255.0   # 입력은 0~1 사이의 값으로 정규화\n",
    "\n",
    "print(\"x_train shape: {}\".format(x_train.shape))\n",
    "print(\"y_train shape: {}\".format(y_train.shape))"
   ]
  },
  {
   "cell_type": "markdown",
   "id": "d6da06aa",
   "metadata": {},
   "source": [
    "#### 모델 재정의"
   ]
  },
  {
   "cell_type": "code",
   "execution_count": 80,
   "id": "ab7e184d",
   "metadata": {},
   "outputs": [
    {
     "name": "stdout",
     "output_type": "stream",
     "text": [
      "Model에 추가된 Layer 개수:  7\n",
      "Model: \"sequential_24\"\n",
      "_________________________________________________________________\n",
      "Layer (type)                 Output Shape              Param #   \n",
      "=================================================================\n",
      "conv2d_61 (Conv2D)           (None, 26, 26, 64)        1792      \n",
      "_________________________________________________________________\n",
      "max_pooling2d_58 (MaxPooling (None, 13, 13, 64)        0         \n",
      "_________________________________________________________________\n",
      "conv2d_62 (Conv2D)           (None, 11, 11, 128)       73856     \n",
      "_________________________________________________________________\n",
      "max_pooling2d_59 (MaxPooling (None, 5, 5, 128)         0         \n",
      "_________________________________________________________________\n",
      "flatten_21 (Flatten)         (None, 3200)              0         \n",
      "_________________________________________________________________\n",
      "dense_42 (Dense)             (None, 32)                102432    \n",
      "_________________________________________________________________\n",
      "dense_43 (Dense)             (None, 3)                 99        \n",
      "=================================================================\n",
      "Total params: 178,179\n",
      "Trainable params: 178,179\n",
      "Non-trainable params: 0\n",
      "_________________________________________________________________\n"
     ]
    }
   ],
   "source": [
    "import tensorflow as tf\n",
    "from tensorflow import keras\n",
    "import numpy as np\n",
    "\n",
    "model=keras.models.Sequential()\n",
    "model.add(keras.layers.Conv2D(64, (3,3), activation='relu', input_shape=(28,28,3)))\n",
    "model.add(keras.layers.MaxPool2D(2,2))\n",
    "model.add(keras.layers.Conv2D(128, (3,3), activation='relu'))\n",
    "model.add(keras.layers.MaxPooling2D((2,2)))\n",
    "model.add(keras.layers.Flatten())\n",
    "model.add(keras.layers.Dense(32, activation='relu'))\n",
    "model.add(keras.layers.Dense(3, activation='softmax'))\n",
    "\n",
    "print('Model에 추가된 Layer 개수: ', len(model.layers))\n",
    "model.summary()"
   ]
  },
  {
   "cell_type": "markdown",
   "id": "2342503a",
   "metadata": {},
   "source": [
    "#### 학습"
   ]
  },
  {
   "cell_type": "code",
   "execution_count": 81,
   "id": "00a4fde2",
   "metadata": {},
   "outputs": [
    {
     "name": "stdout",
     "output_type": "stream",
     "text": [
      "Epoch 1/10\n",
      "55/55 [==============================] - 1s 4ms/step - loss: 5.2604 - accuracy: 0.5551\n",
      "Epoch 2/10\n",
      "55/55 [==============================] - 0s 3ms/step - loss: 0.4058 - accuracy: 0.8309\n",
      "Epoch 3/10\n",
      "55/55 [==============================] - 0s 3ms/step - loss: 0.2298 - accuracy: 0.9192\n",
      "Epoch 4/10\n",
      "55/55 [==============================] - 0s 3ms/step - loss: 0.1189 - accuracy: 0.9671\n",
      "Epoch 5/10\n",
      "55/55 [==============================] - 0s 3ms/step - loss: 0.0774 - accuracy: 0.9827\n",
      "Epoch 6/10\n",
      "55/55 [==============================] - 0s 3ms/step - loss: 0.0519 - accuracy: 0.9885\n",
      "Epoch 7/10\n",
      "55/55 [==============================] - 0s 3ms/step - loss: 0.0283 - accuracy: 0.9977\n",
      "Epoch 8/10\n",
      "55/55 [==============================] - 0s 3ms/step - loss: 0.0169 - accuracy: 0.9988\n",
      "Epoch 9/10\n",
      "55/55 [==============================] - 0s 3ms/step - loss: 0.0104 - accuracy: 0.9994\n",
      "Epoch 10/10\n",
      "55/55 [==============================] - 0s 4ms/step - loss: 0.0057 - accuracy: 1.0000\n"
     ]
    },
    {
     "data": {
      "text/plain": [
       "<keras.callbacks.History at 0x7f427ea576a0>"
      ]
     },
     "execution_count": 81,
     "metadata": {},
     "output_type": "execute_result"
    }
   ],
   "source": [
    "model.compile(optimizer='adam',\n",
    "             loss='sparse_categorical_crossentropy',\n",
    "             metrics=['accuracy'])\n",
    "\n",
    "model.fit(x_train, y_train, epochs=10)"
   ]
  },
  {
   "cell_type": "markdown",
   "id": "5f4a0fff",
   "metadata": {},
   "source": [
    "#### 테스트데이터 업로드 및 테스트 수행"
   ]
  },
  {
   "cell_type": "code",
   "execution_count": 65,
   "id": "6ddc9e82",
   "metadata": {},
   "outputs": [
    {
     "name": "stdout",
     "output_type": "stream",
     "text": [
      "학습데이터(x_test)의 이미지 개수는 600 입니다.\n",
      "x_test shape: (600, 28, 28, 3)\n",
      "y_test shape: (600,)\n"
     ]
    }
   ],
   "source": [
    "import numpy as np\n",
    "\n",
    "def load_data(img_path, number_of_data=600):  # 가위바위보 이미지 개수 총합에 주의하세요.\n",
    "    # 가위 : 0, 바위 : 1, 보 : 2\n",
    "    img_size=28\n",
    "    color=3\n",
    "    #이미지 데이터와 라벨(가위 : 0, 바위 : 1, 보 : 2) 데이터를 담을 행렬(matrix) 영역을 생성합니다.\n",
    "    imgs=np.zeros(number_of_data*img_size*img_size*color,dtype=np.int32).reshape(number_of_data,img_size,img_size,color)\n",
    "    labels=np.zeros(number_of_data,dtype=np.int32)\n",
    "\n",
    "    idx=0\n",
    "    for file in glob.iglob(img_path+'/scissor/*.jpg'):\n",
    "        img = np.array(Image.open(file),dtype=np.int32)\n",
    "        imgs[idx,:,:,:]=img    # 데이터 영역에 이미지 행렬을 복사\n",
    "        labels[idx]=0   # 가위 : 0\n",
    "        idx=idx+1\n",
    "\n",
    "    for file in glob.iglob(img_path+'/rock/*.jpg'):\n",
    "        img = np.array(Image.open(file),dtype=np.int32)\n",
    "        imgs[idx,:,:,:]=img    # 데이터 영역에 이미지 행렬을 복사\n",
    "        labels[idx]=1   # 바위 : 1\n",
    "        idx=idx+1  \n",
    "    \n",
    "    for file in glob.iglob(img_path+'/paper/*.jpg'):\n",
    "        img = np.array(Image.open(file),dtype=np.int32)\n",
    "        imgs[idx,:,:,:]=img    # 데이터 영역에 이미지 행렬을 복사\n",
    "        labels[idx]=2   # 보 : 2\n",
    "        idx=idx+1\n",
    "        \n",
    "    print(\"학습데이터(x_test)의 이미지 개수는\", idx,\"입니다.\")\n",
    "    return imgs, labels\n",
    "\n",
    "image_dir_path = os.getenv(\"HOME\") + \"/aiffel/rock_scissor_paper/test28\"\n",
    "(x_test, y_test)=load_data(image_dir_path)\n",
    "x_test_norm = x_test/255.0   # 입력은 0~1 사이의 값으로 정규화\n",
    "\n",
    "print(\"x_test shape: {}\".format(x_test.shape))\n",
    "print(\"y_test shape: {}\".format(y_test.shape))"
   ]
  },
  {
   "cell_type": "code",
   "execution_count": 84,
   "id": "52ac4664",
   "metadata": {},
   "outputs": [
    {
     "name": "stdout",
     "output_type": "stream",
     "text": [
      "19/19 - 0s - loss: 4.0704 - accuracy: 0.2967\n",
      "test_loss: 4.070441722869873 \n",
      "test_accuracy: 0.2966666519641876\n"
     ]
    }
   ],
   "source": [
    "test_loss, test_accuracy = model.evaluate(x_test,y_test, verbose=2)\n",
    "5\n",
    "print(\"test_loss: {} \".format(test_loss))\n",
    "6\n",
    "print(\"test_accuracy: {}\".format(test_accuracy))"
   ]
  },
  {
   "cell_type": "markdown",
   "id": "602e8bd8",
   "metadata": {},
   "source": [
    "#### 결과\n",
    "**이미지 사이즈를 늘리던 줄이던 큰 차이를 보이진 않는다. 224x224 기준 0.40, 28x28 기준 0.45로 아무튼 전혀 실효성이 없는 모델이라고 봐도 될 것 같다. 이해 자체가 너무 얕았고, 그 이해를 실제에 적용하는 것은 더더욱 먼 문제였기 때문에 별 소득이 없었던 것 같다.**\n",
    "***"
   ]
  },
  {
   "cell_type": "markdown",
   "id": "eaa55bd6",
   "metadata": {},
   "source": [
    "# 회고\n",
    "***\n",
    "## E01\n",
    "### AIFFEL 첫 실습을 마치며.\n",
    "***\n",
    "**어느정도 예상했다고 생각했지만 훨씬 어렵다. 애초에 코딩에 대한 선지식이 없기도 하지만, 어쨋든 1년을 공부한 정보보안과 접점이 거의 없다는 점이 참 개인적으로 아쉽고 허탈하기도 하다. '언젠가는 깨우치는 날이 오겠지...' 하고 참을성을 가져야 하겠지만 잘만 쫒아가는 동기분들을 보고 있으면 조급해진다. 마음은 조급한데 학업을 중단했던 게으른 몸의 관성은 멈추지 않고, 6개월이라는 짧지 않은 기간동안의 경제여건을 마련하는 문제는 아직까지도 해결되지 못한 스트레스다.**\n",
    "<br>\n",
    "**어차피 쉬운 적이 없긴 했다. 삶 자체가 그다지 순탄하지도 않았고, 또 어떻게든 방법을 만들어 낼 것이다. 하지만 불확실한 미래를 바라보고 나아간다는 것은 항상 큰 정신력의 소모를 수반하는 것 같다. 배움과 도전을 좋아하고 또 즐기지만, 너무 여러 차례 반복된 나머지 내 정신력은 바닥을 드러냈다. 그렇기 때문에 이번 기회를 마지막으로 삼기로 했다. 더 이상 어떤 내 직업적인 결정에 있어 새로운 분야, 새로운 도전은 없을 것이다. 이런 저런 잡념이 마구 솟아나는 가운데 '이번에 돌아서면 다시 무저갱이다.'라는 생각으로 마음을 다잡는다.**\n",
    "### CNN\n",
    "***\n",
    "**같은 컴퓨터공학이지만 ML분야가 나에게 주는 가장 큰 매력은 역시 이론적인 베이스인 것 같다. 물론 나를 가장 고통스럽게 하는 것도 이론이지만, 책도 좋아하고 이론적, 관념적, 개념적 지식들에 대한 이상한 집착이 가끔씩 발동하는 나에겐 인공지능의 복잡한 이론들은 일종의 차밍포인트이기도 하다. 물론 이번 실습을 통해, 그리고 어느덧 3주?차까지 진행된 교육을 되돌아보며 조금은 내려놔야겠다는 생각을 했다. E01을 진행하면서 CNN, keras모듈의 함수 인수들, 학습의 방식 등 내 나름대로 이해가 될 때까지 단 한줄의 코드도 작성하지 못했다. 그리고 결과적으로 많은 노드를 밀려놓고 기한에 쫒겨 부랴부랴 적고 있기도 하고. 나름대로 이해는 했다고 생각했지만 모델의 결과지표를 보았을 땐 그렇지만도 않은 것 같다.**\n",
    "#### 진행하면서 생긴 의문점\n",
    "진행하면서 몇가지 의문점이 생겼지만 시간관계상 실험을 해보지 못해 여기다 남겨보려고 한다.\n",
    "##### 1. 데이터가 픽셀값의 형태로 저장된다면, RGB값을 고려해서 데이터나 모델을 수정할까?\n",
    "* 예를 들면 rgb값이 가장 낮은 것은 black이다(0,0,0). 그렇다면 검은 배경의 이미지로 학습하면 성능이 좋아질까?\n",
    "\n",
    "##### 2. padding은 학습하고자 하는 이미지의 외곽을 학습시키는 효과가 있다고 한다.\n",
    "* padding을 설정해서 손인 영역과 손이 아닌 영역을 구분짓게끔 학습시킬 수 있었을까?\n",
    "\n",
    "##### 3. Maxpooling보다 Averagepooling이 낫지 않았을까?\n",
    "* 어쨋든 픽셀값을 토대로 데이터가 저장된다면, 살색에 해당하는 색들은 거의 R값을 제외하면 중간값을 가지더라. 그럼 averagepooling이 더 좋은 성능을 기대할 수 있는 것 아니였을까?\n",
    "\n",
    "##### 4. RGB에는 음수가 없다. ReLU가 소용이 잇을까?\n",
    "* 어쨋든 0 이하의 값만 거를 수 있는데 데이터를 입력하는 과정 어디에 봐도 음수가 만들어질 기회는 없어보이고, filter가 랜덤배열인 것을 고려해도 효용가치가 있는 것인지 모르겠다.\n",
    ">결국 이 모든 질문은 내가 모델의 동작 자체를 이해하지 못했기 때문에 나온 것일테고, 아마 학업을 정진하는 그 과정 어딘가에서 해소되겠지. 훗 날 이 질문을 다시보며 '내가 이렇게 멍청했었네.'하고 웃어넘기는 날이 왔으면 좋겠다.\n",
    "\n",
    "### 보람\n",
    "***\n",
    "**정확성이나 깊이는 보장할 수 없지만 어쨋든 CNN의 원리, 기초 동작 구조, keras모듈의 함수들에 대한 정보, 언더피팅과 오버피팅의 개념, 활성함수의 종류와 개념 등 많은 것을 찾아보고 알 수 있게 되었다. 너무나 익숙하면서도 항상 어려운 독학의 매력은 방향을 못잡고 이리 저리 헤매이다가도 어느 순간 내가 흩뿌려놓은 지식들이 합체로보트가 되는 순간이 온다는 것. 이게 바로 독학의 꿀맛인 것이다. 그리고 AIFFEL은 그런 독학을 장려하면서도 한편으로는 너무 헤매이지 않도록 서포트한다. 과목도 과정도 나와 성향적으로 완벽하게 들어맞는 것이 참 잘 고른 것 같다.**\n",
    "\n",
    "### 끝으로.\n",
    "***\n",
    "**회고라도 짱짱하게 적어보려고 했는데 모델 성능 집착하다가 시간을 다 날려서 이만 줄여야겠다. 이상하게 이번 노드의 결과가 썩 좋지만은 않지만 다음은 잘, 어쩌면 이 과정에 끝에는 아주 유능할 정도로 잘 해낼 것 같다는 오만한 확신이 든다. ㅋㅋㅋㅋ. 아마 아직은 이 공부가 재미있는 것 같다. 흥미를 떨어뜨리지 않으면서 길게 한번 가봐야겠다.**"
   ]
  }
 ],
 "metadata": {
  "kernelspec": {
   "display_name": "Python 3 (ipykernel)",
   "language": "python",
   "name": "python3"
  },
  "language_info": {
   "codemirror_mode": {
    "name": "ipython",
    "version": 3
   },
   "file_extension": ".py",
   "mimetype": "text/x-python",
   "name": "python",
   "nbconvert_exporter": "python",
   "pygments_lexer": "ipython3",
   "version": "3.9.7"
  }
 },
 "nbformat": 4,
 "nbformat_minor": 5
}
