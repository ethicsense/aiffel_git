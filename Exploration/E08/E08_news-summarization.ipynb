{
 "cells": [
  {
   "cell_type": "markdown",
   "id": "7431120a",
   "metadata": {},
   "source": [
    "## 실습"
   ]
  },
  {
   "cell_type": "code",
   "execution_count": 1,
   "id": "8a84314f",
   "metadata": {},
   "outputs": [
    {
     "name": "stderr",
     "output_type": "stream",
     "text": [
      "[nltk_data] Downloading package stopwords to /aiffel/nltk_data...\n",
      "[nltk_data]   Package stopwords is already up-to-date!\n"
     ]
    },
    {
     "name": "stdout",
     "output_type": "stream",
     "text": [
      "=3\n"
     ]
    }
   ],
   "source": [
    "import nltk\n",
    "nltk.download('stopwords')\n",
    "\n",
    "import numpy as np\n",
    "import pandas as pd\n",
    "import os\n",
    "import re\n",
    "import matplotlib.pyplot as plt\n",
    "from nltk.corpus import stopwords\n",
    "from bs4 import BeautifulSoup \n",
    "from tensorflow.keras.preprocessing.text import Tokenizer \n",
    "from tensorflow.keras.preprocessing.sequence import pad_sequences\n",
    "import urllib.request\n",
    "import warnings\n",
    "warnings.filterwarnings(\"ignore\", category=UserWarning, module='bs4')\n",
    "\n",
    "print('=3')"
   ]
  },
  {
   "cell_type": "code",
   "execution_count": 2,
   "id": "64a3eaea",
   "metadata": {
    "scrolled": true
   },
   "outputs": [],
   "source": [
    "import urllib.request\n",
    "urllib.request.urlretrieve(\"https://raw.githubusercontent.com/sunnysai12345/News_Summary/master/news_summary_more.csv\", filename=\"news_summary_more.csv\")\n",
    "data2 = pd.read_csv('news_summary_more.csv', encoding='iso-8859-1')"
   ]
  },
  {
   "cell_type": "code",
   "execution_count": 3,
   "id": "23b1adbc",
   "metadata": {
    "scrolled": false
   },
   "outputs": [
    {
     "data": {
      "text/html": [
       "<div>\n",
       "<style scoped>\n",
       "    .dataframe tbody tr th:only-of-type {\n",
       "        vertical-align: middle;\n",
       "    }\n",
       "\n",
       "    .dataframe tbody tr th {\n",
       "        vertical-align: top;\n",
       "    }\n",
       "\n",
       "    .dataframe thead th {\n",
       "        text-align: right;\n",
       "    }\n",
       "</style>\n",
       "<table border=\"1\" class=\"dataframe\">\n",
       "  <thead>\n",
       "    <tr style=\"text-align: right;\">\n",
       "      <th></th>\n",
       "      <th>headlines</th>\n",
       "      <th>text</th>\n",
       "    </tr>\n",
       "  </thead>\n",
       "  <tbody>\n",
       "    <tr>\n",
       "      <th>64417</th>\n",
       "      <td>Insurer offers Apple Watch 3 for $25 if fitnes...</td>\n",
       "      <td>Life insurance provider John Hancock will offe...</td>\n",
       "    </tr>\n",
       "    <tr>\n",
       "      <th>68780</th>\n",
       "      <td>Karni Sena members burn Padmavati posters in J...</td>\n",
       "      <td>According to reports, the members of Rajput or...</td>\n",
       "    </tr>\n",
       "    <tr>\n",
       "      <th>77835</th>\n",
       "      <td>Snapdeal to lay off 80% of its workforce: Report</td>\n",
       "      <td>E-commerce major Snapdeal will reportedly lay ...</td>\n",
       "    </tr>\n",
       "    <tr>\n",
       "      <th>71315</th>\n",
       "      <td>Cosmonaut snaps Atlantic's most powerful hurri...</td>\n",
       "      <td>Russian cosmonaut Sergey Ryazanskiy aboard the...</td>\n",
       "    </tr>\n",
       "    <tr>\n",
       "      <th>7079</th>\n",
       "      <td>We'd be worst blokes if we celebrate like Kohl...</td>\n",
       "      <td>Australia head coach Justin Langer has said if...</td>\n",
       "    </tr>\n",
       "    <tr>\n",
       "      <th>97729</th>\n",
       "      <td>Venezuelan bakers held for making brownies ami...</td>\n",
       "      <td>Four bakers have been arrested in Venezuela fo...</td>\n",
       "    </tr>\n",
       "    <tr>\n",
       "      <th>48091</th>\n",
       "      <td>RBI uncovers Ã¢ÂÂ¹23,000 crore bad loans in S...</td>\n",
       "      <td>The Reserve Bank of India has unearthed hidden...</td>\n",
       "    </tr>\n",
       "    <tr>\n",
       "      <th>41220</th>\n",
       "      <td>Punjab Class 12, 10 CBSE Boards postponed over...</td>\n",
       "      <td>Class 12 and 10 CBSE Board examinations in Pun...</td>\n",
       "    </tr>\n",
       "    <tr>\n",
       "      <th>40415</th>\n",
       "      <td>Real Madrid boss quits 5 days after record 3rd...</td>\n",
       "      <td>Zinedine Zidane has stepped down as Real Madri...</td>\n",
       "    </tr>\n",
       "    <tr>\n",
       "      <th>16793</th>\n",
       "      <td>Tiger Global leads $300 mn funding in US deliv...</td>\n",
       "      <td>American hedge fund Tiger Global Management ha...</td>\n",
       "    </tr>\n",
       "  </tbody>\n",
       "</table>\n",
       "</div>"
      ],
      "text/plain": [
       "                                               headlines  \\\n",
       "64417  Insurer offers Apple Watch 3 for $25 if fitnes...   \n",
       "68780  Karni Sena members burn Padmavati posters in J...   \n",
       "77835   Snapdeal to lay off 80% of its workforce: Report   \n",
       "71315  Cosmonaut snaps Atlantic's most powerful hurri...   \n",
       "7079   We'd be worst blokes if we celebrate like Kohl...   \n",
       "97729  Venezuelan bakers held for making brownies ami...   \n",
       "48091  RBI uncovers Ã¢ÂÂ¹23,000 crore bad loans in S...   \n",
       "41220  Punjab Class 12, 10 CBSE Boards postponed over...   \n",
       "40415  Real Madrid boss quits 5 days after record 3rd...   \n",
       "16793  Tiger Global leads $300 mn funding in US deliv...   \n",
       "\n",
       "                                                    text  \n",
       "64417  Life insurance provider John Hancock will offe...  \n",
       "68780  According to reports, the members of Rajput or...  \n",
       "77835  E-commerce major Snapdeal will reportedly lay ...  \n",
       "71315  Russian cosmonaut Sergey Ryazanskiy aboard the...  \n",
       "7079   Australia head coach Justin Langer has said if...  \n",
       "97729  Four bakers have been arrested in Venezuela fo...  \n",
       "48091  The Reserve Bank of India has unearthed hidden...  \n",
       "41220  Class 12 and 10 CBSE Board examinations in Pun...  \n",
       "40415  Zinedine Zidane has stepped down as Real Madri...  \n",
       "16793  American hedge fund Tiger Global Management ha...  "
      ]
     },
     "execution_count": 3,
     "metadata": {},
     "output_type": "execute_result"
    }
   ],
   "source": [
    "data2.sample(10)"
   ]
  },
  {
   "cell_type": "code",
   "execution_count": 4,
   "id": "c0656fb0",
   "metadata": {},
   "outputs": [
    {
     "name": "stdout",
     "output_type": "stream",
     "text": [
      "전체 샘플수 : 98401\n"
     ]
    }
   ],
   "source": [
    "data2 = pd.read_csv(os.getenv(\"HOME\")+\"/aiffel/E08/news_summary_more.csv\", nrows=100000)\n",
    "print('전체 샘플수 :', (len(data2)))"
   ]
  },
  {
   "cell_type": "code",
   "execution_count": 5,
   "id": "953ae594",
   "metadata": {},
   "outputs": [
    {
     "data": {
      "text/html": [
       "<div>\n",
       "<style scoped>\n",
       "    .dataframe tbody tr th:only-of-type {\n",
       "        vertical-align: middle;\n",
       "    }\n",
       "\n",
       "    .dataframe tbody tr th {\n",
       "        vertical-align: top;\n",
       "    }\n",
       "\n",
       "    .dataframe thead th {\n",
       "        text-align: right;\n",
       "    }\n",
       "</style>\n",
       "<table border=\"1\" class=\"dataframe\">\n",
       "  <thead>\n",
       "    <tr style=\"text-align: right;\">\n",
       "      <th></th>\n",
       "      <th>headlines</th>\n",
       "      <th>text</th>\n",
       "    </tr>\n",
       "  </thead>\n",
       "  <tbody>\n",
       "    <tr>\n",
       "      <th>0</th>\n",
       "      <td>upGrad learner switches to career in ML &amp; Al w...</td>\n",
       "      <td>Saurav Kant, an alumnus of upGrad and IIIT-B's...</td>\n",
       "    </tr>\n",
       "    <tr>\n",
       "      <th>1</th>\n",
       "      <td>Delhi techie wins free food from Swiggy for on...</td>\n",
       "      <td>Kunal Shah's credit card bill payment platform...</td>\n",
       "    </tr>\n",
       "    <tr>\n",
       "      <th>2</th>\n",
       "      <td>New Zealand end Rohit Sharma-led India's 12-ma...</td>\n",
       "      <td>New Zealand defeated India by 8 wickets in the...</td>\n",
       "    </tr>\n",
       "    <tr>\n",
       "      <th>3</th>\n",
       "      <td>Aegon life iTerm insurance plan helps customer...</td>\n",
       "      <td>With Aegon Life iTerm Insurance plan, customer...</td>\n",
       "    </tr>\n",
       "    <tr>\n",
       "      <th>4</th>\n",
       "      <td>Have known Hirani for yrs, what if MeToo claim...</td>\n",
       "      <td>Speaking about the sexual harassment allegatio...</td>\n",
       "    </tr>\n",
       "  </tbody>\n",
       "</table>\n",
       "</div>"
      ],
      "text/plain": [
       "                                           headlines  \\\n",
       "0  upGrad learner switches to career in ML & Al w...   \n",
       "1  Delhi techie wins free food from Swiggy for on...   \n",
       "2  New Zealand end Rohit Sharma-led India's 12-ma...   \n",
       "3  Aegon life iTerm insurance plan helps customer...   \n",
       "4  Have known Hirani for yrs, what if MeToo claim...   \n",
       "\n",
       "                                                text  \n",
       "0  Saurav Kant, an alumnus of upGrad and IIIT-B's...  \n",
       "1  Kunal Shah's credit card bill payment platform...  \n",
       "2  New Zealand defeated India by 8 wickets in the...  \n",
       "3  With Aegon Life iTerm Insurance plan, customer...  \n",
       "4  Speaking about the sexual harassment allegatio...  "
      ]
     },
     "execution_count": 5,
     "metadata": {},
     "output_type": "execute_result"
    }
   ],
   "source": [
    "data2.head()"
   ]
  },
  {
   "cell_type": "code",
   "execution_count": 6,
   "id": "ac304ffa",
   "metadata": {},
   "outputs": [
    {
     "data": {
      "text/html": [
       "<div>\n",
       "<style scoped>\n",
       "    .dataframe tbody tr th:only-of-type {\n",
       "        vertical-align: middle;\n",
       "    }\n",
       "\n",
       "    .dataframe tbody tr th {\n",
       "        vertical-align: top;\n",
       "    }\n",
       "\n",
       "    .dataframe thead th {\n",
       "        text-align: right;\n",
       "    }\n",
       "</style>\n",
       "<table border=\"1\" class=\"dataframe\">\n",
       "  <thead>\n",
       "    <tr style=\"text-align: right;\">\n",
       "      <th></th>\n",
       "      <th>text</th>\n",
       "      <th>headlines</th>\n",
       "    </tr>\n",
       "  </thead>\n",
       "  <tbody>\n",
       "    <tr>\n",
       "      <th>30865</th>\n",
       "      <td>US-based cereal maker Kellogg on Tuesday said ...</td>\n",
       "      <td>Kellogg shuts down Venezuela operations over e...</td>\n",
       "    </tr>\n",
       "    <tr>\n",
       "      <th>65494</th>\n",
       "      <td>The Tamil Nadu government will soon set up coa...</td>\n",
       "      <td>Tamil Nadu govt to set up IAS academies in all...</td>\n",
       "    </tr>\n",
       "    <tr>\n",
       "      <th>59958</th>\n",
       "      <td>Amid growing death threats against actress Dee...</td>\n",
       "      <td>Deepika to skip global summit in Hyd amid deat...</td>\n",
       "    </tr>\n",
       "    <tr>\n",
       "      <th>59314</th>\n",
       "      <td>Indian shuttler PV Sindhu reached the Hong Kon...</td>\n",
       "      <td>Sindhu reaches Hong Kong Open final for second...</td>\n",
       "    </tr>\n",
       "    <tr>\n",
       "      <th>76353</th>\n",
       "      <td>A low-level, horizontal, tube-shaped cloud was...</td>\n",
       "      <td>Video: Rolling fog cloud passes over Californi...</td>\n",
       "    </tr>\n",
       "    <tr>\n",
       "      <th>4355</th>\n",
       "      <td>BJP MPs Om Prakash Yadav and Harish Dwivedi on...</td>\n",
       "      <td>How do you plan to tackle Selfitis, BJP MPs as...</td>\n",
       "    </tr>\n",
       "    <tr>\n",
       "      <th>35113</th>\n",
       "      <td>Engineer Darshan Puttannaiah, who founded a US...</td>\n",
       "      <td>Techie leaves firm he founded in US to fight K...</td>\n",
       "    </tr>\n",
       "    <tr>\n",
       "      <th>95349</th>\n",
       "      <td>Homegrown ride-hailing startup Ola is reported...</td>\n",
       "      <td>Ola may raise â¹650 cr from Tata's RNT Capita...</td>\n",
       "    </tr>\n",
       "    <tr>\n",
       "      <th>61967</th>\n",
       "      <td>Filmmaker Imtiaz Ali, while speaking about Ran...</td>\n",
       "      <td>Ranbir is a bada janwar, he's meant for big th...</td>\n",
       "    </tr>\n",
       "    <tr>\n",
       "      <th>61678</th>\n",
       "      <td>The Union Cabinet has approved â¹25,703 crore...</td>\n",
       "      <td>Cabinet approves â¹25,700 cr for convention c...</td>\n",
       "    </tr>\n",
       "    <tr>\n",
       "      <th>53749</th>\n",
       "      <td>A day after a jawan was killed in a ceasefire ...</td>\n",
       "      <td>BSF destroys Pakistan mortar positions after j...</td>\n",
       "    </tr>\n",
       "    <tr>\n",
       "      <th>8785</th>\n",
       "      <td>Pradeep Musipatla, a candidate of Pyramid Part...</td>\n",
       "      <td>Non-vegetarianism a cause of global warming: T...</td>\n",
       "    </tr>\n",
       "    <tr>\n",
       "      <th>30153</th>\n",
       "      <td>'Shape of You' singer Ed Sheeran won Top Artis...</td>\n",
       "      <td>Ed Sheeran, Taylor Swift win top prizes at Bil...</td>\n",
       "    </tr>\n",
       "    <tr>\n",
       "      <th>10492</th>\n",
       "      <td>Hollywood actor Ezra Miller wore a 'garbage ba...</td>\n",
       "      <td>After Priyanka Chopra, actor Ezra Miller wears...</td>\n",
       "    </tr>\n",
       "    <tr>\n",
       "      <th>89836</th>\n",
       "      <td>The Anti-Corruption Bureau (ACB) has said ex-D...</td>\n",
       "      <td>Mishra submitted no concrete proof against Kej...</td>\n",
       "    </tr>\n",
       "  </tbody>\n",
       "</table>\n",
       "</div>"
      ],
      "text/plain": [
       "                                                    text  \\\n",
       "30865  US-based cereal maker Kellogg on Tuesday said ...   \n",
       "65494  The Tamil Nadu government will soon set up coa...   \n",
       "59958  Amid growing death threats against actress Dee...   \n",
       "59314  Indian shuttler PV Sindhu reached the Hong Kon...   \n",
       "76353  A low-level, horizontal, tube-shaped cloud was...   \n",
       "4355   BJP MPs Om Prakash Yadav and Harish Dwivedi on...   \n",
       "35113  Engineer Darshan Puttannaiah, who founded a US...   \n",
       "95349  Homegrown ride-hailing startup Ola is reported...   \n",
       "61967  Filmmaker Imtiaz Ali, while speaking about Ran...   \n",
       "61678  The Union Cabinet has approved â¹25,703 crore...   \n",
       "53749  A day after a jawan was killed in a ceasefire ...   \n",
       "8785   Pradeep Musipatla, a candidate of Pyramid Part...   \n",
       "30153  'Shape of You' singer Ed Sheeran won Top Artis...   \n",
       "10492  Hollywood actor Ezra Miller wore a 'garbage ba...   \n",
       "89836  The Anti-Corruption Bureau (ACB) has said ex-D...   \n",
       "\n",
       "                                               headlines  \n",
       "30865  Kellogg shuts down Venezuela operations over e...  \n",
       "65494  Tamil Nadu govt to set up IAS academies in all...  \n",
       "59958  Deepika to skip global summit in Hyd amid deat...  \n",
       "59314  Sindhu reaches Hong Kong Open final for second...  \n",
       "76353  Video: Rolling fog cloud passes over Californi...  \n",
       "4355   How do you plan to tackle Selfitis, BJP MPs as...  \n",
       "35113  Techie leaves firm he founded in US to fight K...  \n",
       "95349  Ola may raise â¹650 cr from Tata's RNT Capita...  \n",
       "61967  Ranbir is a bada janwar, he's meant for big th...  \n",
       "61678  Cabinet approves â¹25,700 cr for convention c...  \n",
       "53749  BSF destroys Pakistan mortar positions after j...  \n",
       "8785   Non-vegetarianism a cause of global warming: T...  \n",
       "30153  Ed Sheeran, Taylor Swift win top prizes at Bil...  \n",
       "10492  After Priyanka Chopra, actor Ezra Miller wears...  \n",
       "89836  Mishra submitted no concrete proof against Kej...  "
      ]
     },
     "execution_count": 6,
     "metadata": {},
     "output_type": "execute_result"
    }
   ],
   "source": [
    "data2 = data2[['text','headlines']]\n",
    "data2.head()\n",
    "\n",
    "#랜덤한 15개 샘플 출력\n",
    "data2.sample(15)"
   ]
  },
  {
   "cell_type": "code",
   "execution_count": 7,
   "id": "5ba37a2b",
   "metadata": {},
   "outputs": [
    {
     "name": "stdout",
     "output_type": "stream",
     "text": [
      "text 열에서 중복을 배제한 유일한 샘플의 수 : 98360\n",
      "headlines 열에서 중복을 배제한 유일한 샘플의 수 : 98280\n"
     ]
    }
   ],
   "source": [
    "print('text 열에서 중복을 배제한 유일한 샘플의 수 :', data2['text'].nunique())\n",
    "print('headlines 열에서 중복을 배제한 유일한 샘플의 수 :', data2['headlines'].nunique())"
   ]
  },
  {
   "cell_type": "code",
   "execution_count": 8,
   "id": "7354b85a",
   "metadata": {},
   "outputs": [
    {
     "name": "stdout",
     "output_type": "stream",
     "text": [
      "전체 샘플수 : 98360\n"
     ]
    }
   ],
   "source": [
    "# inplace=True 를 설정하면 DataFrame 타입 값을 return 하지 않고 data 내부를 직접적으로 바꿉니다\n",
    "data2.drop_duplicates(subset = ['text'], inplace=True)\n",
    "print('전체 샘플수 :', (len(data2)))"
   ]
  },
  {
   "cell_type": "code",
   "execution_count": 9,
   "id": "5e937286",
   "metadata": {},
   "outputs": [
    {
     "name": "stdout",
     "output_type": "stream",
     "text": [
      "text         0\n",
      "headlines    0\n",
      "dtype: int64\n"
     ]
    }
   ],
   "source": [
    "print(data2.isnull().sum())"
   ]
  },
  {
   "cell_type": "code",
   "execution_count": 10,
   "id": "747fa601",
   "metadata": {},
   "outputs": [
    {
     "name": "stdout",
     "output_type": "stream",
     "text": [
      "전체 샘플수 : 98360\n"
     ]
    }
   ],
   "source": [
    "data2.dropna(axis=0, inplace=True)\n",
    "print('전체 샘플수 :', (len(data2)))"
   ]
  },
  {
   "cell_type": "code",
   "execution_count": 11,
   "id": "0a27b355",
   "metadata": {},
   "outputs": [
    {
     "name": "stdout",
     "output_type": "stream",
     "text": [
      "정규화 사전의 수:  120\n"
     ]
    }
   ],
   "source": [
    "contractions = {\"ain't\": \"is not\", \"aren't\": \"are not\",\"can't\": \"cannot\", \"'cause\": \"because\", \"could've\": \"could have\", \"couldn't\": \"could not\",\n",
    "                           \"didn't\": \"did not\",  \"doesn't\": \"does not\", \"don't\": \"do not\", \"hadn't\": \"had not\", \"hasn't\": \"has not\", \"haven't\": \"have not\",\n",
    "                           \"he'd\": \"he would\",\"he'll\": \"he will\", \"he's\": \"he is\", \"how'd\": \"how did\", \"how'd'y\": \"how do you\", \"how'll\": \"how will\", \"how's\": \"how is\",\n",
    "                           \"I'd\": \"I would\", \"I'd've\": \"I would have\", \"I'll\": \"I will\", \"I'll've\": \"I will have\",\"I'm\": \"I am\", \"I've\": \"I have\", \"i'd\": \"i would\",\n",
    "                           \"i'd've\": \"i would have\", \"i'll\": \"i will\",  \"i'll've\": \"i will have\",\"i'm\": \"i am\", \"i've\": \"i have\", \"isn't\": \"is not\", \"it'd\": \"it would\",\n",
    "                           \"it'd've\": \"it would have\", \"it'll\": \"it will\", \"it'll've\": \"it will have\",\"it's\": \"it is\", \"let's\": \"let us\", \"ma'am\": \"madam\",\n",
    "                           \"mayn't\": \"may not\", \"might've\": \"might have\",\"mightn't\": \"might not\",\"mightn't've\": \"might not have\", \"must've\": \"must have\",\n",
    "                           \"mustn't\": \"must not\", \"mustn't've\": \"must not have\", \"needn't\": \"need not\", \"needn't've\": \"need not have\",\"o'clock\": \"of the clock\",\n",
    "                           \"oughtn't\": \"ought not\", \"oughtn't've\": \"ought not have\", \"shan't\": \"shall not\", \"sha'n't\": \"shall not\", \"shan't've\": \"shall not have\",\n",
    "                           \"she'd\": \"she would\", \"she'd've\": \"she would have\", \"she'll\": \"she will\", \"she'll've\": \"she will have\", \"she's\": \"she is\",\n",
    "                           \"should've\": \"should have\", \"shouldn't\": \"should not\", \"shouldn't've\": \"should not have\", \"so've\": \"so have\",\"so's\": \"so as\",\n",
    "                           \"this's\": \"this is\",\"that'd\": \"that would\", \"that'd've\": \"that would have\", \"that's\": \"that is\", \"there'd\": \"there would\",\n",
    "                           \"there'd've\": \"there would have\", \"there's\": \"there is\", \"here's\": \"here is\",\"they'd\": \"they would\", \"they'd've\": \"they would have\",\n",
    "                           \"they'll\": \"they will\", \"they'll've\": \"they will have\", \"they're\": \"they are\", \"they've\": \"they have\", \"to've\": \"to have\",\n",
    "                           \"wasn't\": \"was not\", \"we'd\": \"we would\", \"we'd've\": \"we would have\", \"we'll\": \"we will\", \"we'll've\": \"we will have\", \"we're\": \"we are\",\n",
    "                           \"we've\": \"we have\", \"weren't\": \"were not\", \"what'll\": \"what will\", \"what'll've\": \"what will have\", \"what're\": \"what are\",\n",
    "                           \"what's\": \"what is\", \"what've\": \"what have\", \"when's\": \"when is\", \"when've\": \"when have\", \"where'd\": \"where did\", \"where's\": \"where is\",\n",
    "                           \"where've\": \"where have\", \"who'll\": \"who will\", \"who'll've\": \"who will have\", \"who's\": \"who is\", \"who've\": \"who have\",\n",
    "                           \"why's\": \"why is\", \"why've\": \"why have\", \"will've\": \"will have\", \"won't\": \"will not\", \"won't've\": \"will not have\",\n",
    "                           \"would've\": \"would have\", \"wouldn't\": \"would not\", \"wouldn't've\": \"would not have\", \"y'all\": \"you all\",\n",
    "                           \"y'all'd\": \"you all would\",\"y'all'd've\": \"you all would have\",\"y'all're\": \"you all are\",\"y'all've\": \"you all have\",\n",
    "                           \"you'd\": \"you would\", \"you'd've\": \"you would have\", \"you'll\": \"you will\", \"you'll've\": \"you will have\",\n",
    "                           \"you're\": \"you are\", \"you've\": \"you have\"}\n",
    "\n",
    "print(\"정규화 사전의 수: \", len(contractions))"
   ]
  },
  {
   "cell_type": "code",
   "execution_count": 12,
   "id": "372579ac",
   "metadata": {},
   "outputs": [
    {
     "name": "stdout",
     "output_type": "stream",
     "text": [
      "불용어 개수 : 179\n",
      "['i', 'me', 'my', 'myself', 'we', 'our', 'ours', 'ourselves', 'you', \"you're\", \"you've\", \"you'll\", \"you'd\", 'your', 'yours', 'yourself', 'yourselves', 'he', 'him', 'his', 'himself', 'she', \"she's\", 'her', 'hers', 'herself', 'it', \"it's\", 'its', 'itself', 'they', 'them', 'their', 'theirs', 'themselves', 'what', 'which', 'who', 'whom', 'this', 'that', \"that'll\", 'these', 'those', 'am', 'is', 'are', 'was', 'were', 'be', 'been', 'being', 'have', 'has', 'had', 'having', 'do', 'does', 'did', 'doing', 'a', 'an', 'the', 'and', 'but', 'if', 'or', 'because', 'as', 'until', 'while', 'of', 'at', 'by', 'for', 'with', 'about', 'against', 'between', 'into', 'through', 'during', 'before', 'after', 'above', 'below', 'to', 'from', 'up', 'down', 'in', 'out', 'on', 'off', 'over', 'under', 'again', 'further', 'then', 'once', 'here', 'there', 'when', 'where', 'why', 'how', 'all', 'any', 'both', 'each', 'few', 'more', 'most', 'other', 'some', 'such', 'no', 'nor', 'not', 'only', 'own', 'same', 'so', 'than', 'too', 'very', 's', 't', 'can', 'will', 'just', 'don', \"don't\", 'should', \"should've\", 'now', 'd', 'll', 'm', 'o', 're', 've', 'y', 'ain', 'aren', \"aren't\", 'couldn', \"couldn't\", 'didn', \"didn't\", 'doesn', \"doesn't\", 'hadn', \"hadn't\", 'hasn', \"hasn't\", 'haven', \"haven't\", 'isn', \"isn't\", 'ma', 'mightn', \"mightn't\", 'mustn', \"mustn't\", 'needn', \"needn't\", 'shan', \"shan't\", 'shouldn', \"shouldn't\", 'wasn', \"wasn't\", 'weren', \"weren't\", 'won', \"won't\", 'wouldn', \"wouldn't\"]\n"
     ]
    }
   ],
   "source": [
    "print('불용어 개수 :', len(stopwords.words('english') ))\n",
    "print(stopwords.words('english'))"
   ]
  },
  {
   "cell_type": "code",
   "execution_count": 13,
   "id": "4f520331",
   "metadata": {},
   "outputs": [
    {
     "name": "stdout",
     "output_type": "stream",
     "text": [
      "=3\n"
     ]
    }
   ],
   "source": [
    "# 데이터 전처리 함수\n",
    "def preprocess_sentence_stpwdin(sentence, remove_stopwords=True):\n",
    "    sentence = sentence.lower() # 텍스트 소문자화\n",
    "    sentence = BeautifulSoup(sentence, \"lxml\").text # <br />, <a href = ...> 등의 html 태그 제거\n",
    "    sentence = re.sub(r'\\([^)]*\\)', '', sentence) # 괄호로 닫힌 문자열 (...) 제거 Ex) my husband (and myself!) for => my husband for\n",
    "    sentence = re.sub('\"','', sentence) # 쌍따옴표 \" 제거\n",
    "    sentence = ' '.join([contractions[t] if t in contractions else t for t in sentence.split(\" \")]) # 약어 정규화\n",
    "    sentence = re.sub(r\"'s\\b\",\"\", sentence) # 소유격 제거. Ex) roland's -> roland\n",
    "    sentence = re.sub(\"[^a-zA-Z]\", \" \", sentence) # 영어 외 문자(숫자, 특수문자 등) 공백으로 변환\n",
    "    sentence = re.sub('[m]{2,}', 'mm', sentence) # m이 3개 이상이면 2개로 변경. Ex) ummmmmmm yeah -> umm yeah\n",
    "    \n",
    "    # 불용어 제거 (text)\n",
    "    if remove_stopwords:\n",
    "        tokens = ' '.join(word for word in sentence.split() if not word in stopwords.words('english') if len(word) > 1)\n",
    "    # 불용어 미제거 (headlines)\n",
    "    else:\n",
    "        tokens = ' '.join(word for word in sentence.split() if len(word) > 1)\n",
    "    return tokens\n",
    "print('=3')"
   ]
  },
  {
   "cell_type": "code",
   "execution_count": 14,
   "id": "6e708703",
   "metadata": {},
   "outputs": [
    {
     "name": "stdout",
     "output_type": "stream",
     "text": [
      "text:  everything bought great infact ordered twice third ordered wasfor mother father\n",
      "summary: great way to start the day\n"
     ]
    }
   ],
   "source": [
    "temp_text = 'Everything I bought was great, infact I ordered twice and the third ordered was<br />for my mother and father.'\n",
    "temp_summary = 'Great way to start (or finish) the day!!!'\n",
    "\n",
    "print(\"text: \", preprocess_sentence_stpwdin(temp_text))\n",
    "print(\"summary:\", preprocess_sentence_stpwdin(temp_summary, False))  # 불용어를 제거하지 않습니다."
   ]
  },
  {
   "cell_type": "code",
   "execution_count": 15,
   "id": "5564560d",
   "metadata": {},
   "outputs": [
    {
     "name": "stdout",
     "output_type": "stream",
     "text": [
      "text 전처리 후 결과:  ['saurav kant alumnus upgrad iiit pg program machine learning artificial intelligence sr systems engineer infosys almost years work experience program upgrad degree career support helped transition data scientist tech mahindra salary hike upgrad online power learning powered lakh careers', 'kunal shah credit card bill payment platform cred gave users chance win free food swiggy one year pranav kaushik delhi techie bagged reward spending cred coins users get one cred coin per rupee bill paid used avail rewards brands like ixigo bookmyshow ubereats cult fit', 'new zealand defeated india wickets fourth odi hamilton thursday win first match five match odi series india lost international match rohit sharma captaincy consecutive victories dating back march match witnessed india getting seventh lowest total odi cricket history', 'aegon life iterm insurance plan customers enjoy tax benefits premiums paid save taxes plan provides life cover age years also customers options insure critical illnesses disability accidental death benefit rider life cover age years', 'speaking sexual harassment allegations rajkumar hirani sonam kapoor said known hirani many years true metoo movement get derailed metoo movement always believe woman case need reserve judgment added hirani accused assistant worked sanju']\n"
     ]
    }
   ],
   "source": [
    "clean_text2 = []\n",
    "# 전체 Text 데이터에 대한 전처리 : 10분 이상 시간이 걸릴 수 있습니다. \n",
    "for s in data2['text']:\n",
    "    clean_text2.append(preprocess_sentence_stpwdin(s))\n",
    "\n",
    "# 전처리 후 출력\n",
    "print(\"text 전처리 후 결과: \", clean_text2[:5])"
   ]
  },
  {
   "cell_type": "code",
   "execution_count": 16,
   "id": "9096635d",
   "metadata": {},
   "outputs": [
    {
     "name": "stdout",
     "output_type": "stream",
     "text": [
      "headlines 전처리 후 결과:  ['upgrad learner switches to career in ml al with salary hike', 'delhi techie wins free food from swiggy for one year on cred', 'new zealand end rohit sharma led india match winning streak', 'aegon life iterm insurance plan helps customers save tax', 'have known hirani for yrs what if metoo claims are not true sonam']\n"
     ]
    }
   ],
   "source": [
    "clean_headlines = []\n",
    "# 전체 Summary 데이터에 대한 전처리 : 5분 이상 시간이 걸릴 수 있습니다. \n",
    "for s in data2['headlines']:\n",
    "    clean_headlines.append(preprocess_sentence_stpwdin(s, False))\n",
    "\n",
    "print(\"headlines 전처리 후 결과: \", clean_headlines[:5])"
   ]
  },
  {
   "cell_type": "code",
   "execution_count": 17,
   "id": "4a09f37c",
   "metadata": {},
   "outputs": [
    {
     "name": "stdout",
     "output_type": "stream",
     "text": [
      "텍스트의 최소 길이 : 1\n",
      "텍스트의 최대 길이 : 66\n",
      "텍스트의 평균 길이 : 58.23730174867833\n",
      "요약의 최소 길이 : 1\n",
      "요약의 최대 길이 : 18\n",
      "요약의 평균 길이 : 9.553629524196827\n"
     ]
    },
    {
     "data": {
      "image/png": "[encoded data removed]",
      "text/plain": [
       "<Figure size 432x288 with 2 Axes>"
      ]
     },
     "metadata": {
      "needs_background": "light"
     },
     "output_type": "display_data"
    },
    {
     "data": {
      "image/png": "[encoded data removed]",
      "text/plain": [
       "<Figure size 432x288 with 1 Axes>"
      ]
     },
     "metadata": {
      "needs_background": "light"
     },
     "output_type": "display_data"
    },
    {
     "data": {
      "image/png": "[encoded data removed]",
      "text/plain": [
       "<Figure size 432x288 with 1 Axes>"
      ]
     },
     "metadata": {
      "needs_background": "light"
     },
     "output_type": "display_data"
    }
   ],
   "source": [
    "# 길이 분포 출력\n",
    "import matplotlib.pyplot as plt\n",
    "\n",
    "text2_len = [len(s.split()) for s in data2['text']]\n",
    "headlines_len = [len(s.split()) for s in data2['headlines']]\n",
    "\n",
    "print('텍스트의 최소 길이 : {}'.format(np.min(text2_len)))\n",
    "print('텍스트의 최대 길이 : {}'.format(np.max(text2_len)))\n",
    "print('텍스트의 평균 길이 : {}'.format(np.mean(text2_len)))\n",
    "print('요약의 최소 길이 : {}'.format(np.min(headlines_len)))\n",
    "print('요약의 최대 길이 : {}'.format(np.max(headlines_len)))\n",
    "print('요약의 평균 길이 : {}'.format(np.mean(headlines_len)))\n",
    "\n",
    "plt.subplot(1,2,1)\n",
    "plt.boxplot(text2_len)\n",
    "plt.title('text')\n",
    "plt.subplot(1,2,2)\n",
    "plt.boxplot(headlines_len)\n",
    "plt.title('headlines')\n",
    "plt.tight_layout()\n",
    "plt.show()\n",
    "\n",
    "plt.title('text')\n",
    "plt.hist(text2_len, bins = 40)\n",
    "plt.xlabel('length of samples')\n",
    "plt.ylabel('number of samples')\n",
    "plt.show()\n",
    "\n",
    "plt.title('headlines')\n",
    "plt.hist(headlines_len, bins = 40)\n",
    "plt.xlabel('length of samples')\n",
    "plt.ylabel('number of samples')\n",
    "plt.show()"
   ]
  },
  {
   "cell_type": "code",
   "execution_count": 18,
   "id": "f31eddd2",
   "metadata": {},
   "outputs": [
    {
     "name": "stdout",
     "output_type": "stream",
     "text": [
      "=3\n"
     ]
    }
   ],
   "source": [
    "text2_max_len = 60\n",
    "headlines_max_len = 12\n",
    "print('=3')"
   ]
  },
  {
   "cell_type": "code",
   "execution_count": 19,
   "id": "ef57c61d",
   "metadata": {},
   "outputs": [
    {
     "name": "stdout",
     "output_type": "stream",
     "text": [
      "=3\n"
     ]
    }
   ],
   "source": [
    "def below_threshold_len(max_len, nested_list):\n",
    "  cnt = 0\n",
    "  for s in nested_list:\n",
    "    if(len(s.split()) <= max_len):\n",
    "        cnt = cnt + 1\n",
    "  print('전체 샘플 중 길이가 %s 이하인 샘플의 비율: %s'%(max_len, (cnt / len(nested_list))))\n",
    "print('=3')"
   ]
  },
  {
   "cell_type": "code",
   "execution_count": 20,
   "id": "65e7ac2b",
   "metadata": {},
   "outputs": [
    {
     "name": "stdout",
     "output_type": "stream",
     "text": [
      "전체 샘플 중 길이가 60 이하인 샘플의 비율: 0.9976311508743392\n",
      "전체 샘플 중 길이가 12 이하인 샘플의 비율: 0.9768198454656364\n"
     ]
    }
   ],
   "source": [
    "below_threshold_len(text2_max_len, data2['text'])\n",
    "below_threshold_len(headlines_max_len,  data2['headlines'])"
   ]
  },
  {
   "cell_type": "code",
   "execution_count": 21,
   "id": "fffeae16",
   "metadata": {},
   "outputs": [
    {
     "name": "stdout",
     "output_type": "stream",
     "text": [
      "전체 샘플수 : 95855\n"
     ]
    }
   ],
   "source": [
    "data2 = data2[data2['text'].apply(lambda x: len(x.split()) <= text2_max_len)]\n",
    "data2 = data2[data2['headlines'].apply(lambda x: len(x.split()) <= headlines_max_len)]\n",
    "print('전체 샘플수 :', (len(data2)))"
   ]
  },
  {
   "cell_type": "code",
   "execution_count": 22,
   "id": "1965ec8d",
   "metadata": {},
   "outputs": [
    {
     "data": {
      "text/html": [
       "<div>\n",
       "<style scoped>\n",
       "    .dataframe tbody tr th:only-of-type {\n",
       "        vertical-align: middle;\n",
       "    }\n",
       "\n",
       "    .dataframe tbody tr th {\n",
       "        vertical-align: top;\n",
       "    }\n",
       "\n",
       "    .dataframe thead th {\n",
       "        text-align: right;\n",
       "    }\n",
       "</style>\n",
       "<table border=\"1\" class=\"dataframe\">\n",
       "  <thead>\n",
       "    <tr style=\"text-align: right;\">\n",
       "      <th></th>\n",
       "      <th>text</th>\n",
       "      <th>headlines</th>\n",
       "      <th>decoder_input</th>\n",
       "      <th>decoder_target</th>\n",
       "    </tr>\n",
       "  </thead>\n",
       "  <tbody>\n",
       "    <tr>\n",
       "      <th>1</th>\n",
       "      <td>Kunal Shah's credit card bill payment platform...</td>\n",
       "      <td>Delhi techie wins free food from Swiggy for on...</td>\n",
       "      <td>sostoken Delhi techie wins free food from Swig...</td>\n",
       "      <td>Delhi techie wins free food from Swiggy for on...</td>\n",
       "    </tr>\n",
       "    <tr>\n",
       "      <th>2</th>\n",
       "      <td>New Zealand defeated India by 8 wickets in the...</td>\n",
       "      <td>New Zealand end Rohit Sharma-led India's 12-ma...</td>\n",
       "      <td>sostoken New Zealand end Rohit Sharma-led Indi...</td>\n",
       "      <td>New Zealand end Rohit Sharma-led India's 12-ma...</td>\n",
       "    </tr>\n",
       "    <tr>\n",
       "      <th>3</th>\n",
       "      <td>With Aegon Life iTerm Insurance plan, customer...</td>\n",
       "      <td>Aegon life iTerm insurance plan helps customer...</td>\n",
       "      <td>sostoken Aegon life iTerm insurance plan helps...</td>\n",
       "      <td>Aegon life iTerm insurance plan helps customer...</td>\n",
       "    </tr>\n",
       "    <tr>\n",
       "      <th>5</th>\n",
       "      <td>Pakistani singer Rahat Fateh Ali Khan has deni...</td>\n",
       "      <td>Rahat Fateh Ali Khan denies getting notice for...</td>\n",
       "      <td>sostoken Rahat Fateh Ali Khan denies getting n...</td>\n",
       "      <td>Rahat Fateh Ali Khan denies getting notice for...</td>\n",
       "    </tr>\n",
       "    <tr>\n",
       "      <th>7</th>\n",
       "      <td>Weeks after ex-CBI Director Alok Verma told th...</td>\n",
       "      <td>Govt directs Alok Verma to join work 1 day bef...</td>\n",
       "      <td>sostoken Govt directs Alok Verma to join work ...</td>\n",
       "      <td>Govt directs Alok Verma to join work 1 day bef...</td>\n",
       "    </tr>\n",
       "  </tbody>\n",
       "</table>\n",
       "</div>"
      ],
      "text/plain": [
       "                                                text  \\\n",
       "1  Kunal Shah's credit card bill payment platform...   \n",
       "2  New Zealand defeated India by 8 wickets in the...   \n",
       "3  With Aegon Life iTerm Insurance plan, customer...   \n",
       "5  Pakistani singer Rahat Fateh Ali Khan has deni...   \n",
       "7  Weeks after ex-CBI Director Alok Verma told th...   \n",
       "\n",
       "                                           headlines  \\\n",
       "1  Delhi techie wins free food from Swiggy for on...   \n",
       "2  New Zealand end Rohit Sharma-led India's 12-ma...   \n",
       "3  Aegon life iTerm insurance plan helps customer...   \n",
       "5  Rahat Fateh Ali Khan denies getting notice for...   \n",
       "7  Govt directs Alok Verma to join work 1 day bef...   \n",
       "\n",
       "                                       decoder_input  \\\n",
       "1  sostoken Delhi techie wins free food from Swig...   \n",
       "2  sostoken New Zealand end Rohit Sharma-led Indi...   \n",
       "3  sostoken Aegon life iTerm insurance plan helps...   \n",
       "5  sostoken Rahat Fateh Ali Khan denies getting n...   \n",
       "7  sostoken Govt directs Alok Verma to join work ...   \n",
       "\n",
       "                                      decoder_target  \n",
       "1  Delhi techie wins free food from Swiggy for on...  \n",
       "2  New Zealand end Rohit Sharma-led India's 12-ma...  \n",
       "3  Aegon life iTerm insurance plan helps customer...  \n",
       "5  Rahat Fateh Ali Khan denies getting notice for...  \n",
       "7  Govt directs Alok Verma to join work 1 day bef...  "
      ]
     },
     "execution_count": 22,
     "metadata": {},
     "output_type": "execute_result"
    }
   ],
   "source": [
    "# 요약 데이터에는 시작 토큰과 종료 토큰을 추가한다.\n",
    "data2['decoder_input'] = data2['headlines'].apply(lambda x : 'sostoken '+ x)\n",
    "data2['decoder_target'] = data2['headlines'].apply(lambda x : x + ' eostoken')\n",
    "data2.head()"
   ]
  },
  {
   "cell_type": "code",
   "execution_count": 23,
   "id": "0fca6867",
   "metadata": {},
   "outputs": [
    {
     "name": "stdout",
     "output_type": "stream",
     "text": [
      "=3\n"
     ]
    }
   ],
   "source": [
    "encoder_input2 = np.array(data2['text']) # 인코더의 입력\n",
    "decoder_input2 = np.array(data2['decoder_input']) # 디코더의 입력\n",
    "decoder_target2 = np.array(data2['decoder_target']) # 디코더의 레이블\n",
    "print('=3')"
   ]
  },
  {
   "cell_type": "code",
   "execution_count": 24,
   "id": "69b53ee2",
   "metadata": {},
   "outputs": [
    {
     "name": "stdout",
     "output_type": "stream",
     "text": [
      "[ 7043 28020 95718 ... 32777 38386 30042]\n"
     ]
    }
   ],
   "source": [
    "indices2 = np.arange(encoder_input2.shape[0])\n",
    "np.random.shuffle(indices2)\n",
    "print(indices2)"
   ]
  },
  {
   "cell_type": "code",
   "execution_count": 25,
   "id": "890c8897",
   "metadata": {},
   "outputs": [
    {
     "name": "stdout",
     "output_type": "stream",
     "text": [
      "=3\n"
     ]
    }
   ],
   "source": [
    "encoder_input2 = encoder_input2[indices2]\n",
    "decoder_input2 = decoder_input2[indices2]\n",
    "decoder_target2 = decoder_target2[indices2]\n",
    "print('=3')"
   ]
  },
  {
   "cell_type": "code",
   "execution_count": 26,
   "id": "1d91f9c4",
   "metadata": {},
   "outputs": [
    {
     "name": "stdout",
     "output_type": "stream",
     "text": [
      "테스트 데이터의 수 : 19171\n"
     ]
    }
   ],
   "source": [
    "n_of_val2 = int(len(encoder_input2)*0.2)\n",
    "print('테스트 데이터의 수 :', n_of_val2)"
   ]
  },
  {
   "cell_type": "code",
   "execution_count": 27,
   "id": "7745f08e",
   "metadata": {},
   "outputs": [
    {
     "name": "stdout",
     "output_type": "stream",
     "text": [
      "훈련 데이터의 개수 : 76684\n",
      "훈련 레이블의 개수 : 76684\n",
      "테스트 데이터의 개수 : 19171\n",
      "테스트 레이블의 개수 : 19171\n"
     ]
    }
   ],
   "source": [
    "encoder_input2_train = encoder_input2[:-n_of_val2]\n",
    "decoder_input2_train = decoder_input2[:-n_of_val2]\n",
    "decoder_target2_train = decoder_target2[:-n_of_val2]\n",
    "\n",
    "encoder_input2_test = encoder_input2[-n_of_val2:]\n",
    "decoder_input2_test = decoder_input2[-n_of_val2:]\n",
    "decoder_target2_test = decoder_target2[-n_of_val2:]\n",
    "\n",
    "print('훈련 데이터의 개수 :', len(encoder_input2_train))\n",
    "print('훈련 레이블의 개수 :', len(decoder_input2_train))\n",
    "print('테스트 데이터의 개수 :', len(encoder_input2_test))\n",
    "print('테스트 레이블의 개수 :', len(decoder_input2_test))"
   ]
  },
  {
   "cell_type": "code",
   "execution_count": 28,
   "id": "980ed3f1",
   "metadata": {},
   "outputs": [
    {
     "name": "stdout",
     "output_type": "stream",
     "text": [
      "=3\n"
     ]
    }
   ],
   "source": [
    "src_tokenizer2 = Tokenizer() # 토크나이저 정의\n",
    "src_tokenizer2.fit_on_texts(encoder_input2_train) # 입력된 데이터로부터 단어 집합 생성\n",
    "print('=3')"
   ]
  },
  {
   "cell_type": "code",
   "execution_count": 29,
   "id": "cb40027c",
   "metadata": {},
   "outputs": [
    {
     "name": "stdout",
     "output_type": "stream",
     "text": [
      "단어 집합(vocabulary)의 크기 : 90338\n",
      "등장 빈도가 6번 이하인 희귀 단어의 수: 65831\n",
      "단어 집합에서 희귀 단어를 제외시킬 경우의 단어 집합의 크기 24507\n",
      "단어 집합에서 희귀 단어의 비율: 72.87188115743099\n",
      "전체 등장 빈도에서 희귀 단어 등장 빈도 비율: 2.769915423716606\n"
     ]
    }
   ],
   "source": [
    "threshold = 7\n",
    "total_cnt = len(src_tokenizer2.word_index) # 단어의 수\n",
    "rare_cnt = 0 # 등장 빈도수가 threshold보다 작은 단어의 개수를 카운트\n",
    "total_freq = 0 # 훈련 데이터의 전체 단어 빈도수 총 합\n",
    "rare_freq = 0 # 등장 빈도수가 threshold보다 작은 단어의 등장 빈도수의 총 합\n",
    "\n",
    "# 단어와 빈도수의 쌍(pair)을 key와 value로 받는다.\n",
    "for key, value in src_tokenizer2.word_counts.items():\n",
    "    total_freq = total_freq + value\n",
    "\n",
    "    # 단어의 등장 빈도수가 threshold보다 작으면\n",
    "    if(value < threshold):\n",
    "        rare_cnt = rare_cnt + 1\n",
    "        rare_freq = rare_freq + value\n",
    "\n",
    "print('단어 집합(vocabulary)의 크기 :', total_cnt)\n",
    "print('등장 빈도가 %s번 이하인 희귀 단어의 수: %s'%(threshold - 1, rare_cnt))\n",
    "print('단어 집합에서 희귀 단어를 제외시킬 경우의 단어 집합의 크기 %s'%(total_cnt - rare_cnt))\n",
    "print(\"단어 집합에서 희귀 단어의 비율:\", (rare_cnt / total_cnt)*100)\n",
    "print(\"전체 등장 빈도에서 희귀 단어 등장 빈도 비율:\", (rare_freq / total_freq)*100)"
   ]
  },
  {
   "cell_type": "code",
   "execution_count": 30,
   "id": "88f5c1df",
   "metadata": {},
   "outputs": [
    {
     "name": "stdout",
     "output_type": "stream",
     "text": [
      "=3\n"
     ]
    }
   ],
   "source": [
    "src_vocab = 8000\n",
    "src_tokenizer2 = Tokenizer(num_words=src_vocab) # 단어 집합의 크기를 8,000으로 제한\n",
    "src_tokenizer2.fit_on_texts(encoder_input2_train) # 단어 집합 재생성\n",
    "print('=3')"
   ]
  },
  {
   "cell_type": "code",
   "execution_count": 31,
   "id": "b0f28fca",
   "metadata": {},
   "outputs": [
    {
     "name": "stdout",
     "output_type": "stream",
     "text": [
      "[[76, 39, 180, 1425, 3534, 8, 181, 11, 2393, 214, 7400, 13, 3059, 614, 18, 163, 3947, 2, 395, 9, 167, 147, 3787, 3534, 2945, 1, 3330, 5, 740, 28, 2557, 1818, 3, 727, 65, 2, 1, 39, 1573, 660, 17, 4, 1216, 193, 14, 32, 11, 53, 193, 16, 220, 6, 2866], [755, 6955, 8, 99, 331, 170, 3187, 1407, 5, 1681, 18, 424, 5, 17, 1254, 4, 35, 2351, 130, 2221, 80, 295, 271, 1508, 32, 70, 14, 6597, 331, 21, 10, 1, 130, 12, 111, 9, 2351, 333, 6, 773, 101, 1336, 331, 10, 1, 1093, 28, 115, 1, 130, 8, 29, 7901, 5, 35, 4016, 7106, 1099], [581, 8, 10, 11, 42, 6858, 1, 7107, 880, 4, 2222, 423, 209, 1, 3924, 31, 55, 581, 32, 11, 13, 624, 50, 630, 585, 2, 5946, 2, 2222, 6, 71, 2222, 43, 521, 74, 5, 7028, 3567, 63, 875, 11, 1353, 7029, 162, 1864, 1, 848, 1330, 6, 1029, 137, 4350, 2222]]\n"
     ]
    }
   ],
   "source": [
    "# 텍스트 시퀀스를 정수 시퀀스로 변환\n",
    "encoder_input2_train = src_tokenizer2.texts_to_sequences(encoder_input2_train) \n",
    "encoder_input2_test = src_tokenizer2.texts_to_sequences(encoder_input2_test)\n",
    "\n",
    "# 잘 진행되었는지 샘플 출력\n",
    "print(encoder_input2_train[:3])"
   ]
  },
  {
   "cell_type": "code",
   "execution_count": 32,
   "id": "48ad3255",
   "metadata": {},
   "outputs": [
    {
     "name": "stdout",
     "output_type": "stream",
     "text": [
      "=3\n"
     ]
    }
   ],
   "source": [
    "tar_tokenizer2 = Tokenizer()\n",
    "tar_tokenizer2.fit_on_texts(decoder_input2_train)\n",
    "print('=3')"
   ]
  },
  {
   "cell_type": "code",
   "execution_count": 33,
   "id": "c21b619b",
   "metadata": {},
   "outputs": [
    {
     "name": "stdout",
     "output_type": "stream",
     "text": [
      "단어 집합(vocabulary)의 크기 : 40457\n",
      "등장 빈도가 5번 이하인 희귀 단어의 수: 29287\n",
      "단어 집합에서 희귀 단어를 제외시킬 경우의 단어 집합의 크기 11170\n",
      "단어 집합에서 희귀 단어의 비율: 72.39043923177695\n",
      "전체 등장 빈도에서 희귀 단어 등장 빈도 비율: 6.306143248112008\n"
     ]
    }
   ],
   "source": [
    "threshold = 6\n",
    "total_cnt = len(tar_tokenizer2.word_index) # 단어의 수\n",
    "rare_cnt = 0 # 등장 빈도수가 threshold보다 작은 단어의 개수를 카운트\n",
    "total_freq = 0 # 훈련 데이터의 전체 단어 빈도수 총 합\n",
    "rare_freq = 0 # 등장 빈도수가 threshold보다 작은 단어의 등장 빈도수의 총 합\n",
    "\n",
    "# 단어와 빈도수의 쌍(pair)을 key와 value로 받는다.\n",
    "for key, value in tar_tokenizer2.word_counts.items():\n",
    "    total_freq = total_freq + value\n",
    "\n",
    "    # 단어의 등장 빈도수가 threshold보다 작으면\n",
    "    if(value < threshold):\n",
    "        rare_cnt = rare_cnt + 1\n",
    "        rare_freq = rare_freq + value\n",
    "\n",
    "print('단어 집합(vocabulary)의 크기 :', total_cnt)\n",
    "print('등장 빈도가 %s번 이하인 희귀 단어의 수: %s'%(threshold - 1, rare_cnt))\n",
    "print('단어 집합에서 희귀 단어를 제외시킬 경우의 단어 집합의 크기 %s'%(total_cnt - rare_cnt))\n",
    "print(\"단어 집합에서 희귀 단어의 비율:\", (rare_cnt / total_cnt)*100)\n",
    "print(\"전체 등장 빈도에서 희귀 단어 등장 빈도 비율:\", (rare_freq / total_freq)*100)"
   ]
  },
  {
   "cell_type": "code",
   "execution_count": 34,
   "id": "3290cfec",
   "metadata": {},
   "outputs": [
    {
     "name": "stdout",
     "output_type": "stream",
     "text": [
      "input\n",
      "input  [[1, 38, 58, 1848, 285, 1882], [1, 815, 107, 6, 222, 43, 1406, 4, 1343], [1, 18, 20, 439, 4, 164], [1, 11, 651, 4, 85, 7, 18, 1382], [1, 403, 247, 629, 5, 1001, 534]]\n",
      "target\n",
      "decoder  [[38, 58, 1848, 285, 1882, 2], [815, 107, 6, 222, 43, 1406, 4, 1343, 2], [18, 20, 439, 4, 164, 2], [11, 651, 4, 85, 7, 18, 1382, 2], [403, 247, 629, 5, 1001, 534, 2]]\n"
     ]
    }
   ],
   "source": [
    "tar_vocab = 2000\n",
    "tar_tokenizer2 = Tokenizer(num_words=tar_vocab) \n",
    "tar_tokenizer2.fit_on_texts(decoder_input2_train)\n",
    "tar_tokenizer2.fit_on_texts(decoder_target2_train)\n",
    "\n",
    "# 텍스트 시퀀스를 정수 시퀀스로 변환\n",
    "decoder_input2_train = tar_tokenizer2.texts_to_sequences(decoder_input2_train) \n",
    "decoder_target2_train = tar_tokenizer2.texts_to_sequences(decoder_target2_train)\n",
    "decoder_input2_test = tar_tokenizer2.texts_to_sequences(decoder_input2_test)\n",
    "decoder_target2_test = tar_tokenizer2.texts_to_sequences(decoder_target2_test)\n",
    "\n",
    "# 잘 변환되었는지 확인\n",
    "print('input')\n",
    "print('input ',decoder_input2_train[:5])\n",
    "print('target')\n",
    "print('decoder ',decoder_target2_train[:5])"
   ]
  },
  {
   "cell_type": "code",
   "execution_count": 35,
   "id": "3a1e8d0e",
   "metadata": {},
   "outputs": [
    {
     "name": "stdout",
     "output_type": "stream",
     "text": [
      "삭제할 훈련 데이터의 개수 : 17\n",
      "삭제할 테스트 데이터의 개수 : 6\n",
      "훈련 데이터의 개수 : 76667\n",
      "훈련 레이블의 개수 : 76667\n",
      "테스트 데이터의 개수 : 19165\n",
      "테스트 레이블의 개수 : 19165\n"
     ]
    }
   ],
   "source": [
    "drop_train = [index for index, sentence in enumerate(decoder_input2_train) if len(sentence) == 1]\n",
    "drop_test = [index for index, sentence in enumerate(decoder_input2_test) if len(sentence) == 1]\n",
    "\n",
    "print('삭제할 훈련 데이터의 개수 :', len(drop_train))\n",
    "print('삭제할 테스트 데이터의 개수 :', len(drop_test))\n",
    "\n",
    "encoder_input2_train = [sentence for index, sentence in enumerate(encoder_input2_train) if index not in drop_train]\n",
    "decoder_input2_train = [sentence for index, sentence in enumerate(decoder_input2_train) if index not in drop_train]\n",
    "decoder_target2_train = [sentence for index, sentence in enumerate(decoder_target2_train) if index not in drop_train]\n",
    "\n",
    "encoder_input2_test = [sentence for index, sentence in enumerate(encoder_input2_test) if index not in drop_test]\n",
    "decoder_input2_test = [sentence for index, sentence in enumerate(decoder_input2_test) if index not in drop_test]\n",
    "decoder_target2_test = [sentence for index, sentence in enumerate(decoder_target2_test) if index not in drop_test]\n",
    "\n",
    "print('훈련 데이터의 개수 :', len(encoder_input2_train))\n",
    "print('훈련 레이블의 개수 :', len(decoder_input2_train))\n",
    "print('테스트 데이터의 개수 :', len(encoder_input2_test))\n",
    "print('테스트 레이블의 개수 :', len(decoder_input2_test))"
   ]
  },
  {
   "cell_type": "code",
   "execution_count": 36,
   "id": "bbdb45bd",
   "metadata": {},
   "outputs": [
    {
     "name": "stdout",
     "output_type": "stream",
     "text": [
      "=3\n"
     ]
    }
   ],
   "source": [
    "encoder_input2_train = pad_sequences(encoder_input2_train, maxlen=text2_max_len, padding='post')\n",
    "encoder_input2_test = pad_sequences(encoder_input2_test, maxlen=text2_max_len, padding='post')\n",
    "decoder_input2_train = pad_sequences(decoder_input2_train, maxlen=headlines_max_len, padding='post')\n",
    "decoder_target2_train = pad_sequences(decoder_target2_train, maxlen=headlines_max_len, padding='post')\n",
    "decoder_input2_test = pad_sequences(decoder_input2_test, maxlen=headlines_max_len, padding='post')\n",
    "decoder_target2_test = pad_sequences(decoder_target2_test, maxlen=headlines_max_len, padding='post')\n",
    "print('=3')"
   ]
  },
  {
   "cell_type": "code",
   "execution_count": 37,
   "id": "5788b051",
   "metadata": {},
   "outputs": [
    {
     "name": "stdout",
     "output_type": "stream",
     "text": [
      "WARNING:tensorflow:Layer lstm will not use cuDNN kernels since it doesn't meet the criteria. It will use a generic GPU kernel as fallback when running on GPU.\n",
      "WARNING:tensorflow:Layer lstm_1 will not use cuDNN kernels since it doesn't meet the criteria. It will use a generic GPU kernel as fallback when running on GPU.\n",
      "WARNING:tensorflow:Layer lstm_2 will not use cuDNN kernels since it doesn't meet the criteria. It will use a generic GPU kernel as fallback when running on GPU.\n"
     ]
    }
   ],
   "source": [
    "from tensorflow.keras.layers import Input, LSTM, Embedding, Dense, Concatenate, TimeDistributed\n",
    "from tensorflow.keras.models import Model\n",
    "from tensorflow.keras.callbacks import EarlyStopping, ModelCheckpoint\n",
    "\n",
    "\n",
    "# 인코더 설계 시작\n",
    "embedding_dim = 128\n",
    "hidden_size = 256\n",
    "\n",
    "# 인코더\n",
    "encoder_inputs = Input(shape=(text2_max_len,))\n",
    "\n",
    "# 인코더의 임베딩 층\n",
    "enc_emb = Embedding(src_vocab, embedding_dim)(encoder_inputs)\n",
    "\n",
    "# 인코더의 LSTM 1\n",
    "encoder_lstm1 = LSTM(hidden_size, return_sequences=True, return_state=True ,dropout = 0.4, recurrent_dropout = 0.4)\n",
    "encoder_output1, state_h1, state_c1 = encoder_lstm1(enc_emb)\n",
    "\n",
    "# 인코더의 LSTM 2\n",
    "encoder_lstm2 = LSTM(hidden_size, return_sequences=True, return_state=True, dropout=0.4, recurrent_dropout=0.4)\n",
    "encoder_output2, state_h2, state_c2 = encoder_lstm2(encoder_output1)\n",
    "\n",
    "# 인코더의 LSTM 3\n",
    "encoder_lstm3 = LSTM(hidden_size, return_state=True, return_sequences=True, dropout=0.4, recurrent_dropout=0.4)\n",
    "encoder_outputs, state_h, state_c= encoder_lstm3(encoder_output2)"
   ]
  },
  {
   "cell_type": "code",
   "execution_count": 38,
   "id": "16f35dde",
   "metadata": {},
   "outputs": [
    {
     "name": "stdout",
     "output_type": "stream",
     "text": [
      "WARNING:tensorflow:Layer lstm_3 will not use cuDNN kernels since it doesn't meet the criteria. It will use a generic GPU kernel as fallback when running on GPU.\n"
     ]
    }
   ],
   "source": [
    "# 디코더 설계\n",
    "decoder_inputs = Input(shape=(None,))\n",
    "\n",
    "# 디코더의 임베딩 층\n",
    "dec_emb_layer = Embedding(tar_vocab, embedding_dim)\n",
    "dec_emb = dec_emb_layer(decoder_inputs)\n",
    "\n",
    "# 디코더의 LSTM\n",
    "decoder_lstm = LSTM(hidden_size, return_sequences=True, return_state=True, dropout=0.4, recurrent_dropout=0.2)\n",
    "decoder_outputs, _, _ = decoder_lstm(dec_emb, initial_state=[state_h, state_c])"
   ]
  },
  {
   "cell_type": "code",
   "execution_count": 39,
   "id": "197df247",
   "metadata": {},
   "outputs": [
    {
     "name": "stdout",
     "output_type": "stream",
     "text": [
      "Model: \"model\"\n",
      "__________________________________________________________________________________________________\n",
      "Layer (type)                    Output Shape         Param #     Connected to                     \n",
      "==================================================================================================\n",
      "input_1 (InputLayer)            [(None, 60)]         0                                            \n",
      "__________________________________________________________________________________________________\n",
      "embedding (Embedding)           (None, 60, 128)      1024000     input_1[0][0]                    \n",
      "__________________________________________________________________________________________________\n",
      "lstm (LSTM)                     [(None, 60, 256), (N 394240      embedding[0][0]                  \n",
      "__________________________________________________________________________________________________\n",
      "input_2 (InputLayer)            [(None, None)]       0                                            \n",
      "__________________________________________________________________________________________________\n",
      "lstm_1 (LSTM)                   [(None, 60, 256), (N 525312      lstm[0][0]                       \n",
      "__________________________________________________________________________________________________\n",
      "embedding_1 (Embedding)         (None, None, 128)    256000      input_2[0][0]                    \n",
      "__________________________________________________________________________________________________\n",
      "lstm_2 (LSTM)                   [(None, 60, 256), (N 525312      lstm_1[0][0]                     \n",
      "__________________________________________________________________________________________________\n",
      "lstm_3 (LSTM)                   [(None, None, 256),  394240      embedding_1[0][0]                \n",
      "                                                                 lstm_2[0][1]                     \n",
      "                                                                 lstm_2[0][2]                     \n",
      "__________________________________________________________________________________________________\n",
      "attention_layer (AdditiveAttent (None, None, 256)    256         lstm_3[0][0]                     \n",
      "                                                                 lstm_2[0][0]                     \n",
      "__________________________________________________________________________________________________\n",
      "concat_layer (Concatenate)      (None, None, 512)    0           lstm_3[0][0]                     \n",
      "                                                                 attention_layer[0][0]            \n",
      "__________________________________________________________________________________________________\n",
      "dense (Dense)                   (None, None, 2000)   1026000     concat_layer[0][0]               \n",
      "==================================================================================================\n",
      "Total params: 4,145,360\n",
      "Trainable params: 4,145,360\n",
      "Non-trainable params: 0\n",
      "__________________________________________________________________________________________________\n"
     ]
    }
   ],
   "source": [
    "from tensorflow.keras.layers import AdditiveAttention\n",
    "\n",
    "# 어텐션 층(어텐션 함수)\n",
    "attn_layer = AdditiveAttention(name='attention_layer')\n",
    "\n",
    "# 인코더와 디코더의 모든 time step의 hidden state를 어텐션 층에 전달하고 결과를 리턴\n",
    "attn_out = attn_layer([decoder_outputs, encoder_outputs])\n",
    "\n",
    "\n",
    "# 어텐션의 결과와 디코더의 hidden state들을 연결\n",
    "decoder_concat_input = Concatenate(axis=-1, name='concat_layer')([decoder_outputs, attn_out])\n",
    "\n",
    "# 디코더의 출력층\n",
    "decoder_softmax_layer = Dense(tar_vocab, activation='softmax')\n",
    "decoder_softmax_outputs = decoder_softmax_layer(decoder_concat_input)\n",
    "\n",
    "# 모델 정의\n",
    "model2 = Model([encoder_inputs, decoder_inputs], decoder_softmax_outputs)\n",
    "model2.summary()"
   ]
  },
  {
   "cell_type": "code",
   "execution_count": 40,
   "id": "86379fbd",
   "metadata": {
    "scrolled": true
   },
   "outputs": [
    {
     "name": "stdout",
     "output_type": "stream",
     "text": [
      "Epoch 1/50\n",
      "300/300 [==============================] - 239s 770ms/step - loss: 3.9476 - val_loss: 3.6447\n",
      "Epoch 2/50\n",
      "300/300 [==============================] - 230s 768ms/step - loss: 3.4926 - val_loss: 3.3150\n",
      "Epoch 3/50\n",
      "300/300 [==============================] - 231s 769ms/step - loss: 3.2028 - val_loss: 3.1086\n",
      "Epoch 4/50\n",
      "300/300 [==============================] - 230s 766ms/step - loss: 3.0069 - val_loss: 2.9536\n",
      "Epoch 5/50\n",
      "300/300 [==============================] - 229s 765ms/step - loss: 2.8636 - val_loss: 2.8560\n",
      "Epoch 6/50\n",
      "300/300 [==============================] - 229s 764ms/step - loss: 2.7512 - val_loss: 2.7669\n",
      "Epoch 7/50\n",
      "300/300 [==============================] - 229s 764ms/step - loss: 2.6586 - val_loss: 2.7029\n",
      "Epoch 8/50\n",
      "300/300 [==============================] - 231s 770ms/step - loss: 2.5786 - val_loss: 2.6459\n",
      "Epoch 9/50\n",
      "300/300 [==============================] - 239s 796ms/step - loss: 2.5062 - val_loss: 2.6062\n",
      "Epoch 10/50\n",
      "300/300 [==============================] - 237s 791ms/step - loss: 2.4427 - val_loss: 2.5779\n",
      "Epoch 11/50\n",
      "300/300 [==============================] - 238s 793ms/step - loss: 2.3849 - val_loss: 2.5498\n",
      "Epoch 12/50\n",
      "300/300 [==============================] - 238s 792ms/step - loss: 2.3331 - val_loss: 2.5151\n",
      "Epoch 13/50\n",
      "300/300 [==============================] - 238s 793ms/step - loss: 2.2853 - val_loss: 2.5023\n",
      "Epoch 14/50\n",
      "300/300 [==============================] - 230s 767ms/step - loss: 2.2415 - val_loss: 2.4765\n",
      "Epoch 15/50\n",
      "300/300 [==============================] - 231s 768ms/step - loss: 2.2012 - val_loss: 2.4588\n",
      "Epoch 16/50\n",
      "300/300 [==============================] - 230s 766ms/step - loss: 2.1634 - val_loss: 2.4425\n",
      "Epoch 17/50\n",
      "300/300 [==============================] - 230s 765ms/step - loss: 2.1291 - val_loss: 2.4299\n",
      "Epoch 18/50\n",
      "300/300 [==============================] - 230s 767ms/step - loss: 2.0960 - val_loss: 2.4170\n",
      "Epoch 19/50\n",
      "300/300 [==============================] - 230s 768ms/step - loss: 2.0660 - val_loss: 2.4146\n",
      "Epoch 20/50\n",
      "300/300 [==============================] - 230s 768ms/step - loss: 2.0377 - val_loss: 2.4045\n",
      "Epoch 21/50\n",
      "300/300 [==============================] - 230s 765ms/step - loss: 2.0106 - val_loss: 2.3982\n",
      "Epoch 22/50\n",
      "300/300 [==============================] - 233s 778ms/step - loss: 1.9860 - val_loss: 2.3892\n",
      "Epoch 23/50\n",
      "300/300 [==============================] - 229s 763ms/step - loss: 1.9608 - val_loss: 2.3944\n",
      "Epoch 24/50\n",
      "300/300 [==============================] - 227s 758ms/step - loss: 1.9392 - val_loss: 2.3832\n",
      "Epoch 25/50\n",
      "300/300 [==============================] - 228s 759ms/step - loss: 1.9178 - val_loss: 2.3832\n",
      "Epoch 26/50\n",
      "300/300 [==============================] - 230s 767ms/step - loss: 1.8978 - val_loss: 2.3781\n",
      "Epoch 27/50\n",
      "300/300 [==============================] - 228s 759ms/step - loss: 1.8773 - val_loss: 2.3836\n",
      "Epoch 28/50\n",
      "300/300 [==============================] - 228s 760ms/step - loss: 1.8586 - val_loss: 2.3675\n",
      "Epoch 29/50\n",
      "300/300 [==============================] - 229s 762ms/step - loss: 1.8410 - val_loss: 2.3769\n",
      "Epoch 30/50\n",
      "300/300 [==============================] - 229s 762ms/step - loss: 1.8251 - val_loss: 2.3741\n",
      "Epoch 00030: early stopping\n"
     ]
    }
   ],
   "source": [
    "model2.compile(optimizer='rmsprop', loss='sparse_categorical_crossentropy')\n",
    "es = EarlyStopping(monitor='val_loss', patience=2, verbose=1)\n",
    "history2 = model2.fit(x=[encoder_input2_train, decoder_input2_train], y=decoder_target2_train, \\\n",
    "          validation_data=([encoder_input2_test, decoder_input2_test], decoder_target2_test), \\\n",
    "          batch_size=256, callbacks=[es], epochs=50)"
   ]
  },
  {
   "cell_type": "code",
   "execution_count": 41,
   "id": "d2992e13",
   "metadata": {},
   "outputs": [
    {
     "data": {
      "image/png": "[encoded data removed]",
      "text/plain": [
       "<Figure size 432x288 with 1 Axes>"
      ]
     },
     "metadata": {
      "needs_background": "light"
     },
     "output_type": "display_data"
    }
   ],
   "source": [
    "plt.plot(history2.history['loss'], label='train')\n",
    "plt.plot(history2.history['val_loss'], label='test')\n",
    "plt.legend()\n",
    "plt.show()"
   ]
  },
  {
   "cell_type": "code",
   "execution_count": 42,
   "id": "49541223",
   "metadata": {},
   "outputs": [
    {
     "name": "stdout",
     "output_type": "stream",
     "text": [
      "=3\n"
     ]
    }
   ],
   "source": [
    "src_index_to_word = src_tokenizer2.index_word # 원문 단어 집합에서 정수 -> 단어를 얻음\n",
    "tar_word_to_index = tar_tokenizer2.word_index # 요약 단어 집합에서 단어 -> 정수를 얻음\n",
    "tar_index_to_word = tar_tokenizer2.index_word # 요약 단어 집합에서 정수 -> 단어를 얻음\n",
    "\n",
    "print('=3')"
   ]
  },
  {
   "cell_type": "code",
   "execution_count": 43,
   "id": "a9a40985",
   "metadata": {},
   "outputs": [
    {
     "name": "stdout",
     "output_type": "stream",
     "text": [
      "=3\n"
     ]
    }
   ],
   "source": [
    "# 인코더 설계\n",
    "encoder_model = Model(inputs=encoder_inputs, outputs=[encoder_outputs, state_h, state_c])\n",
    "\n",
    "# 이전 시점의 상태들을 저장하는 텐서\n",
    "decoder_state_input_h = Input(shape=(hidden_size,))\n",
    "decoder_state_input_c = Input(shape=(hidden_size,))\n",
    "\n",
    "dec_emb2 = dec_emb_layer(decoder_inputs)\n",
    "\n",
    "# 문장의 다음 단어를 예측하기 위해서 초기 상태(initial_state)를 이전 시점의 상태로 사용. 이는 뒤의 함수 decode_sequence()에 구현\n",
    "# 훈련 과정에서와 달리 LSTM의 리턴하는 은닉 상태와 셀 상태인 state_h와 state_c를 버리지 않음.\n",
    "decoder_outputs2, state_h2, state_c2 = decoder_lstm(dec_emb2, initial_state=[decoder_state_input_h, decoder_state_input_c])\n",
    "\n",
    "print('=3')"
   ]
  },
  {
   "cell_type": "code",
   "execution_count": 44,
   "id": "6cd99ac9",
   "metadata": {},
   "outputs": [
    {
     "name": "stdout",
     "output_type": "stream",
     "text": [
      "=3\n"
     ]
    }
   ],
   "source": [
    "# 어텐션 함수\n",
    "decoder_hidden_state_input = Input(shape=(text2_max_len, hidden_size))\n",
    "attn_out_inf = attn_layer([decoder_outputs2, decoder_hidden_state_input])\n",
    "decoder_inf_concat = Concatenate(axis=-1, name='concat')([decoder_outputs2, attn_out_inf])\n",
    "\n",
    "# 디코더의 출력층\n",
    "decoder_outputs2 = decoder_softmax_layer(decoder_inf_concat) \n",
    "\n",
    "# 최종 디코더 모델\n",
    "decoder_model = Model(\n",
    "    [decoder_inputs] + [decoder_hidden_state_input,decoder_state_input_h, decoder_state_input_c],\n",
    "    [decoder_outputs2] + [state_h2, state_c2])\n",
    "\n",
    "print('=3')"
   ]
  },
  {
   "cell_type": "code",
   "execution_count": 45,
   "id": "a97a4274",
   "metadata": {},
   "outputs": [
    {
     "name": "stdout",
     "output_type": "stream",
     "text": [
      "=3\n"
     ]
    }
   ],
   "source": [
    "def decode_sequence(input_seq):\n",
    "    # 입력으로부터 인코더의 상태를 얻음\n",
    "    e_out, e_h, e_c = encoder_model.predict(input_seq)\n",
    "\n",
    "     # <SOS>에 해당하는 토큰 생성\n",
    "    target_seq = np.zeros((1,1))\n",
    "    target_seq[0, 0] = tar_word_to_index['sostoken']\n",
    "\n",
    "    stop_condition = False\n",
    "    decoded_sentence = ''\n",
    "    while not stop_condition: # stop_condition이 True가 될 때까지 루프 반복\n",
    "\n",
    "        output_tokens, h, c = decoder_model.predict([target_seq] + [e_out, e_h, e_c])\n",
    "        sampled_token_index = np.argmax(output_tokens[0, -1, :])\n",
    "        sampled_token = tar_index_to_word[sampled_token_index]\n",
    "\n",
    "        if (sampled_token!='eostoken'):\n",
    "            decoded_sentence += ' '+sampled_token\n",
    "\n",
    "        #  <eos>에 도달하거나 최대 길이를 넘으면 중단.\n",
    "        if (sampled_token == 'eostoken'  or len(decoded_sentence.split()) >= (headlines_max_len-1)):\n",
    "            stop_condition = True\n",
    "\n",
    "        # 길이가 1인 타겟 시퀀스를 업데이트\n",
    "        target_seq = np.zeros((1,1))\n",
    "        target_seq[0, 0] = sampled_token_index\n",
    "\n",
    "        # 상태를 업데이트 합니다.\n",
    "        e_h, e_c = h, c\n",
    "\n",
    "    return decoded_sentence\n",
    "print('=3')"
   ]
  },
  {
   "cell_type": "code",
   "execution_count": 46,
   "id": "0c32cb62",
   "metadata": {},
   "outputs": [
    {
     "name": "stdout",
     "output_type": "stream",
     "text": [
      "=3\n"
     ]
    }
   ],
   "source": [
    "# 원문의 정수 시퀀스를 텍스트 시퀀스로 변환\n",
    "def seq2text(input_seq):\n",
    "    temp=''\n",
    "    for i in input_seq:\n",
    "        if (i!=0):\n",
    "            temp = temp + src_index_to_word[i]+' '\n",
    "    return temp\n",
    "\n",
    "# 요약문의 정수 시퀀스를 텍스트 시퀀스로 변환\n",
    "def seq2summary(input_seq):\n",
    "    temp=''\n",
    "    for i in input_seq:\n",
    "        if ((i!=0 and i!=tar_word_to_index['sostoken']) and i!=tar_word_to_index['eostoken']):\n",
    "            temp = temp + tar_index_to_word[i] + ' '\n",
    "    return temp\n",
    "\n",
    "print('=3')"
   ]
  },
  {
   "cell_type": "code",
   "execution_count": 47,
   "id": "efcbfb68",
   "metadata": {},
   "outputs": [
    {
     "name": "stdout",
     "output_type": "stream",
     "text": [
      "원문 : england's ben who was called up to take part in an ashes tour game has been dropped from the squad after he a drink on james anderson in a late night drinking incident in perth earlier a midnight was imposed on england after was involved in a incident with australia's cameron bancroft at a bar \n",
      "실제 요약 : player dropped from ashes tour game after bar \n",
      "예측 요약 :  bowler once called out field after\n",
      "\n",
      "\n",
      "원문 : a died in karnataka after the state's former cm bs son by car allegedly ran over him the police said that was in the vehicle at the time of the incident but wasn't driving it it appears that the victim was crossing the road driver could not spot him in the a police official said \n",
      "실제 요약 : former karnataka cm's car runs over \n",
      "예측 요약 :  karnataka cm son dies after car hits\n",
      "\n",
      "\n",
      "원문 : starbucks has been slammed after a man received his order with a racial written on it an employee at the california outlet of starbucks wrote on the coffee cup instead of his name the outlet offered free coffee and a 50 gift card to as an apology but he did not accept it \n",
      "실제 요약 : slammed for using on man's cup \n",
      "예측 요약 :  man slammed for asking for\n",
      "\n",
      "\n",
      "원문 : dairy cooperative amul in its new poster has paid tribute to veteran actor shashi kapoor who passed away on monday the poster was captioned mere cinema hai and featured of his characters from films like and while sharing the poster official twitter handle wrote tribute to an actor and a \n",
      "실제 요약 : new poster pays tribute to late actor kapoor \n",
      "예측 요약 :  new poster of biopic on\n",
      "\n",
      "\n",
      "원문 : actress aishwarya rai bachchan has said if a woman it doesn't mean she doesn't have at the same time if you choose not to use make up it doesn't mean you are a person or that you are or too serious she added aishwarya further said we as women need to stop each other \n",
      "실제 요약 : doesn't you don't have aishwarya \n",
      "예측 요약 :  don't know why don't know aishwarya aishwarya on marriage\n",
      "\n",
      "\n",
      "원문 : us based at t received criticism from its rivals for misleading users after it labelled a faster 4g network logo as responding to it said wireless industry must the potential to over and under deliver on 5g the 5g network foundation with 5g e we can enable faster speeds upgrade to 5g when itâs ready at t stated \n",
      "실제 요약 : at t with for \n",
      "예측 요약 :  us firm apologises for using\n",
      "\n",
      "\n",
      "원문 : the government is planning to set up a â¹2 200 crore fund to finance solar projects to achieve its target of having 175 in energy by 2022 india's current installed power capacity is about 60 and it plans to complete the bidding process by the end of 2019 20 to add a further 115 by 2022 reports said \n",
      "실제 요약 : govt to set up â¹2 200 crore fund to finance solar \n",
      "예측 요약 :  govt plans â¹2 000 cr to build â¹2 000 cr track\n",
      "\n",
      "\n",
      "원문 : india captain virat kohli along with ms dhoni and coach ravi shastri will lead talks of a pay rise in a meeting with bcci on friday this comes after bcci 2 5 billion from a deal with star india for broadcast of indian premier league bcci had doubled the annual amounts for the indian team in march \n",
      "실제 요약 : kohli to demand raise for team india in bcci meeting report \n",
      "예측 요약 :  kohli kohli to buy india in india team reports\n",
      "\n",
      "\n",
      "원문 : suggesting three or four dates for his meeting with north korean leader kim jong un us president donald trump said that the meeting may not even take place trump had earlier said that he would walk out if his talks with jong un are not the meeting between the two leaders is expected to take place in may or june \n",
      "실제 요약 : meeting with kim jong un may not even take place trump \n",
      "예측 요약 :  n korea won't be if trump not trump\n",
      "\n",
      "\n",
      "원문 : real cristiano ronaldo barcelona forward lionel messi and messi's former barcelona teammate neymar jr are the final three players in for this year's fifa best men's player of the year award the final three for the best fifa men's coach of the year award are real and \n",
      "실제 요약 : ronaldo messi for fifa best player award \n",
      "예측 요약 :  messi as messi in fifa wc\n",
      "\n",
      "\n",
      "원문 : nasa's space will explore aboard the spacecraft in 2021 the us space agency has said the spacecraft will carry a near twin of called to investigate which are from the early days of the solar system was first launched aboard the new spacecraft in 2006 \n",
      "실제 요약 : to in \n",
      "예측 요약 :  nasa to build space station for space station\n",
      "\n",
      "\n",
      "원문 : us first lady melania trump won't have to dress in muslim attire while she her husband president donald trump to saudi arabia trump's first official overseas destination when asked if melania would have to stick to a dress code saudi foreign minister bin ahmed al said we usually don't demand a specific dress code we welcome any style in clothing \n",
      "실제 요약 : trump to not wear a in saudi arabia \n",
      "예측 요약 :  us president trump calls for kim jong un\n",
      "\n",
      "\n",
      "원문 : russia is reportedly considering a new law that would allow the government to fine social networks for posts if passed the law would require websites with over 100 000 daily visitors to add a feature to remove information posted by users within 24 hours if they don't comply the sites could face a fine of up to â¹5 5 crore \n",
      "실제 요약 : russia may fine for not fake news in \n",
      "예측 요약 :  russia to ban on cars\n",
      "\n",
      "\n",
      "원문 : south korea's first lady kim and up cm yogi adityanath on tuesday performed on the banks of river in ayodhya kim had arrived in india on sunday on a four day visit and has already met pm narendra modi and external affairs minister sushma swaraj she began her ayodhya tour by offering tribute at the queen memorial \n",
      "실제 요약 : s 1st on banks of river \n",
      "예측 요약 :  yogi adityanath visits india in saudi arabia\n",
      "\n",
      "\n",
      "원문 : karnataka bjp chief bs yeddyurappa on friday claimed that several mlas from the ruling congress jd s alliance in karnataka are willing to join bjp he urged bjp workers to personally go to the willing houses and convince them to join the party adding that the move will strengthen bjp ahead of the 2019 lok sabha elections \n",
      "실제 요약 : cong jd s leaders ready to join bjp in k'taka \n",
      "예측 요약 :  jd s mlas mlas have to join bjp jd s\n",
      "\n",
      "\n",
      "원문 : a dubai based in hyderabad was arrested on friday for allegedly raping and cheating a woman who recently converted to islam the man and woman were supposed to get married in april this year but the wedding was called off following which the woman and her family alleged that the accused cheated her to convert her to islam \n",
      "실제 요약 : held for raping cheating woman he to \n",
      "예측 요약 :  two arrested for raping woman in mumbai\n",
      "\n",
      "\n",
      "원문 : billionaire investor george has said facebook and google have left the us government with their while only the eu has the power to stop them also compared the internet giants to people to their money he further attacked the companies for considering themselves masters of the universe and called them to innovation \n",
      "실제 요약 : google fb like left us govt billionaire \n",
      "예측 요약 :  billionaire us billionaire\n",
      "\n",
      "\n",
      "원문 : expressing over the performance of the country's top intelligence agency the pakistan supreme court on wednesday told the inter services intelligence isi you are a top agency don't make a joke out of the country the court further said that while the isi is doing a lot it is doing nothing for the people of pakistan \n",
      "실제 요약 : don't make a out of the country pak sc slams \n",
      "예측 요약 :  are not a sc\n",
      "\n",
      "\n",
      "원문 : that he will not remove the red on his car sultan imam ur rahman has said modi is illegal not the red on my car no one has the to remove my red it's been with us for hundreds of try muslims in bengal he said \n",
      "실제 요약 : modi is illegal not the red on my car kolkata \n",
      "예측 요약 :  red red red red red red red red red\n",
      "\n",
      "\n",
      "원문 : british foreign secretary johnson has cancelled a planned trip to russia after the us launched a missile strike on syria in response to an alleged chemical attack the visit has been cancelled after talks between uk and us on how the west should approach russia which is a ally of the syrian government accused of the attack \n",
      "실제 요약 : uk foreign secy cancels russia visit after us missile strike \n",
      "예측 요약 :  uk foreign secy to missile system\n",
      "\n",
      "\n",
      "원문 : passengers in nine coaches of mumbai delhi express were and looted of â¹10 15 lakh on thursday according to police the passengers were robbed near in rajasthan around 4 am a total of 12 passengers have filed firs empty and were found dumped near the toilets and of the train a senior police officer said \n",
      "실제 요약 : passengers of lakh in express \n",
      "예측 요약 :  express passengers in delhi\n",
      "\n",
      "\n",
      "원문 : as many as 22 new aiims will come up across the country union health minister jp announced today while addressing the first of aiims bhubaneswar he added that 20 state cancer institutes and 50 cancer care centres are also being set up meanwhile he admitted there was a shortage of human resource in the health sector \n",
      "실제 요약 : 22 new to come up across india announces govt \n",
      "예측 요약 :  to be at all of\n",
      "\n",
      "\n",
      "원문 : former team india captain sunil gavaskar has criticised india's for england test series saying kohli and the team management have to understand that others need practice kohli can take 15 days off and then score a hundred the next day he added he further said india didn't learn from the south africa experience and should have played more practice matches \n",
      "실제 요약 : kohli has to that others need gavaskar \n",
      "예측 요약 :  india will be a test if we don't play gavaskar\n",
      "\n",
      "\n",
      "원문 : delhi's signature bridge which is set to open over the yamuna river on sunday will have a metre high glass box and selfie spots for people visitors will be taken to the in four with a total capacity of 50 people built at a cost of â¹1 crore it is projected as india's first cable stayed bridge \n",
      "실제 요약 : delhi bridge to have selfie high \n",
      "예측 요약 :  selfie to open in delhi\n",
      "\n",
      "\n",
      "원문 : in a written reply in rajya sabha union minister rajyavardhan rathore said there is no proposal to control social media while claiming there is no proposal to an right to privacy he added however the ministry to set up a social media hub to facilitate information flow regarding its policies and programmes through social media platforms \n",
      "실제 요약 : no to control social media says union minister \n",
      "예측 요약 :  no social media no motion against minister\n",
      "\n",
      "\n",
      "원문 : the supreme court on tuesday said the centre is in contempt of its verdict on the cauvery river dispute by the setting up of a mechanism to the water among states the centre had asked for an extension of time for the formation of the cauvery management board citing the upcoming karnataka assembly elections \n",
      "실제 요약 : centre in sc on water board delay \n",
      "예측 요약 :  sc order on ayodhya dispute\n",
      "\n",
      "\n",
      "원문 : the shiv sena on monday slammed the maharashtra police for five activists with alleged maoist links the sena said the police behind the arrests are the police must not shoot off their like this it is the practice of using the police for different aims is nothing new for politicians and the government it added \n",
      "실제 요약 : sena slams after arrests \n",
      "예측 요약 :  shiv sena slams shiv sena\n",
      "\n",
      "\n",
      "원문 : rafael nadal who won his record french open title might lose his world number one ranking to roger federer if the swiss the third round of the upcoming court tournament open federer who will reach the tournament's final if he three wins there lost in the opening round to last year \n",
      "실제 요약 : nadal may lose world 1 to federer despite french open win \n",
      "예측 요약 :  nadal to federer open if federer wins 1st grand slam\n",
      "\n",
      "\n",
      "원문 : reacting to hollywood actor andrew gay without the physical remark a user tweeted in that case i'm a without the physical act because i watch another user wrote former has a very limited view of what being gay actually is meanwhile another user tweeted straight actors please stop this \n",
      "실제 요약 : twitter reacts to without remark \n",
      "예측 요약 :  slammed for remark on remark\n",
      "\n",
      "\n",
      "원문 : cricketer ravindra jadeja has said he did not know what meant when shane warne called him that during their days in rajasthan royals in 2008 i was just thinking 'i don't sing a song why is he calling me a when i met him first i didn't know he was one of the greatest bowlers in test cricket said jadeja \n",
      "실제 요약 : called me didn't know what it \n",
      "예측 요약 :  i am not a on rumours\n",
      "\n",
      "\n",
      "원문 : hindustan unilever on wednesday became only the fifth indian company to reach a market capitalisation of â¹4 lakh crore the other four companies to achieve the milestone are tata services reliance industries hdfc bank and this comes two days after announced acquisition of maker consumer healthcare in an all stock transaction valued at 700 crore \n",
      "실제 요약 : market cap crosses â¹4 lakh crore for first time \n",
      "예측 요약 :  only 25 bn in market cap in\n",
      "\n",
      "\n",
      "원문 : speaking at the india today east 2018 preity zinta revealed she nearly died in the 2004 tsunami which occurred in thailand preity who was in at the time added most of her closest friends passed away in the tsunami and she was the only one who survived god their it was a tough time she said nn \n",
      "실제 요약 : i almost died my friends away in \n",
      "예측 요약 :  i was died in the middle of india\n",
      "\n",
      "\n",
      "원문 : prime minister narendra modi will meet israeli kid who was saved by his indian during the 26 11 mumbai attacks whose parents were killed during the attack lives with his and has been granted an israeli citizenship modi is likely to offer help to who wants to be a and work in mumbai \n",
      "실제 요약 : modi to meet 26 11 saved by indian in israel \n",
      "예측 요약 :  pm modi to visit attack on attack victims\n",
      "\n",
      "\n",
      "원문 : us state hawaii will ban pedestrians using mobile phones while crossing the street in from october pedestrians will be fined â¹1 000 to â¹6 400 depending on the number of times they are caught looking at a phone or device as they cross the street city's mayor said however people making emergency calls are exempted from the ban \n",
      "실제 요약 : to ban using smartphone while the road \n",
      "예측 요약 :  us bans sale of phones to stop phones\n",
      "\n",
      "\n",
      "원문 : the haryana urban development authority has sold 9 82 acres of commercial land in gurugram to swedish furniture maker for crore in its single largest property e auction the site was put up for e auction three times earlier but had no until successful bid on october 31 earned around â¹1 crore this fiscal through e \n",
      "실제 요약 : buys 10 in gurugram for crore \n",
      "예측 요약 :  haryana govt sells worth crore in\n",
      "\n",
      "\n",
      "원문 : an air india flight hit a parked ground unit truck on friday after it landed at delhi's indira gandhi international airport officials said the number of such incidents has increased because flight traffic at the airport is growing by 20 every year notably truck is a ground support equipment that supplies air to parked aircraft to maintain temperatures \n",
      "실제 요약 : air india flight hits truck at delhi airport \n",
      "예측 요약 :  air india flight hits delhi airport\n",
      "\n",
      "\n",
      "원문 : the karnataka government has released 90 prisoners convicted of murder on account of their good conduct while the release orders were issued on republic day the prisoners were released on wednesday stating that karnataka has released 1 prisoners since 2015 home minister reddy said it was the only state to release prisoners over their good character \n",
      "실제 요약 : karnataka releases 90 murder over good \n",
      "예측 요약 :  karnataka govt orders release of release\n",
      "\n",
      "\n",
      "원문 : salman khan has said that he felt as an actor when he was watching sunil grover amitabh bachchan as part of a special television show he added how mr bachchan is in real life he's got the real life i haven't seen anything like that salman and khan were on the show promoting their upcoming film \n",
      "실제 요약 : as actor in front of sunil salman \n",
      "예측 요약 :  i have been a big b on big b\n",
      "\n",
      "\n",
      "원문 : the biggest fashion moments of 2017 included indian representative manushi becoming miss world 2017 making india the winner after 17 years a law banning thin models came into effect in france in may this year meanwhile actress anushka sharma's label faced controversy over allegations that many of the designs were from a chinese e commerce website \n",
      "실제 요약 : which were the biggest fashion of 2017 \n",
      "예측 요약 :  amazon becomes second indian indian miss\n",
      "\n",
      "\n",
      "원문 : actress kangana ranaut while talking about joining politics said if i have to be a national i can't have a family or kids or an career a politician should be nothing more than a government she further said whenever i decide to take up the path i will do so with dignity and full focus \n",
      "실제 요약 : if i become have kids career kangana \n",
      "예측 요약 :  kangana is a children if they were\n",
      "\n",
      "\n",
      "원문 : awardee table tennis player ghosh has married the girl who accused him of rape four months ago the girl accused ghosh of raping her on the pretext of marriage and claimed they were in a relationship for three years everyone thought about the girl if she was a minor i was also 22 when we started dating ghosh said \n",
      "실제 요약 : player ties the with girl who accused him of rape \n",
      "예측 요약 :  wife raped by father in rape case\n",
      "\n",
      "\n",
      "원문 : ranveer singh said it is his constant to be a while adding i want audience to expect the he further said it's important to keep it roles off for myself and for my audience ranveer also said that for the audience it's an exciting thought to what a will do next \n",
      "실제 요약 : i want to the from me ranveer \n",
      "예측 요약 :  ranveer singh is a ranveer singh\n",
      "\n",
      "\n",
      "원문 : travel booking firm founder ashish kashyap has raised 30 million to launch a fintech startup which is expected to start operations in january 2019 the seed funding was raised from hong kong based fund capital the startup said founded earlier this year will use artificial intelligence ai to help users manage their investments and \n",
      "실제 요약 : founder raises 30 mn for a new startup \n",
      "예측 요약 :  co founder raises 25 million from fund\n",
      "\n",
      "\n",
      "원문 : according to reports the censor board will demand a no objection certificate from filmmakers to show mobile numbers in films you must provide proof that the number belongs to someone known and that person has given his or her consent for the number to be used said a source from the censor board \n",
      "실제 요약 : cbfc to demand for showing mobile number in film report \n",
      "예측 요약 :  cbfc to not wear ads on\n",
      "\n",
      "\n",
      "원문 : filmmaker karan johar has said men should be about wearing jewellery while adding if you think to wear a chain a or a ring you one should go for it karan further said if he a men's collection ranveer singh would be his brand ambassador while adding you know he the talk when it comes to fashion \n",
      "실제 요약 : men should be about wearing karan \n",
      "예측 요약 :  those who wear karan johar on pic\n",
      "\n",
      "\n",
      "원문 : according to reports actor shahid kapoor wanted to be called a and not a by a magazine for which he did a shahid reportedly said if the magazine team didn't want to make the change he wanted the entire story removed the team made the change but later the title following the release of \n",
      "실제 요약 : shahid wanted to be called by a magazine report \n",
      "예측 요약 :  not to book on not a\n",
      "\n",
      "\n",
      "원문 : a minor girl was allegedly gangraped by a police constable and the head of the village in uttar pradesh's district the victim's father died of shock after hearing about the incident which happened when the 15 year old had gone to herself the police constable has been suspended from service and arrested on various charges under and act \n",
      "실제 요약 : minor gangraped by cop village head father dies of \n",
      "예측 요약 :  minor girl raped by in up\n",
      "\n",
      "\n",
      "원문 : us fund manager roy has said he will accept bitcoin for his six floor 10 square foot in new york which is listed for nearly 16 million 5 crore i'm a big in bitcoin i really am so on it and i want to own more of it he added the has a with 13 foot high \n",
      "실제 요약 : will bitcoin for cr us fund manager \n",
      "예측 요약 :  will be lost 12 times 12 12 times 12 12 bn\n",
      "\n",
      "\n",
      "원문 : a lahore sessions court has granted a stay order in favour of pakistani actor singer ali zafar that singer actress who accused him of sexual harassment from making statements the court has also asked to respond to the lawsuit filed against her by ali by july 5 ali has sought damages worth crore from \n",
      "실제 요약 : court issues stay order in in sexual harassment row \n",
      "예측 요약 :  court gets notice for actress\n",
      "\n",
      "\n",
      "원문 : gujarat players and jason roy took an auto or ride in bengaluru on tuesday ahead of their ipl match against royal challengers bangalore on thursday posted a selfie of the two on instagram captioned bangalore earlier former australian captain michael clarke was also riding an auto in bengaluru \n",
      "실제 요약 : take in bengaluru \n",
      "예측 요약 :  gujarat team gets while\n",
      "\n",
      "\n"
     ]
    }
   ],
   "source": [
    "for i in range(50, 100):\n",
    "    print(\"원문 :\", seq2text(encoder_input2_test[i]))\n",
    "    print(\"실제 요약 :\", seq2summary(decoder_input2_test[i]))\n",
    "    print(\"예측 요약 :\", decode_sequence(encoder_input2_test[i].reshape(1, text2_max_len)))\n",
    "    print(\"\\n\")"
   ]
  },
  {
   "cell_type": "code",
   "execution_count": 48,
   "id": "444c34a3",
   "metadata": {},
   "outputs": [],
   "source": [
    "import requests\n",
    "from summa.summarizer import summarize"
   ]
  },
  {
   "cell_type": "code",
   "execution_count": 49,
   "id": "27977948",
   "metadata": {},
   "outputs": [],
   "source": [
    "data2_makeheadlines = pd.read_csv('news_summary_more.csv', encoding='iso-8859-1')"
   ]
  },
  {
   "cell_type": "code",
   "execution_count": 50,
   "id": "d5da8950",
   "metadata": {},
   "outputs": [
    {
     "name": "stdout",
     "output_type": "stream",
     "text": [
      "text:\n",
      "Saurav Kant, an alumnus of upGrad and IIIT-B's PG Program in Machine learning and Artificial Intelligence, was a Sr Systems Engineer at Infosys with almost 5 years of work experience. The program and upGrad's 360-degree career support helped him transition to a Data Scientist at Tech Mahindra with 90% salary hike. upGrad's Online Power Learning has powered 3 lakh+ careers.\n",
      "headlines:\n",
      "\n",
      "text:\n",
      "Kunal Shah's credit card bill payment platform, CRED, gave users a chance to win free food from Swiggy for one year. Pranav Kaushik, a Delhi techie, bagged this reward after spending 2000 CRED coins. Users get one CRED coin per rupee of bill paid, which can be used to avail rewards from brands like Ixigo, BookMyShow, UberEats, Cult.Fit and more.\n",
      "headlines:\n",
      "\n",
      "text:\n",
      "New Zealand defeated India by 8 wickets in the fourth ODI at Hamilton on Thursday to win their first match of the five-match ODI series. India lost an international match under Rohit Sharma's captaincy after 12 consecutive victories dating back to March 2018. The match witnessed India getting all out for 92, their seventh lowest total in ODI cricket history.\n",
      "headlines:\n",
      "\n",
      "text:\n",
      "With Aegon Life iTerm Insurance plan, customers can enjoy tax benefits on your premiums paid and save up to Ã¢ÂÂ¹46,800^ on taxes. The plan provides life cover up to the age of 100 years. Also, customers have options to insure against Critical Illnesses, Disability and Accidental Death Benefit Rider with a life cover up to the age of 80 years.\n",
      "headlines:\n",
      "\n",
      "text:\n",
      "Speaking about the sexual harassment allegations against Rajkumar Hirani, Sonam Kapoor said, \"I've known Hirani for many years...What if it's not true, the [#MeToo] movement will get derailed.\" \"In the #MeToo movement, I always believe a woman. But in this case, we need to reserve our judgment,\" she added. Hirani has been accused by an assistant who worked in 'Sanju'.\n",
      "headlines:\n",
      "\n"
     ]
    }
   ],
   "source": [
    "for i in range(0,5):\n",
    "    print('text:')\n",
    "    print(data2_makeheadlines['text'][i])\n",
    "    print('headlines:')\n",
    "    print(summarize(data2_makeheadlines['text'][i], ratio=0.005))"
   ]
  },
  {
   "cell_type": "markdown",
   "id": "3faaa33f",
   "metadata": {},
   "source": [
    "# 회고"
   ]
  },
  {
   "cell_type": "markdown",
   "id": "e99c1e2f",
   "metadata": {},
   "source": [
    "회고쓸 시간이 없다 너무 오래걸린다 학습 ㄷㄷ"
   ]
  },
  {
   "cell_type": "code",
   "execution_count": null,
   "id": "3a73adf7",
   "metadata": {},
   "outputs": [],
   "source": []
  }
 ],
 "metadata": {
  "kernelspec": {
   "display_name": "Python 3 (ipykernel)",
   "language": "python",
   "name": "python3"
  },
  "language_info": {
   "codemirror_mode": {
    "name": "ipython",
    "version": 3
   },
   "file_extension": ".py",
   "mimetype": "text/x-python",
   "name": "python",
   "nbconvert_exporter": "python",
   "pygments_lexer": "ipython3",
   "version": "3.9.7"
  }
 },
 "nbformat": 4,
 "nbformat_minor": 5
}
