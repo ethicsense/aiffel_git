{
 "cells": [
  {
   "cell_type": "markdown",
   "id": "69b7e0bf",
   "metadata": {},
   "source": [
    "# E06. 영화리뷰 텍스트 감성분석하기"
   ]
  },
  {
   "cell_type": "markdown",
   "id": "0ff4059b",
   "metadata": {},
   "source": [
    "## 데이터 로드"
   ]
  },
  {
   "cell_type": "code",
   "execution_count": 1,
   "id": "f9959193",
   "metadata": {},
   "outputs": [
    {
     "data": {
      "text/html": [
       "<div>\n",
       "<style scoped>\n",
       "    .dataframe tbody tr th:only-of-type {\n",
       "        vertical-align: middle;\n",
       "    }\n",
       "\n",
       "    .dataframe tbody tr th {\n",
       "        vertical-align: top;\n",
       "    }\n",
       "\n",
       "    .dataframe thead th {\n",
       "        text-align: right;\n",
       "    }\n",
       "</style>\n",
       "<table border=\"1\" class=\"dataframe\">\n",
       "  <thead>\n",
       "    <tr style=\"text-align: right;\">\n",
       "      <th></th>\n",
       "      <th>id</th>\n",
       "      <th>document</th>\n",
       "      <th>label</th>\n",
       "    </tr>\n",
       "  </thead>\n",
       "  <tbody>\n",
       "    <tr>\n",
       "      <th>0</th>\n",
       "      <td>9976970</td>\n",
       "      <td>아 더빙.. 진짜 짜증나네요 목소리</td>\n",
       "      <td>0</td>\n",
       "    </tr>\n",
       "    <tr>\n",
       "      <th>1</th>\n",
       "      <td>3819312</td>\n",
       "      <td>흠...포스터보고 초딩영화줄....오버연기조차 가볍지 않구나</td>\n",
       "      <td>1</td>\n",
       "    </tr>\n",
       "    <tr>\n",
       "      <th>2</th>\n",
       "      <td>10265843</td>\n",
       "      <td>너무재밓었다그래서보는것을추천한다</td>\n",
       "      <td>0</td>\n",
       "    </tr>\n",
       "    <tr>\n",
       "      <th>3</th>\n",
       "      <td>9045019</td>\n",
       "      <td>교도소 이야기구먼 ..솔직히 재미는 없다..평점 조정</td>\n",
       "      <td>0</td>\n",
       "    </tr>\n",
       "    <tr>\n",
       "      <th>4</th>\n",
       "      <td>6483659</td>\n",
       "      <td>사이몬페그의 익살스런 연기가 돋보였던 영화!스파이더맨에서 늙어보이기만 했던 커스틴 ...</td>\n",
       "      <td>1</td>\n",
       "    </tr>\n",
       "  </tbody>\n",
       "</table>\n",
       "</div>"
      ],
      "text/plain": [
       "         id                                           document  label\n",
       "0   9976970                                아 더빙.. 진짜 짜증나네요 목소리      0\n",
       "1   3819312                  흠...포스터보고 초딩영화줄....오버연기조차 가볍지 않구나      1\n",
       "2  10265843                                  너무재밓었다그래서보는것을추천한다      0\n",
       "3   9045019                      교도소 이야기구먼 ..솔직히 재미는 없다..평점 조정      0\n",
       "4   6483659  사이몬페그의 익살스런 연기가 돋보였던 영화!스파이더맨에서 늙어보이기만 했던 커스틴 ...      1"
      ]
     },
     "execution_count": 1,
     "metadata": {},
     "output_type": "execute_result"
    }
   ],
   "source": [
    "import pandas as pd\n",
    "\n",
    "train_data = pd.read_table('~/aiffel/E06/sentiment_classification/data/ratings_train.txt')\n",
    "test_data = pd.read_table('~/aiffel/E06/sentiment_classification/data/ratings_test.txt')\n",
    "\n",
    "train_data.head()"
   ]
  },
  {
   "cell_type": "code",
   "execution_count": 2,
   "id": "d0445cd0",
   "metadata": {
    "scrolled": false
   },
   "outputs": [
    {
     "name": "stdout",
     "output_type": "stream",
     "text": [
      "<class 'pandas.core.frame.DataFrame'>\n",
      "RangeIndex: 150000 entries, 0 to 149999\n",
      "Data columns (total 3 columns):\n",
      " #   Column    Non-Null Count   Dtype \n",
      "---  ------    --------------   ----- \n",
      " 0   id        150000 non-null  int64 \n",
      " 1   document  149995 non-null  object\n",
      " 2   label     150000 non-null  int64 \n",
      "dtypes: int64(2), object(1)\n",
      "memory usage: 3.4+ MB\n"
     ]
    }
   ],
   "source": [
    "train_data.info()"
   ]
  },
  {
   "cell_type": "markdown",
   "id": "7205ba47",
   "metadata": {},
   "source": [
    "## 단어장 생성"
   ]
  },
  {
   "cell_type": "code",
   "execution_count": 3,
   "id": "607e1ab0",
   "metadata": {},
   "outputs": [],
   "source": [
    "from konlpy.tag import Mecab\n",
    "import numpy as np\n",
    "from collections import Counter\n",
    "import numpy as np\n",
    "import tensorflow as tf\n",
    "import os\n",
    "\n",
    "tokenizer = Mecab()\n",
    "stopwords = ['의','가','이','은','들','는','좀','잘','걍','과','도','를','으로','자','에','와','한','하다']\n",
    "\n",
    "def load_data(train_data, test_data, num_words=10000):\n",
    "    train_data.drop_duplicates(subset=['document'], inplace=True)\n",
    "    train_data = train_data.dropna(how = 'any') \n",
    "    test_data.drop_duplicates(subset=['document'], inplace=True)\n",
    "    test_data = test_data.dropna(how = 'any') \n",
    "    \n",
    "    x_train = []\n",
    "    for sentence in train_data['document']:\n",
    "        temp_X = tokenizer.morphs(sentence) # 토큰화\n",
    "        temp_X = [word for word in temp_X if not word in stopwords] # 불용어 제거\n",
    "        x_train.append(temp_X)\n",
    "\n",
    "    x_test = []\n",
    "    for sentence in test_data['document']:\n",
    "        temp_X = tokenizer.morphs(sentence) # 토큰화\n",
    "        temp_X = [word for word in temp_X if not word in stopwords] # 불용어 제거\n",
    "        x_test.append(temp_X)\n",
    "    \n",
    "    words = np.concatenate(x_train).tolist()\n",
    "    counter = Counter(words)\n",
    "    counter = counter.most_common(10000-4)\n",
    "    vocab = ['<PAD>', '<BOS>', '<UNK>', '<UNUSED>'] + [key for key, _ in counter]\n",
    "    word_to_index = {word:index for index, word in enumerate(vocab)}\n",
    "        \n",
    "    def wordlist_to_indexlist(wordlist):\n",
    "        return [word_to_index[word] if word in word_to_index else word_to_index['<UNK>'] for word in wordlist]\n",
    "        \n",
    "    x_train = list(map(wordlist_to_indexlist, x_train))\n",
    "    x_test = list(map(wordlist_to_indexlist, x_test))\n",
    "        \n",
    "    return x_train, np.array(list(train_data['label'])), x_test, np.array(list(test_data['label'])), word_to_index\n",
    "\n",
    "x_train, y_train, x_test, y_test, word_to_index = load_data(train_data, test_data)"
   ]
  },
  {
   "cell_type": "markdown",
   "id": "8c8de56c",
   "metadata": {},
   "source": [
    ">vocab 변수에 pad, bos unk, unused를 모두 채워넣는다. 바로 하단 함수선언에서도 최빈수를 제외한 모든 단어에 unk을 넣기 위해 else에 unk을 채워넣었다."
   ]
  },
  {
   "cell_type": "code",
   "execution_count": 4,
   "id": "6dc7e6b3",
   "metadata": {},
   "outputs": [],
   "source": [
    "# 문장 1개를 활용할 딕셔너리와 함께 주면, 단어 인덱스 리스트 벡터로 변환해 주는 함수입니다. \n",
    "# 단, 모든 문장은 <BOS>로 시작하는 것으로 합니다. \n",
    "def get_encoded_sentence(sentence, word_to_index):\n",
    "    return [word_to_index['<BOS>']]+[word_to_index[word] if word in word_to_index else word_to_index['<UNK>'] for word in sentence.split()]\n",
    "\n",
    "# 여러 개의 문장 리스트를 한꺼번에 단어 인덱스 리스트 벡터로 encode해 주는 함수입니다. \n",
    "def get_encoded_sentences(sentences, word_to_index):\n",
    "    return [get_encoded_sentence(sentence, word_to_index) for sentence in sentences]\n",
    "\n",
    "# 숫자 벡터로 encode된 문장을 원래대로 decode하는 함수입니다. \n",
    "def get_decoded_sentence(encoded_sentence, index_to_word):\n",
    "    return ' '.join(index_to_word[index] if index in index_to_word else '<UNK>' for index in encoded_sentence[1:])  #[1:]를 통해 <BOS>를 제외\n",
    "\n",
    "# 여러 개의 숫자 벡터로 encode된 문장을 한꺼번에 원래대로 decode하는 함수입니다. \n",
    "def get_decoded_sentences(encoded_sentences, index_to_word):\n",
    "    return [get_decoded_sentence(encoded_sentence, index_to_word) for encoded_sentence in encoded_sentences]"
   ]
  },
  {
   "cell_type": "markdown",
   "id": "63af8c42",
   "metadata": {},
   "source": [
    "##### ↑ 이코드 솔직히 왜있는지 모르겠다. 안 쓴 것 같다."
   ]
  },
  {
   "cell_type": "code",
   "execution_count": 5,
   "id": "87786ca2",
   "metadata": {},
   "outputs": [],
   "source": [
    "index_to_word = {index:word for word, index in word_to_index.items()}"
   ]
  },
  {
   "cell_type": "markdown",
   "id": "78062e69",
   "metadata": {},
   "source": [
    "## max_len 구하기"
   ]
  },
  {
   "cell_type": "code",
   "execution_count": 6,
   "id": "d91edaf2",
   "metadata": {
    "scrolled": true
   },
   "outputs": [
    {
     "name": "stdout",
     "output_type": "stream",
     "text": [
      "문장길이 평균 :  15.96940191154864\n",
      "문장길이 최대 :  116\n",
      "문장길이 표준편차 :  12.843571191092\n",
      "pad_sequences maxlen :  41\n",
      "전체 문장의 0.9342988343341575%가 maxlen 설정값 이내에 포함됩니다. \n"
     ]
    }
   ],
   "source": [
    "total_data_text = list(x_train) + list(x_test)\n",
    "# 텍스트데이터 문장길이의 리스트를 생성한 후\n",
    "num_tokens = [len(tokens) for tokens in total_data_text]\n",
    "num_tokens = np.array(num_tokens)\n",
    "# 문장길이의 평균값, 최대값, 표준편차를 계산해 본다. \n",
    "print('문장길이 평균 : ', np.mean(num_tokens))\n",
    "print('문장길이 최대 : ', np.max(num_tokens))\n",
    "print('문장길이 표준편차 : ', np.std(num_tokens))\n",
    "\n",
    "# 예를들어, 최대 길이를 (평균 + 2*표준편차)로 한다면,  \n",
    "max_tokens = np.mean(num_tokens) + 2 * np.std(num_tokens)\n",
    "maxlen = int(max_tokens)\n",
    "print('pad_sequences maxlen : ', maxlen)\n",
    "print('전체 문장의 {}%가 maxlen 설정값 이내에 포함됩니다. '.format(np.sum(num_tokens < max_tokens) / len(num_tokens)))"
   ]
  },
  {
   "cell_type": "markdown",
   "id": "20dce003",
   "metadata": {},
   "source": [
    ">이 부분을 아예 안넣었었다. 훈련데이터 중 적절한 최대 길이값을 구해보는 코드이다."
   ]
  },
  {
   "cell_type": "markdown",
   "id": "c96ff742",
   "metadata": {},
   "source": [
    "## padding 추가"
   ]
  },
  {
   "cell_type": "code",
   "execution_count": 7,
   "id": "8743ce06",
   "metadata": {},
   "outputs": [],
   "source": [
    "x_train = tf.keras.preprocessing.sequence.pad_sequences(x_train,\n",
    "                                                        value=word_to_index[\"<PAD>\"],\n",
    "                                                        padding='pre', # 혹은 'pre'\n",
    "                                                        maxlen=maxlen)\n",
    "\n",
    "x_test = tf.keras.preprocessing.sequence.pad_sequences(x_test,\n",
    "                                                       value=word_to_index[\"<PAD>\"],\n",
    "                                                       padding='pre', # 혹은 'pre'\n",
    "                                                       maxlen=maxlen)\n"
   ]
  },
  {
   "cell_type": "markdown",
   "id": "f6b06f4c",
   "metadata": {},
   "source": [
    ">이것도 빼먹었었다. 길이가 짧은 문장들의 '앞'에 padding을 채워넣는다."
   ]
  },
  {
   "cell_type": "markdown",
   "id": "418d490a",
   "metadata": {},
   "source": [
    "## 모델 학습 시작"
   ]
  },
  {
   "cell_type": "markdown",
   "id": "6a3ce5be",
   "metadata": {},
   "source": [
    "### 1. RNN"
   ]
  },
  {
   "cell_type": "code",
   "execution_count": 8,
   "id": "b9cc615a",
   "metadata": {},
   "outputs": [
    {
     "name": "stdout",
     "output_type": "stream",
     "text": [
      "Model: \"sequential\"\n",
      "_________________________________________________________________\n",
      "Layer (type)                 Output Shape              Param #   \n",
      "=================================================================\n",
      "embedding (Embedding)        (None, None, 16)          160000    \n",
      "_________________________________________________________________\n",
      "lstm (LSTM)                  (None, 8)                 800       \n",
      "_________________________________________________________________\n",
      "dense (Dense)                (None, 8)                 72        \n",
      "_________________________________________________________________\n",
      "dense_1 (Dense)              (None, 1)                 9         \n",
      "=================================================================\n",
      "Total params: 160,881\n",
      "Trainable params: 160,881\n",
      "Non-trainable params: 0\n",
      "_________________________________________________________________\n"
     ]
    }
   ],
   "source": [
    "vocab_size = 10000  # 어휘 사전의 크기입니다(10개의 단어)\n",
    "word_vector_dim = 16  # 단어 하나를 표현하는 임베딩 벡터의 차원수입니다. \n",
    "\n",
    "model = tf.keras.Sequential()\n",
    "model.add(tf.keras.layers.Embedding(vocab_size, word_vector_dim, input_shape=(None,)))\n",
    "model.add(tf.keras.layers.LSTM(8))   # 가장 널리 쓰이는 RNN인 LSTM 레이어를 사용하였습니다. 이때 LSTM state 벡터의 차원수는 8로 하였습니다. (변경 가능)\n",
    "model.add(tf.keras.layers.Dense(8, activation='relu'))\n",
    "model.add(tf.keras.layers.Dense(1, activation='sigmoid'))  # 최종 출력은 긍정/부정을 나타내는 1dim 입니다.\n",
    "\n",
    "model.summary()"
   ]
  },
  {
   "cell_type": "code",
   "execution_count": 9,
   "id": "8ea1b323",
   "metadata": {},
   "outputs": [
    {
     "name": "stdout",
     "output_type": "stream",
     "text": [
      "(126182, 41)\n",
      "(126182,)\n"
     ]
    }
   ],
   "source": [
    "# validation set 10000건 분리\n",
    "x_val = x_train[:20000]   \n",
    "y_val = y_train[:20000]\n",
    "\n",
    "# validation set을 제외한 나머지 10000건\n",
    "partial_x_train = x_train[20000:]\n",
    "partial_y_train = y_train[20000:]\n",
    "\n",
    "print(partial_x_train.shape)\n",
    "print(partial_y_train.shape)"
   ]
  },
  {
   "cell_type": "markdown",
   "id": "e0be730d",
   "metadata": {},
   "source": [
    ">처음에 **단어장==훈련데이터**라고 생각해서 전체 데이터셋이 1만개라고 생각했다. 그래서 validation을 너무 작게 잡았다. 심지어 validation이 뭐하는 건지도 몰랐다. 물론 선생님들(후술예정)이 다 알려주셨다."
   ]
  },
  {
   "cell_type": "code",
   "execution_count": 10,
   "id": "a0ea067c",
   "metadata": {},
   "outputs": [
    {
     "name": "stdout",
     "output_type": "stream",
     "text": [
      "Epoch 1/4\n",
      "247/247 [==============================] - 5s 7ms/step - loss: 0.4998 - accuracy: 0.7818 - val_loss: 0.3673 - val_accuracy: 0.8423\n",
      "Epoch 2/4\n",
      "247/247 [==============================] - 1s 6ms/step - loss: 0.3422 - accuracy: 0.8563 - val_loss: 0.3491 - val_accuracy: 0.8496\n",
      "Epoch 3/4\n",
      "247/247 [==============================] - 1s 5ms/step - loss: 0.3174 - accuracy: 0.8686 - val_loss: 0.3463 - val_accuracy: 0.8516\n",
      "Epoch 4/4\n",
      "247/247 [==============================] - 1s 5ms/step - loss: 0.3058 - accuracy: 0.8737 - val_loss: 0.3460 - val_accuracy: 0.8515\n"
     ]
    }
   ],
   "source": [
    "model.compile(optimizer='adam',\n",
    "              loss='binary_crossentropy',\n",
    "              metrics=['accuracy'])\n",
    "              \n",
    "epochs=4  # 몇 epoch를 훈련하면 좋을지 결과를 보면서 바꾸어 봅시다. \n",
    "\n",
    "history = model.fit(partial_x_train,\n",
    "                    partial_y_train,\n",
    "                    epochs=epochs,\n",
    "                    batch_size=512,\n",
    "                    validation_data=(x_val, y_val),\n",
    "                    verbose=1)"
   ]
  },
  {
   "cell_type": "code",
   "execution_count": 11,
   "id": "12c04eff",
   "metadata": {},
   "outputs": [
    {
     "name": "stdout",
     "output_type": "stream",
     "text": [
      "1537/1537 - 3s - loss: 0.3553 - accuracy: 0.8466\n",
      "[0.3552752137184143, 0.8466342687606812]\n"
     ]
    }
   ],
   "source": [
    "results = model.evaluate(x_test,  y_test, verbose=2)\n",
    "\n",
    "print(results)"
   ]
  },
  {
   "cell_type": "code",
   "execution_count": 12,
   "id": "30cfd81d",
   "metadata": {
    "scrolled": false
   },
   "outputs": [
    {
     "name": "stdout",
     "output_type": "stream",
     "text": [
      "dict_keys(['loss', 'accuracy', 'val_loss', 'val_accuracy'])\n"
     ]
    }
   ],
   "source": [
    "history_dict = history.history\n",
    "print(history_dict.keys()) # epoch에 따른 그래프를 그려볼 수 있는 항목들"
   ]
  },
  {
   "cell_type": "markdown",
   "id": "e4069a0b",
   "metadata": {},
   "source": [
    "#### 1.1. 결과 시각화 및 분석"
   ]
  },
  {
   "cell_type": "code",
   "execution_count": 13,
   "id": "35fa4bdf",
   "metadata": {
    "scrolled": true
   },
   "outputs": [
    {
     "data": {
      "image/png": "[encoded data removed]",
      "text/plain": [
       "<Figure size 432x288 with 1 Axes>"
      ]
     },
     "metadata": {
      "needs_background": "light"
     },
     "output_type": "display_data"
    },
    {
     "data": {
      "image/png": "[encoded data removed]",
      "text/plain": [
       "<Figure size 432x288 with 1 Axes>"
      ]
     },
     "metadata": {
      "needs_background": "light"
     },
     "output_type": "display_data"
    }
   ],
   "source": [
    "import matplotlib.pyplot as plt\n",
    "\n",
    "acc = history_dict['accuracy']\n",
    "val_acc = history_dict['val_accuracy']\n",
    "loss = history_dict['loss']\n",
    "val_loss = history_dict['val_loss']\n",
    "\n",
    "epochs = range(1, len(acc) + 1)\n",
    "\n",
    "# \"bo\"는 \"파란색 점\"입니다\n",
    "plt.plot(epochs, loss, label='Training loss')\n",
    "# b는 \"파란 실선\"입니다\n",
    "plt.plot(epochs, val_loss, label='Validation loss')\n",
    "plt.title('Training and validation loss')\n",
    "plt.xlabel('Epochs')\n",
    "plt.ylabel('Loss')\n",
    "plt.legend()\n",
    "\n",
    "plt.show()\n",
    "\n",
    "plt.plot(epochs, acc, label='Training acc')\n",
    "plt.plot(epochs, val_acc, label='Validation acc')\n",
    "plt.title('Training and validation accuracy')\n",
    "plt.xlabel('Epochs')\n",
    "plt.ylabel('Accuracy')\n",
    "plt.legend()\n",
    "\n",
    "plt.show()"
   ]
  },
  {
   "cell_type": "markdown",
   "id": "2901d945",
   "metadata": {},
   "source": [
    ">번거롭게 하지말고 색,형태 인자를 지워버리면 알아서 다른색 선으로 디폴트 세팅된다고 알려주셨다."
   ]
  },
  {
   "cell_type": "markdown",
   "id": "e44c3d95",
   "metadata": {},
   "source": [
    "### 2. 1-D CNN"
   ]
  },
  {
   "cell_type": "code",
   "execution_count": 14,
   "id": "8bc19ea3",
   "metadata": {},
   "outputs": [
    {
     "name": "stdout",
     "output_type": "stream",
     "text": [
      "Model: \"sequential_1\"\n",
      "_________________________________________________________________\n",
      "Layer (type)                 Output Shape              Param #   \n",
      "=================================================================\n",
      "embedding_1 (Embedding)      (None, None, 16)          160000    \n",
      "_________________________________________________________________\n",
      "conv1d (Conv1D)              (None, None, 16)          1808      \n",
      "_________________________________________________________________\n",
      "max_pooling1d (MaxPooling1D) (None, None, 16)          0         \n",
      "_________________________________________________________________\n",
      "conv1d_1 (Conv1D)            (None, None, 16)          1808      \n",
      "_________________________________________________________________\n",
      "global_max_pooling1d (Global (None, 16)                0         \n",
      "_________________________________________________________________\n",
      "dense_2 (Dense)              (None, 8)                 136       \n",
      "_________________________________________________________________\n",
      "dense_3 (Dense)              (None, 1)                 9         \n",
      "=================================================================\n",
      "Total params: 163,761\n",
      "Trainable params: 163,761\n",
      "Non-trainable params: 0\n",
      "_________________________________________________________________\n"
     ]
    }
   ],
   "source": [
    "model2 = tf.keras.Sequential()\n",
    "model2.add(tf.keras.layers.Embedding(vocab_size, word_vector_dim, input_shape=(None,)))\n",
    "model2.add(tf.keras.layers.Conv1D(16, 7, activation='relu'))\n",
    "model2.add(tf.keras.layers.MaxPooling1D(5))\n",
    "model2.add(tf.keras.layers.Conv1D(16, 7, activation='relu'))\n",
    "model2.add(tf.keras.layers.GlobalMaxPooling1D())\n",
    "model2.add(tf.keras.layers.Dense(8, activation='relu'))\n",
    "model2.add(tf.keras.layers.Dense(1, activation='sigmoid'))  # 최종 출력은 긍정/부정을 나타내는 1dim 입니다.\n",
    "\n",
    "model2.summary()"
   ]
  },
  {
   "cell_type": "markdown",
   "id": "80949eb1",
   "metadata": {},
   "source": [
    ">model 변수를 그대로 사용하면 안되므로 2를 붙여주자. 후에 반복되는 모든 변수들에도 적용해주자. 덮어씌워져서 결과가 다 똑같이 나오고 나는 그 원인을 몰랐다. 감사합니다 선생님들"
   ]
  },
  {
   "cell_type": "code",
   "execution_count": 15,
   "id": "62aa89b5",
   "metadata": {
    "scrolled": true
   },
   "outputs": [
    {
     "name": "stdout",
     "output_type": "stream",
     "text": [
      "Epoch 1/4\n",
      "247/247 [==============================] - 3s 6ms/step - loss: 0.4794 - accuracy: 0.7631 - val_loss: 0.3526 - val_accuracy: 0.8465\n",
      "Epoch 2/4\n",
      "247/247 [==============================] - 1s 5ms/step - loss: 0.3212 - accuracy: 0.8640 - val_loss: 0.3371 - val_accuracy: 0.8537\n",
      "Epoch 3/4\n",
      "247/247 [==============================] - 1s 5ms/step - loss: 0.2813 - accuracy: 0.8847 - val_loss: 0.3374 - val_accuracy: 0.8561\n",
      "Epoch 4/4\n",
      "247/247 [==============================] - 1s 5ms/step - loss: 0.2457 - accuracy: 0.9024 - val_loss: 0.3442 - val_accuracy: 0.8544\n"
     ]
    }
   ],
   "source": [
    "model2.compile(optimizer='adam',\n",
    "              loss='binary_crossentropy',\n",
    "              metrics=['accuracy'])\n",
    "              \n",
    "epochs=4  # 몇 epoch를 훈련하면 좋을지 결과를 보면서 바꾸어 봅시다. \n",
    "\n",
    "history2 = model2.fit(partial_x_train,\n",
    "                    partial_y_train,\n",
    "                    epochs=epochs,\n",
    "                    batch_size=512,\n",
    "                    validation_data=(x_val, y_val),\n",
    "                    verbose=1)"
   ]
  },
  {
   "cell_type": "markdown",
   "id": "d2de3037",
   "metadata": {},
   "source": [
    "#### 2.1. 결과 시각화 및 분석"
   ]
  },
  {
   "cell_type": "code",
   "execution_count": 16,
   "id": "cf9bfe03",
   "metadata": {
    "scrolled": true
   },
   "outputs": [
    {
     "data": {
      "image/png": "[encoded data removed]",
      "text/plain": [
       "<Figure size 432x288 with 1 Axes>"
      ]
     },
     "metadata": {
      "needs_background": "light"
     },
     "output_type": "display_data"
    },
    {
     "data": {
      "image/png": "[encoded data removed]",
      "text/plain": [
       "<Figure size 432x288 with 1 Axes>"
      ]
     },
     "metadata": {
      "needs_background": "light"
     },
     "output_type": "display_data"
    }
   ],
   "source": [
    "history_dict2 = history2.history\n",
    "\n",
    "import matplotlib.pyplot as plt\n",
    "\n",
    "acc = history_dict2['accuracy']\n",
    "val_acc = history_dict2['val_accuracy']\n",
    "loss = history_dict2['loss']\n",
    "val_loss = history_dict2['val_loss']\n",
    "\n",
    "epochs = range(1, len(acc) + 1)\n",
    "\n",
    "# \"bo\"는 \"파란색 점\"입니다\n",
    "plt.plot(epochs, loss, label='Training loss')\n",
    "# b는 \"파란 실선\"입니다\n",
    "plt.plot(epochs, val_loss, label='Validation loss')\n",
    "plt.title('Training and validation loss')\n",
    "plt.xlabel('Epochs')\n",
    "plt.ylabel('Loss')\n",
    "plt.legend()\n",
    "\n",
    "plt.show()\n",
    "\n",
    "plt.plot(epochs, acc, label='Training acc')\n",
    "plt.plot(epochs, val_acc, label='Validation acc')\n",
    "plt.title('Training and validation accuracy')\n",
    "plt.xlabel('Epochs')\n",
    "plt.ylabel('Accuracy')\n",
    "plt.legend()\n",
    "\n",
    "plt.show()"
   ]
  },
  {
   "cell_type": "markdown",
   "id": "2e226632",
   "metadata": {},
   "source": [
    "### 3. GlobalMaxPooling Layer"
   ]
  },
  {
   "cell_type": "code",
   "execution_count": 17,
   "id": "75e07e4f",
   "metadata": {},
   "outputs": [
    {
     "name": "stdout",
     "output_type": "stream",
     "text": [
      "Model: \"sequential_2\"\n",
      "_________________________________________________________________\n",
      "Layer (type)                 Output Shape              Param #   \n",
      "=================================================================\n",
      "embedding_2 (Embedding)      (None, None, 16)          160000    \n",
      "_________________________________________________________________\n",
      "global_max_pooling1d_1 (Glob (None, 16)                0         \n",
      "_________________________________________________________________\n",
      "dense_4 (Dense)              (None, 8)                 136       \n",
      "_________________________________________________________________\n",
      "dense_5 (Dense)              (None, 1)                 9         \n",
      "=================================================================\n",
      "Total params: 160,145\n",
      "Trainable params: 160,145\n",
      "Non-trainable params: 0\n",
      "_________________________________________________________________\n"
     ]
    }
   ],
   "source": [
    "model3 = tf.keras.Sequential()\n",
    "model3.add(tf.keras.layers.Embedding(vocab_size, word_vector_dim, input_shape=(None,)))\n",
    "model3.add(tf.keras.layers.GlobalMaxPooling1D())\n",
    "model3.add(tf.keras.layers.Dense(8, activation='relu'))\n",
    "model3.add(tf.keras.layers.Dense(1, activation='sigmoid'))  # 최종 출력은 긍정/부정을 나타내는 1dim 입니다.\n",
    "\n",
    "model3.summary()"
   ]
  },
  {
   "cell_type": "code",
   "execution_count": 18,
   "id": "f33963d2",
   "metadata": {},
   "outputs": [
    {
     "name": "stdout",
     "output_type": "stream",
     "text": [
      "Epoch 1/4\n",
      "247/247 [==============================] - 1s 4ms/step - loss: 0.5712 - accuracy: 0.7754 - val_loss: 0.4144 - val_accuracy: 0.8241\n",
      "Epoch 2/4\n",
      "247/247 [==============================] - 1s 3ms/step - loss: 0.3721 - accuracy: 0.8410 - val_loss: 0.3589 - val_accuracy: 0.8396\n",
      "Epoch 3/4\n",
      "247/247 [==============================] - 1s 4ms/step - loss: 0.3251 - accuracy: 0.8630 - val_loss: 0.3478 - val_accuracy: 0.8449\n",
      "Epoch 4/4\n",
      "247/247 [==============================] - 1s 3ms/step - loss: 0.2985 - accuracy: 0.8760 - val_loss: 0.3482 - val_accuracy: 0.8462\n"
     ]
    }
   ],
   "source": [
    "model3.compile(optimizer='adam',\n",
    "              loss='binary_crossentropy',\n",
    "              metrics=['accuracy'])\n",
    "              \n",
    "epochs=4  # 몇 epoch를 훈련하면 좋을지 결과를 보면서 바꾸어 봅시다. \n",
    "\n",
    "history3 = model3.fit(partial_x_train,\n",
    "                    partial_y_train,\n",
    "                    epochs=epochs,\n",
    "                    batch_size=512,\n",
    "                    validation_data=(x_val, y_val),\n",
    "                    verbose=1)"
   ]
  },
  {
   "cell_type": "markdown",
   "id": "fadb6b95",
   "metadata": {},
   "source": [
    "#### 3.1.결과 시각화 및 분석"
   ]
  },
  {
   "cell_type": "code",
   "execution_count": 19,
   "id": "9dc7ee0f",
   "metadata": {
    "scrolled": true
   },
   "outputs": [
    {
     "data": {
      "image/png": "[encoded data removed]",
      "text/plain": [
       "<Figure size 432x288 with 1 Axes>"
      ]
     },
     "metadata": {
      "needs_background": "light"
     },
     "output_type": "display_data"
    },
    {
     "data": {
      "image/png": "[encoded data removed]",
      "text/plain": [
       "<Figure size 432x288 with 1 Axes>"
      ]
     },
     "metadata": {
      "needs_background": "light"
     },
     "output_type": "display_data"
    }
   ],
   "source": [
    "history_dict3 = history3.history\n",
    "\n",
    "import matplotlib.pyplot as plt\n",
    "\n",
    "acc = history_dict3['accuracy']\n",
    "val_acc = history_dict3['val_accuracy']\n",
    "loss = history_dict3['loss']\n",
    "val_loss = history_dict3['val_loss']\n",
    "\n",
    "epochs = range(1, len(acc) + 1)\n",
    "\n",
    "# \"bo\"는 \"파란색 점\"입니다\n",
    "plt.plot(epochs, loss, label='Training loss')\n",
    "# b는 \"파란 실선\"입니다\n",
    "plt.plot(epochs, val_loss, label='Validation loss')\n",
    "plt.title('Training and validation loss')\n",
    "plt.xlabel('Epochs')\n",
    "plt.ylabel('Loss')\n",
    "plt.legend()\n",
    "\n",
    "plt.show()\n",
    "\n",
    "plt.plot(epochs, acc, label='Training acc')\n",
    "plt.plot(epochs, val_acc, label='Validation acc')\n",
    "plt.title('Training and validation accuracy')\n",
    "plt.xlabel('Epochs')\n",
    "plt.ylabel('Accuracy')\n",
    "plt.legend()\n",
    "\n",
    "plt.show()"
   ]
  },
  {
   "cell_type": "markdown",
   "id": "7ce2bcf2",
   "metadata": {},
   "source": [
    "## 한국어 Word2Vec을 통한 성능 개선 시도"
   ]
  },
  {
   "cell_type": "markdown",
   "id": "cc7a9a06",
   "metadata": {},
   "source": [
    "### 임베드 로드\n",
    ">gensim 모듈의 버전 맞춰주는 법 pip install --upgrade gensim x.x.x <br><br> 지금의 절차는 내가 학습한 임베딩 레이어를 추출해서 유효성을 한번 검증해보는 과정. 물론 쓰레기다."
   ]
  },
  {
   "cell_type": "code",
   "execution_count": 20,
   "id": "2adcd219",
   "metadata": {},
   "outputs": [
    {
     "name": "stdout",
     "output_type": "stream",
     "text": [
      "(10000, 16)\n"
     ]
    }
   ],
   "source": [
    "embedding_layer = model.layers[0]\n",
    "weights = embedding_layer.get_weights()[0]\n",
    "print(weights.shape)    # shape: (vocab_size, embedding_dim)"
   ]
  },
  {
   "cell_type": "code",
   "execution_count": 21,
   "id": "ea66d3ec",
   "metadata": {},
   "outputs": [],
   "source": [
    "# 학습한 Embedding 파라미터를 파일에 써서 저장합니다. \n",
    "word2vec_file_path = os.getenv('HOME')+'/aiffel/E06/sentiment_classification/data/self_korean.txt'\n",
    "f = open(word2vec_file_path, 'w')\n",
    "f.write('{} {}\\n'.format(vocab_size-4, word_vector_dim))  # 몇개의 벡터를 얼마 사이즈로 기재할지 타이틀을 씁니다.\n",
    "\n",
    "# 단어 개수(에서 특수문자 4개는 제외하고)만큼의 워드 벡터를 파일에 기록합니다. \n",
    "vectors = model.get_weights()[0]\n",
    "for i in range(4,vocab_size):\n",
    "    f.write('{} {}\\n'.format(index_to_word[i], ' '.join(map(str, list(vectors[i, :])))))\n",
    "f.close()"
   ]
  },
  {
   "cell_type": "code",
   "execution_count": 22,
   "id": "61d77790",
   "metadata": {},
   "outputs": [
    {
     "data": {
      "text/plain": [
       "array([-0.01196135,  0.12002622, -0.12325844, -0.17408733, -0.14172286,\n",
       "       -0.09818792,  0.12487271, -0.16413985, -0.18414907, -0.0936883 ,\n",
       "       -0.09712256,  0.10928526, -0.15234452, -0.08242277, -0.11321434,\n",
       "        0.08887289], dtype=float32)"
      ]
     },
     "execution_count": 22,
     "metadata": {},
     "output_type": "execute_result"
    }
   ],
   "source": [
    "from gensim.models.keyedvectors import Word2VecKeyedVectors\n",
    "\n",
    "word_vectors = Word2VecKeyedVectors.load_word2vec_format(word2vec_file_path, binary=False)\n",
    "vector = word_vectors['이별']\n",
    "vector"
   ]
  },
  {
   "cell_type": "code",
   "execution_count": 23,
   "id": "83af91c2",
   "metadata": {
    "scrolled": true
   },
   "outputs": [
    {
     "data": {
      "text/plain": [
       "[('군더더기', 0.9736173152923584),\n",
       " ('그리움', 0.973439633846283),\n",
       " ('독도', 0.972589910030365),\n",
       " ('각지', 0.9718918800354004),\n",
       " ('펑펑', 0.9714186191558838),\n",
       " ('브라질', 0.9709688425064087),\n",
       " ('슬프', 0.9706728458404541),\n",
       " ('곁', 0.9699083566665649),\n",
       " ('과언', 0.9696643948554993),\n",
       " ('넘사벽', 0.9692463278770447)]"
      ]
     },
     "execution_count": 23,
     "metadata": {},
     "output_type": "execute_result"
    }
   ],
   "source": [
    "word_vectors.similar_by_word(\"이별\")"
   ]
  },
  {
   "cell_type": "markdown",
   "id": "f349f4ca",
   "metadata": {},
   "source": [
    "##### ㅋㅋㅋㅋㅋㅋㅋㅋㅋㅋㅋㅋ너무웃기다 이거"
   ]
  },
  {
   "cell_type": "code",
   "execution_count": 25,
   "id": "90ec62d4",
   "metadata": {},
   "outputs": [
    {
     "name": "stderr",
     "output_type": "stream",
     "text": [
      "/tmp/ipykernel_682/393012009.py:5: DeprecationWarning: Call to deprecated `__getitem__` (Method will be removed in 4.0.0, use self.wv.__getitem__() instead).\n",
      "  vector = word2vec[\"이별\"]\n"
     ]
    }
   ],
   "source": [
    "from gensim.models import Word2Vec\n",
    "\n",
    "word2vec_path = os.getenv('HOME')+'/aiffel/E06/sentiment_classification/data/ko.bin'\n",
    "word2vec = Word2Vec.load(word2vec_path)\n",
    "vector = word2vec[\"이별\"]"
   ]
  },
  {
   "cell_type": "markdown",
   "id": "e616bdd6",
   "metadata": {},
   "source": [
    ">word2vec korean 임베딩레이어 가져오기"
   ]
  },
  {
   "cell_type": "code",
   "execution_count": 26,
   "id": "ce0bef66",
   "metadata": {
    "scrolled": true
   },
   "outputs": [
    {
     "data": {
      "text/plain": [
       "array([-5.53004920e-01, -5.00180483e-01,  7.44704902e-01,  1.25055504e-03,\n",
       "        2.89087266e-01,  1.04152016e-01,  3.08591753e-01,  1.47393763e+00,\n",
       "        7.08666220e-02,  6.31029427e-01, -7.18486533e-02,  1.12189651e+00,\n",
       "        8.92372370e-01,  1.26223791e+00,  1.44456718e-02,  1.74129218e-01,\n",
       "       -2.19788849e-01,  1.01980297e-02,  6.70179307e-01,  6.15928233e-01,\n",
       "       -1.34833872e-01, -2.13126615e-01, -5.22079408e-01, -1.09120317e-01,\n",
       "        8.61766040e-01, -1.19951749e+00, -1.89669877e-01,  4.19502169e-01,\n",
       "       -7.01889753e-01,  9.40364599e-03,  1.42930973e+00, -3.14639360e-01,\n",
       "        1.21137857e+00,  7.49340933e-03,  8.86065602e-01,  5.28543405e-02,\n",
       "       -6.61643147e-01,  2.55253106e-01, -2.99260557e-01,  4.74507362e-01,\n",
       "       -9.78151441e-01,  2.68545777e-01, -3.71751860e-02, -1.32945311e+00,\n",
       "       -7.63620555e-01, -2.95487344e-01,  9.94503051e-02,  1.55709043e-01,\n",
       "       -2.44340580e-02,  4.25479919e-01,  1.18787432e+00,  3.47999513e-01,\n",
       "        6.41400635e-01, -7.59216025e-02, -5.11781991e-01, -3.36495876e-01,\n",
       "        6.38968289e-01,  2.04568312e-01,  1.05398141e-01,  1.91732526e+00,\n",
       "        4.66722935e-01,  1.36631995e-01, -2.14933991e-01,  5.50374687e-01,\n",
       "        1.19946671e+00,  4.76462275e-01,  6.60909712e-02,  1.36993319e-01,\n",
       "        8.11024964e-01, -5.72902143e-01,  1.05609524e+00, -6.16494775e-01,\n",
       "       -4.67515588e-01,  3.02838475e-01,  2.12408066e-01, -9.77003038e-01,\n",
       "        2.08258197e-01, -2.85136309e-02, -2.21291408e-01, -3.92094582e-01,\n",
       "       -6.84565958e-03, -1.17936158e+00,  7.35643923e-01,  2.03035504e-01,\n",
       "       -8.01157355e-01,  5.82743287e-01, -7.47970998e-01, -2.98506111e-01,\n",
       "       -9.28669095e-01,  3.47998440e-01, -1.40232608e-01, -1.28182161e+00,\n",
       "        6.01173639e-01, -1.07587349e+00,  4.35494363e-01, -5.92730045e-02,\n",
       "       -3.76426905e-01,  2.04748705e-01,  1.31653047e+00,  4.99508470e-01,\n",
       "        5.63149117e-02, -1.64070427e-01, -2.55152076e-01, -2.50844777e-01,\n",
       "       -1.61202073e+00,  7.68007934e-01, -1.04288292e+00, -4.61150050e-01,\n",
       "       -1.23115933e+00, -1.27362728e+00,  6.80908978e-01,  2.07180694e-01,\n",
       "       -2.36590073e-01, -9.62969601e-01,  7.86677182e-01, -5.10443389e-01,\n",
       "       -9.93805528e-01, -9.34952140e-01, -6.80561423e-01, -1.96440652e-01,\n",
       "        5.10836661e-01, -3.43273759e-01,  4.83277559e-01, -9.07223284e-01,\n",
       "       -2.74241149e-01,  3.94494802e-01, -6.88334405e-01, -6.42446816e-01,\n",
       "       -1.06637396e-01, -6.38350666e-01, -1.31241247e-01,  4.13258642e-01,\n",
       "        7.79981539e-02,  1.08539701e+00,  1.59519088e+00, -6.44128144e-01,\n",
       "       -6.24470180e-03, -3.80908370e-01,  8.88957232e-02, -4.32028115e-01,\n",
       "        3.62848401e-01,  8.72957945e-01,  8.39335263e-01,  7.35291719e-01,\n",
       "       -2.02013120e-01, -5.09233892e-01, -1.30299449e+00,  7.78588772e-01,\n",
       "        3.64373058e-01,  1.43504113e-01, -8.56367409e-01, -1.48739815e+00,\n",
       "       -1.08535755e+00, -1.52620152e-01,  9.23389614e-01,  5.97440541e-01,\n",
       "        7.37892762e-02,  1.06473768e+00,  7.10135773e-02, -9.27279890e-03,\n",
       "        9.11256000e-02, -1.04223080e-01, -2.57938709e-02, -1.60757542e-01,\n",
       "        7.49178112e-01, -4.95285273e-01, -9.74312186e-01,  2.40472108e-01,\n",
       "       -2.57043213e-01,  3.41777951e-01, -8.06338191e-01, -1.14248717e+00,\n",
       "        8.75201464e-01,  1.54894650e-01,  1.63317934e-01, -1.16050529e+00,\n",
       "        2.71312773e-01,  2.37943530e-01, -1.51022524e-01,  5.03594100e-01,\n",
       "        8.47880542e-03,  4.01064426e-01, -3.55516076e-01, -5.90360522e-01,\n",
       "        1.87808529e-01,  1.36608005e-01,  1.11432552e-01,  1.06943190e+00,\n",
       "       -9.23747495e-02,  1.02532852e+00,  9.89212453e-01,  1.21383809e-01,\n",
       "       -5.19044280e-01, -1.85311481e-01, -6.04873002e-01,  5.67551376e-03,\n",
       "       -4.65250909e-01, -4.28276330e-01,  5.40330648e-01, -8.69325459e-01],\n",
       "      dtype=float32)"
      ]
     },
     "execution_count": 26,
     "metadata": {},
     "output_type": "execute_result"
    }
   ],
   "source": [
    "vector"
   ]
  },
  {
   "cell_type": "code",
   "execution_count": 29,
   "id": "42579218",
   "metadata": {
    "scrolled": true
   },
   "outputs": [
    {
     "name": "stderr",
     "output_type": "stream",
     "text": [
      "/tmp/ipykernel_682/1195740980.py:1: DeprecationWarning: Call to deprecated `similar_by_word` (Method will be removed in 4.0.0, use self.wv.similar_by_word() instead).\n",
      "  word2vec.similar_by_word(\"이별\")\n"
     ]
    },
    {
     "data": {
      "text/plain": [
       "[('헤어지', 0.6900225877761841),\n",
       " ('슬픔', 0.6873862147331238),\n",
       " ('추억', 0.6457439661026001),\n",
       " ('슬프', 0.6412862539291382),\n",
       " ('재회', 0.6345380544662476),\n",
       " ('사랑', 0.6334798336029053),\n",
       " ('첫사랑', 0.6128619909286499),\n",
       " ('고독', 0.6117805242538452),\n",
       " ('절망', 0.5997450947761536),\n",
       " ('작별', 0.5857374668121338)]"
      ]
     },
     "execution_count": 29,
     "metadata": {},
     "output_type": "execute_result"
    }
   ],
   "source": [
    "word2vec.similar_by_word(\"이별\")"
   ]
  },
  {
   "cell_type": "markdown",
   "id": "a1c50bc2",
   "metadata": {},
   "source": [
    "## 임베딩"
   ]
  },
  {
   "cell_type": "code",
   "execution_count": 40,
   "id": "f80398cd",
   "metadata": {},
   "outputs": [
    {
     "name": "stderr",
     "output_type": "stream",
     "text": [
      "/tmp/ipykernel_682/1196876861.py:8: DeprecationWarning: Call to deprecated `__contains__` (Method will be removed in 4.0.0, use self.wv.__contains__() instead).\n",
      "  if index_to_word[i] in word2vec:\n",
      "/tmp/ipykernel_682/1196876861.py:9: DeprecationWarning: Call to deprecated `__getitem__` (Method will be removed in 4.0.0, use self.wv.__getitem__() instead).\n",
      "  embedding_matrix[i] = word2vec[index_to_word[i]]\n"
     ]
    }
   ],
   "source": [
    "vocab_size = 10000  # 어휘 사전의 크기입니다(10개의 단어)\n",
    "word_vector_dim = 200  # 단어 하나를 표현하는 임베딩 벡터의 차원수입니다. \n",
    "\n",
    "embedding_matrix = np.random.rand(vocab_size, word_vector_dim)\n",
    "\n",
    "# embedding_matrix에 Word2Vec 워드 벡터를 단어 하나씩마다 차례차례 카피한다.\n",
    "for i in range(4,vocab_size):\n",
    "    if index_to_word[i] in word2vec:\n",
    "        embedding_matrix[i] = word2vec[index_to_word[i]]"
   ]
  },
  {
   "cell_type": "markdown",
   "id": "1e62f427",
   "metadata": {},
   "source": [
    "## 임베딩을 통한 학습 시도"
   ]
  },
  {
   "cell_type": "code",
   "execution_count": 41,
   "id": "2b3c5609",
   "metadata": {},
   "outputs": [
    {
     "name": "stdout",
     "output_type": "stream",
     "text": [
      "Model: \"sequential_5\"\n",
      "_________________________________________________________________\n",
      "Layer (type)                 Output Shape              Param #   \n",
      "=================================================================\n",
      "embedding_5 (Embedding)      (None, None, 200)         2000000   \n",
      "_________________________________________________________________\n",
      "lstm_3 (LSTM)                (None, 8)                 6688      \n",
      "_________________________________________________________________\n",
      "dense_10 (Dense)             (None, 8)                 72        \n",
      "_________________________________________________________________\n",
      "dense_11 (Dense)             (None, 1)                 9         \n",
      "=================================================================\n",
      "Total params: 2,006,769\n",
      "Trainable params: 2,006,769\n",
      "Non-trainable params: 0\n",
      "_________________________________________________________________\n"
     ]
    }
   ],
   "source": [
    "model4 = tf.keras.Sequential()\n",
    "model4.add(tf.keras.layers.Embedding(vocab_size, word_vector_dim, input_shape=(None,)))\n",
    "model4.add(tf.keras.layers.LSTM(8))   # 가장 널리 쓰이는 RNN인 LSTM 레이어를 사용하였습니다. 이때 LSTM state 벡터의 차원수는 8로 하였습니다. (변경 가능)\n",
    "model4.add(tf.keras.layers.Dense(8, activation='relu'))\n",
    "model4.add(tf.keras.layers.Dense(1, activation='sigmoid'))  # 최종 출력은 긍정/부정을 나타내는 1dim 입니다.\n",
    "\n",
    "model4.summary()"
   ]
  },
  {
   "cell_type": "code",
   "execution_count": 42,
   "id": "43b521b8",
   "metadata": {},
   "outputs": [
    {
     "name": "stdout",
     "output_type": "stream",
     "text": [
      "Epoch 1/4\n",
      "247/247 [==============================] - 3s 8ms/step - loss: 0.4425 - accuracy: 0.8091 - val_loss: 0.3502 - val_accuracy: 0.8510\n",
      "Epoch 2/4\n",
      "247/247 [==============================] - 2s 7ms/step - loss: 0.3203 - accuracy: 0.8648 - val_loss: 0.3366 - val_accuracy: 0.8570\n",
      "Epoch 3/4\n",
      "247/247 [==============================] - 2s 7ms/step - loss: 0.2873 - accuracy: 0.8797 - val_loss: 0.3385 - val_accuracy: 0.8569\n",
      "Epoch 4/4\n",
      "247/247 [==============================] - 2s 7ms/step - loss: 0.2604 - accuracy: 0.8925 - val_loss: 0.3512 - val_accuracy: 0.8561\n"
     ]
    }
   ],
   "source": [
    "model4.compile(optimizer='adam',\n",
    "              loss='binary_crossentropy',\n",
    "              metrics=['accuracy'])\n",
    "              \n",
    "epochs=4  # 몇 epoch를 훈련하면 좋을지 결과를 보면서 바꾸어 봅시다. \n",
    "\n",
    "history4 = model4.fit(partial_x_train,\n",
    "                    partial_y_train,\n",
    "                    epochs=epochs,\n",
    "                    batch_size=512,\n",
    "                    validation_data=(x_val, y_val),\n",
    "                    verbose=1)"
   ]
  },
  {
   "cell_type": "code",
   "execution_count": 43,
   "id": "7fdaf55b",
   "metadata": {},
   "outputs": [
    {
     "name": "stdout",
     "output_type": "stream",
     "text": [
      "1537/1537 - 3s - loss: 0.3619 - accuracy: 0.8510\n",
      "[0.36194804310798645, 0.850967288017273]\n"
     ]
    }
   ],
   "source": [
    "results = model4.evaluate(x_test,  y_test, verbose=2)\n",
    "\n",
    "print(results)"
   ]
  },
  {
   "cell_type": "markdown",
   "id": "22bf2bcc",
   "metadata": {},
   "source": [
    "##### 근데 생각보다 뭐 다이나믹한 성능향상이 있진 않았다."
   ]
  },
  {
   "cell_type": "code",
   "execution_count": 44,
   "id": "d1805c09",
   "metadata": {
    "scrolled": true
   },
   "outputs": [
    {
     "name": "stdout",
     "output_type": "stream",
     "text": [
      "dict_keys(['loss', 'accuracy', 'val_loss', 'val_accuracy'])\n"
     ]
    }
   ],
   "source": [
    "history_dict4 = history4.history\n",
    "print(history_dict.keys()) # epoch에 따른 그래프를 그려볼 수 있는 항목들"
   ]
  },
  {
   "cell_type": "code",
   "execution_count": 45,
   "id": "c36c96ba",
   "metadata": {
    "scrolled": true
   },
   "outputs": [
    {
     "data": {
      "image/png": "[encoded data removed]",
      "text/plain": [
       "<Figure size 432x288 with 1 Axes>"
      ]
     },
     "metadata": {
      "needs_background": "light"
     },
     "output_type": "display_data"
    },
    {
     "data": {
      "image/png": "[encoded data removed]",
      "text/plain": [
       "<Figure size 432x288 with 1 Axes>"
      ]
     },
     "metadata": {
      "needs_background": "light"
     },
     "output_type": "display_data"
    }
   ],
   "source": [
    "import matplotlib.pyplot as plt\n",
    "\n",
    "acc = history_dict4['accuracy']\n",
    "val_acc = history_dict4['val_accuracy']\n",
    "loss = history_dict4['loss']\n",
    "val_loss = history_dict4['val_loss']\n",
    "\n",
    "epochs = range(1, len(acc) + 1)\n",
    "\n",
    "# \"bo\"는 \"파란색 점\"입니다\n",
    "plt.plot(epochs, loss, label='Training loss')\n",
    "# b는 \"파란 실선\"입니다\n",
    "plt.plot(epochs, val_loss, label='Validation loss')\n",
    "plt.title('Training and validation loss')\n",
    "plt.xlabel('Epochs')\n",
    "plt.ylabel('Loss')\n",
    "plt.legend()\n",
    "\n",
    "plt.show()\n",
    "\n",
    "plt.plot(epochs, acc, label='Training acc')\n",
    "plt.plot(epochs, val_acc, label='Validation acc')\n",
    "plt.title('Training and validation accuracy')\n",
    "plt.xlabel('Epochs')\n",
    "plt.ylabel('Accuracy')\n",
    "plt.legend()\n",
    "\n",
    "plt.show()"
   ]
  },
  {
   "cell_type": "markdown",
   "id": "d66055ee",
   "metadata": {},
   "source": [
    "# 회고"
   ]
  },
  {
   "cell_type": "markdown",
   "id": "974886fc",
   "metadata": {},
   "source": [
    "## ?"
   ]
  },
  {
   "cell_type": "markdown",
   "id": "b8f086d8",
   "metadata": {},
   "source": [
    "**데이터 전처리 과정부터 단어장 형성 및 토큰화, 학습 방법이나 절차 임베딩에 대한 개념 등 하나도 이해를 못한채로 시작했다. 이해가 전혀 반영되지 않았으니 그나마 복붙한 코드들도 모두 순서가 뒤죽박죽이였고, 에러만 반복되면서 진도가 나가지 않았다. 이번 노드는 정말 아이펠 전우님들(?)이 아니었다면 미완성인 채로 제출했을 것이다.**"
   ]
  },
  {
   "cell_type": "markdown",
   "id": "60d5d93c",
   "metadata": {},
   "source": [
    "## Supporters"
   ]
  },
  {
   "cell_type": "markdown",
   "id": "4d6cd487",
   "metadata": {},
   "source": [
    "**정말 다행이었던 것은 내 주변에 아이펠 전우님들이 나의 진행상황을 염려하여 찾아와주셨다는 점이다. 사실 슬슬 생각하는 것도 한계에 부치기 시작해서 물어봐야겠다고 생각은 하고 있었지만 어디서부터 엇나간 것인지 전혀 알지 못해서 질문조차 정리하지 못하고 있던 상태였다. 현동님이 먼저 어떻게 되가시는지 여쭤봐주신 것을 시작으로 채은님과 진환님까지 추가로 달라붙어 이번 노드의 머리부터 발끝까지 과외를 해주셨다. 이렇게 감사할 수가...<br><br>\n",
    "세 명의 선생님이 코드를 일일히 다 봐주시면서 어떻게 동작되고 어떤 코드가 어떤 절차에 해당하는지, 토큰화하여 단어장을 만들고 데이터를 학습하고, 그동안 모르고 그냥 지나쳤던 validation의 개념 등등 와주신 김에 아주 속시원하게 여쭤봤고 너무 친절하고 상세하고 정확하게 답변을 해주셨다. 덕분에 이 짧은 회고를 남기는 지금은 NLP모델의 기본적인 동작구조와 더 디테일한 코드들의 의미, 등등 많은 것을 어느정도 이해하고 노드를 마치는 것 같다. 사실 이번 노드는 세 분이 만들어 제출하시는 것이나 다름이 없지 않을까..ㅋㅋㅋ<br>\n",
    "별도의 레퍼런스는 없었다. 어차피 다 해주신 것이기 때문에... 아예 변수 어디를 고쳐야하는지(심지어 왜 고쳐야하는지)까지 다 알려주셨다. 행복한 하루다. 굳이 따지자면 세 분이 나의 스승이자 레퍼랄까. 알려주신 내용들을 모두 기록하려고 다시 훑어보기엔 빨리 제출하고 싶어서 생각나는 대로만 코멘트를 남겼다. 솔직히 지적받은 부분들 다 까먹기도 했고. 이해한 것으로 만족한다.**"
   ]
  }
 ],
 "metadata": {
  "kernelspec": {
   "display_name": "Python 3 (ipykernel)",
   "language": "python",
   "name": "python3"
  },
  "language_info": {
   "codemirror_mode": {
    "name": "ipython",
    "version": 3
   },
   "file_extension": ".py",
   "mimetype": "text/x-python",
   "name": "python",
   "nbconvert_exporter": "python",
   "pygments_lexer": "ipython3",
   "version": "3.9.7"
  }
 },
 "nbformat": 4,
 "nbformat_minor": 5
}
